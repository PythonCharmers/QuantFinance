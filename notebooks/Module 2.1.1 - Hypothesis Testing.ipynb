{
 "cells": [
  {
   "cell_type": "markdown",
   "metadata": {},
   "source": [
    "# Introduction to Quantitative Finance\n",
    "\n",
    "Copyright (c) 2019 Python Charmers Pty Ltd, Australia, <https://pythoncharmers.com>. All rights reserved.\n",
    "\n",
    "<img src=\"img/python_charmers_logo.png\" width=\"300\" alt=\"Python Charmers Logo\">\n",
    "\n",
    "Published under the Creative Commons Attribution-NonCommercial 4.0 International (CC BY-NC 4.0) license. See `LICENSE.md` for details.\n",
    "\n",
    "Sponsored by Tibra Global Services, <https://tibra.com>\n",
    "\n",
    "<img src=\"img/tibra_logo.png\" width=\"300\" alt=\"Tibra Logo\">\n",
    "\n",
    "\n",
    "## Module 2.1: Hypothesis Testing\n",
    "\n",
    "### 2.1.1 Hypothesis Testing\n",
    "\n",
    "Hypothesis testing is a formal method of testing your assumptions with data and statistics. With hypothesis testing, we create two (or more) competing hypothesis and decide which is more likely. In a variety of circumstances, we consider something \"unlikely\" if it has less than 5% chance of happening, but note this would mean that this happens in 1 in 20 experiments *anyway, just due to chance*."
   ]
  },
  {
   "cell_type": "markdown",
   "metadata": {},
   "source": [
    "<img src=\"https://imgs.xkcd.com/comics/significant.png\" title=\"'So, uh, we did the green study again and got no link. It was probably a--' 'RESEARCH CONFLICTED ON GREEN JELLY BEAN/ACNE LINK; MORE STUDY RECOMMENDED!'\" alt=\"Significant\">"
   ]
  },
  {
   "cell_type": "markdown",
   "metadata": {},
   "source": [
    "(Above comic from https://xkcd.com/882/ Hint: count how many \"per-colour\" experiments were performed.)\n",
    "\n",
    "A common hypothesis pair is the following:\n",
    "\n",
    "* $H_0$, the Null hypothesis, is that any difference between the data in our sample, and the general population, is caused strictly by chance.\n",
    "* $H_A$, the Alternative hypothesis, is that there is a significant difference.\n",
    "\n",
    "The hypotheses must be mutually exclusive, as in it cannot be that both are true. They do not have to be exhaustive, i.e. account for all possible scenarios, but it is often the case. It is usually easier to compute the probability for $H_0$, i.e. $P(H_0)$ and then just compute $P(H_A) = 1 - P(H_0)$. This only applies if the pair is exhaustive.\n",
    "\n",
    "For example, we might have a sample, say trading firms using statistical analysis for decision making. Our Null hypothesis is that these firms are no different to the *population*, which may be either \"all trading firms\" or \"random people picking stocks\". We set up an experiment (more below) and find that we have a 4% chance that our Null hypothesis would generate results this extreme.\n",
    "\n",
    "We might then say that, because the chance is so low, we reject the Null hypothesis that any different is strictly by chance. \n",
    "\n",
    "Note that in this example, there is still a one in 25 chance of obtaining the result purely through \"luck\"."
   ]
  },
  {
   "cell_type": "markdown",
   "metadata": {},
   "source": [
    "Importantly, this does *not* mean that we accept that using statistical analysis causing trading firms to profit more than normal. There may be some other factors involved that are causing the difference. While this might sound like [weasel words](https://en.wikipedia.org/wiki/Weasel_word), this type of inference happens all the time. For instance, firms using statistical analysis might get their advantage from simply a more careful and thorough analysis, rather than the specific statistical analysis they apply. They might be run by larger firms (who can afford the extra staff to do the statistical analysis and have access to more data), or many other factors.\n",
    "\n",
    "It could also be simply by chance, as the above comic demonstrates.\n",
    "\n",
    "This is a common logical fallacy called *Denying the antecedent*:\n",
    "    \n",
    "    If P, then Q.\n",
    "    Therefore, if not P, then not Q.\n",
    "\n",
    "Note that the conclusion above is **invalid** based solely on the condition. Our statistical tests generally tell us \"not P\", and we are left with a bit more evidence of \"not Q\", but never proof.\n",
    "\n",
    "Be wary of this fallacy. Statistics is often pessimistic in this regard - it rarely tells you that you are correct, it generally just tells you if there is a strong chance you are wrong.\n",
    "\n",
    "\n",
    "Another common pitfall, demonstrated by the above comic, is that when we run multiple tests at the same time, our notion of a probability threshold must change, otherwise it becomes **likely** that we observe a purely-by-chance outcome."
   ]
  },
  {
   "cell_type": "code",
   "execution_count": 107,
   "metadata": {},
   "outputs": [],
   "source": [
    "%run setup.ipy\n",
    "import numpy as np"
   ]
  },
  {
   "cell_type": "markdown",
   "metadata": {},
   "source": [
    "#### Exercise\n",
    "\n",
    "Suppose we had $n$ independent tests. In each test, there is a 5% likelihood that the effect we are measuring is \"high\", for however that is defined. If we run all $n$ tests, what is the likelihood that *at least one test* measures a positive, high, outcome, for given $n$ values:\n",
    "\n",
    "- Two experiments\n",
    "- Ten experiments\n",
    "- Twenty experiments\n",
    "\n",
    "The above results can be computed with a calculator (or by hand if you are fine with leaving a fraction).\n",
    "\n",
    "#### Extended exercise\n",
    "\n",
    "Write a program with a function that does the following:\n",
    "\n",
    "- Compute 1000 random numbers from a normal distribution $N(0, 1)$\n",
    "- Compute the mean of those values\n",
    "\n",
    "Note the expected mean is 0.\n",
    "\n",
    "Plot a histogram of the means from running this function 10,000 times. How many of the results have a mean of more than 0.166?\n",
    "\n",
    "From your results here, note that even with *purely random data*, we can get very high differences between a same (running our function once) and the general population ($N(0, 1)$), just by chance in our we got our sample."
   ]
  },
  {
   "cell_type": "markdown",
   "metadata": {},
   "source": [
    "### Answers:\n",
    "\n",
    "Pr(at least one test is \"high\") = 1- Pr(no test is \"high\")\n",
    "\n",
    "Given that tests are independent:\n",
    "Pr(no test is \"high\") = Pr(test 1 is not high) * Pr(test 2 is not high) * ... * Pr(test $n$ is not high)\n",
    "\n",
    "Therefore:\n",
    "\n",
    "Two experiments:\n",
    "Pr(at least one high test) = 1 - Pr(test 1 is not high) * Pr(test 2 is not high) = 1 - 0.95 * 0.95 = 0.0975 or 9.75%\n",
    "\n",
    "Ten experiment:\n",
    "Pr(at least one high test) = 1 - Pr(test 1 is not high) * Pr(test 2 is not high) * ... * Pr(test 10 is not high) = 1 - 0.95 ^ 10 = 0.401263 or 40.13%\n",
    "\n",
    "Twenty experiment:\n",
    "Pr(at least one high test) = 1 - Pr(test 1 is not high) * Pr(test 2 is not high) * ... * Pr(test 20 is not high) = 1 - 0.95 ^ 20 = 0.641514 or 64.15%"
   ]
  },
  {
   "cell_type": "code",
   "execution_count": 108,
   "metadata": {},
   "outputs": [],
   "source": [
    "#computes 1000 random numbers from a normal distribution and averages them all\n",
    "def smean():\n",
    "    s = np.random.normal(0,1,1000)\n",
    "    return s.mean()"
   ]
  },
  {
   "cell_type": "code",
   "execution_count": 109,
   "metadata": {},
   "outputs": [
    {
     "data": {
      "text/plain": [
       "0.017075782661522303"
      ]
     },
     "execution_count": 109,
     "metadata": {},
     "output_type": "execute_result"
    }
   ],
   "source": [
    "#one case of the average of 1000 means\n",
    "smean()"
   ]
  },
  {
   "cell_type": "code",
   "execution_count": 110,
   "metadata": {},
   "outputs": [],
   "source": [
    "#generates a list of 10000 means of means\n",
    "iterations = 10000\n",
    "result = []\n",
    "for i in range(iterations):\n",
    "    result.append(smean())"
   ]
  },
  {
   "cell_type": "code",
   "execution_count": 111,
   "metadata": {
    "scrolled": true
   },
   "outputs": [
    {
     "data": {
      "text/plain": [
       "(array([  20.,  154.,  562., 1520., 2494., 2594., 1678.,  726.,  218.,\n",
       "          34.]),\n",
       " array([-0.1101351 , -0.08851729, -0.06689947, -0.04528165, -0.02366384,\n",
       "        -0.00204602,  0.0195718 ,  0.04118961,  0.06280743,  0.08442525,\n",
       "         0.10604306]),\n",
       " <BarContainer object of 10 artists>)"
      ]
     },
     "execution_count": 111,
     "metadata": {},
     "output_type": "execute_result"
    },
    {
     "data": {
      "image/png": "[encoded data removed]",
      "text/plain": [
       "<Figure size 432x288 with 1 Axes>"
      ]
     },
     "metadata": {
      "needs_background": "light"
     },
     "output_type": "display_data"
    }
   ],
   "source": [
    "#plots a histsogram\n",
    "plt.hist(result)"
   ]
  },
  {
   "cell_type": "code",
   "execution_count": 112,
   "metadata": {
    "scrolled": true
   },
   "outputs": [
    {
     "data": {
      "text/plain": [
       "0"
      ]
     },
     "execution_count": 112,
     "metadata": {},
     "output_type": "execute_result"
    }
   ],
   "source": [
    "#counts the number of times a value from the list is greater that 0.166\n",
    "counter = 0;\n",
    "for i in result:\n",
    "    if(i>0.166):\n",
    "        counter = counter + 1\n",
    "counter"
   ]
  },
  {
   "cell_type": "markdown",
   "metadata": {},
   "source": [
    "After running this many times and only generating zeroes for the number of values greater than 0.166, I've included the reason as to why this is the case:\n",
    "\n",
    "using the equally weighted estimator Y = (1/1000) * x1 + (1/1000) * x2 + ... + (1/1000) * x1000 = (1/1000) * (x1 + x2 + ... + x1000)\n",
    "\n",
    "Since E[x1] = x_mu1, E[x2] = x_mu2 e.t.c.\n",
    "The expected value of the average of 1000 normal distributions is:\n",
    "E[Y] = (1/1000) * x_mu1 + (1/1000) * x_mu2 + ... + (1/1000) * x_mu1000\n",
    "\n",
    "Since all mu1 to mu1000 are expected to be 0:\n",
    "E[Y] = 0\n",
    "\n",
    "The variance of the average of 1000 normal distributions is:\n",
    "\n",
    "Var(Y) = Var((1/1000) * (x1 + x2 + ... + x1000))\n",
    "\n",
    "Var(Y) = (1/1000)^2 * Var(x1 + x2 + ... + x1000)\n",
    "\n",
    "Given that our distributions are iid\n",
    "\n",
    "Var(Y) = (1/1000)^2 * (Var(x1) + Var(x2) + ... + Var(x1000))\n",
    "\n",
    "Var(Y) = 1/1000\n",
    "\n",
    "Because all Var(xn) = 1, and there are 1000 values, 1000 * (1/1000000) = 1/1000\n",
    "\n",
    "Thus, we are actually calculating how many times in 10000 does the distribution N(0,0.001) exceed 0.166\n",
    "\n",
    "For simply one case:\n",
    "Pr(Y > 0.166) = Pr((Y-0)/sqrt(0.001) > 0.166/sqrt(0.001)) Normalizes Y to become a standard normal distribution N(0,1)\n",
    "\n",
    "Pr(Z > 0.166/sqrt(0.001)) = Pr(Z > 5.249381) which is approximately 0.000000414193026\n",
    "\n",
    "Using the same working as before:\n",
    "\n",
    "Pr(at least one test is > 0.166) = 1 - Pr(no test is >0.166) = 1 - (1-Pr(Y>0.166))^10000 = 0.004133 or 0.4133%"
   ]
  },
  {
   "cell_type": "markdown",
   "metadata": {},
   "source": [
    "*For solutions, see `solutions/hypothesis_one.py`*"
   ]
  },
  {
   "cell_type": "markdown",
   "metadata": {},
   "source": [
    "#### Note on answer from solution:\n",
    "\n",
    "To note, the answers use the mean of 100 standard normals meaning the variance would be 1/100 and standard deviation 1/10, therefore the Pr(Y>0.166) = Pr(Z>1.66) = 0.100586 which gives more measurable results."
   ]
  },
  {
   "cell_type": "markdown",
   "metadata": {},
   "source": [
    "### Types of hypotheses\n",
    "\n",
    "Any test of a hypothesis starts with a formal declaration of the hypothesis and its assumptions. Some general assumptions are things like \"tests are independent of each other\", \"sample drawn at random from the population\" and other factors that might reduce any latent causes that aren't being tested.\n",
    "\n",
    "The Null hypothesis is a \"business as normal\" hypothesis. The new medicine doesn't work. The new strategy didn't make a difference to sales. The sample doesn't differ from the population.\n",
    "\n",
    "The Alternative hypothesis is that our intervention caused some change. For instance, the new medicine reduces illness. Sales increased significantly from the new strategy. The sample is different from the population.\n",
    "\n",
    "Normally we are interested in computing some statistic and then identifying what the likelihood is of that statistic having occurred by chance, based on our assumptions.\n",
    "\n",
    "A commonly used method here is a p-test, where we are testing if a mean is different (>, <, $\\neq$) to the population mean, when we assume the mean from a sample is otherwise drawn from a normal distribution. For instance, if we roll 100 dice, we get an expected value of 350, and a normal distribution of results centred around this value:\n"
   ]
  },
  {
   "cell_type": "code",
   "execution_count": 119,
   "metadata": {},
   "outputs": [],
   "source": [
    "np.random.randint?"
   ]
  },
  {
   "cell_type": "code",
   "execution_count": 120,
   "metadata": {},
   "outputs": [
    {
     "name": "stdout",
     "output_type": "stream",
     "text": [
      "336\n"
     ]
    }
   ],
   "source": [
    "dice_rolls = np.random.randint(1, 7, size=100)\n",
    "print(dice_rolls.sum())"
   ]
  },
  {
   "cell_type": "code",
   "execution_count": 121,
   "metadata": {},
   "outputs": [],
   "source": [
    "sums = np.array([np.random.randint(1, 7, size=100).sum() for i in range(10000)])"
   ]
  },
  {
   "cell_type": "code",
   "execution_count": 122,
   "metadata": {},
   "outputs": [
    {
     "data": {
      "image/png": "[encoded data removed]",
      "text/plain": [
       "<Figure size 432x288 with 1 Axes>"
      ]
     },
     "metadata": {
      "needs_background": "light"
     },
     "output_type": "display_data"
    }
   ],
   "source": [
    "plt.hist(sums, bins=30);"
   ]
  },
  {
   "cell_type": "markdown",
   "metadata": {},
   "source": [
    "If we suspected a dice to be \"loaded\", that is, it is more likely to come up with a given number, we might run an experiment. We might suspect this dice to roll higher numbers more frequently than lower numbers. Our hypothesis is:\n",
    "\n",
    "$H_0$: The dice has a true expected value of 3.5\n",
    "\n",
    "$H_A$: The dice has an expected value of significantly more than 3.5\n",
    "\n",
    "\n",
    "We roll this suspect dice 100 times, and compute the mean. We get a total value of 410. We then do this experiment 3 more times, getting values of 420, 400, 405. This is unlikely, as it is an expected value of around 4.1. This would fit with our hypothesis, but how unlikely is it? We will look into this further in a later module, but for now, we can look up this value:"
   ]
  },
  {
   "cell_type": "code",
   "execution_count": 123,
   "metadata": {},
   "outputs": [],
   "source": [
    "from scipy import stats"
   ]
  },
  {
   "cell_type": "code",
   "execution_count": 124,
   "metadata": {},
   "outputs": [
    {
     "name": "stdout",
     "output_type": "stream",
     "text": [
      "t stat: 13.7602, p value: 0.000831\n"
     ]
    }
   ],
   "source": [
    "t_stat, p_val = stats.ttest_1samp([410, 420, 400, 405], 350)\n",
    "print('t stat: {:.4f}, p value: {:4f}'.format(t_stat, p_val))"
   ]
  },
  {
   "cell_type": "markdown",
   "metadata": {},
   "source": [
    "The t-stat, while important, isn't really of value here. It is an intermediate statistic we then use to compute the p-value, which is what is normally needed here. The p-value is simply a probability, which you can get in any valid method you can think of. In this case, it is a statistical test \"what is the probability of getting a t stat of this size by chance?\".\n",
    "\n",
    "#### Exercise\n",
    "\n",
    "1. If we assume a confidence level of 0.05 qualifies as \"significant\", what can we say about our hypothesis?\n",
    "2. As a percentage, what is the likelihood of the given samples being obtained by chance?\n",
    "3. Can we suggest that the dice rolls values of 6 more frequently than other values?\n",
    "4. Review the documentation for all of the `scipy.stats.ttest_???` functions and identify when each would be needed.\n",
    "\n",
    "\n",
    "Note there are also T tests in the `statsmodels` package, which can be called in a similar way.\n",
    "\n",
    "\n",
    "#### Extended Exercise\n",
    "\n",
    "Create an alternative hypothesis and experiment to address question 3 above. How can we test if a dice rolls 6s more frequently?"
   ]
  },
  {
   "cell_type": "markdown",
   "metadata": {},
   "source": [
    "### Answers:\n",
    "\n",
    "##### Exercises\n",
    "We reject the null hypothesis at the 5% level since our p value is less than 0.05\n",
    "\n",
    "If the null hypothesis were true and the die is not loaded, then we would see this result in 0.0831% of cases\n",
    "\n",
    "We cannot say with certainty that the die is weighted in such a way to roll more sixes and thus less ones (given opposite sides of a die summing to 7, and assuming that apart from being weighted that this is a standard die) however this would be the most likely case. With averages from 4 to 4.2, the die functions very similar to a balanced die that cannot roll a 1. However, without observing the actual rolls we cannot say that 6 appears more frequently as the die could be weighted to roll more fives.\n",
    "\n",
    "scipy.stats.ttest_ind is used for determining whether two independent samples have the same mean:\n",
    "\n",
    "Should be used for two arraytype datasets\n",
    "\n",
    "scipy.stats.ttest_1samp is used to calculate the T score for a sample against a given mean:\n",
    "\n",
    "Used as above, when we have an arraytype dataset that we want to test against an expected average.\n",
    "\n",
    "scipy.stats.ttest_ind_from_stats is a T test for two datasets where the null is that they have the \"identical average values\":\n",
    "\n",
    "Used if we have the means variances and sizes of two datasets and we want to deteremine through statistical testing whether they have signifcant difference in their means.\n",
    "\n",
    "scipy.stats.ttest_rel same as scipy.stats.ttest_ind but for related or repeated sample:\n",
    "\n",
    "Used if the two array datasets are related or were sampled from the same population.\n",
    "\n",
    "##### Extended Exercise\n",
    "\n",
    "H0: Pr(rolling a 6) = 1/6\n",
    "HA: Pr(rolling a 6) > 1/6\n",
    "\n",
    "These are our null and alternate hypotheses, at this point the die would be roll some number of times, above uses 100 die results however rolling 1000 times would not be too difficult (though it would be time consuming). If the die is weighted/unfair then the greater number of rolls will improve the accuracy of our result.\n",
    "We can then generate a binary counter for whether a six is observed (as well as the other numbers generated as it would be just as interesting to see if the other numbers have equal chances of being rolled or if they were also imbalanced between themselves). Thus our data would be an array of 0s indicating rolls of 1, 2, 3, 4 or 5 and 1s indicating 6s. \n",
    "\n",
    "We can then use scipy.stats.ttest_1samp (we can include in the functions parameters that the test is one sided as we are testing to see of the 1000 identifier values are greater than 1/6.) This will produce the T score and thus the statistical likelihood that 6s are appearing the expected number of times or greater than average"
   ]
  },
  {
   "cell_type": "markdown",
   "metadata": {},
   "source": [
    "*For solutions, see `solutions/inferring_statistics.py`*"
   ]
  },
  {
   "cell_type": "markdown",
   "metadata": {},
   "source": [
    "### Common problems and issues\n",
    "\n",
    "### Large P values\n",
    "\n",
    "If you do not get a lower p-value, you do not have a strong result. We cannot accept the null hypothesis, we just \"fail to reject\" it.\n",
    "\n",
    "If we were to run our above statistic and get a p value of 0.2 (assuming a threshold of significance of 0.05), we do not \"accept the null hypothesis\", we simply fail to reject it at our significance level.\n",
    "\n",
    "\n",
    "### Thresholds\n",
    "\n",
    "It is important also to ensure the p value threshold is set *before* the experiment, and not after you get your results. If you do not, it is tempting to just \"change\" the threshold after you get your results. This removes any independence you had in your result, and the experimenter is effectively arbitrarily changing the result - why bother doing the test in this case?\n",
    "\n",
    "A common value for the threshold is 0.05. There is no basis in this value, it is just \"what is generally used\". If your hypothesis is a matter of life or death, this value is probably too high. If it is of no great consequence, it might be too low. Reason about the value before blindly accepting on.\n",
    "\n",
    "Also note that people are generally terrible dealing with low probabilities. The difference between a false positive of 0.02 and one of 0.01 is \"one in fifty\" compared to \"one in one hundred\". That's twice as likely for the first. Typically, it can be better to estimate with an intuitive \"one in ...\" amount, then convert that to a percentage.\n",
    "\n",
    "\n",
    "### Multiple Simultaneous experiments\n",
    "\n",
    "With modern computers able to run simulations continuously, and at scale, a common issue arising is that the p-value thresholds most commonly used (i.e. 0.05) are only valid for individual tests.\n",
    "\n",
    "For example, suppose we had the following hypothesis:\n",
    "\n",
    "$H_0$: Stock price changes are random for IBM on Mondays\n",
    "\n",
    "$H_A$: Stock prices are more likely to drop on Mondays.\n",
    "\n",
    "\n",
    "We might test this hypothesis and get a p value of 0.2, indicating there is insufficient evidence to reject the null hypothesis, and therefore do not automatically buy on Tuesdays after the drop.\n",
    "\n",
    "We might then consider \"does this pattern hold on any other day?\". So we consider the same hypothesis, but for Tuesday, Wednesday, Thursday and Friday. We find the following significance levels:\n",
    "\n",
    "* Monday: 0.2\n",
    "* Tuesday: 0.1\n",
    "* Wednesday: 0.8\n",
    "* Thursday: 0.04\n",
    "* Friday: 0.5\n",
    "\n",
    "Aha! Thursdays have a *highly significant* effect. We fail to reject all other null hypothesis, accept the Thursday one, and start trading. \n",
    "\n",
    "What went wrong?\n",
    "\n",
    "\n",
    "#### Exercise\n",
    "\n",
    "1. Research the \"Multiple comparisons problem\" and identify a way to fix our hypothesis. We still want to check if any day has a significant value for our hypothesis, but we want to do it in a rigorous way.\n",
    "2. Does our finding hold after adjusting? The solution uses one specific method of fixing the thresholds - if you choose another, then you may get another answer."
   ]
  },
  {
   "cell_type": "markdown",
   "metadata": {},
   "source": [
    "### Answers:\n",
    "\n",
    "The errors made here are similar to the jellybean case at the start of this Module however the one of the biggest issues here is we should not immediately start trading. It very well may be the case that the IBM stock price falls on a Thursday, however we should try to find some cause of this relation. We can test this hypothesis however without any backing of why the stock prices drop on Thursday, this information probably would not help us at all.\n",
    "\n",
    "Multiple comparisons problem occurs when one makes too make simultaneous statistical inferences (here being the five alternate hypotheses of \"stock prices are more likely to drop on xxxxxday.) The more simultaneous inferences, the greater the probability that one of them will randomly be significant.\n",
    "\n",
    "The best way to correct for the multiple comparisons problem is to use Bonferroni correction AKA multiple comparisons correction. This is simply taking our desired level of significance and distributing it to all the cases. Here since we are unsure which of the days would produce a result statistically relevant we should divide our p threshold by 5, giving us a 0.01 critical value. Thus, we observe that all five days are not statistically significant at the 0.01 and the alternate hypothesis should be rejected.\n",
    "\n",
    "We may also use the Sidak correction method, the formula for which is alpha_new = 1- (1- alpha_old)^(1/no. of test) which gives a new critical value of 0.0102. Using this correction method, we still reject all alternate hypotheses."
   ]
  },
  {
   "cell_type": "markdown",
   "metadata": {},
   "source": [
    "*For solutions, see `solutions/multiple_comparisons.py`*"
   ]
  },
  {
   "cell_type": "markdown",
   "metadata": {},
   "source": [
    "### Simulations\n",
    "\n",
    "A topic we will get into in more detail later, but a useful one to touch on here, is the use of simulations for computing p values. When testing a hypothesis, you can use a simulation of your null hypothesis, and then with that simulation, estimate the likelihood of findings like your sample. For instance:\n",
    "\n",
    "$H_0$: The AUD/USD change is a random walk (that is, there is no pattern)\n",
    "\n",
    "$H_A$: The AUD/USD change tends to follow the previous change with lag 1 (that is, if the previous change was up, it is more likely this change will be up too)\n",
    "\n",
    "\n",
    "A little more formally, if we ignore \"no change\", we might say that $p$, the proportion of changes that are consistent with the previous change, is 50%, when we have:\n",
    "\n",
    "$H_0: p = 0.5$\n",
    "\n",
    "$H_A: p > 0.5$\n",
    "\n",
    "\n",
    "To do this, we might analyse some data and find that we get a proportion with a value of 0.6, that is, the proportion of times that a change follows the previous change is 0.6 (60%). Is this \"significant\"?\n",
    "\n",
    "\n",
    "<div class=\"alert alert-warning\">That value above is artificial - we compute the real data in the exercise later</div>\n",
    "\n",
    "To test this, we can create a simulation. In this simulation, we are focused on our null hypothesis - that there is no relationship between a change and the previous one. We might run our experiment for one year's worth of data (i.e. 365 changes), with each change randomly and uniformly chosen from \"up\" or \"down\". We then measure the proportion values to get our result from the simulation. Repeat many times, and you can then use this to estimate the p-value, or the probability that the null hypothesis is true.\n",
    "\n",
    "\n",
    "#### Exercises\n",
    "\n",
    "1. Download the USD/AUD prices from Quandl\n",
    "2. Identify whether each change is \"up\" or \"down\" and compute the sample proportion value (it was 0.6 in the artificial data above)\n",
    "\n",
    "#### Extended Exercise\n",
    "\n",
    "1. Create and run the simulation mentioned above, where we simulate a random walk scenario and compute the proportion of times a change corresponds with the previous change.\n",
    "2. Run the simulation many times\n",
    "3. Compute the p value and determine whether to accept or reject the null hypothesis."
   ]
  },
  {
   "cell_type": "markdown",
   "metadata": {},
   "source": [
    "*For solutions, see `solutions/hypothesis_two.py`*"
   ]
  },
  {
   "cell_type": "markdown",
   "metadata": {},
   "source": [
    "### Tests for specific attributes\n",
    "\n",
    "Often it is of use to know that data has a certain property, for instance it is normally distributed, correlated, or whether two samples are basically the same or not.\n",
    "\n",
    "\n",
    "### Correlation between variables\n",
    "\n",
    "These tests are designed to test whether two samples of data are independent of each other, or if a dependency exists:\n",
    "\n",
    "$H_0$ the two samples tested are independent from each other\n",
    "\n",
    "$H_A$ the two samples tested have a dependency between them\n",
    "\n",
    "* Spearman's Rank Correlation, implemented as `scipy.stats.spearmanr`\n",
    "* Pearson's correlation coefficient, implemented as `scipy.stats.pearsonr`\n",
    "* Chi-Squared test, implemented as `scipy.stats.chi2_contingency` and `statsmodels.stats.proportion.proportions_chisquare`\n",
    "\n",
    "\n",
    "### Gaussian Distribution Tests\n",
    "\n",
    "There are a few tests designed to test that a distribution is Gaussian (normal). They include:\n",
    "\n",
    "* The Shapiro-Wilk test, implemented as `scipy.stats.shapiro`\n",
    "* D’Agostino’s $K^2$, implemented as `scipy.stats.normaltest`\n",
    "* Kolmogorov-Smirnov, implemented as `scipy.stats.kstest` and `statsmodels.stats.diagnostic.kstest_normal`\n",
    "* Anderson-Darling, implemented as `scipy.stats.anderson`\n",
    "\n",
    "Each of the above tests against the hypothesis:\n",
    "\n",
    "$H_0$ the data has a Gaussian distribution\n",
    "\n",
    "$H_A$ the data does not have a Gaussian distribution\n",
    "\n",
    "\n",
    "### Are two samples equal?\n",
    "\n",
    "These tests assert that, given two samples, they are effectively equal (i.e. they came from the same distribution):\n",
    "\n",
    "* Student's t-test, as identified earlier, implemented in quite a few methods in both scipy and statsmodels\n",
    "* Analysis of Variance Test (ANOVA), `scipy.stats.f_oneway` and `statsmodels.api.stats.anova_lm` (among a few other ways to call it).\n",
    "* Mann-Whitney U Test, implemented as `scipy.stats.manwhitneyu`\n",
    "* Wilcoxon Signed Rank Test, implemented as `scipy.stats.wilcoxon`\n",
    "\n",
    "\n",
    "Note that while the tests in these categories have the same purpose, they are not the same in terms of quality, speed, and even coding signatures! Always check the documentation for the function you are using first, before using it in practice.\n"
   ]
  },
  {
   "cell_type": "markdown",
   "metadata": {},
   "source": [
    "#### Extended Exercise\n",
    "\n",
    "Using a simulation, create your own function that can compute the t-test and p values for a Student's t-test.\n",
    "\n",
    "For a comparison of two independent samples (i.e. \"here are two samples, do they come from the same distribution?\"), the t value is computed as:\n",
    "\n",
    "$ t(X_1, X_2) = \\frac{\\bar{X_1} - \\bar{X_2}}{s}$\n",
    "\n",
    "\n",
    "Where:\n",
    "\n",
    "* $\\bar{X_1}$ is the mean of sample $X_1$\n",
    "* s is the standard error of the difference, which is:\n",
    "\n",
    "$e_1 = \\frac{\\sigma_1}{\\sqrt(n_1)}$\n",
    "\n",
    "Where $\\sigma_1$ is the standard deviation of $X_1$ and $n_1$ is the number of observations in $X_1$, This is the \"standard error\" of $X_1$.\n",
    "\n",
    "Then,\n",
    "\n",
    "$s = \\sqrt{e_1^2 + e_2^2}$\n",
    "\n",
    "Which is the standard error of the difference between the means.\n",
    "\n",
    "The output of your code should be a pandas DataFrame where the index values are the p-values we are testing (i.e. 0.01, 0.05, 0.1, 0.2) and the columns are the degrees-of-freedom, which is how many data points in both $X_1$ and $X_2$, subtracting 2. Values to compute are 5, 10, 20, 50, 100 (and so on if you are inclined).\n",
    "\n",
    "The values can be computed via simulation - that is, draw many random samples, and compute the likelihood of getting a t value at least that high between them."
   ]
  },
  {
   "cell_type": "code",
   "execution_count": 151,
   "metadata": {},
   "outputs": [],
   "source": [
    "import pandas as pd\n",
    "import numpy as np"
   ]
  },
  {
   "cell_type": "code",
   "execution_count": 275,
   "metadata": {},
   "outputs": [],
   "source": [
    "def student(set1,set2):\n",
    "    # Numerator\n",
    "    num = np.mean(set1)-np.mean(set2)\n",
    "    \n",
    "    # Errors\n",
    "    err1 = np.std(set1)/np.sqrt(len(set1))\n",
    "    err2 = np.std(set2)/np.sqrt(len(set2))\n",
    "    # Denominator\n",
    "    den = np.sqrt(err1*err1 + err2*err2)\n",
    "    \n",
    "    # Result\n",
    "    result = num/den\n",
    "    return result"
   ]
  },
  {
   "cell_type": "code",
   "execution_count": 281,
   "metadata": {},
   "outputs": [],
   "source": [
    "def sim(size):\n",
    "    size1 = np.random.randint(2,size)\n",
    "    size2 = size + 2 - size1\n",
    "    \n",
    "    _set1 = np.random.randn(size1)\n",
    "    _set2 = np.random.randn(size2)\n",
    "    \n",
    "    return student(_set1, _set2)"
   ]
  },
  {
   "cell_type": "code",
   "execution_count": 282,
   "metadata": {},
   "outputs": [
    {
     "data": {
      "text/plain": [
       "{0.01: {5: -4.347020181122642,\n",
       "  10: -3.7534309545942137,\n",
       "  20: -3.5200182854273523,\n",
       "  50: -3.0243717659727767,\n",
       "  100: -2.702060412618033},\n",
       " 0.025: {5: -3.3298051168147835,\n",
       "  10: -2.8786338725864695,\n",
       "  20: -2.63852437222008,\n",
       "  50: -2.400234898219118,\n",
       "  100: -2.2272163133976433},\n",
       " 0.05: {5: -2.620179796328343,\n",
       "  10: -2.2960005832119927,\n",
       "  20: -2.0850939244538655,\n",
       "  50: -1.8852402698377235,\n",
       "  100: -1.7568449695517905},\n",
       " 0.1: {5: -1.8701224898632154,\n",
       "  10: -1.7021257051140424,\n",
       "  20: -1.5594022663945055,\n",
       "  50: -1.4087288445729815,\n",
       "  100: -1.3748027359994346},\n",
       " 0.25: {5: -0.9398256728031857,\n",
       "  10: -0.8445400393685317,\n",
       "  20: -0.7769662691429423,\n",
       "  50: -0.6896809753435514,\n",
       "  100: -0.6958804168769764},\n",
       " 0.4: {5: -0.34111838108722703,\n",
       "  10: -0.33537928225777236,\n",
       "  20: -0.30208453840077504,\n",
       "  50: -0.23066449107249015,\n",
       "  100: -0.26143571458222453}}"
      ]
     },
     "execution_count": 282,
     "metadata": {},
     "output_type": "execute_result"
    }
   ],
   "source": [
    "numsims = 10000\n",
    "data = {0.01:{}, 0.025:{}, 0.05:{}, 0.1:{}, 0.25:{}, 0.4:{}}\n",
    "for i in [5, 10, 20, 50, 100]:\n",
    "    results = []\n",
    "    for j in range(numsims):\n",
    "        results.append(sim(i))\n",
    "    results.sort()\n",
    "    # After ordering, the largest value in the smallest 1% of data is at position numsims * 0.01\n",
    "    # This is true for all other p values we are testing, 5%, 10% and 20% = numsims* their % thus:\n",
    "    for k in [0.01, 0.025, 0.05, 0.1, 0.25, 0.4]:\n",
    "        index = int(k*numsims)\n",
    "        data[k][i] = results[index]\n",
    "\n",
    "data"
   ]
  },
  {
   "cell_type": "code",
   "execution_count": 283,
   "metadata": {},
   "outputs": [
    {
     "data": {
      "text/html": [
       "<div>\n",
       "<style scoped>\n",
       "    .dataframe tbody tr th:only-of-type {\n",
       "        vertical-align: middle;\n",
       "    }\n",
       "\n",
       "    .dataframe tbody tr th {\n",
       "        vertical-align: top;\n",
       "    }\n",
       "\n",
       "    .dataframe thead th {\n",
       "        text-align: right;\n",
       "    }\n",
       "</style>\n",
       "<table border=\"1\" class=\"dataframe\">\n",
       "  <thead>\n",
       "    <tr style=\"text-align: right;\">\n",
       "      <th></th>\n",
       "      <th>0.010</th>\n",
       "      <th>0.025</th>\n",
       "      <th>0.050</th>\n",
       "      <th>0.100</th>\n",
       "      <th>0.250</th>\n",
       "      <th>0.400</th>\n",
       "    </tr>\n",
       "  </thead>\n",
       "  <tbody>\n",
       "    <tr>\n",
       "      <th>5</th>\n",
       "      <td>-4.347020</td>\n",
       "      <td>-3.329805</td>\n",
       "      <td>-2.620180</td>\n",
       "      <td>-1.870122</td>\n",
       "      <td>-0.939826</td>\n",
       "      <td>-0.341118</td>\n",
       "    </tr>\n",
       "    <tr>\n",
       "      <th>10</th>\n",
       "      <td>-3.753431</td>\n",
       "      <td>-2.878634</td>\n",
       "      <td>-2.296001</td>\n",
       "      <td>-1.702126</td>\n",
       "      <td>-0.844540</td>\n",
       "      <td>-0.335379</td>\n",
       "    </tr>\n",
       "    <tr>\n",
       "      <th>20</th>\n",
       "      <td>-3.520018</td>\n",
       "      <td>-2.638524</td>\n",
       "      <td>-2.085094</td>\n",
       "      <td>-1.559402</td>\n",
       "      <td>-0.776966</td>\n",
       "      <td>-0.302085</td>\n",
       "    </tr>\n",
       "    <tr>\n",
       "      <th>50</th>\n",
       "      <td>-3.024372</td>\n",
       "      <td>-2.400235</td>\n",
       "      <td>-1.885240</td>\n",
       "      <td>-1.408729</td>\n",
       "      <td>-0.689681</td>\n",
       "      <td>-0.230664</td>\n",
       "    </tr>\n",
       "    <tr>\n",
       "      <th>100</th>\n",
       "      <td>-2.702060</td>\n",
       "      <td>-2.227216</td>\n",
       "      <td>-1.756845</td>\n",
       "      <td>-1.374803</td>\n",
       "      <td>-0.695880</td>\n",
       "      <td>-0.261436</td>\n",
       "    </tr>\n",
       "  </tbody>\n",
       "</table>\n",
       "</div>"
      ],
      "text/plain": [
       "        0.010     0.025     0.050     0.100     0.250     0.400\n",
       "5   -4.347020 -3.329805 -2.620180 -1.870122 -0.939826 -0.341118\n",
       "10  -3.753431 -2.878634 -2.296001 -1.702126 -0.844540 -0.335379\n",
       "20  -3.520018 -2.638524 -2.085094 -1.559402 -0.776966 -0.302085\n",
       "50  -3.024372 -2.400235 -1.885240 -1.408729 -0.689681 -0.230664\n",
       "100 -2.702060 -2.227216 -1.756845 -1.374803 -0.695880 -0.261436"
      ]
     },
     "execution_count": 283,
     "metadata": {},
     "output_type": "execute_result"
    }
   ],
   "source": [
    "r = pd.DataFrame(data)\n",
    "r"
   ]
  },
  {
   "cell_type": "markdown",
   "metadata": {},
   "source": [
    "*For solutions, see `solutions/simulation_ttest.py`*"
   ]
  }
 ],
 "metadata": {
  "kernelspec": {
   "display_name": "Python 3",
   "language": "python",
   "name": "python3"
  },
  "language_info": {
   "codemirror_mode": {
    "name": "ipython",
    "version": 3
   },
   "file_extension": ".py",
   "mimetype": "text/x-python",
   "name": "python",
   "nbconvert_exporter": "python",
   "pygments_lexer": "ipython3",
   "version": "3.8.8"
  }
 },
 "nbformat": 4,
 "nbformat_minor": 2
}
