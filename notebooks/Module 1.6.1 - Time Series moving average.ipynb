{
 "cells": [
  {
   "cell_type": "markdown",
   "metadata": {},
   "source": [
    "# Introduction to Quantitative Finance\n",
    "\n",
    "Copyright (c) 2019 Python Charmers Pty Ltd, Australia, <https://pythoncharmers.com>. All rights reserved.\n",
    "\n",
    "<img src=\"img/python_charmers_logo.png\" width=\"300\" alt=\"Python Charmers Logo\">\n",
    "\n",
    "Published under the Creative Commons Attribution-NonCommercial 4.0 International (CC BY-NC 4.0) license. See `LICENSE.md` for details.\n",
    "\n",
    "Sponsored by Tibra Global Services, <https://tibra.com>\n",
    "\n",
    "<img src=\"img/tibra_logo.png\" width=\"300\" alt=\"Tibra Logo\">\n",
    "\n",
    "\n",
    "## Module 1.6: Moving average\n",
    "\n",
    "### 1.6.1: Time Series moving average\n",
    "\n",
    "When reviewing how a time series changes (i.e. $\\Delta X_t$), the error itself is normally random (called *white noise*) over time, but may have some dependency on the previous value.\n",
    "\n",
    "For instance, if a stock increases in price one day, this may lead investors to sell their stock, leading to a decreasing (or a return to the mean) on the second day.\n",
    "\n",
    "If we denote a positive $\\epsilon_t$ to be an increase in buying for a given stock at time period $t$, we can model a stock's price change simply using the equation:\n",
    "\n",
    "$\\Delta p_t = \\epsilon_t - 0.5 \\epsilon_{t-1}$\n",
    "\n",
    "That is, the price increases if there is more buying today, with a negative factor if there was more buying yesterday. This type of model is known as a moving average process, specifically one of order 1 (because we are only modelling one time step in the past). We denote this model a $MA(n)$ process for time steps of $n$, and the one above is a $MA(1)$ process because it cares about one step in the past.\n",
    "\n",
    "Note: The process is an MA(1) process whether the coefficient on $\\epsilon_{t-1}$ is positive or negative.\n",
    "\n",
    "More formally, a MA(n) process is:\n",
    "\n",
    "$MA(p) X_t = \\mu + \\epsilon_{t} + \\sum_{i=1}^{p}\\theta_i\\epsilon_{t-i}$\n",
    "\n",
    "Where $\\mu$ is the error term (assumed to be iid) and $\\theta_i$ is a learned parameter in the model (learned, say, from an OLS). The equation for MA(1) is the same, but it is worth noting it, as you'll see the pattern in quite a few places. We'll drop $\\mu$ from the equation, and set $p=1$, giving:\n",
    "\n",
    "$MA(1)X_t = \\epsilon_t + \\theta \\epsilon_{t-1}$\n",
    "\n",
    "Notably, and importantly, $\\epsilon$ is assumed to be independently and identically distributed from a normal distribution with a mean of 0 and a standard deviation (of $\\sigma^2$). This is an important requirement, otherwise the model has other patterns in it that need to be modelled separately.\n",
    "\n",
    "<div class=\"alert alert-warning\">\n",
    "    In the above equation, we used $\\theta$ as the parameter, while our previous models used $\\beta$. It doesn't matter; they are the same thing. The choice here is for two reasons. First, most textbooks use $\\theta$ in this spot. Second, we will combine an MA model with another model later, so we need the different symbols then.\n",
    "</div>\n",
    "\n",
    "<div class=\"alert alert-warning\">\n",
    "    Further, in the example, we modeled the change in some variable. This is not a requirement, as the values $X$ can be any variable, including (but not limited to) the change in value of some process.\n",
    "</div>"
   ]
  },
  {
   "cell_type": "code",
   "execution_count": 1,
   "metadata": {},
   "outputs": [],
   "source": [
    "%run setup.ipy"
   ]
  },
  {
   "cell_type": "code",
   "execution_count": 2,
   "metadata": {},
   "outputs": [],
   "source": [
    "# Generate some random data for our epsilons, remembering they are iid\n",
    "\n",
    "epsilons = np.random.randn(1000)"
   ]
  },
  {
   "cell_type": "code",
   "execution_count": 3,
   "metadata": {},
   "outputs": [],
   "source": [
    "theta = np.array([-0.5])\n",
    "\n",
    "X_t = epsilons[1:] + theta * epsilons[:-1]"
   ]
  },
  {
   "cell_type": "code",
   "execution_count": 4,
   "metadata": {},
   "outputs": [
    {
     "data": {
      "text/plain": [
       "[<matplotlib.lines.Line2D at 0x7f582f28a9b0>]"
      ]
     },
     "execution_count": 4,
     "metadata": {},
     "output_type": "execute_result"
    },
    {
     "data": {
      "image/png": "[encoded data removed]",
      "text/plain": [
       "<Figure size 432x288 with 1 Axes>"
      ]
     },
     "metadata": {
      "needs_background": "light"
     },
     "output_type": "display_data"
    }
   ],
   "source": [
    "plt.plot(X_t)"
   ]
  },
  {
   "cell_type": "code",
   "execution_count": 5,
   "metadata": {},
   "outputs": [],
   "source": [
    "# Fit a MA model. statsmodels doesn't expose this nicely directly, so we use ARMA, and turn \"off\" the AR bit.\n",
    "# We will look at the full ARMA model later"
   ]
  },
  {
   "cell_type": "code",
   "execution_count": 6,
   "metadata": {},
   "outputs": [],
   "source": [
    "from statsmodels import api as sm\n",
    "model = sm.tsa.ARMA(X_t, order=(0, 1))"
   ]
  },
  {
   "cell_type": "code",
   "execution_count": 7,
   "metadata": {},
   "outputs": [],
   "source": [
    "results = model.fit()"
   ]
  },
  {
   "cell_type": "code",
   "execution_count": 8,
   "metadata": {},
   "outputs": [
    {
     "data": {
      "text/html": [
       "<table class=\"simpletable\">\n",
       "<caption>ARMA Model Results</caption>\n",
       "<tr>\n",
       "  <th>Dep. Variable:</th>         <td>y</td>        <th>  No. Observations:  </th>    <td>999</td>   \n",
       "</tr>\n",
       "<tr>\n",
       "  <th>Model:</th>            <td>ARMA(0, 1)</td>    <th>  Log Likelihood     </th> <td>-1423.412</td>\n",
       "</tr>\n",
       "<tr>\n",
       "  <th>Method:</th>             <td>css-mle</td>     <th>  S.D. of innovations</th>   <td>1.006</td>  \n",
       "</tr>\n",
       "<tr>\n",
       "  <th>Date:</th>          <td>Mon, 29 Apr 2019</td> <th>  AIC                </th> <td>2852.823</td> \n",
       "</tr>\n",
       "<tr>\n",
       "  <th>Time:</th>              <td>16:05:09</td>     <th>  BIC                </th> <td>2867.544</td> \n",
       "</tr>\n",
       "<tr>\n",
       "  <th>Sample:</th>                <td>0</td>        <th>  HQIC               </th> <td>2858.418</td> \n",
       "</tr>\n",
       "<tr>\n",
       "  <th></th>                       <td> </td>        <th>                     </th>     <td> </td>    \n",
       "</tr>\n",
       "</table>\n",
       "<table class=\"simpletable\">\n",
       "<tr>\n",
       "     <td></td>        <th>coef</th>     <th>std err</th>      <th>z</th>      <th>P>|z|</th>  <th>[0.025</th>    <th>0.975]</th>  \n",
       "</tr>\n",
       "<tr>\n",
       "  <th>const</th>   <td>    0.0121</td> <td>    0.015</td> <td>    0.786</td> <td> 0.432</td> <td>   -0.018</td> <td>    0.042</td>\n",
       "</tr>\n",
       "<tr>\n",
       "  <th>ma.L1.y</th> <td>   -0.5160</td> <td>    0.028</td> <td>  -18.500</td> <td> 0.000</td> <td>   -0.571</td> <td>   -0.461</td>\n",
       "</tr>\n",
       "</table>\n",
       "<table class=\"simpletable\">\n",
       "<caption>Roots</caption>\n",
       "<tr>\n",
       "    <td></td>   <th>            Real</th>  <th>         Imaginary</th> <th>         Modulus</th>  <th>        Frequency</th>\n",
       "</tr>\n",
       "<tr>\n",
       "  <th>MA.1</th> <td>           1.9380</td> <td>          +0.0000j</td> <td>           1.9380</td> <td>           0.0000</td>\n",
       "</tr>\n",
       "</table>"
      ],
      "text/plain": [
       "<class 'statsmodels.iolib.summary.Summary'>\n",
       "\"\"\"\n",
       "                              ARMA Model Results                              \n",
       "==============================================================================\n",
       "Dep. Variable:                      y   No. Observations:                  999\n",
       "Model:                     ARMA(0, 1)   Log Likelihood               -1423.412\n",
       "Method:                       css-mle   S.D. of innovations              1.006\n",
       "Date:                Mon, 29 Apr 2019   AIC                           2852.823\n",
       "Time:                        16:05:09   BIC                           2867.544\n",
       "Sample:                             0   HQIC                          2858.418\n",
       "                                                                              \n",
       "==============================================================================\n",
       "                 coef    std err          z      P>|z|      [0.025      0.975]\n",
       "------------------------------------------------------------------------------\n",
       "const          0.0121      0.015      0.786      0.432      -0.018       0.042\n",
       "ma.L1.y       -0.5160      0.028    -18.500      0.000      -0.571      -0.461\n",
       "                                    Roots                                    \n",
       "=============================================================================\n",
       "                  Real          Imaginary           Modulus         Frequency\n",
       "-----------------------------------------------------------------------------\n",
       "MA.1            1.9380           +0.0000j            1.9380            0.0000\n",
       "-----------------------------------------------------------------------------\n",
       "\"\"\""
      ]
     },
     "execution_count": 8,
     "metadata": {},
     "output_type": "execute_result"
    }
   ],
   "source": [
    "results.summary()"
   ]
  },
  {
   "cell_type": "markdown",
   "metadata": {},
   "source": [
    "Note the coefficient for `ma.L1.y` is approximately our theta value from where we created this data - the model fit it well. The constant coefficient is zero too, which indicates it \"learned\" the zero mean correctly."
   ]
  },
  {
   "cell_type": "code",
   "execution_count": 9,
   "metadata": {},
   "outputs": [],
   "source": [
    "import quandl\n",
    "\n",
    "interest_rates = quandl.get(\"RBA/F13_FOOIRATCR\")\n",
    "interest_rates = interest_rates[interest_rates.columns[0]]  # Extract the first column, whatever it is called\n",
    "interest_rates.name = \"InterestRate\"  # Rename, as the original had a long name. Hint: don't use spaces or special chars"
   ]
  },
  {
   "cell_type": "code",
   "execution_count": 10,
   "metadata": {},
   "outputs": [
    {
     "name": "stderr",
     "output_type": "stream",
     "text": [
      "/home/rob/anaconda3/envs/quant/lib/python3.6/site-packages/statsmodels/tsa/base/tsa_model.py:171: ValueWarning: No frequency information was provided, so inferred frequency M will be used.\n",
      "  % freq, ValueWarning)\n"
     ]
    }
   ],
   "source": [
    "model = sm.tsa.ARMA(interest_rates, order=(0, 1))\n",
    "interest_results = model.fit()"
   ]
  },
  {
   "cell_type": "code",
   "execution_count": 11,
   "metadata": {},
   "outputs": [
    {
     "data": {
      "text/html": [
       "<table class=\"simpletable\">\n",
       "<caption>ARMA Model Results</caption>\n",
       "<tr>\n",
       "  <th>Dep. Variable:</th>   <td>InterestRate</td>   <th>  No. Observations:  </th>    <td>351</td>  \n",
       "</tr>\n",
       "<tr>\n",
       "  <th>Model:</th>            <td>ARMA(0, 1)</td>    <th>  Log Likelihood     </th> <td>-641.024</td>\n",
       "</tr>\n",
       "<tr>\n",
       "  <th>Method:</th>             <td>css-mle</td>     <th>  S.D. of innovations</th>   <td>1.499</td> \n",
       "</tr>\n",
       "<tr>\n",
       "  <th>Date:</th>          <td>Mon, 29 Apr 2019</td> <th>  AIC                </th> <td>1288.049</td>\n",
       "</tr>\n",
       "<tr>\n",
       "  <th>Time:</th>              <td>16:05:09</td>     <th>  BIC                </th> <td>1299.631</td>\n",
       "</tr>\n",
       "<tr>\n",
       "  <th>Sample:</th>           <td>01-31-1990</td>    <th>  HQIC               </th> <td>1292.659</td>\n",
       "</tr>\n",
       "<tr>\n",
       "  <th></th>                 <td>- 03-31-2019</td>   <th>                     </th>     <td> </td>   \n",
       "</tr>\n",
       "</table>\n",
       "<table class=\"simpletable\">\n",
       "<tr>\n",
       "           <td></td>             <th>coef</th>     <th>std err</th>      <th>z</th>      <th>P>|z|</th>  <th>[0.025</th>    <th>0.975]</th>  \n",
       "</tr>\n",
       "<tr>\n",
       "  <th>const</th>              <td>    5.1495</td> <td>    0.153</td> <td>   33.736</td> <td> 0.000</td> <td>    4.850</td> <td>    5.449</td>\n",
       "</tr>\n",
       "<tr>\n",
       "  <th>ma.L1.InterestRate</th> <td>    0.9103</td> <td>    0.016</td> <td>   58.001</td> <td> 0.000</td> <td>    0.880</td> <td>    0.941</td>\n",
       "</tr>\n",
       "</table>\n",
       "<table class=\"simpletable\">\n",
       "<caption>Roots</caption>\n",
       "<tr>\n",
       "    <td></td>   <th>            Real</th>  <th>         Imaginary</th> <th>         Modulus</th>  <th>        Frequency</th>\n",
       "</tr>\n",
       "<tr>\n",
       "  <th>MA.1</th> <td>          -1.0985</td> <td>          +0.0000j</td> <td>           1.0985</td> <td>           0.5000</td>\n",
       "</tr>\n",
       "</table>"
      ],
      "text/plain": [
       "<class 'statsmodels.iolib.summary.Summary'>\n",
       "\"\"\"\n",
       "                              ARMA Model Results                              \n",
       "==============================================================================\n",
       "Dep. Variable:           InterestRate   No. Observations:                  351\n",
       "Model:                     ARMA(0, 1)   Log Likelihood                -641.024\n",
       "Method:                       css-mle   S.D. of innovations              1.499\n",
       "Date:                Mon, 29 Apr 2019   AIC                           1288.049\n",
       "Time:                        16:05:09   BIC                           1299.631\n",
       "Sample:                    01-31-1990   HQIC                          1292.659\n",
       "                         - 03-31-2019                                         \n",
       "======================================================================================\n",
       "                         coef    std err          z      P>|z|      [0.025      0.975]\n",
       "--------------------------------------------------------------------------------------\n",
       "const                  5.1495      0.153     33.736      0.000       4.850       5.449\n",
       "ma.L1.InterestRate     0.9103      0.016     58.001      0.000       0.880       0.941\n",
       "                                    Roots                                    \n",
       "=============================================================================\n",
       "                  Real          Imaginary           Modulus         Frequency\n",
       "-----------------------------------------------------------------------------\n",
       "MA.1           -1.0985           +0.0000j            1.0985            0.5000\n",
       "-----------------------------------------------------------------------------\n",
       "\"\"\""
      ]
     },
     "execution_count": 11,
     "metadata": {},
     "output_type": "execute_result"
    }
   ],
   "source": [
    "interest_results.summary()"
   ]
  },
  {
   "cell_type": "markdown",
   "metadata": {},
   "source": [
    "#### Exercises\n",
    "\n",
    "1. Fit an MA model to a stock price (the solution uses AAPL).\n",
    "2. What are the coefficients on the constant and lag? What does this mean?\n",
    "3. Fit the model on the change in stock price, rather than the actual price.\n",
    "4. What are the coefficients, and how does that relate to the change in price?\n",
    "\n",
    "\n",
    "#### Extended Exercise\n",
    "\n",
    "We are going to drill right down now into a small dataset and observe how a $\\epsilon$ value changes the result of the MA(1) model. Create a small dataset of just ten $\\epsilon$ values of random 0s and 1s. Visualise the resulting MA model with a theta value of 0.5, -0.5, 2, -2, 100 and -100. Observe how runs of 0s and 1s are affected, and how a value affects the next time period in the series."
   ]
  },
  {
   "cell_type": "markdown",
   "metadata": {},
   "source": [
    "*For solutions, see `solutions/ma_model.py`*"
   ]
  },
  {
   "cell_type": "markdown",
   "metadata": {},
   "source": [
    "### Properties of MA(1)\n",
    "\n",
    "We can identify that the MA(1) process has an expected value of zero. Because the $\\epsilon$ terms are iid with a mean of 0, the expected value for these values is 0. This gives us:\n",
    "\n",
    "$E[X_t] = E[\\epsilon_t + \\theta \\epsilon_{t-1}] = E[\\epsilon_t] + \\theta E[\\epsilon_{t-1}] = 0$\n",
    "\n",
    "Also note that $\\theta$ is constant, and when you have a constant it can be taken out of the $E$. So, for constant $\\theta$:\n",
    "\n",
    "$E[\\theta \\epsilon] = \\theta E[\\epsilon]$\n",
    "\n",
    "Next, we know the variance of $X_t$, again, because the values of $\\epsilon$ are iid, with a mean of 0, and a standard deviation of $\\sigma^2$ (from the definition). This gives us:\n",
    "\n",
    "$Var(X_t) = Var(\\epsilon_{t} + \\theta \\epsilon_{t-1}) = Var(\\epsilon_{t}) + \\theta^2 Var(\\epsilon_{t-1})$\n",
    "\n",
    "Plugging in the known $Var(\\epsilon_{t}) = \\sigma^2$ gives us:\n",
    "\n",
    "$Var(X_t) = \\sigma^2 + \\theta^2\\sigma^2 = \\sigma^2(1 + \\theta^2)$\n",
    "\n",
    "Finally, we could intuitively guess that the covariance at lagged intervales would approximate 0 for lags larger than the period of the MA model. More formally, if $i > 1$, then :\n",
    "\n",
    "$Cov(X_t, X_{t-i}) = Cov(\\epsilon_{t} + \\theta\\epsilon_{t-1}, \\epsilon_{t-i} + \\theta\\epsilon_{t-i-i}) = 0$\n",
    "\n",
    "This is because $\\epsilon_{t}$ is iid (sidenote: this is a very useful property in statistics!) and there are no terms overlapping between the two $X$ lags being computed on. However, when $i=1$ there is an overlap, and the covariance is no longer 0:\n",
    "\n",
    "$Cov(X_t, X_{t-1}) = Cov(\\epsilon_{t} + \\theta\\epsilon_{t-1}, \\epsilon_{t-1} + \\theta\\epsilon_{t-2})$\n",
    "\n",
    "Once more, as $\\epsilon_{t}$ is iid, when we expand this covariance, we only need to evaluate $Cov(\\theta\\epsilon_{t-1}, \\epsilon_{t-1})$ as $Cov(\\epsilon_{t}, \\epsilon_{t+h})=0$ whenever $h \\neq 0$.\n",
    "\n",
    "$Cov(X_t, X_{t-1}) = \\theta Cov(\\epsilon_{t-1}, \\epsilon_{t-1}) = \\theta \\sigma^2$\n",
    "\n",
    "As $Cov(X_t, X_{t+h})$ only depends on $h$ (i.e. only the lag matters, not when it was), the covariance doesn't change with time.\n",
    "\n",
    "These three properties indicate that the MA(1) process is stationary. A property we will look at further in the next module."
   ]
  },
  {
   "cell_type": "markdown",
   "metadata": {},
   "source": [
    "#### Extended Exercise\n",
    "\n",
    "1. Does an MA(2) model have an expected value of 0?\n",
    "2. Does an MA(2) model have a covariance tending to 0 with increasing time lags?"
   ]
  }
 ],
 "metadata": {
  "kernelspec": {
   "display_name": "Python 3 (ipykernel)",
   "language": "python",
   "name": "python3"
  },
  "language_info": {
   "codemirror_mode": {
    "name": "ipython",
    "version": 3
   },
   "file_extension": ".py",
   "mimetype": "text/x-python",
   "name": "python",
   "nbconvert_exporter": "python",
   "pygments_lexer": "ipython3",
   "version": "3.9.7"
  }
 },
 "nbformat": 4,
 "nbformat_minor": 2
}
