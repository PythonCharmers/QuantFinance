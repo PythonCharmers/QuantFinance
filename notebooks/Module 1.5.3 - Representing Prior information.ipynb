{
 "cells": [
  {
   "cell_type": "markdown",
   "metadata": {},
   "source": [
    "# Introduction to Quantitative Finance\n",
    "\n",
    "Copyright (c) 2019 Python Charmers Pty Ltd, Australia, <https://pythoncharmers.com>. All rights reserved.\n",
    "\n",
    "<img src=\"img/python_charmers_logo.png\" width=\"300\" alt=\"Python Charmers Logo\">\n",
    "\n",
    "Published under the Creative Commons Attribution-NonCommercial 4.0 International (CC BY-NC 4.0) license. See `LICENSE.md` for details.\n",
    "\n",
    "Sponsored by Tibra Global Services, <https://tibra.com>\n",
    "\n",
    "<img src=\"img/tibra_logo.png\" width=\"300\" alt=\"Tibra Logo\">\n",
    "\n",
    "\n",
    "## Module 1.5: Bayesian inference\n",
    "\n",
    "### 1.5.3 Representing prior knowledge: postcodes\n",
    "\n",
    "In the last module we looked at incorporating prior knowledge into our models, but effectively cheated by saying \"all outcomes are just as likely, until we have data\". Often we have more information than that.\n",
    "\n",
    "In this module we look at how to take prior information about the domain we are investigating, and using that information to alter our model.\n",
    "\n",
    "\n",
    "- France's *La Poste* has used automated sorting since 1964.\n",
    "- Handwritten digit recognition has been well studied.\n",
    "- In order to use digit recognition in practice for sorting mail, we need a *prior* model for how probable each postcode is, independent of each actual digitized hand-written digit image in front of us.\n",
    "\n",
    "A sample of some Australian and international postcodes:\n",
    "- 2000 (Sydney)\n",
    "- 3122 (Hawthorn, VIC)\n",
    "- 4350 (used for 44 towns near Toowoomba, QLD)\n",
    "- 8007 (PO boxes in Collins Street West)\n",
    "- A-1220 (Vienna, Austria)\n",
    "- Tsuen Wan (Hong Kong): no postcodes in HK\n",
    "- 02138 (Cambridge, MA)\n",
    "- EC1V 4AD (London)\n",
    "\n",
    "\n",
    "### A prior for Australian postcodes\n",
    "\n",
    "**What prior information do we have?**\n",
    "\n",
    "- Do all Australian postcodes have 4 digits? Yes.\n",
    "- What range? 0200 to 9944\n",
    "- States:\n",
    "   - NSW: postcodes 1000-1999 (PO boxes), 2000-2599, 2620-2899, 2921-2999\n",
    "   - ACT: 0200-0299 (PO boxes), 2600-2619, 2900-2920\n",
    "   - VIC: 3000-3999, 8000-8999 (PO boxes)\n",
    "   - QLD: 4000-4999, 9000-9999 (PO boxes)\n",
    "   - SA: 5000-5799, 5800-5999 (PO boxes)\n",
    "   - WA 6000-6797, 6800-6999 (PO boxes)\n",
    "   - TAS: 7000-7799, 7800-7999 (PO boxes)\n",
    "   - NT: 0800-0899, 0900-0999 (PO boxes)\n",
    "\n",
    "**Also:**\n",
    "\n",
    "- 25% of all mail goes to these CBD postcodes: 2000, 2001, 3000, 3001, 4000, 4001, 5000, 5001, 6000, 6001.\n",
    "- We can look up population for each postcode. Or, if we don't have population info by postcode, we could seed the prior with state population data.\n",
    "- Within each state xxxx, 80% of mail goes to x0xx and x1xx (metropolitan city areas and suburbs).\n",
    "\n",
    "### How do we encode this prior information for machine learning purposes?\n",
    "\n",
    "### Goal: construct a prior $p(\\textrm{postcode})$ over all 4-digit postcodes\n",
    "\n",
    "### Valid ranges\n"
   ]
  },
  {
   "cell_type": "code",
   "execution_count": 9,
   "metadata": {
    "attributes": {
     "classes": [],
     "id": "",
     "n": "3"
    }
   },
   "outputs": [
    {
     "ename": "AttributeError",
     "evalue": "'dict' object has no attribute 'head'",
     "output_type": "error",
     "traceback": [
      "\u001b[1;31m---------------------------------------------------------------------------\u001b[0m",
      "\u001b[1;31mAttributeError\u001b[0m                            Traceback (most recent call last)",
      "\u001b[1;32mc:\\Users\\86155\\OneDrive\\Job Stuff\\Past Jobs + Applications\\Tibra\\QuantFinance\\notebooks\\Module 1.5.3 - Representing Prior information.ipynb Cell 2\u001b[0m in \u001b[0;36m<cell line: 12>\u001b[1;34m()\u001b[0m\n\u001b[0;32m      <a href='vscode-notebook-cell:/c%3A/Users/86155/OneDrive/Job%20Stuff/Past%20Jobs%20%2B%20Applications/Tibra/QuantFinance/notebooks/Module%201.5.3%20-%20Representing%20Prior%20information.ipynb#W1sZmlsZQ%3D%3D?line=0'>1</a>\u001b[0m postcodes_by_state \u001b[39m=\u001b[39m \u001b[39mdict\u001b[39m((\n\u001b[0;32m      <a href='vscode-notebook-cell:/c%3A/Users/86155/OneDrive/Job%20Stuff/Past%20Jobs%20%2B%20Applications/Tibra/QuantFinance/notebooks/Module%201.5.3%20-%20Representing%20Prior%20information.ipynb#W1sZmlsZQ%3D%3D?line=1'>2</a>\u001b[0m     (\u001b[39m'\u001b[39m\u001b[39mAustralian Capital Territory\u001b[39m\u001b[39m'\u001b[39m, \u001b[39mset\u001b[39m(\u001b[39mrange\u001b[39m(\u001b[39m2600\u001b[39m, \u001b[39m2620\u001b[39m)) \u001b[39m|\u001b[39m \u001b[39mset\u001b[39m(\u001b[39mrange\u001b[39m(\u001b[39m2900\u001b[39m, \u001b[39m2920\u001b[39m))),\n\u001b[0;32m      <a href='vscode-notebook-cell:/c%3A/Users/86155/OneDrive/Job%20Stuff/Past%20Jobs%20%2B%20Applications/Tibra/QuantFinance/notebooks/Module%201.5.3%20-%20Representing%20Prior%20information.ipynb#W1sZmlsZQ%3D%3D?line=2'>3</a>\u001b[0m     (\u001b[39m'\u001b[39m\u001b[39mNew South Wales\u001b[39m\u001b[39m'\u001b[39m, \u001b[39mset\u001b[39m(\u001b[39mrange\u001b[39m(\u001b[39m2000\u001b[39m, \u001b[39m3000\u001b[39m)) \u001b[39m-\u001b[39m \u001b[39mset\u001b[39m(\u001b[39mrange\u001b[39m(\u001b[39m2600\u001b[39m, \u001b[39m2620\u001b[39m)) \u001b[39m-\u001b[39m \u001b[39mset\u001b[39m(\u001b[39mrange\u001b[39m(\u001b[39m2900\u001b[39m, \u001b[39m2920\u001b[39m))),\n\u001b[1;32m   (...)\u001b[0m\n\u001b[0;32m      <a href='vscode-notebook-cell:/c%3A/Users/86155/OneDrive/Job%20Stuff/Past%20Jobs%20%2B%20Applications/Tibra/QuantFinance/notebooks/Module%201.5.3%20-%20Representing%20Prior%20information.ipynb#W1sZmlsZQ%3D%3D?line=8'>9</a>\u001b[0m     (\u001b[39m'\u001b[39m\u001b[39mNorthern Territory\u001b[39m\u001b[39m'\u001b[39m, \u001b[39mset\u001b[39m(\u001b[39mrange\u001b[39m(\u001b[39m800\u001b[39m, \u001b[39m900\u001b[39m)))\n\u001b[0;32m     <a href='vscode-notebook-cell:/c%3A/Users/86155/OneDrive/Job%20Stuff/Past%20Jobs%20%2B%20Applications/Tibra/QuantFinance/notebooks/Module%201.5.3%20-%20Representing%20Prior%20information.ipynb#W1sZmlsZQ%3D%3D?line=9'>10</a>\u001b[0m ))\n\u001b[1;32m---> <a href='vscode-notebook-cell:/c%3A/Users/86155/OneDrive/Job%20Stuff/Past%20Jobs%20%2B%20Applications/Tibra/QuantFinance/notebooks/Module%201.5.3%20-%20Representing%20Prior%20information.ipynb#W1sZmlsZQ%3D%3D?line=11'>12</a>\u001b[0m \u001b[39mprint\u001b[39m(postcodes_by_state\u001b[39m.\u001b[39;49mhead())\n",
      "\u001b[1;31mAttributeError\u001b[0m: 'dict' object has no attribute 'head'"
     ]
    }
   ],
   "source": [
    "postcodes_by_state = dict((\n",
    "    ('Australian Capital Territory', set(range(2600, 2620)) | set(range(2900, 2920))),\n",
    "    ('New South Wales', set(range(2000, 3000)) - set(range(2600, 2620)) - set(range(2900, 2920))),\n",
    "    ('Victoria', set(range(3000, 4000))),\n",
    "    ('Queensland', set(range(4000, 5000))),\n",
    "    ('South Australia', set(range(5000, 5800))),\n",
    "    ('Western Australia', set(range(6000, 6798))),\n",
    "    ('Tasmania', set(range(7000, 7800))),\n",
    "    ('Northern Territory', set(range(800, 900)))\n",
    "))\n",
    "\n",
    "#print(postcodes_by_state)"
   ]
  },
  {
   "cell_type": "markdown",
   "metadata": {},
   "source": [
    "### State populations\n",
    "\n",
    "We will start by using state populations as a proxy for really knowing the proportion of mail sent to each postcode.\n",
    "\n",
    "(If we obtain more data, we can update and improve our model by applying Bayes' theorem later.)"
   ]
  },
  {
   "cell_type": "code",
   "execution_count": 2,
   "metadata": {
    "attributes": {
     "classes": [],
     "id": "",
     "n": "5"
    }
   },
   "outputs": [],
   "source": [
    "import pandas as pd\n",
    "\n",
    "state_populations = pd.read_hdf('data/aus_state_populations.h5')"
   ]
  },
  {
   "cell_type": "code",
   "execution_count": 3,
   "metadata": {
    "attributes": {
     "classes": [],
     "id": "",
     "n": "6"
    }
   },
   "outputs": [
    {
     "data": {
      "text/html": [
       "<div>\n",
       "<style scoped>\n",
       "    .dataframe tbody tr th:only-of-type {\n",
       "        vertical-align: middle;\n",
       "    }\n",
       "\n",
       "    .dataframe tbody tr th {\n",
       "        vertical-align: top;\n",
       "    }\n",
       "\n",
       "    .dataframe thead th {\n",
       "        text-align: right;\n",
       "    }\n",
       "</style>\n",
       "<table border=\"1\" class=\"dataframe\">\n",
       "  <thead>\n",
       "    <tr style=\"text-align: right;\">\n",
       "      <th></th>\n",
       "      <th>Population</th>\n",
       "      <th>%</th>\n",
       "    </tr>\n",
       "    <tr>\n",
       "      <th>State</th>\n",
       "      <th></th>\n",
       "      <th></th>\n",
       "    </tr>\n",
       "  </thead>\n",
       "  <tbody>\n",
       "    <tr>\n",
       "      <th>New South Wales</th>\n",
       "      <td>7757843</td>\n",
       "      <td>32.0</td>\n",
       "    </tr>\n",
       "    <tr>\n",
       "      <th>Victoria</th>\n",
       "      <td>6100877</td>\n",
       "      <td>25.2</td>\n",
       "    </tr>\n",
       "    <tr>\n",
       "      <th>Queensland</th>\n",
       "      <td>4860448</td>\n",
       "      <td>20.1</td>\n",
       "    </tr>\n",
       "    <tr>\n",
       "      <th>South Australia</th>\n",
       "      <td>1710804</td>\n",
       "      <td>7.1</td>\n",
       "    </tr>\n",
       "    <tr>\n",
       "      <th>Western Australia</th>\n",
       "      <td>2623164</td>\n",
       "      <td>10.8</td>\n",
       "    </tr>\n",
       "    <tr>\n",
       "      <th>Tasmania</th>\n",
       "      <td>519783</td>\n",
       "      <td>2.1</td>\n",
       "    </tr>\n",
       "    <tr>\n",
       "      <th>Northern Territory</th>\n",
       "      <td>245657</td>\n",
       "      <td>1.0</td>\n",
       "    </tr>\n",
       "    <tr>\n",
       "      <th>Australian Capital Territory</th>\n",
       "      <td>398349</td>\n",
       "      <td>1.6</td>\n",
       "    </tr>\n",
       "  </tbody>\n",
       "</table>\n",
       "</div>"
      ],
      "text/plain": [
       "                              Population     %\n",
       "State                                         \n",
       "New South Wales                  7757843  32.0\n",
       "Victoria                         6100877  25.2\n",
       "Queensland                       4860448  20.1\n",
       "South Australia                  1710804   7.1\n",
       "Western Australia                2623164  10.8\n",
       "Tasmania                          519783   2.1\n",
       "Northern Territory                245657   1.0\n",
       "Australian Capital Territory      398349   1.6"
      ]
     },
     "execution_count": 3,
     "metadata": {},
     "output_type": "execute_result"
    }
   ],
   "source": [
    "state_populations"
   ]
  },
  {
   "cell_type": "markdown",
   "metadata": {},
   "source": [
    "These are the desired feature expectations for each state."
   ]
  },
  {
   "cell_type": "code",
   "execution_count": 4,
   "metadata": {
    "attributes": {
     "classes": [],
     "id": "",
     "n": "7"
    }
   },
   "outputs": [],
   "source": [
    "# Source of the data:\n",
    "def fetch_state_populations():\n",
    "    url = 'http://www.ausstats.abs.gov.au/Ausstats/subscriber.nsf/0/D52DEAAFCEDF7B2ACA2580EB00133359/$File/31010do001_201609.xls'\n",
    "\n",
    "    state_pop = pd.read_excel(url, sheetname='Table_8', skiprows=6,\n",
    "                  names=['State', 'Population', '%'])\n",
    "\n",
    "    state_pop.set_index('State', inplace=True)\n",
    "\n",
    "    drop_row_idx = list(state_pop.index).index('Other Territories')\n",
    "\n",
    "    state_pop.drop(state_pop.index[drop_row_idx:], inplace=True)\n",
    "\n",
    "    state_pop['Population'] = state_pop['Population'].astype(int)\n",
    "    # state_pop.to_hdf('state_populations.h5', key='populations')\n",
    "    return state_pop"
   ]
  },
  {
   "cell_type": "markdown",
   "metadata": {},
   "source": [
    "### How to incorporate this?\n",
    "\n",
    "... to model the probability of e.g. $p(\\textrm{postcode}=3122)$?"
   ]
  },
  {
   "cell_type": "code",
   "execution_count": 5,
   "metadata": {
    "attributes": {
     "classes": [],
     "id": "",
     "n": "8"
    }
   },
   "outputs": [],
   "source": [
    "def prior_state(state):\n",
    "    return state_populations['%'].loc[state] / 100"
   ]
  },
  {
   "cell_type": "code",
   "execution_count": 6,
   "metadata": {
    "attributes": {
     "classes": [],
     "id": "",
     "n": "9"
    }
   },
   "outputs": [
    {
     "data": {
      "text/plain": [
       "0.32"
      ]
     },
     "execution_count": 6,
     "metadata": {},
     "output_type": "execute_result"
    }
   ],
   "source": [
    "prior_state('New South Wales')"
   ]
  },
  {
   "cell_type": "markdown",
   "metadata": {},
   "source": [
    "Now we have a prior $p(\\text{state})$.\n",
    "\n",
    "### From the definition of conditional probability:\n",
    "\n",
    "$p(\\textrm{postcode}) = \\sum_{\\textrm{all states}} p(\\textrm{postcode | state}) p(\\textrm{state})$\n",
    "\n",
    "#### Exercise\n",
    "\n",
    "Assuming you have a function `prior_postcode_given_state(postcode, state)`, implement this as a function `prior_postcode(postcode)`.\n",
    "\n",
    "### Solution hint:\n",
    "\n",
    "Iterate over all states in `state_populations.index`.\n",
    "\n",
    "### Solution:\n"
   ]
  },
  {
   "cell_type": "code",
   "execution_count": 7,
   "metadata": {
    "attributes": {
     "classes": [],
     "id": "",
     "n": "10"
    }
   },
   "outputs": [],
   "source": [
    "def prior_postcode(postcode):\n",
    "    p = 0.0\n",
    "    for state in state_populations.index:\n",
    "        p += prior_postcode_given_state(postcode, state) * prior_state(state)\n",
    "    assert p <= 1\n",
    "    return p"
   ]
  },
  {
   "cell_type": "markdown",
   "metadata": {},
   "source": [
    "#### Exercise\n",
    "\n",
    "1. Write the function `prior_postcode_given_state(postcode, state)`.\n",
    "\n",
    "Assume you can assign equal probability to each valid postcode in the corresponding state (or 0 probability for the wrong state).\n",
    "\n",
    "\n",
    "You can test your code by trying these two examples:"
   ]
  },
  {
   "cell_type": "code",
   "execution_count": 10,
   "metadata": {},
   "outputs": [
    {
     "name": "stdout",
     "output_type": "stream",
     "text": [
      "0.000252\n"
     ]
    },
    {
     "data": {
      "text/plain": [
       "0.001"
      ]
     },
     "execution_count": 10,
     "metadata": {},
     "output_type": "execute_result"
    }
   ],
   "source": [
    "def prior_postcode_given_state(postcode, state):\n",
    "\n",
    "    # find postcodes given state key\n",
    "    all_postcodes = postcodes_by_state[state]\n",
    "\n",
    "    # if post code is valid, return probability of 1 in length(all post codes)\n",
    "    if postcode in all_postcodes:\n",
    "        return(1 / len(all_postcodes))\n",
    "    # invalid postcode returns 0\n",
    "    else:\n",
    "        return(0)\n",
    "\n",
    "# probability of postcode\n",
    "print(prior_postcode(3122))\n",
    "\n",
    "# conditional probability of postcode given state\n",
    "prior_postcode_given_state(3122, 'Victoria')"
   ]
  },
  {
   "cell_type": "markdown",
   "metadata": {},
   "source": [
    "*For solutions, see `solutions/prior_postcode_given_state.py`*"
   ]
  },
  {
   "cell_type": "code",
   "execution_count": 11,
   "metadata": {},
   "outputs": [],
   "source": [
    "%run -i solutions/prior_postcode_given_state.py"
   ]
  },
  {
   "cell_type": "markdown",
   "metadata": {},
   "source": [
    "### What did we do?\n",
    "\n",
    "We informally constructed a prior model that was as **flat** (uninformative) as possible **subject to a constraint** that the proportion of mail being delivered to a postcode is equal to the state's population, divided by the number of postcodes for that state.\n",
    "\n",
    "### Consider now: how would you update the model to reflect that ...\n",
    "\n",
    "1. 25% of all mail goes to one of the CBD postcodes; and\n",
    "2. Within each state xxxx, 80% of mail goes to x0xx and x1xx (metropolitan city areas and suburbs)?\n",
    "\n",
    "### Maximum entropy models: the easy way\n",
    "\n",
    "Here we see how to derive such prior models in a more systematic and principled way using the `maxentropy` package.\n",
    "\n",
    "You can install it like this:\n",
    "```\n",
    "pip install maxentropy\n",
    "```\n",
    "\n",
    "**Step 1: Set up the domain (or \"sample space\")**"
   ]
  },
  {
   "cell_type": "code",
   "execution_count": 12,
   "metadata": {
    "attributes": {
     "classes": [],
     "id": "",
     "n": "16"
    }
   },
   "outputs": [],
   "source": [
    "import numpy as np\n",
    "samplespace = np.arange(10000, dtype=np.uint16)"
   ]
  },
  {
   "cell_type": "code",
   "execution_count": 13,
   "metadata": {
    "attributes": {
     "classes": [],
     "id": "",
     "n": "17"
    }
   },
   "outputs": [
    {
     "data": {
      "text/plain": [
       "array([   0,    1,    2, ..., 9997, 9998, 9999], dtype=uint16)"
      ]
     },
     "execution_count": 13,
     "metadata": {},
     "output_type": "execute_result"
    }
   ],
   "source": [
    "samplespace"
   ]
  },
  {
   "cell_type": "markdown",
   "metadata": {},
   "source": [
    "**Step 2: Set up a list of feature functions whose expectations you want to constrain**"
   ]
  },
  {
   "cell_type": "code",
   "execution_count": 14,
   "metadata": {
    "attributes": {
     "classes": [],
     "id": "",
     "n": "18"
    }
   },
   "outputs": [],
   "source": [
    "def is_valid(postcodes):\n",
    "    return [200 <= postcode < 10000 for postcode in postcodes]"
   ]
  },
  {
   "cell_type": "code",
   "execution_count": 15,
   "metadata": {
    "attributes": {
     "classes": [],
     "id": "",
     "n": "20"
    }
   },
   "outputs": [],
   "source": [
    "def in_given_state(state):\n",
    "    def in_state(postcodes):\n",
    "        return [postcode in postcodes_by_state[state] for postcode in postcodes]\n",
    "    return in_state"
   ]
  },
  {
   "cell_type": "code",
   "execution_count": 16,
   "metadata": {
    "attributes": {
     "classes": [],
     "id": "",
     "n": "21"
    }
   },
   "outputs": [
    {
     "data": {
      "text/plain": [
       "Index(['New South Wales', 'Victoria', 'Queensland', 'South Australia',\n",
       "       'Western Australia', 'Tasmania', 'Northern Territory',\n",
       "       'Australian Capital Territory'],\n",
       "      dtype='object', name='State')"
      ]
     },
     "execution_count": 16,
     "metadata": {},
     "output_type": "execute_result"
    }
   ],
   "source": [
    "state_populations.index"
   ]
  },
  {
   "cell_type": "code",
   "execution_count": 17,
   "metadata": {
    "attributes": {
     "classes": [],
     "id": "",
     "n": "22"
    }
   },
   "outputs": [],
   "source": [
    "features = [is_valid] + \\\n",
    "           [in_given_state(state) for state in state_populations.index]"
   ]
  },
  {
   "cell_type": "code",
   "execution_count": 18,
   "metadata": {
    "attributes": {
     "classes": [],
     "id": "",
     "n": "23"
    }
   },
   "outputs": [
    {
     "data": {
      "text/plain": [
       "[<function __main__.is_valid(postcodes)>,\n",
       " <function __main__.in_given_state.<locals>.in_state(postcodes)>,\n",
       " <function __main__.in_given_state.<locals>.in_state(postcodes)>,\n",
       " <function __main__.in_given_state.<locals>.in_state(postcodes)>,\n",
       " <function __main__.in_given_state.<locals>.in_state(postcodes)>,\n",
       " <function __main__.in_given_state.<locals>.in_state(postcodes)>,\n",
       " <function __main__.in_given_state.<locals>.in_state(postcodes)>,\n",
       " <function __main__.in_given_state.<locals>.in_state(postcodes)>,\n",
       " <function __main__.in_given_state.<locals>.in_state(postcodes)>]"
      ]
     },
     "execution_count": 18,
     "metadata": {},
     "output_type": "execute_result"
    }
   ],
   "source": [
    "features"
   ]
  },
  {
   "cell_type": "markdown",
   "metadata": {},
   "source": [
    "**Step 3: create a `MinDivergenceModel` object from this list of features and sample space**"
   ]
  },
  {
   "cell_type": "code",
   "execution_count": 19,
   "metadata": {
    "attributes": {
     "classes": [],
     "id": "",
     "n": "25"
    }
   },
   "outputs": [],
   "source": [
    "from maxentropy import MinDivergenceModel\n",
    "\n",
    "model = MinDivergenceModel(features, samplespace, vectorized=True)"
   ]
  },
  {
   "cell_type": "markdown",
   "metadata": {},
   "source": [
    "**Step 4: define your desired array of expected feature function values (one for each feature)**"
   ]
  },
  {
   "cell_type": "code",
   "execution_count": 20,
   "metadata": {
    "attributes": {
     "classes": [],
     "id": "",
     "n": "26"
    }
   },
   "outputs": [
    {
     "data": {
      "text/plain": [
       "State\n",
       "New South Wales                 0.320\n",
       "Victoria                        0.252\n",
       "Queensland                      0.201\n",
       "South Australia                 0.071\n",
       "Western Australia               0.108\n",
       "Tasmania                        0.021\n",
       "Northern Territory              0.010\n",
       "Australian Capital Territory    0.016\n",
       "Name: %, dtype: float64"
      ]
     },
     "execution_count": 20,
     "metadata": {},
     "output_type": "execute_result"
    }
   ],
   "source": [
    "pop = state_populations['%'] / 100\n",
    "pop"
   ]
  },
  {
   "cell_type": "code",
   "execution_count": 21,
   "metadata": {
    "attributes": {
     "classes": [],
     "id": "",
     "n": "27"
    }
   },
   "outputs": [
    {
     "data": {
      "text/plain": [
       "99.9"
      ]
     },
     "execution_count": 21,
     "metadata": {},
     "output_type": "execute_result"
    }
   ],
   "source": [
    "state_populations['%'].sum()"
   ]
  },
  {
   "cell_type": "markdown",
   "metadata": {},
   "source": [
    "(This excludes the other territories, like Norfolk Island. Ignore this for now.)"
   ]
  },
  {
   "cell_type": "code",
   "execution_count": 22,
   "metadata": {
    "attributes": {
     "classes": [],
     "id": "",
     "n": "28"
    }
   },
   "outputs": [],
   "source": [
    "# Target expectations\n",
    "k = np.atleast_2d(np.r_[1, pop.values])"
   ]
  },
  {
   "cell_type": "code",
   "execution_count": 23,
   "metadata": {
    "attributes": {
     "classes": [],
     "id": "",
     "n": "29"
    }
   },
   "outputs": [
    {
     "data": {
      "text/plain": [
       "array([[1.   , 0.32 , 0.252, 0.201, 0.071, 0.108, 0.021, 0.01 , 0.016]])"
      ]
     },
     "execution_count": 23,
     "metadata": {},
     "output_type": "execute_result"
    }
   ],
   "source": [
    "k"
   ]
  },
  {
   "cell_type": "code",
   "execution_count": 24,
   "metadata": {
    "attributes": {
     "classes": [],
     "id": "",
     "n": "30"
    }
   },
   "outputs": [
    {
     "data": {
      "text/plain": [
       "True"
      ]
     },
     "execution_count": 24,
     "metadata": {},
     "output_type": "execute_result"
    }
   ],
   "source": [
    "len(features) == k.shape[1]"
   ]
  },
  {
   "cell_type": "markdown",
   "metadata": {},
   "source": [
    "**Step 5: fit your model under those constraints**"
   ]
  },
  {
   "cell_type": "code",
   "execution_count": null,
   "metadata": {
    "attributes": {
     "classes": [],
     "id": "",
     "n": "31"
    }
   },
   "outputs": [],
   "source": [
    "model.fit(k)"
   ]
  },
  {
   "cell_type": "code",
   "execution_count": 50,
   "metadata": {
    "attributes": {
     "classes": [],
     "id": "",
     "n": "32"
    }
   },
   "outputs": [
    {
     "data": {
      "text/plain": [
       "array([[-1.68397139e-07,  1.76789375e-07, -3.56737769e-07,\n",
       "         1.95550522e-08,  5.82835325e-08,  7.04978328e-08,\n",
       "         9.42427836e-08,  7.65139526e-08,  1.74051289e-07]])"
      ]
     },
     "execution_count": 50,
     "metadata": {},
     "output_type": "execute_result"
    }
   ],
   "source": [
    "model.expectations() - k"
   ]
  },
  {
   "cell_type": "code",
   "execution_count": 51,
   "metadata": {
    "attributes": {
     "classes": [],
     "id": "",
     "n": "33"
    }
   },
   "outputs": [
    {
     "data": {
      "text/plain": [
       "True"
      ]
     },
     "execution_count": 51,
     "metadata": {},
     "output_type": "execute_result"
    }
   ],
   "source": [
    "np.allclose(model.expectations(), k, atol=1e-6)"
   ]
  },
  {
   "cell_type": "markdown",
   "metadata": {},
   "source": [
    "**Result: our fitted prior model is given by `model.probdist()`**"
   ]
  },
  {
   "cell_type": "code",
   "execution_count": 52,
   "metadata": {
    "attributes": {
     "classes": [],
     "id": "",
     "n": "34"
    }
   },
   "outputs": [
    {
     "data": {
      "text/plain": [
       "array([8.41984986e-10, 8.41984986e-10, 8.41984986e-10, ...,\n",
       "       2.32338077e-07, 2.32338077e-07, 2.32338077e-07])"
      ]
     },
     "execution_count": 52,
     "metadata": {},
     "output_type": "execute_result"
    }
   ],
   "source": [
    "model.probdist()"
   ]
  },
  {
   "cell_type": "code",
   "execution_count": 53,
   "metadata": {
    "attributes": {
     "classes": [],
     "id": "",
     "n": "36"
    }
   },
   "outputs": [],
   "source": [
    "assert len(model.probdist() == len(samplespace))"
   ]
  },
  {
   "cell_type": "markdown",
   "metadata": {},
   "source": [
    "We now have a prior probability $\\textrm{prior}(\\textrm{postcode})$ for each 4-digit postcode.\n",
    "\n",
    "### What are the most probable postcodes?\n"
   ]
  },
  {
   "cell_type": "code",
   "execution_count": 54,
   "metadata": {
    "attributes": {
     "classes": [],
     "id": "",
     "n": "37"
    }
   },
   "outputs": [
    {
     "data": {
      "text/plain": [
       "array([2915, 2910, 2917, ...,  128,  127,    0], dtype=int64)"
      ]
     },
     "execution_count": 54,
     "metadata": {},
     "output_type": "execute_result"
    }
   ],
   "source": [
    "p = model.probdist()\n",
    "np.argsort(p)[::-1]"
   ]
  },
  {
   "cell_type": "markdown",
   "metadata": {},
   "source": [
    "### Visualized\n"
   ]
  },
  {
   "cell_type": "code",
   "execution_count": 55,
   "metadata": {
    "attributes": {
     "classes": [],
     "id": "",
     "n": "38"
    }
   },
   "outputs": [],
   "source": [
    "%matplotlib inline\n",
    "import matplotlib.pyplot as plt"
   ]
  },
  {
   "cell_type": "code",
   "execution_count": 56,
   "metadata": {
    "attributes": {
     "classes": [],
     "id": "",
     "n": "39"
    }
   },
   "outputs": [
    {
     "data": {
      "text/plain": [
       "Text(0, 0.5, 'probability')"
      ]
     },
     "execution_count": 56,
     "metadata": {},
     "output_type": "execute_result"
    },
    {
     "data": {
      "image/png": "[encoded data removed]",
      "text/plain": [
       "<Figure size 864x360 with 1 Axes>"
      ]
     },
     "metadata": {
      "needs_background": "light"
     },
     "output_type": "display_data"
    }
   ],
   "source": [
    "fig, axes = plt.subplots(1, figsize=(12, 5))\n",
    "plt.plot(samplespace, p, '.', )\n",
    "axes.set_xlabel('postcode')\n",
    "axes.set_ylabel('probability')"
   ]
  },
  {
   "cell_type": "markdown",
   "metadata": {},
   "source": [
    "#### Exercise incorporating more prior knowledge\n",
    "\n",
    "Now try to incorporate the additional prior knowledge that 40% of all mail\n",
    "goes to the following CBD postcodes:"
   ]
  },
  {
   "cell_type": "code",
   "execution_count": 26,
   "metadata": {
    "attributes": {
     "classes": [],
     "id": "",
     "n": "40"
    }
   },
   "outputs": [],
   "source": [
    "CBD_POSTCODES = {2000, 2001, 3000, 3001, 4000, 4001, 5000, 5001, 6000, 6001}"
   ]
  },
  {
   "cell_type": "code",
   "execution_count": 62,
   "metadata": {},
   "outputs": [
    {
     "name": "stdout",
     "output_type": "stream",
     "text": [
      "10\n",
      "[[1.    0.32  0.252 0.201 0.071 0.108 0.021 0.01  0.016]]\n",
      "[[1.    0.32  0.252 0.201 0.071 0.108 0.021 0.01  0.016 0.4  ]]\n"
     ]
    },
    {
     "data": {
      "text/plain": [
       "[<matplotlib.lines.Line2D at 0x1af3626e740>]"
      ]
     },
     "execution_count": 62,
     "metadata": {},
     "output_type": "execute_result"
    },
    {
     "data": {
      "image/png": "[encoded data removed]",
      "text/plain": [
       "<Figure size 432x288 with 1 Axes>"
      ]
     },
     "metadata": {
      "needs_background": "light"
     },
     "output_type": "display_data"
    }
   ],
   "source": [
    "def in_cbd(postcode):\n",
    "    return [p in CBD_POSTCODES for p in postcode]\n",
    "\n",
    "features2 = features + [in_cbd]\n",
    "print(len(features2))\n",
    "\n",
    "# define new k\n",
    "k = np.array(k)\n",
    "print(k)\n",
    "\n",
    "new_k = np.append(k, [[0.4]], axis = 1)\n",
    "print(new_k)\n",
    "\n",
    "# fit model\n",
    "model = MinDivergenceModel(features2, samplespace, vectorized=True)\n",
    "model.fit(new_k)\n",
    "\n",
    "# plot distribution\n",
    "p = model.probdist()\n",
    "plt.semilogy(samplespace, p)"
   ]
  },
  {
   "cell_type": "markdown",
   "metadata": {},
   "source": [
    "**Solution hint:**\n",
    "1. Define a new feature function `in_cbd(postcode)` and append this to your list of features.\n",
    "2. Add an additional value (0.4) to your array of constraint values of feature expectations.\n",
    "3. Re-create your model passing in your new features.\n",
    "4. Re-fit your model passing in the new constraints."
   ]
  },
  {
   "cell_type": "markdown",
   "metadata": {},
   "source": [
    "*For solutions, see `solutions/representing_prior_information.py`*"
   ]
  },
  {
   "cell_type": "code",
   "execution_count": 33,
   "metadata": {},
   "outputs": [
    {
     "data": {
      "image/png": "[encoded data removed]",
      "text/plain": [
       "<Figure size 864x360 with 1 Axes>"
      ]
     },
     "metadata": {
      "needs_background": "light"
     },
     "output_type": "display_data"
    },
    {
     "data": {
      "image/png": "[encoded data removed]",
      "text/plain": [
       "<Figure size 864x360 with 1 Axes>"
      ]
     },
     "metadata": {
      "needs_background": "light"
     },
     "output_type": "display_data"
    }
   ],
   "source": [
    "%run -i solutions/representing_prior_information.py"
   ]
  },
  {
   "cell_type": "markdown",
   "metadata": {},
   "source": [
    "### More prior knowledge: CBD, inner suburbs, outer suburbs, regional centres\n",
    "\n",
    "Here is an example of how to incorporate this extra information:\n",
    "\n",
    "- Within each state xxxx, 80% of mail goes to x0xx and x1xx (metropolitan city areas and suburbs)."
   ]
  },
  {
   "cell_type": "code",
   "execution_count": 34,
   "metadata": {
    "attributes": {
     "classes": [],
     "id": "",
     "n": "56"
    }
   },
   "outputs": [],
   "source": [
    "def which_ring(postcodes):\n",
    "    \"\"\"\n",
    "    Returns\n",
    "    -------\n",
    "    0 if postcode is x0xx\n",
    "    100 if postcode is x1xx\n",
    "    200 if postcode is x2xx\n",
    "    ... otherwise\n",
    "    \"\"\"\n",
    "    return [postcode % 1000 - postcode % 100 for postcode in postcodes]"
   ]
  },
  {
   "cell_type": "code",
   "execution_count": 35,
   "metadata": {
    "attributes": {
     "classes": [],
     "id": "",
     "n": "57"
    }
   },
   "outputs": [
    {
     "data": {
      "text/plain": [
       "[200, 800, 900, 0, 0, 0, 100]"
      ]
     },
     "execution_count": 35,
     "metadata": {},
     "output_type": "execute_result"
    }
   ],
   "source": [
    "which_ring([1234, 800, 2900, 3000, 2001, 2099, 3122])"
   ]
  },
  {
   "cell_type": "code",
   "execution_count": 36,
   "metadata": {
    "attributes": {
     "classes": [],
     "id": "",
     "n": "58"
    }
   },
   "outputs": [],
   "source": [
    "def in_city_metropolitan_area(postcodes):\n",
    "    return [ring == 0 or ring == 100 for ring in which_ring(postcodes)]"
   ]
  },
  {
   "cell_type": "code",
   "execution_count": 37,
   "metadata": {
    "attributes": {
     "classes": [],
     "id": "",
     "n": "59"
    }
   },
   "outputs": [
    {
     "data": {
      "text/plain": [
       "[True, True, True]"
      ]
     },
     "execution_count": 37,
     "metadata": {},
     "output_type": "execute_result"
    }
   ],
   "source": [
    "in_city_metropolitan_area([3136, 3122, 2001])"
   ]
  },
  {
   "cell_type": "code",
   "execution_count": 38,
   "metadata": {
    "attributes": {
     "classes": [],
     "id": "",
     "n": "60"
    }
   },
   "outputs": [],
   "source": [
    "features3 = features2 + [in_city_metropolitan_area]"
   ]
  },
  {
   "cell_type": "code",
   "execution_count": 39,
   "metadata": {
    "attributes": {
     "classes": [],
     "id": "",
     "n": "61"
    }
   },
   "outputs": [],
   "source": [
    "k3 = np.c_[k2, 0.8]  # k2 comes from your solution to the previous exercises"
   ]
  },
  {
   "cell_type": "code",
   "execution_count": 40,
   "metadata": {},
   "outputs": [
    {
     "data": {
      "text/plain": [
       "array([[1.   , 0.32 , 0.252, 0.201, 0.071, 0.108, 0.021, 0.01 , 0.016,\n",
       "        0.25 , 0.8  ]])"
      ]
     },
     "execution_count": 40,
     "metadata": {},
     "output_type": "execute_result"
    }
   ],
   "source": [
    "k3"
   ]
  },
  {
   "cell_type": "code",
   "execution_count": 41,
   "metadata": {
    "attributes": {
     "classes": [],
     "id": "",
     "n": "62"
    }
   },
   "outputs": [],
   "source": [
    "model3 = MinDivergenceModel(features3, samplespace, vectorized=True)"
   ]
  },
  {
   "cell_type": "code",
   "execution_count": 42,
   "metadata": {
    "attributes": {
     "classes": [],
     "id": "",
     "n": "63"
    }
   },
   "outputs": [],
   "source": [
    "model3.fit(k3);"
   ]
  },
  {
   "cell_type": "code",
   "execution_count": 43,
   "metadata": {
    "attributes": {
     "classes": [],
     "id": "",
     "n": "64"
    }
   },
   "outputs": [
    {
     "data": {
      "text/plain": [
       "True"
      ]
     },
     "execution_count": 43,
     "metadata": {},
     "output_type": "execute_result"
    }
   ],
   "source": [
    "np.allclose(model3.expectations(), k3, atol=1e-5)"
   ]
  },
  {
   "cell_type": "code",
   "execution_count": 44,
   "metadata": {
    "attributes": {
     "classes": [],
     "id": "",
     "n": "65"
    }
   },
   "outputs": [],
   "source": [
    "p3 = model3.probdist()"
   ]
  },
  {
   "cell_type": "code",
   "execution_count": 45,
   "metadata": {
    "attributes": {
     "classes": [],
     "id": "",
     "n": "66"
    }
   },
   "outputs": [
    {
     "data": {
      "text/plain": [
       "Text(0, 0.5, 'probability')"
      ]
     },
     "execution_count": 45,
     "metadata": {},
     "output_type": "execute_result"
    },
    {
     "data": {
      "image/png": "[encoded data removed]",
      "text/plain": [
       "<Figure size 864x360 with 1 Axes>"
      ]
     },
     "metadata": {
      "needs_background": "light"
     },
     "output_type": "display_data"
    }
   ],
   "source": [
    "fig, axes = plt.subplots(1, figsize=(12, 5))\n",
    "plt.semilogy(samplespace, p3, '.', )\n",
    "axes.set_xlabel('postcode')\n",
    "axes.set_ylabel('probability')"
   ]
  },
  {
   "cell_type": "markdown",
   "metadata": {},
   "source": [
    "### Conclusion\n",
    "This prior reflects **precisely** the information we put into the model.\n",
    "\n",
    "No less:\n",
    "- all constraints we placed on it are satisfied;\n",
    "\n",
    "No more:\n",
    "- no additional information is reflected / assumed which we didn't explicitly add. It is as flat as possible (maximal entropy) subject to our constraints."
   ]
  },
  {
   "cell_type": "code",
   "execution_count": 46,
   "metadata": {
    "attributes": {
     "classes": [],
     "id": "",
     "n": "67"
    }
   },
   "outputs": [],
   "source": [
    "np.save('postcode_prior3.npy', p3)"
   ]
  },
  {
   "cell_type": "markdown",
   "metadata": {},
   "source": [
    "### Aside: Demonstration that we cannot tweak `model` to be equivalent to `model2` by adding one constraint (`in_cbd`) and then minimizing KL divergence from `model1`.\n",
    "\n",
    "Let's try it ..."
   ]
  },
  {
   "cell_type": "code",
   "execution_count": 47,
   "metadata": {},
   "outputs": [
    {
     "data": {
      "text/plain": [
       "array([-22.32221447, -22.32221447, -22.32221447, ..., -15.27472916,\n",
       "       -15.27472916, -15.27472916])"
      ]
     },
     "execution_count": 47,
     "metadata": {},
     "output_type": "execute_result"
    }
   ],
   "source": [
    "model.log_probdist()"
   ]
  },
  {
   "cell_type": "code",
   "execution_count": 48,
   "metadata": {},
   "outputs": [
    {
     "data": {
      "text/plain": [
       "array([   0,    1,    2, ..., 9997, 9998, 9999], dtype=uint16)"
      ]
     },
     "execution_count": 48,
     "metadata": {},
     "output_type": "execute_result"
    }
   ],
   "source": [
    "model.samplespace"
   ]
  },
  {
   "cell_type": "code",
   "execution_count": 49,
   "metadata": {},
   "outputs": [],
   "source": [
    "def prior_log_pdf(x):\n",
    "    return model.log_probdist()[x]"
   ]
  },
  {
   "cell_type": "code",
   "execution_count": 50,
   "metadata": {
    "attributes": {
     "classes": [],
     "id": "",
     "n": "125"
    }
   },
   "outputs": [],
   "source": [
    "model4 = MinDivergenceModel([in_cbd], samplespace, prior_log_pdf=prior_log_pdf, vectorized=True)"
   ]
  },
  {
   "cell_type": "code",
   "execution_count": 51,
   "metadata": {
    "attributes": {
     "classes": [],
     "id": "",
     "n": "126"
    }
   },
   "outputs": [],
   "source": [
    "k4 = np.array([0.25], ndmin=2)"
   ]
  },
  {
   "cell_type": "code",
   "execution_count": 52,
   "metadata": {
    "attributes": {
     "classes": [],
     "id": "",
     "n": "129"
    }
   },
   "outputs": [
    {
     "data": {
      "text/plain": [
       "MinDivergenceModel(features=[<function in_cbd at 0x7fe5b4252ee0>],\n",
       "                   prior_log_pdf=<function prior_log_pdf at 0x7fe5b51bcca0>,\n",
       "                   samplespace=array([   0,    1,    2, ..., 9997, 9998, 9999], dtype=uint16),\n",
       "                   vectorized=True)"
      ]
     },
     "execution_count": 52,
     "metadata": {},
     "output_type": "execute_result"
    }
   ],
   "source": [
    "model4.fit(k4)"
   ]
  },
  {
   "cell_type": "code",
   "execution_count": 53,
   "metadata": {
    "attributes": {
     "classes": [],
     "id": "",
     "n": "130"
    }
   },
   "outputs": [
    {
     "data": {
      "text/plain": [
       "array([0.24999999])"
      ]
     },
     "execution_count": 53,
     "metadata": {},
     "output_type": "execute_result"
    }
   ],
   "source": [
    "model4.expectations()"
   ]
  },
  {
   "cell_type": "code",
   "execution_count": 54,
   "metadata": {
    "attributes": {
     "classes": [],
     "id": "",
     "n": "131"
    }
   },
   "outputs": [],
   "source": [
    "p4 = model4.probdist()"
   ]
  },
  {
   "cell_type": "code",
   "execution_count": 55,
   "metadata": {
    "attributes": {
     "classes": [],
     "id": "",
     "n": "132"
    }
   },
   "outputs": [
    {
     "data": {
      "text/plain": [
       "Text(0, 0.5, 'probability')"
      ]
     },
     "execution_count": 55,
     "metadata": {},
     "output_type": "execute_result"
    },
    {
     "data": {
      "image/png": "[encoded data removed]",
      "text/plain": [
       "<Figure size 864x360 with 1 Axes>"
      ]
     },
     "metadata": {
      "needs_background": "light"
     },
     "output_type": "display_data"
    }
   ],
   "source": [
    "fig, axes = plt.subplots(1, figsize=(12, 5))\n",
    "plt.semilogy(samplespace, p4, '.', )\n",
    "axes.set_xlabel('postcode')\n",
    "axes.set_ylabel('probability')"
   ]
  },
  {
   "cell_type": "markdown",
   "metadata": {},
   "source": [
    "The result is different because the process is different. We are no longer asserting the same constraints as before -- we are only asserting one single constraint. So this will in general have higher entropy (be flatter) than the more constrained model."
   ]
  }
 ],
 "metadata": {
  "@webio": {
   "lastCommId": null,
   "lastKernelId": null
  },
  "kernelspec": {
   "display_name": "env",
   "language": "python",
   "name": "python3"
  },
  "language_info": {
   "codemirror_mode": {
    "name": "ipython",
    "version": 3
   },
   "file_extension": ".py",
   "mimetype": "text/x-python",
   "name": "python",
   "nbconvert_exporter": "python",
   "pygments_lexer": "ipython3",
   "version": "3.10.3"
  },
  "vscode": {
   "interpreter": {
    "hash": "e4dc6b0224d27235dec988ead42f740f3c8067d08028a6940d609f8d318d6bb4"
   }
  }
 },
 "nbformat": 4,
 "nbformat_minor": 2
}
