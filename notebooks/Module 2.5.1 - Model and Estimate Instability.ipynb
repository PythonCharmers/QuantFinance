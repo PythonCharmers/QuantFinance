{
 "cells": [
  {
   "cell_type": "markdown",
   "metadata": {},
   "source": [
    "# Introduction to Quantitative Finance\n",
    "\n",
    "Copyright (c) 2019 Python Charmers Pty Ltd, Australia, <https://pythoncharmers.com>. All rights reserved.\n",
    "\n",
    "<img src=\"img/python_charmers_logo.png\" width=\"300\" alt=\"Python Charmers Logo\">\n",
    "\n",
    "Published under the Creative Commons Attribution-NonCommercial 4.0 International (CC BY-NC 4.0) license. See `LICENSE.md` for details.\n",
    "\n",
    "Sponsored by Tibra Global Services, <https://tibra.com>\n",
    "\n",
    "<img src=\"img/tibra_logo.png\" width=\"300\" alt=\"Tibra Logo\">\n",
    "\n",
    "\n",
    "## Module 2.5: Model and Estimate Instability\n",
    "\n",
    "### 2.5.1 Model and Estimate Instability\n",
    "\n",
    "Modelling is inherently a tricky affair, with lots of factors playing into the ability for the model to be *useful*. Normally, useful for prediction.\n",
    "\n",
    "If we consider the following use case:\n",
    "\n",
    "1. We develop and train a statistical model on a set of data, known as the *training data*\n",
    "2. We evaluate the model on a set of data not in the training data, which is the *test* or *evaluation* data\n",
    "3. We use the model for predicting data that was not in either the training or testing set - new data from the real world.\n",
    "\n",
    "A key assumption behind this process being viable is that the process for generating the data stays the same, across the train, test and real world. If those parameters change, then our model is not useful for prediction, regardless of how well it fits the training data.\n",
    "\n",
    "A recent event that has caused controversy is when face recognition systems fail to detect people of colour. Joy Buolamwini is a computer scientist and activist working to ensure facial recognition systems work beyond their training data of \"predominately white males\". You can learn more about her work here: https://www.ajlunited.org/the-coded-gaze\n",
    "\n",
    "<a href=\"https://www.youtube.com/watch?v=162VzSzzoPs\"><img src=\"img/facial_recognition.png\"></a>\n",
    "\n",
    "Without such bias (intended or accidental), it would be rare (perhaps unlucky) for the parameters to change as soon as we switch from evaluation to real world use. For example, your trained quant model may be deployed immediately before a new regulation changes market dynamics dramatically.\n",
    "\n",
    "More likely is that the parameters are constantly changing, with respect to our model. This happens if the model itself underfits the data. That is, the model doesn't adequately understand the process for generating the data.\n",
    "\n",
    "One way to evaluate whether your model is adequately fitting is to check that the parameters are stable when the data changes. One way of performing this would be to split your training data up, train on each split, and then examine the parameters for each:"
   ]
  },
  {
   "cell_type": "code",
   "execution_count": 1,
   "metadata": {},
   "outputs": [],
   "source": [
    "%run setup.ipy"
   ]
  },
  {
   "cell_type": "code",
   "execution_count": 2,
   "metadata": {},
   "outputs": [],
   "source": [
    "x = np.linspace(-20, 20, 100)"
   ]
  },
  {
   "cell_type": "code",
   "execution_count": 3,
   "metadata": {},
   "outputs": [],
   "source": [
    "y = x ** 2 - 2 * x + 5"
   ]
  },
  {
   "cell_type": "code",
   "execution_count": 4,
   "metadata": {},
   "outputs": [
    {
     "data": {
      "text/plain": [
       "[<matplotlib.lines.Line2D at 0x7ff7c78eb9e8>]"
      ]
     },
     "execution_count": 4,
     "metadata": {},
     "output_type": "execute_result"
    },
    {
     "data": {
      "image/png": "[encoded data removed]",
      "text/plain": [
       "<Figure size 432x288 with 1 Axes>"
      ]
     },
     "metadata": {
      "needs_background": "light"
     },
     "output_type": "display_data"
    }
   ],
   "source": [
    "plt.plot(x, y)"
   ]
  },
  {
   "cell_type": "markdown",
   "metadata": {},
   "source": [
    "Here, if we fit a linear regression model, the result will be flat:"
   ]
  },
  {
   "cell_type": "code",
   "execution_count": 5,
   "metadata": {},
   "outputs": [
    {
     "data": {
      "text/plain": [
       "array([ -2.        , 141.02693603])"
      ]
     },
     "execution_count": 5,
     "metadata": {},
     "output_type": "execute_result"
    }
   ],
   "source": [
    "# Using NumPy. You can use statsmodels as well\n",
    "params = np.polyfit(x, y, 1)\n",
    "params"
   ]
  },
  {
   "cell_type": "code",
   "execution_count": 6,
   "metadata": {},
   "outputs": [],
   "source": [
    "y_pred = np.poly1d(params)(x)"
   ]
  },
  {
   "cell_type": "code",
   "execution_count": 7,
   "metadata": {},
   "outputs": [
    {
     "data": {
      "text/plain": [
       "[<matplotlib.lines.Line2D at 0x7ff7c7864160>]"
      ]
     },
     "execution_count": 7,
     "metadata": {},
     "output_type": "execute_result"
    },
    {
     "data": {
      "image/png": "[encoded data removed]",
      "text/plain": [
       "<Figure size 432x288 with 1 Axes>"
      ]
     },
     "metadata": {
      "needs_background": "light"
     },
     "output_type": "display_data"
    }
   ],
   "source": [
    "plt.plot(x, y, 'r-')  # Actual data in red\n",
    "plt.plot(x, y_pred, 'b--')  # Predicted data in blue"
   ]
  },
  {
   "cell_type": "markdown",
   "metadata": {},
   "source": [
    "While this is a contrived and easy to spot example, this type of underfitting can be much harder to see, but still present, in many real world applications.\n",
    "\n",
    "If we suspect we aren't fitting the model correctly (for instance, check the residual plot as we saw in the previous modules), we can fit the model to a subset of the data and compare the models:"
   ]
  },
  {
   "cell_type": "code",
   "execution_count": 8,
   "metadata": {},
   "outputs": [],
   "source": [
    "# Get all the negative values for x\n",
    "x_low = x[x < 0]\n",
    "y_low = y[x < 0]\n",
    "# Get all the positive values for x\n",
    "x_high = x[x >= 0]\n",
    "y_high = y[x >= 0]\n",
    "\n",
    "\n",
    "# Fit model to each\n",
    "params_low = np.polyfit(x_low, y_low, 1)\n",
    "params_high = np.polyfit(x_high, y_high, 1)"
   ]
  },
  {
   "cell_type": "markdown",
   "metadata": {},
   "source": [
    "See how the parameters are drastically different for these two subsets:"
   ]
  },
  {
   "cell_type": "code",
   "execution_count": 9,
   "metadata": {},
   "outputs": [
    {
     "data": {
      "text/plain": [
       "array([-22.2020202 , -63.03387409])"
      ]
     },
     "execution_count": 9,
     "metadata": {},
     "output_type": "execute_result"
    }
   ],
   "source": [
    "params_low"
   ]
  },
  {
   "cell_type": "code",
   "execution_count": 10,
   "metadata": {},
   "outputs": [
    {
     "data": {
      "text/plain": [
       "array([ 18.2020202 , -63.03387409])"
      ]
     },
     "execution_count": 10,
     "metadata": {},
     "output_type": "execute_result"
    }
   ],
   "source": [
    "params_high"
   ]
  },
  {
   "cell_type": "markdown",
   "metadata": {},
   "source": [
    "(Side note: the same y-intercept is simply because our model is symmetrical about the y-axis. If you are unsure about this, see the next figure.)"
   ]
  },
  {
   "cell_type": "code",
   "execution_count": 11,
   "metadata": {},
   "outputs": [
    {
     "data": {
      "image/png": "[encoded data removed]",
      "text/plain": [
       "<Figure size 432x288 with 1 Axes>"
      ]
     },
     "metadata": {
      "needs_background": "light"
     },
     "output_type": "display_data"
    }
   ],
   "source": [
    "plt.plot(x, y, 'r-')  # Actual data in red\n",
    "\n",
    "y_pred_low = np.poly1d(params_low)(x)\n",
    "plt.plot(x, y_pred_low, 'g--')  # Predictions from \"low\" model in green\n",
    "\n",
    "y_pred_high = np.poly1d(params_high)(x)\n",
    "plt.plot(x, y_pred_high, 'k--')  # Predictions from \"high\" model in black\n",
    "\n",
    "plt.title(\"Wildly different!\");"
   ]
  },
  {
   "cell_type": "markdown",
   "metadata": {},
   "source": [
    "Each of these models is a reasonable linear estimator of the area it was asked to fit, however both fail drastically when dealing with the out-of-sample data. If you were to evaluate one line by using the data from the other line, you will get errors that are wildly different from the training data.\n",
    "\n",
    "There are a few methods to help us here. In our example above, we did a split at $x=0$, but it may not always be obvious if or where such a threshold would sit.\n",
    "\n",
    "### Cross Fold Validation\n",
    "\n",
    "A key algorithm for evaluation in statistics, machine learning and artificial intelligence is cross-fold validation (often just \"CV\"). We looked at this process quickly in an exercise in Module 2.3.1.\n",
    "\n",
    "This technique splits the dataset into separate subsets, called \"folds\". Each fold is normally the same size. Where we have $k$ different folds, we refer to the process as $k$-fold cross validation. Normal $k$ values are 3 or 10, but these are just rules of thumb.\n",
    "\n",
    "Given $k$ folds, we do the following loop $k$ times, and each time we use one fold for testing/evaluation, and the rest of the folds for training the data.\n",
    "\n",
    "After repeating that loop, we average the evaluation result (i.e. SSE or accuracy) to present the final version. It would also be possible to report confidence bounds on the process and variance. If your evaluation results have a high amount of variance, it is possible your model is insufficiently modelling the data. It could be underfitting and not capturing enough information. It could be overfitting, and capturing too much information. Other methods of analysis can help with fixing the problem once identified.\n",
    "\n",
    "One type of $k$-fold cross validation is setting $k=n$, where $n$ is the number of samples in your dataset. This is known as \"hold one out cross validation\". In this version, all-but-one data is used for training, and one sample is used for testing. This is very time consuming and normally not better than smaller numbers of folds. In some cases it can be worse, as there is a large variation in the evaluation results.\n",
    "\n",
    "Folds in CV are normally randomly split up from the original data. This is effective, and recommended, for non-time series data, but is not a good idea for time series analysis, especially if you suspect lagged correlation at all. Any time where the position of the data in the dataset may affect its value is problematic.\n",
    "\n",
    "A technique for cross fold validation in time series is the \"evaluation on a rolling forecasting origin\". In this, we iterate $n$ times ($n$ is the number of data points), and at each iteration $i$ we choose the first $i$ points as the training data, and evaluate on the $(i+m)$th point, where $m$ is usually just 1 - so \"the next point\". We then evaluate the model over all these iterations. You may be more interested in the prediction one week after the end of the training set and, as an example, set $m=7$ for daily data.\n"
   ]
  },
  {
   "cell_type": "markdown",
   "metadata": {},
   "source": [
    "#### Exercise\n",
    "\n",
    "1. Compute the training and testing SSE for the parabola example above. Use the lower range as your training data, and the upper range as the testing data. Note the wildly different SSE values between the two sets.\n",
    "2. Test again using a polyfit with degree 2. How does the SSE different change?"
   ]
  },
  {
   "cell_type": "markdown",
   "metadata": {},
   "source": [
    "*For solutions, see `solutions/polyfit.py`*"
   ]
  },
  {
   "cell_type": "markdown",
   "metadata": {},
   "source": [
    "#### Extended Exercise\n",
    "\n",
    "Write a function implementing $m$-step, evaluation on a rolling forecasting origin, cross validation for time series analysis. The input would be your data frame (with a time series index) and the output would be a list of all the folds for the technique. Your function should have the following signature:\n",
    "\n",
    "```python\n",
    "\n",
    "def rolling_forecasting_origin(time_series, m=1):\n",
    "    \"\"\"Performs a rolling forecasting origin with steps of m\n",
    "    \n",
    "    parameters:\n",
    "        time_series: pandas data frame with a time series index\n",
    "        m: positive non-zero integer. 1 by default \n",
    "       \n",
    "    returns:\n",
    "        folds: a list of each of the training and testing folds for pandas.\n",
    "    \"\"\"\n",
    "```\n",
    "\n",
    "If you are very confident with python, have this function be a generator that `yields` the different training and testing sets.\n",
    "\n",
    "If you need an alternate description of the technique, see the diagrams and information at https://robjhyndman.com/hyndsight/tscv/ who implemented this technique in R.\n",
    "\n",
    "As with all large exercises, focus on solving the problem in three distinct steps:\n",
    "\n",
    "1. Get it working. Just get the function call scoped out and the technique doing what it should. Your code becomes useful in this step.\n",
    "2. Get it right. Consider edge cases (like a time series with no data points) and how they are handled. Your code becomes robust in this step, usually with the addition of testing code.\n",
    "3. Make it fast. Only after completing the above steps do you optimise your code to try make it fast.\n",
    "\n",
    "Note for this exercise, that the process may take a long time to run, especially for large datasets."
   ]
  },
  {
   "cell_type": "markdown",
   "metadata": {},
   "source": [
    "*For solutions, see `solutions/rolling_forecast.py`*"
   ]
  },
  {
   "cell_type": "markdown",
   "metadata": {},
   "source": [
    "### Checking variance of parameters\n",
    "\n",
    "Once you have your results of fitting many models with cross-fold validation, you can analyse the fitted parameters. First, check for variance. Second, use those parameters to find your finished model.\n",
    "\n",
    "In checking for variance, simply check the spread of the values. High values, particularly if some are negative and some are positive, may be indicative of instability in the model. For this to work, though, you must have independent variables in your dataset. If two variables are highly correlated, you may get cases where the shared weight between the two is consistent, but \"flipping\" from one variable to the other as they both fill the same role in the estimator. \n",
    "\n",
    "If the variance is fine, you can then use the parameters to fit your final model - the one that will be used in practice. There are two approaches to doing this:\n",
    "\n",
    "1. If you are happy with the results, simply fit *the same type* of model on your own dataset, ignoring the features learned during training. Effectively, your training told you \"this model type can learn this data in a stable way\", so you just train the model using as much of the data as you can.\n",
    "2. If you are using the OLS or another Linear model (for instance Logistic Regression or Ridge Regression), the final parameters could just be the average of the parameters from each of the fitted models. This is mathematically sound for some model types, and is what the `scikit-learn` package does, for instance in [LogisticRegressionCV](https://scikit-learn.org/stable/modules/generated/sklearn.linear_model.LogisticRegressionCV.html#sklearn.linear_model.LogisticRegressionCV)\n",
    "\n",
    "\n",
    "### Sample Instability\n",
    "\n",
    "Another approach for checking the stability of the model is to bootstrap sample the training data, fit your model, and compare the variance of parameters over many of these samples. The approach should look familiar to you after previous modules:\n",
    "\n",
    "1. Sample your data to create a sample-with-replacement with the same size as your original training data\n",
    "2. Fit your model and note the parameters\n",
    "3. Repeat steps 1 and 2 many times (if you have the time, do thousands)\n",
    "4. Compute the mean, variance and confidence intervals of the parameters from the many samples\n",
    "\n",
    "If your variance is too high, the model is not stable with respect to your data.\n",
    "\n",
    "If you do get instability here, the likely cause is that your model is underfitting or overfitting the data. This causes the model to adhere to specific characteristics of the model, rather than finding underlying trends in the data. If you are using a simple model, like a basic linear regression, try a more complicated version. If you are using a complicated model, like a neural network, try restricting it or using a simpler model and compare the results."
   ]
  },
  {
   "cell_type": "markdown",
   "metadata": {},
   "source": [
    "### Control Charts\n",
    "\n",
    "Another approach to look for changes in variability in a model (which leads to unstable estimations) is the control chart. A control chart is a simple plot of the data of a single variable over time, but with three extra lines - the mean of the data, the upper control limit (UCL) and the lower control limit (LCL). Normally, the UCL and LCL are three standard deviations from the mean.\n",
    "\n",
    "This idea of a control chart comes from the six sigma process control methodology.\n",
    "\n",
    "<div class=\"alert alert-danger\">\n",
    "    Note that setting the UCL and LCL to three standard deviations is not statistically sound. Normal distributions refer to means of samples, not to individual sample measurements themselves.\n",
    "</div>\n",
    "\n",
    "Let's see a control chart for the AUD/USD exchange rate:"
   ]
  },
  {
   "cell_type": "code",
   "execution_count": 12,
   "metadata": {},
   "outputs": [],
   "source": [
    "import quandl\n",
    "\n",
    "audusd = quandl.get(\"RBA/FXRUSD\")"
   ]
  },
  {
   "cell_type": "code",
   "execution_count": 13,
   "metadata": {},
   "outputs": [],
   "source": [
    "changes = audusd.pct_change()"
   ]
  },
  {
   "cell_type": "code",
   "execution_count": 14,
   "metadata": {},
   "outputs": [
    {
     "data": {
      "text/html": [
       "<div>\n",
       "<style scoped>\n",
       "    .dataframe tbody tr th:only-of-type {\n",
       "        vertical-align: middle;\n",
       "    }\n",
       "\n",
       "    .dataframe tbody tr th {\n",
       "        vertical-align: top;\n",
       "    }\n",
       "\n",
       "    .dataframe thead th {\n",
       "        text-align: right;\n",
       "    }\n",
       "</style>\n",
       "<table border=\"1\" class=\"dataframe\">\n",
       "  <thead>\n",
       "    <tr style=\"text-align: right;\">\n",
       "      <th></th>\n",
       "      <th>Value</th>\n",
       "    </tr>\n",
       "  </thead>\n",
       "  <tbody>\n",
       "    <tr>\n",
       "      <th>count</th>\n",
       "      <td>8921.000000</td>\n",
       "    </tr>\n",
       "    <tr>\n",
       "      <th>mean</th>\n",
       "      <td>-0.000005</td>\n",
       "    </tr>\n",
       "    <tr>\n",
       "      <th>std</th>\n",
       "      <td>0.007178</td>\n",
       "    </tr>\n",
       "    <tr>\n",
       "      <th>min</th>\n",
       "      <td>-0.074449</td>\n",
       "    </tr>\n",
       "    <tr>\n",
       "      <th>25%</th>\n",
       "      <td>-0.003689</td>\n",
       "    </tr>\n",
       "    <tr>\n",
       "      <th>50%</th>\n",
       "      <td>0.000158</td>\n",
       "    </tr>\n",
       "    <tr>\n",
       "      <th>75%</th>\n",
       "      <td>0.003926</td>\n",
       "    </tr>\n",
       "    <tr>\n",
       "      <th>max</th>\n",
       "      <td>0.074184</td>\n",
       "    </tr>\n",
       "  </tbody>\n",
       "</table>\n",
       "</div>"
      ],
      "text/plain": [
       "             Value\n",
       "count  8921.000000\n",
       "mean     -0.000005\n",
       "std       0.007178\n",
       "min      -0.074449\n",
       "25%      -0.003689\n",
       "50%       0.000158\n",
       "75%       0.003926\n",
       "max       0.074184"
      ]
     },
     "execution_count": 14,
     "metadata": {},
     "output_type": "execute_result"
    }
   ],
   "source": [
    "changes.describe()"
   ]
  },
  {
   "cell_type": "code",
   "execution_count": 15,
   "metadata": {},
   "outputs": [],
   "source": [
    "ucl = changes.mean() + 3 * changes.std()\n",
    "lcl = changes.mean() - 3 * changes.std()"
   ]
  },
  {
   "cell_type": "code",
   "execution_count": 16,
   "metadata": {},
   "outputs": [
    {
     "data": {
      "text/plain": [
       "<matplotlib.collections.LineCollection at 0x7ff7c5f71c50>"
      ]
     },
     "execution_count": 16,
     "metadata": {},
     "output_type": "execute_result"
    },
    {
     "data": {
      "image/png": "[encoded data removed]",
      "text/plain": [
       "<Figure size 864x864 with 1 Axes>"
      ]
     },
     "metadata": {
      "needs_background": "light"
     },
     "output_type": "display_data"
    }
   ],
   "source": [
    "fig, ax, = plt.subplots(figsize=(12, 12))\n",
    "changes.plot(ax=ax)\n",
    "ax.hlines([ucl, lcl], xmin=changes.index.min(), xmax=changes.index.max())"
   ]
  },
  {
   "cell_type": "markdown",
   "metadata": {},
   "source": [
    "Here we can see large changes in quite a few times of financial instability, particularly (and perhaps unsurprisingly) around 2008. However note that the limits are defined by the data - there would *always* be values outside these limits (for a reasonably large dataset), because the limits are defined by the standard deviation, and there should be 99.7% of points inside three standard deviations (if the data was normally distributed, which we haven't tested here).\n",
    "\n",
    "That said, control limits like these are good for automation. Some common rules of thumb for limits are to alert that a \"change from normal\" may be present if any of these are true:\n",
    "\n",
    "* A single point is outside the control limit lines\n",
    "* 2 out of 3 consecutive points are outside the control limit lines (a bit more robust to noise)\n",
    "* 10 points in a row are above (or below) the mean line\n",
    "* 5 points in a row are outside two standard deviations.\n",
    "\n",
    "It may be possible to setup automated alerts along these lines. For instance, if you have an automated trading bot, and a control limit is breached, this is indicative that the data is not following the model that you trained on. It may be a good idea to halt trading and investigate what is happening.\n",
    "\n",
    "In addition to charting the raw values (or percentage changes in this case) you could also chart residuals from your linear model, i.e. the difference between the predicted and actual values."
   ]
  },
  {
   "cell_type": "markdown",
   "metadata": {},
   "source": [
    "#### Exercise\n",
    "\n",
    "If you have a subscription to the SGE data set in Quandl, create a control chart on Australian house prices using this dataset: https://www.quandl.com/data/SGE/AUSHOUS-Australia-House-Price-Index\n",
    "\n",
    "If you do not, choose another commodity from Quandl. You can search Free dataset as an option in the Quandl search: https://www.quandl.com/search - the option for \"Free\" is on the left hand set of filters."
   ]
  },
  {
   "cell_type": "markdown",
   "metadata": {},
   "source": [
    "*For solutions, see `solutions/control_charts.py`*"
   ]
  }
 ],
 "metadata": {
  "kernelspec": {
   "display_name": "Python 3",
   "language": "python",
   "name": "python3"
  },
  "language_info": {
   "codemirror_mode": {
    "name": "ipython",
    "version": 3
   },
   "file_extension": ".py",
   "mimetype": "text/x-python",
   "name": "python",
   "nbconvert_exporter": "python",
   "pygments_lexer": "ipython3",
   "version": "3.7.1"
  }
 },
 "nbformat": 4,
 "nbformat_minor": 2
}
