{
 "cells": [
  {
   "cell_type": "markdown",
   "metadata": {},
   "source": [
    "# Introduction to Quantitative Finance\n",
    "\n",
    "Copyright (c) 2019 Python Charmers Pty Ltd, Australia, <https://pythoncharmers.com>. All rights reserved.\n",
    "\n",
    "<img src=\"img/python_charmers_logo.png\" width=\"300\" alt=\"Python Charmers Logo\">\n",
    "\n",
    "Published under the Creative Commons Attribution-NonCommercial 4.0 International (CC BY-NC 4.0) license. See `LICENSE.md` for details.\n",
    "\n",
    "Sponsored by Tibra Global Services, <https://tibra.com>\n",
    "\n",
    "<img src=\"img/tibra_logo.png\" width=\"300\" alt=\"Tibra Logo\">\n",
    "\n",
    "\n",
    "## Module 1.1: Distributions and Random Processes\n",
    "\n",
    "### 1.1.2: Distributions\n",
    "\n",
    "Many real world phenomena can be modelled with random variables, which is particularly useful when we do not have all possible information about a given environment. Consider a die roll, where we throw a die into the air, and see which number is on top.\n",
    "\n",
    "The die has six possible outcomes: 1, 2, 3, 4, 5 and 6, which are the possible states or values. It is impossible* to get a value other than these six distinct possible.\n",
    "\n",
    "<div class=\"alert alert-warning\">\n",
    "    * Some might argue that it would be possible to properly model a die throw and know what the result would be. Whether it is possible is the type of question that keeps physicists up at night, however it almost certainly would be more effort than it's worth.\n",
    "</div>\n",
    "\n",
    "Here is a simulation of a die roll."
   ]
  },
  {
   "cell_type": "code",
   "execution_count": 3,
   "metadata": {},
   "outputs": [
    {
     "data": {
      "text/plain": [
       "4"
      ]
     },
     "execution_count": 3,
     "metadata": {},
     "output_type": "execute_result"
    }
   ],
   "source": [
    "import random\n",
    "\n",
    "possible_states = [1, 2, 3, 4, 5, 6]\n",
    "\n",
    "random.choice(possible_states)"
   ]
  },
  {
   "cell_type": "markdown",
   "metadata": {},
   "source": [
    "If we run this simulation 100,000 times, we can get an *empirical estimate* of the distribution:"
   ]
  },
  {
   "cell_type": "code",
   "execution_count": 4,
   "metadata": {},
   "outputs": [],
   "source": [
    "NUM_TRIALS = 100000\n",
    "\n",
    "results = [random.choice(possible_states) for i in range(NUM_TRIALS)]\n"
   ]
  },
  {
   "cell_type": "code",
   "execution_count": 5,
   "metadata": {},
   "outputs": [
    {
     "data": {
      "text/plain": [
       "Counter({1: 16908, 3: 16509, 4: 16664, 2: 16802, 5: 16473, 6: 16644})"
      ]
     },
     "execution_count": 5,
     "metadata": {},
     "output_type": "execute_result"
    }
   ],
   "source": [
    "from collections import Counter\n",
    "counts = Counter(results)\n",
    "counts"
   ]
  },
  {
   "cell_type": "code",
   "execution_count": 6,
   "metadata": {},
   "outputs": [
    {
     "data": {
      "text/plain": [
       "RendererRegistry.enable('default')"
      ]
     },
     "execution_count": 6,
     "metadata": {},
     "output_type": "execute_result"
    }
   ],
   "source": [
    "import altair as alt\n",
    "import vega\n",
    "alt.renderers.enable('default')  # Setup your environment to show altair plots.  Note this option depends on where you are running your code."
   ]
  },
  {
   "cell_type": "code",
   "execution_count": 7,
   "metadata": {},
   "outputs": [
    {
     "name": "stdout",
     "output_type": "stream",
     "text": [
      "   state  count\n",
      "0      1  16908\n",
      "1      2  16802\n",
      "2      3  16509\n",
      "3      4  16664\n",
      "4      5  16473\n",
      "5      6  16644\n"
     ]
    },
    {
     "data": {
      "text/html": [
       "\n",
       "<div id=\"altair-viz-cec599379c094f3190c7e0ffa62be46c\"></div>\n",
       "<script type=\"text/javascript\">\n",
       "  var VEGA_DEBUG = (typeof VEGA_DEBUG == \"undefined\") ? {} : VEGA_DEBUG;\n",
       "  (function(spec, embedOpt){\n",
       "    let outputDiv = document.currentScript.previousElementSibling;\n",
       "    if (outputDiv.id !== \"altair-viz-cec599379c094f3190c7e0ffa62be46c\") {\n",
       "      outputDiv = document.getElementById(\"altair-viz-cec599379c094f3190c7e0ffa62be46c\");\n",
       "    }\n",
       "    const paths = {\n",
       "      \"vega\": \"https://cdn.jsdelivr.net/npm//vega@5?noext\",\n",
       "      \"vega-lib\": \"https://cdn.jsdelivr.net/npm//vega-lib?noext\",\n",
       "      \"vega-lite\": \"https://cdn.jsdelivr.net/npm//vega-lite@4.17.0?noext\",\n",
       "      \"vega-embed\": \"https://cdn.jsdelivr.net/npm//vega-embed@6?noext\",\n",
       "    };\n",
       "\n",
       "    function maybeLoadScript(lib, version) {\n",
       "      var key = `${lib.replace(\"-\", \"\")}_version`;\n",
       "      return (VEGA_DEBUG[key] == version) ?\n",
       "        Promise.resolve(paths[lib]) :\n",
       "        new Promise(function(resolve, reject) {\n",
       "          var s = document.createElement('script');\n",
       "          document.getElementsByTagName(\"head\")[0].appendChild(s);\n",
       "          s.async = true;\n",
       "          s.onload = () => {\n",
       "            VEGA_DEBUG[key] = version;\n",
       "            return resolve(paths[lib]);\n",
       "          };\n",
       "          s.onerror = () => reject(`Error loading script: ${paths[lib]}`);\n",
       "          s.src = paths[lib];\n",
       "        });\n",
       "    }\n",
       "\n",
       "    function showError(err) {\n",
       "      outputDiv.innerHTML = `<div class=\"error\" style=\"color:red;\">${err}</div>`;\n",
       "      throw err;\n",
       "    }\n",
       "\n",
       "    function displayChart(vegaEmbed) {\n",
       "      vegaEmbed(outputDiv, spec, embedOpt)\n",
       "        .catch(err => showError(`Javascript Error: ${err.message}<br>This usually means there's a typo in your chart specification. See the javascript console for the full traceback.`));\n",
       "    }\n",
       "\n",
       "    if(typeof define === \"function\" && define.amd) {\n",
       "      requirejs.config({paths});\n",
       "      require([\"vega-embed\"], displayChart, err => showError(`Error loading script: ${err.message}`));\n",
       "    } else {\n",
       "      maybeLoadScript(\"vega\", \"5\")\n",
       "        .then(() => maybeLoadScript(\"vega-lite\", \"4.17.0\"))\n",
       "        .then(() => maybeLoadScript(\"vega-embed\", \"6\"))\n",
       "        .catch(showError)\n",
       "        .then(() => displayChart(vegaEmbed));\n",
       "    }\n",
       "  })({\"config\": {\"view\": {\"continuousWidth\": 400, \"continuousHeight\": 300}}, \"data\": {\"name\": \"data-f62ca775fa0367bfb328aab4a2658d7b\"}, \"mark\": \"bar\", \"encoding\": {\"x\": {\"field\": \"state\", \"type\": \"ordinal\"}, \"y\": {\"field\": \"count\", \"type\": \"quantitative\"}}, \"$schema\": \"https://vega.github.io/schema/vega-lite/v4.17.0.json\", \"datasets\": {\"data-f62ca775fa0367bfb328aab4a2658d7b\": [{\"state\": 1, \"count\": 16908}, {\"state\": 2, \"count\": 16802}, {\"state\": 3, \"count\": 16509}, {\"state\": 4, \"count\": 16664}, {\"state\": 5, \"count\": 16473}, {\"state\": 6, \"count\": 16644}]}}, {\"mode\": \"vega-lite\"});\n",
       "</script>"
      ],
      "text/plain": [
       "alt.Chart(...)"
      ]
     },
     "execution_count": 7,
     "metadata": {},
     "output_type": "execute_result"
    }
   ],
   "source": [
    "import pandas as pd\n",
    "\n",
    "die_rolls = pd.DataFrame({\n",
    "    'state': possible_states,\n",
    "    'count': [counts.get(state, 0) for state in possible_states]\n",
    "})\n",
    "\n",
    "print(die_rolls)\n",
    "\n",
    "alt.Chart(die_rolls).mark_bar().encode(\n",
    "    x='state:O',\n",
    "    y='count'\n",
    ")"
   ]
  },
  {
   "cell_type": "markdown",
   "metadata": {},
   "source": [
    "As one might expect with a \"fair\" die roll like this, the estimates are about the same (your results may vary).\n",
    "\n",
    "More formally, we have a random variable $X$ such that the value of $X$ is the result of rolling a fair die. The distribution of $X$ is the following:\n",
    "\n",
    "\n",
    "$\n",
    "\\begin{gather*}\n",
    "  P(X=x) = \\begin{cases}\n",
    "  \\frac{1}{6} & \\text{if $x \\in \\{1,2,3,4,5,6\\}$}\\\\\n",
    "  0 & \\text{otherwise.}\n",
    "  \\end{cases}\n",
    "\\end{gather*}\n",
    "$\n",
    "\n",
    "In this case, all options (at least, the valid ones) have the same likelihood of appearing, and therefore the resulting distribution is known as a *uniform distribution*. Uniform distributions can occur for both discrete and continuous variables.\n",
    "\n",
    "A **discrete** variable is one that takes on a fixed set of values, such as a die roll or the month you were born. They are usually finite (i.e. there is only so many of them), but the requirement is technically that they be *countable*, which allows for infinite discrete values (think of the integers as a discrete infinite random variable).\n",
    "\n",
    "A **continuous** variable is one that can take on an arbitrary value. As an example, the amount of liquid in a cup is continuous. It can be 350ml, or 350.1ml, or 350.1252342ml, or so on, with infinite precision (we will ignore the effect of the Planck constant). \n",
    "\n",
    "Distributions exist for both discrete random variables, as we saw above, and for continuous random variables, however they often behave differently."
   ]
  },
  {
   "cell_type": "code",
   "execution_count": 8,
   "metadata": {},
   "outputs": [
    {
     "data": {
      "text/html": [
       "<!-- Run me, but there is  need to worry about this code - \n",
       "    it makes the equation in the next cell larger and more readable -->\n",
       "<style>\n",
       "    .big_function {font-size: 200%;}\n",
       "</style>\n"
      ],
      "text/plain": [
       "<IPython.core.display.HTML object>"
      ]
     },
     "metadata": {},
     "output_type": "display_data"
    }
   ],
   "source": [
    "%%html\n",
    "<!-- Run me, but there is  need to worry about this code - \n",
    "    it makes the equation in the next cell larger and more readable -->\n",
    "<style>\n",
    "    .big_function {font-size: 200%;}\n",
    "</style>"
   ]
  },
  {
   "attachments": {},
   "cell_type": "markdown",
   "metadata": {},
   "source": [
    "### Normal Distributions\n",
    "Let's create a normal distribution, which is a continuous distribution centred around 0 and with a standard deviation of 1.\n",
    "\n",
    "A normal distribution is the most commonly seen continuous distribution, and the one most people are familiar with. The equation for the graph is:\n",
    "\n",
    "<div class=\"big_function\">\n",
    "    $y = \\frac{1}{\\sqrt{2\\pi\\sigma^2}}e^{-\\frac{(x-\\mu)^2}{2\\sigma^2}}$\n",
    "</div>"
   ]
  },
  {
   "cell_type": "code",
   "execution_count": 12,
   "metadata": {},
   "outputs": [],
   "source": [
    "# Let's plot that out\n",
    "import numpy as np\n",
    "x = np.linspace(-5, 5, 1000)  # 1000 linearly spaced points starting -5 going to 5\n",
    "\n",
    "mean = 0\n",
    "sigma = 1\n",
    "\n",
    "y = (1 / np.sqrt(2 * np.pi * sigma ** 2)) * np.e ** -((x - mean) ** 2) / (2 * sigma ** 2)\n",
    "\n",
    "# Or a bit more nicely laid out...\n",
    "\n",
    "scale_term = (1 / np.sqrt(2 * np.pi * sigma ** 2))\n",
    "exponent_term = ((x - mean) ** 2) / (2 * sigma ** 2)\n",
    "y = scale_term * np.e ** -exponent_term"
   ]
  },
  {
   "cell_type": "code",
   "execution_count": 13,
   "metadata": {},
   "outputs": [
    {
     "data": {
      "image/png": "[encoded data removed]",
      "text/plain": [
       "<Figure size 432x288 with 1 Axes>"
      ]
     },
     "metadata": {
      "needs_background": "light"
     },
     "output_type": "display_data"
    }
   ],
   "source": [
    "from matplotlib import pyplot as plt\n",
    "plt.plot(x, y, \"-\");"
   ]
  },
  {
   "cell_type": "code",
   "execution_count": 14,
   "metadata": {},
   "outputs": [],
   "source": [
    "from scipy import stats"
   ]
  },
  {
   "cell_type": "code",
   "execution_count": 15,
   "metadata": {},
   "outputs": [],
   "source": [
    "n = stats.norm(0, 1)"
   ]
  },
  {
   "cell_type": "code",
   "execution_count": 16,
   "metadata": {},
   "outputs": [
    {
     "data": {
      "text/plain": [
       "array([-0.12412694,  0.78286318, -0.2536435 , -1.07421581, -0.1162626 ,\n",
       "        0.963849  ,  1.15496496,  0.63165475, -0.3517302 ,  1.9828123 ])"
      ]
     },
     "execution_count": 16,
     "metadata": {},
     "output_type": "execute_result"
    }
   ],
   "source": [
    "# Generate 10 random variates from this distribution\n",
    "n.rvs(10)"
   ]
  },
  {
   "cell_type": "code",
   "execution_count": 17,
   "metadata": {},
   "outputs": [],
   "source": [
    "# note that Counter isn't very helpful here. It is *highly* likely that all counts will be 1\n",
    "# regardless of how many values you generate. In fact, it's nearly impossible to get the same value twice.\n",
    "results = n.rvs(10)"
   ]
  },
  {
   "cell_type": "code",
   "execution_count": 18,
   "metadata": {},
   "outputs": [
    {
     "data": {
      "text/plain": [
       "Counter({0.10703127193584497: 1,\n",
       "         0.14236308643132137: 1,\n",
       "         0.5542097050075205: 1,\n",
       "         -0.690753480114846: 1,\n",
       "         -1.1183858165422245: 1,\n",
       "         -1.2827622508167755: 1,\n",
       "         0.1999070306558162: 1,\n",
       "         -1.4312531428899704: 1,\n",
       "         0.6642871661116427: 1,\n",
       "         0.6559095747173593: 1})"
      ]
     },
     "execution_count": 18,
     "metadata": {},
     "output_type": "execute_result"
    }
   ],
   "source": [
    "Counter(results)"
   ]
  },
  {
   "cell_type": "code",
   "execution_count": 19,
   "metadata": {},
   "outputs": [
    {
     "data": {
      "text/html": [
       "\n",
       "<div id=\"altair-viz-e0520d383cc3468cb37f2379ad1573b4\"></div>\n",
       "<script type=\"text/javascript\">\n",
       "  var VEGA_DEBUG = (typeof VEGA_DEBUG == \"undefined\") ? {} : VEGA_DEBUG;\n",
       "  (function(spec, embedOpt){\n",
       "    let outputDiv = document.currentScript.previousElementSibling;\n",
       "    if (outputDiv.id !== \"altair-viz-e0520d383cc3468cb37f2379ad1573b4\") {\n",
       "      outputDiv = document.getElementById(\"altair-viz-e0520d383cc3468cb37f2379ad1573b4\");\n",
       "    }\n",
       "    const paths = {\n",
       "      \"vega\": \"https://cdn.jsdelivr.net/npm//vega@5?noext\",\n",
       "      \"vega-lib\": \"https://cdn.jsdelivr.net/npm//vega-lib?noext\",\n",
       "      \"vega-lite\": \"https://cdn.jsdelivr.net/npm//vega-lite@4.17.0?noext\",\n",
       "      \"vega-embed\": \"https://cdn.jsdelivr.net/npm//vega-embed@6?noext\",\n",
       "    };\n",
       "\n",
       "    function maybeLoadScript(lib, version) {\n",
       "      var key = `${lib.replace(\"-\", \"\")}_version`;\n",
       "      return (VEGA_DEBUG[key] == version) ?\n",
       "        Promise.resolve(paths[lib]) :\n",
       "        new Promise(function(resolve, reject) {\n",
       "          var s = document.createElement('script');\n",
       "          document.getElementsByTagName(\"head\")[0].appendChild(s);\n",
       "          s.async = true;\n",
       "          s.onload = () => {\n",
       "            VEGA_DEBUG[key] = version;\n",
       "            return resolve(paths[lib]);\n",
       "          };\n",
       "          s.onerror = () => reject(`Error loading script: ${paths[lib]}`);\n",
       "          s.src = paths[lib];\n",
       "        });\n",
       "    }\n",
       "\n",
       "    function showError(err) {\n",
       "      outputDiv.innerHTML = `<div class=\"error\" style=\"color:red;\">${err}</div>`;\n",
       "      throw err;\n",
       "    }\n",
       "\n",
       "    function displayChart(vegaEmbed) {\n",
       "      vegaEmbed(outputDiv, spec, embedOpt)\n",
       "        .catch(err => showError(`Javascript Error: ${err.message}<br>This usually means there's a typo in your chart specification. See the javascript console for the full traceback.`));\n",
       "    }\n",
       "\n",
       "    if(typeof define === \"function\" && define.amd) {\n",
       "      requirejs.config({paths});\n",
       "      require([\"vega-embed\"], displayChart, err => showError(`Error loading script: ${err.message}`));\n",
       "    } else {\n",
       "      maybeLoadScript(\"vega\", \"5\")\n",
       "        .then(() => maybeLoadScript(\"vega-lite\", \"4.17.0\"))\n",
       "        .then(() => maybeLoadScript(\"vega-embed\", \"6\"))\n",
       "        .catch(showError)\n",
       "        .then(() => displayChart(vegaEmbed));\n",
       "    }\n",
       "  })({\"config\": {\"view\": {\"continuousWidth\": 400, \"continuousHeight\": 300}}, \"data\": {\"name\": \"data-2aef0e774bd33af97e1dab05d65d6121\"}, \"mark\": \"bar\", \"encoding\": {\"color\": {\"value\": \"#287E1E\"}, \"x\": {\"bin\": {\"maxbins\": 100}, \"field\": \"value\", \"type\": \"quantitative\"}, \"y\": {\"aggregate\": \"count\", \"type\": \"quantitative\"}}, \"$schema\": \"https://vega.github.io/schema/vega-lite/v4.17.0.json\", \"datasets\": {\"data-2aef0e774bd33af97e1dab05d65d6121\": [{\"value\": -1.6386318759684122}, {\"value\": -0.8582311486959374}, {\"value\": -0.5903440397949479}, {\"value\": -1.6503160661248877}, {\"value\": 0.01857024849691058}, {\"value\": 0.6500880501572796}, {\"value\": 0.6416271160069997}, {\"value\": -0.30707732317814185}, {\"value\": -0.7659060177188053}, {\"value\": 0.3631719018794969}, {\"value\": -0.9602105646082241}, {\"value\": 0.35493473018866034}, {\"value\": -0.36264168635657473}, {\"value\": 0.9111643671616019}, {\"value\": -1.0583851499006451}, {\"value\": -1.8120098925507995}, {\"value\": -0.568052730390883}, {\"value\": 0.7495045611894716}, {\"value\": 0.8642254371499114}, {\"value\": 0.7821309720060632}, {\"value\": -1.528572591845549}, {\"value\": 0.3663637277291273}, {\"value\": -0.1866478596395119}, {\"value\": 0.2772984116718932}, {\"value\": 1.4548622463823537}, {\"value\": 1.3253599931471944}, {\"value\": 0.8527243005071984}, {\"value\": -0.46679325537477445}, {\"value\": -0.1892807925294525}, {\"value\": -1.3894482251532556}, {\"value\": 0.37004728718030955}, {\"value\": -0.6244265714071595}, {\"value\": 0.10503516478818418}, {\"value\": -0.3240029228230086}, {\"value\": -0.45730153553020275}, {\"value\": 1.1326897876722601}, {\"value\": -0.7636405815913087}, {\"value\": 1.5401312046180629}, {\"value\": 1.2231553018908423}, {\"value\": 0.3391814855134627}, {\"value\": 0.9520143846298685}, {\"value\": 0.27272800128473257}, {\"value\": -1.3433334599826874}, {\"value\": -0.34298890144115574}, {\"value\": -0.9561414017677321}, {\"value\": -0.3418557959088978}, {\"value\": 1.1893598698036125}, {\"value\": 0.33344678144832074}, {\"value\": 0.1397362286623217}, {\"value\": 1.375186522840578}, {\"value\": -0.35974583670549853}, {\"value\": 0.8057425861739641}, {\"value\": -1.0203931235652164}, {\"value\": -2.6791160122344198}, {\"value\": 0.4234078466508338}, {\"value\": -0.4070642294962865}, {\"value\": 1.5890324485697331}, {\"value\": -0.42556664666746435}, {\"value\": 0.4173845679483693}, {\"value\": 1.2887782479427483}, {\"value\": 0.14577568064960184}, {\"value\": -1.3154044381096264}, {\"value\": 1.0578759532913373}, {\"value\": -0.4100637700387757}, {\"value\": -1.938266554061489}, {\"value\": 0.11740952758611621}, {\"value\": -0.7559769293076529}, {\"value\": -1.4664796094403136}, {\"value\": 0.11187856290959401}, {\"value\": -0.0874375721455765}, {\"value\": 0.6113456749270779}, {\"value\": 0.19322189379429874}, {\"value\": -1.0362569444601566}, {\"value\": 2.029536964547638}, {\"value\": 0.08309959650057683}, {\"value\": -1.468453142918422}, {\"value\": -0.8976655370891335}, {\"value\": 1.6846736435069194}, {\"value\": 0.3613810906583694}, {\"value\": 1.4386355274390286}, {\"value\": -0.7201924068577601}, {\"value\": 2.9521127530052227}, {\"value\": -0.6947546802382202}, {\"value\": 0.1412345754859907}, {\"value\": 0.19253118778117892}, {\"value\": -2.711735282889752}, {\"value\": -1.066903692461535}, {\"value\": 0.24060132165966236}, {\"value\": 0.4874137506937653}, {\"value\": 0.7818314223803501}, {\"value\": -0.01140314260119728}, {\"value\": 0.0773270703846494}, {\"value\": -0.4733105437409691}, {\"value\": -0.01766653382544821}, {\"value\": -0.41753662784694967}, {\"value\": 0.690183570184505}, {\"value\": -1.5597485935467035}, {\"value\": -1.3318952922330518}, {\"value\": -0.42720238419703277}, {\"value\": -1.5606782218934725}, {\"value\": 0.0031577570861718307}, {\"value\": -0.09763810867526572}, {\"value\": -1.9667129791506872}, {\"value\": -1.668503110556785}, {\"value\": -0.2008324023254736}, {\"value\": -0.5153025630222541}, {\"value\": 0.7419462990174136}, {\"value\": 0.008472464009919219}, {\"value\": -2.3138664699524893}, {\"value\": 0.9323655264654561}, {\"value\": 0.0408810344150062}, {\"value\": 0.6260961005946472}, {\"value\": -0.10634396667485554}, {\"value\": -0.6711593157891801}, {\"value\": -0.1841320288380101}, {\"value\": 1.3603481278807734}, {\"value\": 0.1280815208385029}, {\"value\": -1.0723126801567715}, {\"value\": 1.572015959732537}, {\"value\": -1.226742613476238}, {\"value\": 0.35561657570729294}, {\"value\": 0.9644919705489282}, {\"value\": -0.8304407577430682}, {\"value\": -2.3695791513426934}, {\"value\": -0.8581205907796691}, {\"value\": -1.6400565943456937}, {\"value\": 1.3749022652966194}, {\"value\": -0.18915613672986326}, {\"value\": -0.791828274563803}, {\"value\": 0.5042043916342579}, {\"value\": -0.8367997525600599}, {\"value\": -1.610806521390475}, {\"value\": -2.0565425937925332}, {\"value\": 0.5489417608820428}, {\"value\": -1.6350844542163783}, {\"value\": -0.6348907931624006}, {\"value\": 0.7414675623197917}, {\"value\": 0.04023294956783831}, {\"value\": 1.4502355355818533}, {\"value\": 0.5060294283108526}, {\"value\": 0.6677476073795673}, {\"value\": 0.3864171231721719}, {\"value\": -0.348059396697933}, {\"value\": -1.8576360022115788}, {\"value\": 0.3942067270764113}, {\"value\": -0.5780610383947418}, {\"value\": -0.250873897496426}, {\"value\": -2.85873667235128}, {\"value\": 0.15500028706552071}, {\"value\": -0.6947799151798343}, {\"value\": -1.1441756551920221}, {\"value\": -0.05139855605689639}, {\"value\": 1.4733550722246742}, {\"value\": -0.15107438439797682}, {\"value\": -0.7545791170692565}, {\"value\": 0.46458070794804146}, {\"value\": 0.060100050602887034}, {\"value\": 2.1713432022465584}, {\"value\": -0.07235974261481942}, {\"value\": 1.7428720062229155}, {\"value\": 1.8679247226555549}, {\"value\": -0.25872626081017813}, {\"value\": 0.49084148834496044}, {\"value\": -0.3312285140551469}, {\"value\": 0.5365600141265291}, {\"value\": 0.30156692830103704}, {\"value\": -0.3815722546799656}, {\"value\": 1.283373606836391}, {\"value\": 1.2865576714312892}, {\"value\": -1.6065345131616036}, {\"value\": -0.5610184803038986}, {\"value\": -1.8420064601772754}, {\"value\": 0.9625109346733639}, {\"value\": 1.0533982918823495}, {\"value\": 0.46432041609046953}, {\"value\": 1.2819048414085503}, {\"value\": -0.8066445409598364}, {\"value\": 0.12980998795267823}, {\"value\": -0.7873927714061588}, {\"value\": 0.3536224996767456}, {\"value\": 1.0784137848464401}, {\"value\": 1.028797645739351}, {\"value\": -0.4265322049255593}, {\"value\": 1.5018839421656187}, {\"value\": -0.3853863718587438}, {\"value\": 1.7236738999597454}, {\"value\": 1.2115882403164686}, {\"value\": -0.506208638934659}, {\"value\": 1.1896889192195694}, {\"value\": 0.37076930772572353}, {\"value\": 0.5200652932315617}, {\"value\": 2.1662125300242594}, {\"value\": 1.202719894492906}, {\"value\": 0.8199474825015537}, {\"value\": -0.5474604619063823}, {\"value\": -0.5798125264396788}, {\"value\": 0.23381979571536732}, {\"value\": -1.3180327993064394}, {\"value\": -0.6492394379743285}, {\"value\": -1.2687819931871591}, {\"value\": -1.3382869177689196}, {\"value\": 1.1153122392891446}, {\"value\": -0.1127968008984979}, {\"value\": -0.0486102014055431}, {\"value\": -0.03074122974370601}, {\"value\": 0.39798530851086866}, {\"value\": 0.1737316741135489}, {\"value\": -2.206567871644703}, {\"value\": -1.5480915622482696}, {\"value\": -1.6314535783369168}, {\"value\": -0.3102105384717072}, {\"value\": 0.3770078472790076}, {\"value\": -0.2900379278838299}, {\"value\": -0.7229517114597797}, {\"value\": 0.23459933456424104}, {\"value\": -1.0079443577310285}, {\"value\": -0.8549837338749449}, {\"value\": -0.3212674211210275}, {\"value\": 0.03682798592384677}, {\"value\": 0.7869411473270044}, {\"value\": -0.9734533113064072}, {\"value\": -0.512891600155855}, {\"value\": -1.7199071317701955}, {\"value\": 1.6441454993919644}, {\"value\": -1.5912979779756506}, {\"value\": -0.7289809333937741}, {\"value\": -2.4505270180372154}, {\"value\": 0.7318781725608196}, {\"value\": 0.020915337995081718}, {\"value\": 1.3300351542642406}, {\"value\": 0.7763721942771128}, {\"value\": 0.5511689732403372}, {\"value\": 0.19186095588309188}, {\"value\": -0.7121610373310241}, {\"value\": 0.3956407912752009}, {\"value\": 0.0778343589627565}, {\"value\": 0.5368105022250069}, {\"value\": -1.2840625384464233}, {\"value\": 0.4830044234542872}, {\"value\": -0.4414653428667937}, {\"value\": 0.7675792408665022}, {\"value\": -1.3045361532210316}, {\"value\": 0.05124046756704444}, {\"value\": -1.6407824119427783}, {\"value\": 0.7725692282468525}, {\"value\": -0.3785995634444577}, {\"value\": 0.447992612112223}, {\"value\": 2.5735445360317235}, {\"value\": 0.9160681341068945}, {\"value\": -1.1313886908199846}, {\"value\": 0.5574987159535127}, {\"value\": 1.6880730761383147}, {\"value\": -0.07482286456249844}, {\"value\": 1.4361093104752032}, {\"value\": 0.7177127256739972}, {\"value\": 0.6171897895861943}, {\"value\": 0.2784504010777496}, {\"value\": -0.4796824839045273}, {\"value\": -0.5168521877867347}, {\"value\": 1.051876929642127}, {\"value\": -0.7881248094256494}, {\"value\": 1.2541909144989243}, {\"value\": 0.9906069478883284}, {\"value\": -0.4628294024909201}, {\"value\": -0.5416519915968369}, {\"value\": 0.742758482762287}, {\"value\": -1.5447842880468208}, {\"value\": -0.5930585842711084}, {\"value\": 0.2368814200701311}, {\"value\": 0.8775916896341039}, {\"value\": 0.03747144078149368}, {\"value\": -0.24769897699106586}, {\"value\": -0.21862241594729595}, {\"value\": 1.9344481597288345}, {\"value\": 0.24389036431031216}, {\"value\": -1.9484232638288008}, {\"value\": -0.4652260829684661}, {\"value\": -0.47871612738365}, {\"value\": -0.14674197766096353}, {\"value\": 0.3505743399258867}, {\"value\": -1.0996833014731069}, {\"value\": -1.9581460649615496}, {\"value\": -0.2954252739616807}, {\"value\": -2.0198554383316636}, {\"value\": 2.2022106270408077}, {\"value\": 0.8065375875968815}, {\"value\": -1.179696417316964}, {\"value\": 0.06843580403895039}, {\"value\": -1.0570054815679795}, {\"value\": -1.6993602042956115}, {\"value\": -1.676390017912125}, {\"value\": 0.568883418129461}, {\"value\": -0.5028327970549763}, {\"value\": -0.4540569294836765}, {\"value\": 1.3952291175103992}, {\"value\": -1.3633665845991947}, {\"value\": 0.35094776823937784}, {\"value\": -0.49938188738092243}, {\"value\": -1.0406085480823408}, {\"value\": 0.041715684345154144}, {\"value\": 0.4171837900006406}, {\"value\": -1.31788381673853}, {\"value\": 1.6238313022424946}, {\"value\": -0.9146540983460277}, {\"value\": -0.9075123293242814}, {\"value\": 0.9885548801373435}, {\"value\": 0.27618042167780954}, {\"value\": 0.700857938106605}, {\"value\": -1.8289106730697746}, {\"value\": -0.7245725423409445}, {\"value\": -2.099423617849077}, {\"value\": 0.37503001334014996}, {\"value\": 0.20065856070195184}, {\"value\": -0.6827713019872514}, {\"value\": 1.3491938259348661}, {\"value\": 1.5656100423197492}, {\"value\": 2.112305844930854}, {\"value\": -1.768130921029795}, {\"value\": 0.9464056285298202}, {\"value\": -0.013534988675070608}, {\"value\": 1.278930248097632}, {\"value\": -0.3698831479385018}, {\"value\": -2.230455042419993}, {\"value\": -0.6784777700009412}, {\"value\": -0.8326534748502858}, {\"value\": -1.455408879498658}, {\"value\": 1.007941986126983}, {\"value\": -0.9779207881327969}, {\"value\": 0.2994947880928403}, {\"value\": 0.7287058665178289}, {\"value\": -0.8360669710624767}, {\"value\": 0.13071414827039782}, {\"value\": -0.02481824036453511}, {\"value\": -0.009113895219946808}, {\"value\": -0.37810601782958664}, {\"value\": 0.2358087439848885}, {\"value\": 1.3363247792766757}, {\"value\": 0.2572110953246741}, {\"value\": -0.018235907352569806}, {\"value\": 1.1704682588890885}, {\"value\": 0.2548628220723571}, {\"value\": 0.7968726097423995}, {\"value\": 0.649228714167001}, {\"value\": -2.32392113858407}, {\"value\": -0.3875118248006044}, {\"value\": 0.9276661001962319}, {\"value\": -0.14641539812003584}, {\"value\": 1.8594739161465856}, {\"value\": -0.12492080932723404}, {\"value\": -0.7559106083389248}, {\"value\": -1.043767692186462}, {\"value\": 0.04916850130238102}, {\"value\": 0.7775250917206379}, {\"value\": 0.9158457474474699}, {\"value\": 0.4462941153153248}, {\"value\": -0.903568112086625}, {\"value\": -0.5583864100770214}, {\"value\": -0.11239843089711972}, {\"value\": 0.9051019619270165}, {\"value\": 1.732481253398515}, {\"value\": 0.7203592379548849}, {\"value\": 0.1491335583768756}, {\"value\": -0.8220725728213476}, {\"value\": -0.7460158264589277}, {\"value\": 0.18567668272844898}, {\"value\": 1.0751782322375467}, {\"value\": 3.195253959089185}, {\"value\": 0.3542046606475413}, {\"value\": -2.165450263084113}, {\"value\": -0.2810616591874874}, {\"value\": 0.4823502395470091}, {\"value\": 0.7765678947822972}, {\"value\": 0.1671533337426147}, {\"value\": 0.4117809178923616}, {\"value\": -0.6886844346023537}, {\"value\": -0.20236858040693068}, {\"value\": -0.2400153637654394}, {\"value\": -2.1643222015838455}, {\"value\": -0.8674693284081415}, {\"value\": -0.45808470753150954}, {\"value\": -0.6799811102979549}, {\"value\": -1.4988359123604038}, {\"value\": 2.0927762528941622}, {\"value\": -0.32829338406944053}, {\"value\": -0.25463452268433767}, {\"value\": 0.7099408151555011}, {\"value\": 1.1485869138397307}, {\"value\": 1.2976450822662704}, {\"value\": -0.9050833409321425}, {\"value\": 0.10528266781172076}, {\"value\": 1.9106197295241454}, {\"value\": -1.0542769759121302}, {\"value\": -0.7731310742255558}, {\"value\": -0.5911085013344264}, {\"value\": 0.09065400136370333}, {\"value\": -0.3295249052973297}, {\"value\": -0.6415900691238263}, {\"value\": -0.7327552504526376}, {\"value\": 0.6142091170060778}, {\"value\": 0.3851918410118236}, {\"value\": 1.7709977555134384}, {\"value\": -0.3560580007967437}, {\"value\": 2.33129535615892}, {\"value\": -1.0015477993394182}, {\"value\": 0.2687681445223047}, {\"value\": -1.540866741267927}, {\"value\": 1.360025492939809}, {\"value\": 0.4972421810467281}, {\"value\": -1.328410005714676}, {\"value\": -0.044750472923966604}, {\"value\": -1.1095069786889822}, {\"value\": 0.8989312176128738}, {\"value\": -0.4766721568331083}, {\"value\": 2.5550844147162937}, {\"value\": -0.9948456584206368}, {\"value\": -1.0251637600201493}, {\"value\": 0.7885756687225486}, {\"value\": -0.8017938008480382}, {\"value\": 0.6208354526547145}, {\"value\": -0.70335922230589}, {\"value\": -0.6882600910002232}, {\"value\": -2.031613617993628}, {\"value\": -2.541454497605217}, {\"value\": -1.5478812613171673}, {\"value\": -0.9208068138202183}, {\"value\": -1.0160849594718298}, {\"value\": 1.7935614127597639}, {\"value\": 0.23126187801287085}, {\"value\": -0.5853149643701917}, {\"value\": 2.339315224734339}, {\"value\": -0.9467937065309976}, {\"value\": 1.419153448460002}, {\"value\": 1.2443484044581845}, {\"value\": -1.3295468546311737}, {\"value\": 0.22188205852707887}, {\"value\": 0.5626236014193559}, {\"value\": -1.425171471164828}, {\"value\": 3.0895693639679744}, {\"value\": -0.3303105017972889}, {\"value\": 0.31111806120084706}, {\"value\": 0.01758072037484437}, {\"value\": 1.0438060427882934}, {\"value\": 1.090410502775646}, {\"value\": -0.9325213394127837}, {\"value\": 0.6768201036451054}, {\"value\": -0.9198343933261944}, {\"value\": -1.5338680549827257}, {\"value\": 1.6396865963332354}, {\"value\": -0.32016003919015684}, {\"value\": 0.42571830025878343}, {\"value\": -1.162341987051186}, {\"value\": -0.891808503444281}, {\"value\": -1.1547838186026982}, {\"value\": -1.3196650720345953}, {\"value\": 2.0883161214229062}, {\"value\": -0.6462300560211867}, {\"value\": -1.965950062945456}, {\"value\": -0.6568061086725988}, {\"value\": 1.8754562603008342}, {\"value\": -0.5140218909176733}, {\"value\": -0.582750472353526}, {\"value\": 2.5284650615584656}, {\"value\": -0.7227468313351368}, {\"value\": 1.1620870984846259}, {\"value\": 1.7222218760797647}, {\"value\": -0.11162688603139755}, {\"value\": -0.04116857859803759}, {\"value\": -1.4052787384354128}, {\"value\": 1.2140013786626316}, {\"value\": 1.4519537753052998}, {\"value\": -0.5913455372983399}, {\"value\": 1.550732543264009}, {\"value\": -0.6665181921727755}, {\"value\": -0.6962464506436709}, {\"value\": 0.9948232457867945}, {\"value\": -0.7754417710236166}, {\"value\": 0.02001659028346156}, {\"value\": 0.547621286944193}, {\"value\": -0.11316148541256803}, {\"value\": -0.8886801696811075}, {\"value\": -3.286300509949072}, {\"value\": 0.5284199772878775}, {\"value\": -0.6115910658984842}, {\"value\": 0.3360541018023303}, {\"value\": 0.020483776497209463}, {\"value\": -1.8488893678857319}, {\"value\": -0.522784046693792}, {\"value\": -0.48971569860968384}, {\"value\": -1.932056290520448}, {\"value\": 0.6521817047437538}, {\"value\": 0.3437577346084604}, {\"value\": 0.6040977587045011}, {\"value\": -0.3649398683231245}, {\"value\": 0.5900525335638791}, {\"value\": 0.11341486974797621}, {\"value\": -1.453802252454442}, {\"value\": 0.8547341079084608}, {\"value\": 1.2608307525449212}, {\"value\": 0.9806353234128956}, {\"value\": -0.6707151146825605}, {\"value\": -1.3588621684225124}, {\"value\": -0.7253994106604468}, {\"value\": 0.17909137200833186}, {\"value\": -1.7796265261773807}, {\"value\": 0.5402214723767328}, {\"value\": -1.6863292831286154}, {\"value\": 1.2358303973730542}, {\"value\": -0.4828821388698636}, {\"value\": 0.5717105875247357}, {\"value\": -0.17998780309193743}, {\"value\": -0.21086466219472255}, {\"value\": -1.866306459659851}, {\"value\": 0.9972847622070948}, {\"value\": -1.3250947527988806}, {\"value\": -0.48075996112325664}, {\"value\": 1.614645489239678}, {\"value\": 0.0837622547090416}, {\"value\": 0.6252423106236625}, {\"value\": -0.7746581200479807}, {\"value\": -2.3477927467246533}, {\"value\": -0.9304423297551424}, {\"value\": -1.9470467682158605}, {\"value\": -0.15056532646028453}, {\"value\": 0.7926361996090661}, {\"value\": -0.48661277213797377}, {\"value\": 1.278810618356818}, {\"value\": 0.787401501086411}, {\"value\": -0.030890930695240786}, {\"value\": 1.7265320017250465}, {\"value\": -0.8744561717905711}, {\"value\": -0.47934670101923377}, {\"value\": 0.8301639248141042}, {\"value\": 0.6797638037884753}, {\"value\": -0.20960783541226297}, {\"value\": -1.915742050059242}, {\"value\": 1.6324618931457093}, {\"value\": 1.2414381595209363}, {\"value\": -1.2707805349168706}, {\"value\": -1.3424770508223032}, {\"value\": 0.6696563552744206}, {\"value\": 0.20956462030517656}, {\"value\": -0.04858378361923732}, {\"value\": -2.0939026920750488}, {\"value\": -0.19561678890099726}, {\"value\": 0.8386921199582457}, {\"value\": -1.310221161288129}, {\"value\": -1.4909976128435734}, {\"value\": -0.8789473638747388}, {\"value\": -0.583500484593908}, {\"value\": 1.0640513748463614}, {\"value\": 0.024774838373243572}, {\"value\": 0.9574489782479073}, {\"value\": -0.07157791349722532}, {\"value\": -0.5859468632781302}, {\"value\": 0.24689957013842181}, {\"value\": 1.424299166744521}, {\"value\": 0.8176413357737263}, {\"value\": -0.45952638691507997}, {\"value\": -0.879260420596174}, {\"value\": 1.6897376988710229}, {\"value\": -1.5640966217324705}, {\"value\": -0.37996282605593334}, {\"value\": -1.8920572036983379}, {\"value\": 0.4728785523957656}, {\"value\": 1.718461751908934}, {\"value\": 0.04436427271711351}, {\"value\": -0.8024884981279209}, {\"value\": 0.37636536235720613}, {\"value\": -0.4949148267943308}, {\"value\": 3.5972226366177376}, {\"value\": -0.7300970207228294}, {\"value\": -1.0277608958924698}, {\"value\": -0.4565218441752086}, {\"value\": 0.4715078831017226}, {\"value\": 0.2077568452511823}, {\"value\": -0.06906430945962216}, {\"value\": 0.9617210160421449}, {\"value\": -0.3894804879975542}, {\"value\": -0.4590942794984341}, {\"value\": -0.6690408856857374}, {\"value\": -0.009276504557585902}, {\"value\": 2.243619924401951}, {\"value\": 1.967207491118553}, {\"value\": 1.543652749489078}, {\"value\": 1.511549970243366}, {\"value\": -1.1482830203396355}, {\"value\": 0.22994844369798798}, {\"value\": 2.126454683860919}, {\"value\": -0.2159218894444881}, {\"value\": -0.16606413328154432}, {\"value\": -0.7428785761218466}, {\"value\": 0.2448406455713626}, {\"value\": 0.02019455333976709}, {\"value\": 0.37625342609439266}, {\"value\": -0.8502822552330213}, {\"value\": 1.2440404707796864}, {\"value\": 0.043405996871754574}, {\"value\": 0.45821715504443394}, {\"value\": 0.9561742943753505}, {\"value\": -0.17811395374257627}, {\"value\": 0.5153196734127896}, {\"value\": 0.48416276532395}, {\"value\": 0.7480141274220861}, {\"value\": -0.6841595530870995}, {\"value\": -0.40565792155899644}, {\"value\": 0.3023085831798206}, {\"value\": -0.646239902864862}, {\"value\": -0.7741845353522222}, {\"value\": -0.30936043048626}, {\"value\": 0.7405558152472353}, {\"value\": 0.7508167908336348}, {\"value\": 1.0181159789952243}, {\"value\": -0.11667023934008887}, {\"value\": -1.2539729307613596}, {\"value\": 0.026790749288908657}, {\"value\": -0.006109992127250225}, {\"value\": -1.5143321212942764}, {\"value\": 0.7574774357709574}, {\"value\": 0.1886284364092283}, {\"value\": 1.0700115094808265}, {\"value\": -1.0359033490762373}, {\"value\": -0.831458818826584}, {\"value\": -1.3455166619270416}, {\"value\": 1.612483360813637}, {\"value\": 0.18586841207145516}, {\"value\": 0.8573516503203042}, {\"value\": -1.0800519265420598}, {\"value\": -0.6278110556424981}, {\"value\": -0.3352897820530629}, {\"value\": -2.476078076342499}, {\"value\": -0.28512056581914036}, {\"value\": 0.6534790908287735}, {\"value\": -1.6675298210867788}, {\"value\": 0.812254506309158}, {\"value\": -1.3938074851192306}, {\"value\": 0.8348864414133174}, {\"value\": 0.36282823745790566}, {\"value\": -1.1932481351821094}, {\"value\": -0.7749712441669133}, {\"value\": -0.1342339652000509}, {\"value\": 1.1490717488699722}, {\"value\": 0.7214505921469566}, {\"value\": -0.31015342407043595}, {\"value\": 1.494507289808431}, {\"value\": 1.0576766233766979}, {\"value\": -1.4304769547645402}, {\"value\": 0.892402387097838}, {\"value\": 1.4286608121544897}, {\"value\": -1.697143353201832}, {\"value\": -0.717382330339956}, {\"value\": -1.300168953869744}, {\"value\": -2.084439861214476}, {\"value\": -0.38896272240066915}, {\"value\": 0.19264508737638236}, {\"value\": -0.565101312614596}, {\"value\": -0.4178491807552419}, {\"value\": -0.4420816195374646}, {\"value\": -0.1969687851474757}, {\"value\": -1.5481861210780674}, {\"value\": -1.1670271528108904}, {\"value\": -0.258227603579911}, {\"value\": 2.33910317891691}, {\"value\": 0.11101485508947362}, {\"value\": 1.5095996974742638}, {\"value\": -0.8422041308771974}, {\"value\": 0.901972133161331}, {\"value\": 1.071469348241546}, {\"value\": -0.1432256731912834}, {\"value\": -0.7309594176566838}, {\"value\": -0.001853079197506566}, {\"value\": -1.2404070948750352}, {\"value\": -0.3032900332568055}, {\"value\": -0.6060852815537343}, {\"value\": -1.3305346308091326}, {\"value\": -1.3526206210128924}, {\"value\": -1.7943376239896371}, {\"value\": 0.46463665331304044}, {\"value\": -0.7762547991436086}, {\"value\": 0.4307409380657162}, {\"value\": -0.3580959122973152}, {\"value\": -1.3571581110367137}, {\"value\": 0.33533414932973393}, {\"value\": 0.10385230885825789}, {\"value\": 1.5342768596349925}, {\"value\": 1.6638800431544776}, {\"value\": 0.7911136863097615}, {\"value\": -0.6981641749368824}, {\"value\": -0.4619675979321663}, {\"value\": 0.7590681799836144}, {\"value\": -0.3291574257294668}, {\"value\": 0.7903159224081754}, {\"value\": -1.6941053996131323}, {\"value\": 0.32628940172380017}, {\"value\": 0.14698598223636372}, {\"value\": 1.286591429375697}, {\"value\": 0.2894020609817168}, {\"value\": -1.6603818893506834}, {\"value\": 0.7455497882868679}, {\"value\": 1.0017356883990802}, {\"value\": 0.7166567226297306}, {\"value\": 1.0597005431302753}, {\"value\": -0.6412775296526841}, {\"value\": 0.49419623917763655}, {\"value\": 0.08506976925157231}, {\"value\": 0.46968740103766865}, {\"value\": -0.09281630837934737}, {\"value\": 0.4725778727311503}, {\"value\": 0.5863075026847921}, {\"value\": 1.620461101279795}, {\"value\": 0.6649401782183211}, {\"value\": -0.02028155493682511}, {\"value\": -0.33262155934111154}, {\"value\": 0.6232753874209921}, {\"value\": 0.1479072257184481}, {\"value\": 0.1858339200183848}, {\"value\": -0.9898419346828655}, {\"value\": -0.34259285017733265}, {\"value\": -0.140300142267752}, {\"value\": -1.430959752465697}, {\"value\": -0.1235174577095232}, {\"value\": -0.19223685340985874}, {\"value\": -1.6286274850332731}, {\"value\": 1.0055387012699009}, {\"value\": -1.493101329636444}, {\"value\": 0.1464854016397401}, {\"value\": 1.0361208474842833}, {\"value\": 0.23219645624963997}, {\"value\": 1.5450311957502643}, {\"value\": -0.10430965942045045}, {\"value\": 0.31853170372134615}, {\"value\": -0.2880348623580661}, {\"value\": 0.36045104087804825}, {\"value\": 0.19627471510338027}, {\"value\": 0.29547778860995905}, {\"value\": -1.8063887379996735}, {\"value\": -0.3345270259317353}, {\"value\": -0.8122871328075938}, {\"value\": -0.5070809955515898}, {\"value\": 0.02038738008173534}, {\"value\": 1.6091253814365276}, {\"value\": -1.0234810225254725}, {\"value\": 0.5230163221978482}, {\"value\": 1.4065890730841877}, {\"value\": 0.04973851499348846}, {\"value\": 0.4689800360943575}, {\"value\": 0.5096644474149166}, {\"value\": -0.23489491346448121}, {\"value\": -2.4071610942415056}, {\"value\": 1.4658859257157715}, {\"value\": 0.35084851814863277}, {\"value\": 1.0378686835886797}, {\"value\": -0.19544882349207712}, {\"value\": -1.4241048965707677}, {\"value\": -0.866976690103131}, {\"value\": 0.08821507738888208}, {\"value\": -0.08775412114382622}, {\"value\": 0.1680562518089756}, {\"value\": -0.14381336521583085}, {\"value\": -0.7165437635124527}, {\"value\": -0.1189710578383419}, {\"value\": -2.6803866178375504}, {\"value\": 0.17537577040483748}, {\"value\": 0.11168095288152312}, {\"value\": -0.8229529733287609}, {\"value\": 0.4277515252612982}, {\"value\": 2.0337911221346188}, {\"value\": -0.004457156215799074}, {\"value\": -0.6099856609797111}, {\"value\": -0.26442398842502596}, {\"value\": 1.449919601716791}, {\"value\": -0.722953890009425}, {\"value\": -0.010012363837811716}, {\"value\": -0.07875587094984574}, {\"value\": 0.1482799285240697}, {\"value\": -0.2588328041538073}, {\"value\": 0.9423312830476298}, {\"value\": 0.25352165943211225}, {\"value\": -1.1114854812960122}, {\"value\": 1.0912098551863905}, {\"value\": -1.349781313131527}, {\"value\": -1.8415284051272807}, {\"value\": -0.03277353324993534}, {\"value\": -2.093952181005199}, {\"value\": -0.4920283972647945}, {\"value\": 0.1630974171110432}, {\"value\": 0.5071330434143517}, {\"value\": -2.1323114797523948}, {\"value\": -2.4276091364770864}, {\"value\": 1.0190409349954272}, {\"value\": 0.12087312395161134}, {\"value\": 0.2829283931273232}, {\"value\": -1.268384189132122}, {\"value\": -0.5984552126885841}, {\"value\": -0.6036531855940097}, {\"value\": 0.8855268091810007}, {\"value\": 0.008758116435975651}, {\"value\": 1.1065615044799275}, {\"value\": -0.21842800279740407}, {\"value\": 0.5453472004455324}, {\"value\": 0.23046323105820762}, {\"value\": -1.3281937536957649}, {\"value\": -0.9364300403007595}, {\"value\": 1.5184412823357611}, {\"value\": 0.6937312296190539}, {\"value\": -1.0637590507946522}, {\"value\": -0.18094217907181107}, {\"value\": 1.1491769952658721}, {\"value\": 1.515015524309542}, {\"value\": -1.1315401547563215}, {\"value\": 0.3813956107645134}, {\"value\": -0.22262582152978436}, {\"value\": -0.08419156650987455}, {\"value\": -0.18401888296304875}, {\"value\": 0.5049575767138299}, {\"value\": 0.22497484487376976}, {\"value\": -1.049087980162189}, {\"value\": 0.15311861225014817}, {\"value\": 0.0857990984807438}, {\"value\": 1.6764082945095773}, {\"value\": -0.8980616445873916}, {\"value\": 1.894958934186383}, {\"value\": 1.1925252019936048}, {\"value\": -1.3706497292815016}, {\"value\": -0.1908899737867903}, {\"value\": -0.5165561967082148}, {\"value\": 0.29747793245736576}, {\"value\": -0.27985273659463844}, {\"value\": 0.9987352463108927}, {\"value\": -1.0964508407349192}, {\"value\": -0.9339959567443386}, {\"value\": 0.7303766803461309}, {\"value\": 0.5288991113783991}, {\"value\": 0.9062572308381686}, {\"value\": -0.25640019676211284}, {\"value\": 0.03645807595076123}, {\"value\": 1.7019588410608015}, {\"value\": -0.371179428620074}, {\"value\": -0.827900887244264}, {\"value\": 0.504589158464441}, {\"value\": 0.5658803499432709}, {\"value\": -0.4051049302274087}, {\"value\": 0.7237298693009943}, {\"value\": 0.3756221511939003}, {\"value\": 0.9649722255200388}, {\"value\": -1.163431103618814}, {\"value\": -1.8149828069484621}, {\"value\": -0.3657904820170773}, {\"value\": -0.18209623192262783}, {\"value\": 0.8335757917203322}, {\"value\": 1.4091839514823863}, {\"value\": -1.2953813698913166}, {\"value\": 0.33905183074646805}, {\"value\": 1.2508720938582534}, {\"value\": 0.5699180842853663}, {\"value\": 0.23304235149270003}, {\"value\": -0.1731134479633622}, {\"value\": 1.060769706842984}, {\"value\": -0.17064870255467554}, {\"value\": -0.9880073372202512}, {\"value\": 0.07640228018724053}, {\"value\": -1.0521514129883374}, {\"value\": 0.5087830987837438}, {\"value\": 0.07479819671649633}, {\"value\": 0.5105333225212567}, {\"value\": -1.7768927145464666}, {\"value\": 1.5040533090964738}, {\"value\": 0.2059322972037823}, {\"value\": -0.13410946102109955}, {\"value\": 1.2615620839768822}, {\"value\": -1.3037438427601216}, {\"value\": -1.3241720752905466}, {\"value\": 2.064988208418588}, {\"value\": -1.2372267656842713}, {\"value\": 1.4450320199997078}, {\"value\": -1.1737961891091153}, {\"value\": -1.7700477956283873}, {\"value\": -1.2566717279636426}, {\"value\": 1.3671650500180916}, {\"value\": 1.3117564349000843}, {\"value\": -0.429640700944646}, {\"value\": -1.456536254355961}, {\"value\": 0.057358205320478084}, {\"value\": -0.0023912092697223187}, {\"value\": -1.3962678161558169}, {\"value\": 2.0978251303129336}, {\"value\": -0.023512189545826814}, {\"value\": 2.1415402695521903}, {\"value\": -0.42229863817506064}, {\"value\": -0.774978776539727}, {\"value\": 0.09516549916756349}, {\"value\": 0.5162489635852766}, {\"value\": 0.8120104246626006}, {\"value\": -0.030003050681026634}, {\"value\": -0.5435606725312894}, {\"value\": -0.2816376085482329}, {\"value\": -1.849033218130185}, {\"value\": -0.21076713995656432}, {\"value\": 0.6711620946075996}, {\"value\": -0.5440432149031628}, {\"value\": 1.2750151021070248}, {\"value\": -0.5928599263748068}, {\"value\": 1.9493191069520819}, {\"value\": 0.663523654426244}, {\"value\": -0.3595997061415778}, {\"value\": -1.875824507765642}, {\"value\": -1.1203345027468226}, {\"value\": 0.9413623046299835}, {\"value\": -0.7617318282746733}, {\"value\": -0.19557092475650809}, {\"value\": 1.031063297165609}, {\"value\": -1.2484761630648082}, {\"value\": 0.7391765127465548}, {\"value\": 0.8996750417349039}, {\"value\": 1.0536786988860536}, {\"value\": -0.8883943916522453}, {\"value\": -0.7729263254090708}, {\"value\": 1.404736931063407}, {\"value\": 0.11669297274851552}, {\"value\": -0.5889368921378714}, {\"value\": -0.9330984039552762}, {\"value\": 0.6197291830710234}, {\"value\": -1.18148885217985}, {\"value\": -0.08159291144363014}, {\"value\": 0.39624550262124364}, {\"value\": -0.35056556238967496}, {\"value\": -0.1577854095504361}, {\"value\": 0.8027462805956513}, {\"value\": 1.2276505980005825}, {\"value\": -1.0040704015869382}, {\"value\": -1.0852840827016825}, {\"value\": 1.5539228820246114}, {\"value\": -1.3350438696719593}, {\"value\": -0.2444755696716622}, {\"value\": -1.6793531665399835}, {\"value\": 0.11747383128775304}, {\"value\": -0.5172492331040935}, {\"value\": -1.7093645229532712}, {\"value\": -0.4823621074996544}, {\"value\": 0.616742565131624}, {\"value\": 0.5635922772902627}, {\"value\": 1.5421494227642134}, {\"value\": 0.2248154192729005}, {\"value\": -0.7974630191074156}, {\"value\": -0.16962669154429075}, {\"value\": 0.9924899388636996}, {\"value\": -0.36154082407335036}, {\"value\": -0.08901849497891169}, {\"value\": 1.1051479741894246}, {\"value\": -0.28860711108323783}, {\"value\": 0.6494945414671917}, {\"value\": 0.6310121663914126}, {\"value\": -0.018990316107043145}, {\"value\": 0.4175827198820108}, {\"value\": -0.32435123339412497}, {\"value\": -0.09157165880775084}, {\"value\": 0.8712253049210953}, {\"value\": 0.47186807846566037}, {\"value\": -0.09848367660774084}, {\"value\": 1.779909314270908}, {\"value\": 0.66826048743634}, {\"value\": -0.3278460024095872}, {\"value\": 0.09662509073637207}, {\"value\": -1.338157560614324}, {\"value\": 0.9894612873550899}, {\"value\": -1.120851942224593}, {\"value\": 0.04565003920135372}, {\"value\": 0.7458311991372111}, {\"value\": 1.14110952731964}, {\"value\": 1.0431003052190173}, {\"value\": 2.9525423776143365}, {\"value\": -0.06675937017219531}, {\"value\": 2.778078308333375}, {\"value\": 0.4175165052272679}, {\"value\": 0.5650340405475887}, {\"value\": -0.794372219070799}, {\"value\": -0.16522774240324936}, {\"value\": 0.4192509654398919}, {\"value\": -1.3449144102064465}, {\"value\": -1.9875980399377695}, {\"value\": 0.6659438841579373}, {\"value\": -0.12769508638450167}, {\"value\": 0.20910772251757667}, {\"value\": 2.035786327361272}, {\"value\": -0.2616255298719089}, {\"value\": -0.771757666759684}, {\"value\": -1.592151337131857}, {\"value\": -0.2998757997994673}, {\"value\": 0.14392576768696838}, {\"value\": -1.616475234556359}, {\"value\": 3.806242207951614}, {\"value\": 0.7707696441198864}, {\"value\": -0.03927551286957013}, {\"value\": 0.5553566755747061}, {\"value\": 1.0631602524343742}, {\"value\": -0.5601206970119471}, {\"value\": 0.26097287997335705}, {\"value\": 1.2384107898787495}, {\"value\": -0.3563573519468984}, {\"value\": -0.5306757839288}, {\"value\": 0.008578771295058745}, {\"value\": -1.1610564055350565}, {\"value\": -1.6441282592025033}, {\"value\": 1.1038391072312028}, {\"value\": -0.06695957043026417}, {\"value\": -0.5611786174224288}, {\"value\": 0.17351727506475548}, {\"value\": 0.35528131269712887}, {\"value\": -0.08608506690131755}, {\"value\": -0.6671882807824414}, {\"value\": 0.2942368872915354}, {\"value\": -0.8320389647592729}, {\"value\": 0.9819358936345958}, {\"value\": -0.6179522908088841}, {\"value\": 0.04307684041153336}, {\"value\": -0.4330774752884486}, {\"value\": -1.7212328507414183}, {\"value\": -1.5952697968837697}, {\"value\": 0.13637610203375086}, {\"value\": 0.4206438906655189}, {\"value\": -0.6141821080539354}, {\"value\": 0.9371851932408788}, {\"value\": -1.8919552386381635}, {\"value\": -1.447600570611269}, {\"value\": 1.2557824462676646}, {\"value\": -0.3832282408194664}, {\"value\": -1.8590086936369246}, {\"value\": 0.03869217220373045}, {\"value\": 1.6233635568625633}, {\"value\": 0.3435604357098517}, {\"value\": 1.4181661227146873}, {\"value\": 0.6598772669914209}, {\"value\": -0.9709777623192662}, {\"value\": -0.8297261844811651}, {\"value\": -0.406119832650959}, {\"value\": -0.15839541589752174}, {\"value\": 1.7040620964347162}, {\"value\": 0.3117853511675775}, {\"value\": -0.23202246310237745}, {\"value\": 0.04398551369190834}, {\"value\": 0.8180906998028155}, {\"value\": -0.7380277657289106}, {\"value\": -0.27134899863592443}, {\"value\": 1.6074169256383595}, {\"value\": -0.5935026181975035}, {\"value\": -0.16340395485571657}, {\"value\": -2.211204555426568}, {\"value\": -0.14958240112997523}, {\"value\": -0.0744401750192651}, {\"value\": 1.395485025965665}, {\"value\": -0.15526269017915637}, {\"value\": -0.7591932263058175}, {\"value\": -0.0661764892654342}, {\"value\": -1.3924674490196058}, {\"value\": -0.05569244891571274}, {\"value\": -1.5604008412848305}, {\"value\": -0.366822781960095}, {\"value\": -0.8353555487445561}, {\"value\": -0.9261750754745248}, {\"value\": 0.6010630056460572}, {\"value\": -0.2997088842115049}, {\"value\": 1.643580112314725}, {\"value\": 0.909703859536334}, {\"value\": 0.7746993564331925}, {\"value\": 1.12327420754996}, {\"value\": -0.3818433378057591}, {\"value\": -0.1799520253175864}, {\"value\": -0.30564894939825715}, {\"value\": -1.0920884292958744}, {\"value\": -1.6403543299713415}, {\"value\": -0.23104589955102725}, {\"value\": 0.6424456061295284}, {\"value\": 0.46896264793350284}, {\"value\": -2.0682573539946474}, {\"value\": 0.8061133809329888}, {\"value\": 0.5087527151674519}, {\"value\": -0.7854331704851573}, {\"value\": 0.3054675933886952}, {\"value\": 0.5645566830279084}, {\"value\": 0.7952023621412571}, {\"value\": -0.9483196597400024}, {\"value\": 1.092698122330226}, {\"value\": 0.5550851851113804}, {\"value\": -0.7985875285717141}, {\"value\": -0.26556070815158284}, {\"value\": 0.9937515533169903}, {\"value\": -0.8042181185796484}, {\"value\": 0.4764378583846301}, {\"value\": -1.9778598019024871}, {\"value\": 0.3455019154411124}, {\"value\": -0.8446232022075812}, {\"value\": 0.4583907788101131}, {\"value\": -0.1831991779210778}, {\"value\": -0.016330276375450873}, {\"value\": 1.8701066378675066}, {\"value\": -0.5698964791716156}, {\"value\": 0.34563004845274437}, {\"value\": -0.28645414131671093}, {\"value\": -0.8309264945535862}, {\"value\": -0.02004885000171181}, {\"value\": -0.6313637209810588}, {\"value\": 0.7221718901713935}, {\"value\": 0.5821953321592066}, {\"value\": -0.7333610277722428}, {\"value\": 0.6632518148015419}, {\"value\": -1.6268375772710013}, {\"value\": -0.4682155474996589}, {\"value\": -0.633807904876488}, {\"value\": 0.11231029848411384}, {\"value\": -0.19811595002834567}, {\"value\": 1.254202692945641}, {\"value\": 0.17773484291834685}, {\"value\": 0.2595791078166946}, {\"value\": -0.050025942324467436}, {\"value\": -0.35431863262295343}, {\"value\": -1.3691428342273764}, {\"value\": -0.7694554845550762}, {\"value\": -0.1344019456732656}, {\"value\": -1.990079151643618}, {\"value\": -0.6246023326382198}, {\"value\": 1.1505394785253817}, {\"value\": 1.9878947482927138}, {\"value\": 1.531920147386583}, {\"value\": -0.9124794208550431}, {\"value\": 1.5313362663578522}, {\"value\": -0.5153780077413068}, {\"value\": -0.12788049825951986}, {\"value\": -0.366195654866239}, {\"value\": 0.29575551503964326}, {\"value\": -1.8376369673540938}, {\"value\": -0.7776642767192353}, {\"value\": -0.14908546777127918}, {\"value\": -0.7742099977390431}, {\"value\": 0.9651222213153632}, {\"value\": -0.32708969066596816}, {\"value\": -0.8800396884161537}, {\"value\": -0.7666423334995466}, {\"value\": 0.3683367002556683}, {\"value\": 1.008837402967191}, {\"value\": 0.974636033667454}, {\"value\": -0.17047779456843098}, {\"value\": -0.7098278695432784}, {\"value\": -0.7378452723962966}, {\"value\": 0.19412566551347968}, {\"value\": -0.44430464606313114}, {\"value\": -1.1522476236867685}, {\"value\": 0.49728850892290977}, {\"value\": 0.1663161210103096}, {\"value\": -1.6208651662610547}, {\"value\": 0.0970641679949635}, {\"value\": 0.8318429135529984}, {\"value\": -0.016764929272652884}, {\"value\": -0.7466618208099685}, {\"value\": -0.31354331423450366}, {\"value\": 1.4345539969768148}, {\"value\": -1.1148307135013626}, {\"value\": 1.770610872388611}, {\"value\": 1.793229693260588}, {\"value\": 0.8129198057493475}, {\"value\": -0.5875675151119262}, {\"value\": -0.6159666352663776}, {\"value\": 1.3233555663206944}, {\"value\": -0.14038874341129495}, {\"value\": 0.15961382139316566}, {\"value\": 1.2626484927262565}, {\"value\": -0.23824584147591957}, {\"value\": 0.7016814601863492}, {\"value\": 1.144452417894279}, {\"value\": 1.2359664361709735}, {\"value\": 0.21306500016549187}, {\"value\": -1.8237899667700883}, {\"value\": -1.771585983135084}, {\"value\": 0.06396097657648339}, {\"value\": 1.272858060364991}, {\"value\": 0.6214735678470864}, {\"value\": -0.5911765895238609}, {\"value\": 0.9168581182578788}, {\"value\": 1.0882292404333822}, {\"value\": 0.3232603060626635}, {\"value\": 0.5238553600617716}, {\"value\": 0.7553315516986744}, {\"value\": -0.8120962237506062}, {\"value\": -0.641858164964924}, {\"value\": -0.32885295031012884}, {\"value\": 0.35285190904732694}, {\"value\": -1.5443486225091938}, {\"value\": -0.276337323718846}, {\"value\": -0.8912530817105615}, {\"value\": 0.09575286089380437}, {\"value\": -1.7214600890800418}, {\"value\": 0.21140032706092318}, {\"value\": -0.5445030086004037}, {\"value\": 0.7814805717094074}, {\"value\": -0.36165805248527294}, {\"value\": -0.12907920100172945}, {\"value\": -0.1930465308779579}, {\"value\": -1.3062923279348777}, {\"value\": -0.9885068382442135}, {\"value\": -1.1799529930981765}, {\"value\": -0.89439021291329}, {\"value\": 2.2185190543805837}, {\"value\": -0.6306835203786167}, {\"value\": 0.48324715597984147}, {\"value\": -0.2175384448417196}, {\"value\": 1.8497318076426592}, {\"value\": 0.5829888748309144}, {\"value\": -0.09098699393884403}, {\"value\": 0.0020034230793119522}, {\"value\": 0.8799563570818419}, {\"value\": 1.704091060256294}, {\"value\": -0.8344183497230283}, {\"value\": 0.2853804938733073}, {\"value\": 0.23705328863750438}, {\"value\": 1.346601965256477}, {\"value\": 0.5876288626374727}, {\"value\": 1.3895533462929854}, {\"value\": 0.3724054108544666}, {\"value\": -1.0462783856161257}, {\"value\": 0.9908698688832306}, {\"value\": -0.6464095622884595}, {\"value\": 0.4097056415670917}, {\"value\": 0.8287719129340971}, {\"value\": -0.002302347719278279}, {\"value\": -1.5124588417047777}, {\"value\": -2.141278095486664}, {\"value\": 1.035586581314208}, {\"value\": -0.028821860467213672}, {\"value\": 1.3143719948598267}, {\"value\": 0.690398879871518}, {\"value\": 0.34106069261830524}, {\"value\": 0.48822569314563724}, {\"value\": 0.46135438883351404}, {\"value\": 0.6570700130932383}, {\"value\": -0.27480340561646827}, {\"value\": -1.085065357966471}, {\"value\": 1.3011480765223857}, {\"value\": 2.463447296994722}, {\"value\": 0.3815394700590447}, {\"value\": 0.3509910233612728}, {\"value\": -0.6895992928990062}, {\"value\": 0.21649104130460822}, {\"value\": 0.34950836716898415}, {\"value\": -1.2235211114473148}, {\"value\": 1.3744745241900156}, {\"value\": -0.6317594166803945}, {\"value\": -0.527910092985255}, {\"value\": -0.056831227543101215}, {\"value\": -0.9156795618605971}, {\"value\": -1.545085791475117}, {\"value\": -0.825679310115707}, {\"value\": -0.30638374258502404}, {\"value\": 0.23729213582734893}, {\"value\": 1.2244757825707002}, {\"value\": 0.19215785795086854}, {\"value\": -0.5594111158018193}, {\"value\": 0.791220401767042}, {\"value\": -0.5541953419495906}, {\"value\": 1.2583450140813408}, {\"value\": -2.131670917056589}, {\"value\": 0.2215613436089119}, {\"value\": 0.4655388815452614}, {\"value\": -0.043982133064317225}, {\"value\": 0.8075182654372862}, {\"value\": -1.8938713531707967}, {\"value\": 0.879913665545948}, {\"value\": 1.2252583428869306}, {\"value\": 0.5878291496269183}, {\"value\": 0.26087598743260515}, {\"value\": 1.076375180714144}, {\"value\": -0.07369544978999701}, {\"value\": -1.5978296111021588}, {\"value\": -2.196734986530562}, {\"value\": -0.13103270862526895}, {\"value\": 1.235051739882211}, {\"value\": 2.5577681073274006}, {\"value\": -0.8279457112376195}, {\"value\": 1.4227925293592052}, {\"value\": 0.36462012179647585}, {\"value\": 0.8246583754249226}, {\"value\": -0.04475099531188192}, {\"value\": -0.20472996800494625}, {\"value\": -0.059074739168307175}, {\"value\": -1.0022532797399673}, {\"value\": -1.5249925161889932}, {\"value\": -0.7030953315011582}, {\"value\": 0.9328554572523953}, {\"value\": 0.8284267264359796}, {\"value\": -1.1361177805722584}, {\"value\": -0.40181127145838164}, {\"value\": 0.19328693590453108}, {\"value\": -0.04481509928448194}, {\"value\": -0.27706104838112966}, {\"value\": 0.6614006649317303}, {\"value\": 0.6822446066395598}, {\"value\": 0.1663897514938777}, {\"value\": -1.0974155119205733}, {\"value\": -0.5883356973845121}, {\"value\": -0.1872751160697424}, {\"value\": -0.43426845310088985}, {\"value\": 0.49654621818204003}, {\"value\": 0.1958927286064481}, {\"value\": -1.1377489965559593}, {\"value\": -1.814875932568129}, {\"value\": 0.712944946443354}, {\"value\": 0.5596405386995523}, {\"value\": -2.767692175411592}, {\"value\": -0.07085726558424434}, {\"value\": -0.3916607516579906}, {\"value\": -0.45932288413994693}, {\"value\": 0.44761269490484146}, {\"value\": -1.2106431319094992}, {\"value\": -0.7028723194743763}, {\"value\": -0.9385371012693243}, {\"value\": 0.3200789233513968}, {\"value\": -1.0290197989469982}, {\"value\": 1.8382727251872728}, {\"value\": 0.04639737930664631}, {\"value\": 2.3426239480751367}, {\"value\": -1.0644252016832791}, {\"value\": -1.5811855990702515}, {\"value\": 2.000688718965604}, {\"value\": 2.029444410505652}, {\"value\": -1.2412008815366882}, {\"value\": 0.47894207361191904}, {\"value\": -0.1594059558494078}, {\"value\": 0.6849869245875801}, {\"value\": 1.0310853448861572}, {\"value\": -0.5255102375863975}, {\"value\": -0.48089316729149845}, {\"value\": 0.03424214220417016}, {\"value\": 0.31448963512413863}, {\"value\": 1.966381206283817}, {\"value\": 1.095086614837159}, {\"value\": 1.6817705724910914}, {\"value\": -1.9430864149500013}, {\"value\": 1.042484560214753}, {\"value\": -1.3961625279047347}, {\"value\": -1.0252677298743231}, {\"value\": -0.9560494838147484}, {\"value\": -0.11305735338783239}, {\"value\": 0.6472387859313614}, {\"value\": -1.761078597059342}, {\"value\": -1.674033361184853}, {\"value\": 0.4640776132661615}, {\"value\": -0.8058851704761041}, {\"value\": 1.3677607990137965}, {\"value\": 0.14853264019429654}, {\"value\": -0.28358049733604207}, {\"value\": -0.7483308594115187}, {\"value\": 0.8886278051356494}, {\"value\": -1.5057320507249004}, {\"value\": 0.27156202255681555}, {\"value\": 1.7054427977747295}, {\"value\": -0.5517002924931114}, {\"value\": -0.22896876073151542}, {\"value\": 0.4634252079382883}, {\"value\": -0.08121664251771167}, {\"value\": -0.14234289180325507}, {\"value\": -0.2438874286979157}, {\"value\": -1.4032333768579939}, {\"value\": 0.9528371421319138}, {\"value\": 0.858505159590074}, {\"value\": -0.35389422534714937}, {\"value\": -0.05299498402813233}, {\"value\": -0.6190024822846137}, {\"value\": 1.5419085412151157}, {\"value\": -0.05720873587080349}, {\"value\": -0.24664502177179534}, {\"value\": 0.9078954117865901}, {\"value\": 0.871618520279708}, {\"value\": 0.424287712616034}, {\"value\": 0.6306334351367183}, {\"value\": 0.07231574981999535}, {\"value\": -1.6534341191341735}, {\"value\": 0.09872262895356819}, {\"value\": -0.5419715885814068}, {\"value\": -1.5705891061242678}, {\"value\": -0.05787438517665673}, {\"value\": 0.5079930033271589}, {\"value\": -0.8107640068716633}, {\"value\": -0.1840896594700277}, {\"value\": 0.10229718060467473}, {\"value\": 0.6137886853812173}, {\"value\": -0.8549561410257425}, {\"value\": -0.6036622628000813}, {\"value\": -0.8380185510909803}, {\"value\": -0.7665218695112334}, {\"value\": 1.0520968499652432}, {\"value\": 0.7186021581313758}, {\"value\": 0.3307694676186608}, {\"value\": 1.186816101974228}, {\"value\": 0.4172100938142177}, {\"value\": -0.7017102720616271}, {\"value\": 0.06583495271287448}, {\"value\": 1.1135855148732705}, {\"value\": 1.003561811518356}, {\"value\": -1.59975076037152}, {\"value\": 1.6047745241386084}, {\"value\": 0.10123976927570777}, {\"value\": -0.7836499026186506}, {\"value\": 1.2079227922867748}, {\"value\": 0.6232700803832988}, {\"value\": -0.5373022998889762}, {\"value\": -2.1131541565416625}, {\"value\": 1.4357995587798573}, {\"value\": -0.2856957598001885}, {\"value\": -0.9145606506800062}, {\"value\": 0.8677052157549372}, {\"value\": -1.3200466591356554}, {\"value\": -0.5265328315406536}, {\"value\": -1.2905318867168274}, {\"value\": -0.41272461851391057}, {\"value\": -0.19759087499023328}, {\"value\": -0.3398488111868875}, {\"value\": -2.0544382161955794}, {\"value\": 1.1329706742544936}, {\"value\": 0.08365815085880626}, {\"value\": -0.06485120858934869}, {\"value\": -0.21950270463047472}, {\"value\": 0.5351489522875292}, {\"value\": -0.4695231213720749}, {\"value\": -2.5672600925318068}, {\"value\": -2.5686832964441715}, {\"value\": 0.3983688559857842}, {\"value\": -0.5336415143928881}, {\"value\": 0.6530611440122439}, {\"value\": 0.9264178056769213}, {\"value\": 1.0070410267345598}, {\"value\": 0.12206066865299123}, {\"value\": 0.46397285975518426}, {\"value\": -1.5087718432051986}, {\"value\": -0.006245637628556695}, {\"value\": 1.6398831539408796}, {\"value\": -0.3398012607543869}, {\"value\": 2.2660483950103703}, {\"value\": -0.5948675512414516}, {\"value\": -2.848273710560524}, {\"value\": 0.24484467739089624}, {\"value\": 2.503157990159595}, {\"value\": -0.4574529155715224}, {\"value\": -0.7930558887521095}, {\"value\": -0.8574701017637198}, {\"value\": 0.0436682501414427}, {\"value\": -0.3694544432109174}, {\"value\": -0.8163935702024167}, {\"value\": 2.009375006698035}, {\"value\": 2.81648478083006}, {\"value\": -0.07359616076064267}, {\"value\": -0.6483672204864077}, {\"value\": 0.06774253135494422}, {\"value\": -0.5197730061564363}, {\"value\": -0.38581228991246513}, {\"value\": -0.023404172096492676}, {\"value\": 0.39955013843989107}, {\"value\": 1.410772889797538}, {\"value\": -0.7927669222468964}, {\"value\": 0.37812126978929356}, {\"value\": 0.34431709282316986}, {\"value\": -0.15124759393533888}, {\"value\": -0.6575051498254454}, {\"value\": -0.822388009904379}, {\"value\": 1.9853344990952724}, {\"value\": 0.4449878569530025}, {\"value\": -2.8155223173221167}, {\"value\": 0.5602775708981944}, {\"value\": 0.7307959799647354}, {\"value\": 0.3901949795455662}, {\"value\": -0.5197444341509714}, {\"value\": 0.14782896455398617}, {\"value\": 0.38607053792860396}, {\"value\": -0.22905516533195058}, {\"value\": 2.139778450035384}, {\"value\": -0.17570757587852542}, {\"value\": 2.5073293626232354}, {\"value\": -0.45063906084431427}, {\"value\": -0.1656362712049129}, {\"value\": -0.7548025642775219}, {\"value\": -1.55448227123952}, {\"value\": 0.3977616331985477}, {\"value\": 1.6128805247740996}, {\"value\": 0.5755009801844392}, {\"value\": -0.7232501921892384}, {\"value\": -1.295325888720597}, {\"value\": 0.8578436105294288}, {\"value\": -1.0768298204754139}, {\"value\": -1.0514497612875757}, {\"value\": 0.45252452730925474}, {\"value\": 0.9247968588182367}, {\"value\": 0.7418844349129955}, {\"value\": 0.5758159319839371}, {\"value\": -1.1217444370539746}, {\"value\": 0.30009941043264415}, {\"value\": -0.8683161927017593}, {\"value\": 0.5773872887285285}, {\"value\": -0.9217704091422924}, {\"value\": -1.5896156696687973}, {\"value\": 0.6694343485469285}, {\"value\": -0.3641030692564994}, {\"value\": -0.9982570754454314}, {\"value\": 1.107389684119095}, {\"value\": -0.4223154504505086}, {\"value\": 0.874944749256296}, {\"value\": -0.9132948672041655}, {\"value\": -0.8755034640356236}, {\"value\": -0.3834193754808333}, {\"value\": 0.1629890538791151}, {\"value\": 0.13305203506599125}, {\"value\": 0.5931783004439344}, {\"value\": -0.5004144613444126}, {\"value\": 0.2388627142039238}, {\"value\": 0.12207788613422052}, {\"value\": -0.4531963199458671}, {\"value\": -0.3132800556302756}, {\"value\": 0.4587058424823912}, {\"value\": 2.368086809802044}, {\"value\": 0.4025954130119874}, {\"value\": 1.7577017870685565}, {\"value\": 0.8075869431031757}, {\"value\": -1.1584418759027377}, {\"value\": -0.4431124955252945}, {\"value\": -0.367683299195823}, {\"value\": 0.2697025597730657}, {\"value\": -0.8249113420558127}, {\"value\": -0.6434635489765341}, {\"value\": 0.20277279218223032}, {\"value\": -0.7109426737439204}, {\"value\": -0.6617282097520949}, {\"value\": 0.9120661936101633}, {\"value\": 0.2742823844755107}, {\"value\": 1.157775270737112}, {\"value\": 0.1657740397014136}, {\"value\": 0.2619214567200902}, {\"value\": -0.277481093199433}, {\"value\": 1.586242024246863}, {\"value\": 2.529388347354021}, {\"value\": -1.0634522796601598}, {\"value\": -1.7895632115678974}, {\"value\": -0.6084420837778416}, {\"value\": 0.7094509178416437}, {\"value\": 1.600906002327772}, {\"value\": 1.5049917489235183}, {\"value\": 0.03461660678333492}, {\"value\": -1.7712943525666538}, {\"value\": 0.15439745379952396}, {\"value\": 0.22648912931146162}, {\"value\": -0.7901368690457725}, {\"value\": -0.6110257200920332}, {\"value\": 0.7634519450743447}, {\"value\": 1.0481342798079423}, {\"value\": 0.15721517696703033}, {\"value\": 0.0643658488421235}, {\"value\": 0.49442587719097514}, {\"value\": 0.8759358024394168}, {\"value\": -1.1293748126098506}, {\"value\": 0.48938596251891087}, {\"value\": 0.7577760981271385}, {\"value\": 0.6496810604486244}, {\"value\": -0.6861702202731254}, {\"value\": 0.06532737363673863}, {\"value\": 0.529353815176682}, {\"value\": -1.251383805562098}, {\"value\": 1.25320930824829}, {\"value\": 0.23190440687560113}, {\"value\": -0.1634090761025702}, {\"value\": 2.0989354900930066}, {\"value\": 0.34777942151611735}, {\"value\": 0.3429168464249521}, {\"value\": 0.3912389280847868}, {\"value\": -0.4248914237492407}, {\"value\": -1.2405129683982534}, {\"value\": -0.7351363649359608}, {\"value\": -1.5178574584617028}, {\"value\": 1.1730089712299447}, {\"value\": 0.2759203571605626}, {\"value\": -0.4425618810028274}, {\"value\": -2.803392723661852}, {\"value\": -0.9728477913969429}, {\"value\": -1.0719879647118342}, {\"value\": -0.20382916747374477}, {\"value\": 1.4956393974691107}, {\"value\": -1.0667734663161388}, {\"value\": -1.1306865664012673}, {\"value\": 1.4958392264427824}, {\"value\": -1.4238595245338892}, {\"value\": -0.6979678002109908}, {\"value\": 0.6314180433780597}, {\"value\": 0.766146395581707}, {\"value\": -1.0764128360694742}, {\"value\": 0.05069920144646859}, {\"value\": 0.06413142105446155}, {\"value\": -0.19446135315315768}, {\"value\": 0.35910626378263377}, {\"value\": 0.5733008608290316}, {\"value\": -0.17019833671699336}, {\"value\": -0.1862532178396128}, {\"value\": 1.4696092523183364}, {\"value\": -1.3890283452845176}, {\"value\": 1.0668659986478242}, {\"value\": -0.4001463051482268}, {\"value\": -0.006341306951422027}, {\"value\": 0.1666474248920957}, {\"value\": 0.4395554942569896}, {\"value\": 0.5923186879234028}, {\"value\": 1.041092520023518}, {\"value\": 0.8202790739635165}, {\"value\": -1.8736763671592078}, {\"value\": -1.0059564916617514}, {\"value\": 0.4877045422476107}, {\"value\": 0.5069434591968118}, {\"value\": -0.697346786734877}, {\"value\": -0.08136211923241117}, {\"value\": -0.7899383034832925}, {\"value\": -0.10797155440127423}, {\"value\": -0.15773614777786232}, {\"value\": -0.46885603631805783}, {\"value\": 0.020049536766691068}, {\"value\": -0.7744201950610062}, {\"value\": -0.6312760169381338}, {\"value\": 0.5383097556939326}, {\"value\": 1.5392286840287583}, {\"value\": 0.006401957338517147}, {\"value\": -0.5283631640033705}, {\"value\": 0.8106870781003708}, {\"value\": -0.3673092037332116}, {\"value\": 0.7896113792610088}, {\"value\": -0.4666774939121179}, {\"value\": -1.6942264837098688}, {\"value\": 2.457493096070839}, {\"value\": 1.442093225624764}, {\"value\": 0.8825156321598995}, {\"value\": 0.4368100795349502}, {\"value\": -1.815882916644493}, {\"value\": 1.203162553158274}, {\"value\": 0.5927923936956916}, {\"value\": -0.4225367733836314}, {\"value\": -1.5366891042871065}, {\"value\": -0.46809371312512277}, {\"value\": -0.13104107124234263}, {\"value\": -0.051075095010214684}, {\"value\": -0.3779162004355513}, {\"value\": -0.21778172129870882}, {\"value\": -0.8400559379092712}, {\"value\": -0.12437535349227287}, {\"value\": -1.2120401583835194}, {\"value\": 0.2320498745129882}, {\"value\": 0.9070924816660854}, {\"value\": -1.021866677859052}, {\"value\": 0.8861683920475634}, {\"value\": 0.2597530224975869}, {\"value\": -0.44882848266487746}, {\"value\": 0.2344925428435176}, {\"value\": 0.13691985633078688}, {\"value\": -1.0041971190264585}, {\"value\": -1.5424439022915906}, {\"value\": -0.11420866573864057}, {\"value\": -0.7214107865063485}, {\"value\": 0.5314674565754304}, {\"value\": 0.03532153262032178}, {\"value\": -0.06695680373136945}, {\"value\": -2.3402414718451445}, {\"value\": -0.327326414317296}, {\"value\": -0.016985784832973697}, {\"value\": 1.076319785252218}, {\"value\": -1.8538278892958493}, {\"value\": 0.4830922080446678}, {\"value\": -0.5828025545012328}, {\"value\": -0.2892988136893371}, {\"value\": 2.4808667043049435}, {\"value\": 1.0892474602580497}, {\"value\": 0.9106860998891257}, {\"value\": 2.043570015313411}, {\"value\": -0.19317569535505202}, {\"value\": 0.008800978384516503}, {\"value\": 0.1424615686177009}, {\"value\": 1.8640936753914308}, {\"value\": 0.5334163772446152}, {\"value\": -0.06449084009308134}, {\"value\": -0.1188836939494555}, {\"value\": -1.2024777974576297}, {\"value\": -0.6241853378622254}, {\"value\": 0.41090338455665587}, {\"value\": 0.6885312018874853}, {\"value\": 1.9321235852161596}, {\"value\": -0.48733117355302175}, {\"value\": 0.7264428918390563}, {\"value\": 1.8992337987692292}, {\"value\": -0.3243798017193297}, {\"value\": 0.8094669038671032}, {\"value\": -1.4215832160555615}, {\"value\": 2.529187783001521}, {\"value\": 0.12486365392806092}, {\"value\": 0.7347255856548426}, {\"value\": -0.5991361702727566}, {\"value\": 1.7705059727597527}, {\"value\": -1.1273029202982596}, {\"value\": 0.4228634131770554}, {\"value\": -0.9881545312178354}, {\"value\": -0.16681246136284741}, {\"value\": 1.7254772749080556}, {\"value\": -1.3142121671567735}, {\"value\": -0.7688927023470506}, {\"value\": -1.8684458062454197}, {\"value\": -0.3385119586083705}, {\"value\": 2.1138004579328435}, {\"value\": -1.6809643328026744}, {\"value\": -0.263942018396826}, {\"value\": -0.46498601940847}, {\"value\": 0.2104991774282405}, {\"value\": -0.38427688039049873}, {\"value\": 1.2192071742862984}, {\"value\": -1.4773921141748767}, {\"value\": 0.3406988809263511}, {\"value\": -0.3105851356512271}, {\"value\": 0.8243221084535606}, {\"value\": 0.7597609902030794}, {\"value\": 2.140660809462674}, {\"value\": -0.34667510378601485}, {\"value\": 0.8841709992313059}, {\"value\": 1.0618587565498327}, {\"value\": 1.2129237545217921}, {\"value\": 0.34160582570714654}, {\"value\": -1.6592902014893778}, {\"value\": -0.34430452764983815}, {\"value\": 0.8728655677285224}, {\"value\": 0.22779033481178396}, {\"value\": -0.7522104017493104}, {\"value\": -0.8390407350875914}, {\"value\": 0.6454258074880503}, {\"value\": -0.06333834533020402}, {\"value\": -0.3413121917677068}, {\"value\": 0.08838840224422262}, {\"value\": -0.6105293967796677}, {\"value\": 1.1543919294414793}, {\"value\": -1.5317001413701676}, {\"value\": -0.550123247053794}, {\"value\": -0.22617869092463225}, {\"value\": -0.15945146829277024}, {\"value\": 0.14265255137889868}, {\"value\": -0.5435066162215275}, {\"value\": 2.2288453993011252}, {\"value\": -1.5433566782981405}, {\"value\": -0.4995017587971731}, {\"value\": 2.8023031130321305}, {\"value\": -0.1094441463144488}, {\"value\": 0.03657314326699412}, {\"value\": -0.8960923522325001}, {\"value\": 0.5681440433268751}, {\"value\": 1.2480166021916754}, {\"value\": -0.08409347914656477}, {\"value\": -0.17148900736177966}, {\"value\": -0.23542864607908198}, {\"value\": 0.031524542441940674}, {\"value\": 0.10239537583402372}, {\"value\": 0.6247624346267701}, {\"value\": -0.07393554238260362}, {\"value\": -0.4027128841708002}, {\"value\": -0.03928631650008011}, {\"value\": 0.0014788123730357752}, {\"value\": 1.0620147308455912}, {\"value\": -1.051190164124976}, {\"value\": -0.3501337195995287}, {\"value\": 0.6606184924775098}, {\"value\": -0.20192209106960632}, {\"value\": 1.7831522288920862}, {\"value\": 0.5900094308887516}, {\"value\": 0.6473142792114813}, {\"value\": 0.25062811976802957}, {\"value\": -0.6152967147566043}, {\"value\": -0.32384084898895327}, {\"value\": 1.0450303007209354}, {\"value\": 1.41655298566004}, {\"value\": 0.6048527692949882}, {\"value\": -0.8860807325585441}, {\"value\": -1.3565983099787349}, {\"value\": -0.17966004492362314}, {\"value\": -1.9383348140260952}, {\"value\": -0.4524395485866885}, {\"value\": -0.27121900180071046}, {\"value\": -0.31663361617295926}, {\"value\": 0.5333193473701496}, {\"value\": -1.443530289557671}, {\"value\": -1.6632821492829002}, {\"value\": -2.1261963555706394}, {\"value\": 1.2969859790654112}, {\"value\": -1.403666124512406}, {\"value\": 0.23353975953266273}, {\"value\": -1.5554474512790153}, {\"value\": 0.10812364968822719}, {\"value\": 0.10769743019413723}, {\"value\": -0.9772169154049807}, {\"value\": 0.5396014327706453}, {\"value\": -1.4635569222259706}, {\"value\": -0.1195729671666494}, {\"value\": 0.1385202467251018}, {\"value\": 0.5943020213871827}, {\"value\": 0.7163757776307124}, {\"value\": -2.1928897012176476}, {\"value\": -1.320957489623867}, {\"value\": -1.2846634155559375}, {\"value\": -1.394720889871944}, {\"value\": -0.5581183464364848}, {\"value\": -0.4064776996782009}, {\"value\": -0.23062943741346364}, {\"value\": 0.1976240869000544}, {\"value\": 1.865048173606944}, {\"value\": 0.7297091527282076}, {\"value\": 1.3355947508617454}, {\"value\": 1.4873183932038387}, {\"value\": -1.2183528522379143}, {\"value\": -0.09033389199714811}, {\"value\": -0.46330786884072933}, {\"value\": 1.1275107219917853}, {\"value\": -0.9979365588440499}, {\"value\": 0.07878565298153063}, {\"value\": -0.17687671189847856}, {\"value\": 0.45127299110769176}, {\"value\": 0.6110645189538088}, {\"value\": -0.8890748879096888}, {\"value\": 1.547741607428837}, {\"value\": -0.4587904998366251}, {\"value\": -0.39124391361177174}, {\"value\": 0.8724771209557849}, {\"value\": 0.3527475978202824}, {\"value\": -0.8438012162266734}, {\"value\": 2.5129630984367264}, {\"value\": -0.9418558546249746}, {\"value\": -0.23202243247016166}, {\"value\": 0.39132577229009485}, {\"value\": 1.0746339133368046}, {\"value\": 1.1679516204629012}, {\"value\": 0.2992019662640768}, {\"value\": 1.0488850494510773}, {\"value\": 0.1443145263811706}, {\"value\": -0.15936579813332646}, {\"value\": -2.1019991450904896}, {\"value\": 0.23947941101249368}, {\"value\": -2.1057547991257786}, {\"value\": 0.9241097823845987}, {\"value\": 1.692839431568642}, {\"value\": 1.5574232146209221}, {\"value\": 0.666976412712016}, {\"value\": -0.4966412227662447}, {\"value\": -1.2483871055708349}, {\"value\": -1.2365296399851584}, {\"value\": 1.3076909902489862}, {\"value\": -1.316825522194095}, {\"value\": -0.3916744463380041}, {\"value\": 0.8964464708790842}, {\"value\": -2.3809689190128482}, {\"value\": 0.7240602616770617}, {\"value\": -0.9867843794815531}, {\"value\": -0.11122887123644766}, {\"value\": -0.9279221165280016}, {\"value\": 0.050620359627396784}, {\"value\": -3.2252537845776263}, {\"value\": 0.878637276067126}, {\"value\": -0.19708051595611176}, {\"value\": 0.6131091441920375}, {\"value\": -1.6942245581321986}, {\"value\": 0.3879186306139622}, {\"value\": 1.5590395041095557}, {\"value\": -0.38422586931474967}, {\"value\": -1.3725053085500034}, {\"value\": -0.8904987688908629}, {\"value\": 0.1589673679783297}, {\"value\": 0.2591450551770595}, {\"value\": -0.5733364146331752}, {\"value\": 0.8609469208043714}, {\"value\": -0.2768707510211342}, {\"value\": -1.3684096589364025}, {\"value\": -0.29787655512723166}, {\"value\": 0.14105305401233006}, {\"value\": -0.12078277899994598}, {\"value\": -1.265169769912053}, {\"value\": -1.0349439838666163}, {\"value\": -0.3461198247067289}, {\"value\": 0.1898584498979739}, {\"value\": 0.6291646682064618}, {\"value\": -1.6734710854217694}, {\"value\": -1.5776831234216626}, {\"value\": -1.4481906944120777}, {\"value\": -1.1301934852824904}, {\"value\": -1.1551631954619779}, {\"value\": 0.5327589497988732}, {\"value\": -1.8448419020674272}, {\"value\": 0.7436300841399853}, {\"value\": 0.07678345299664663}, {\"value\": -0.27790342148569225}, {\"value\": 1.3353110319720378}, {\"value\": -1.4797802554303126}, {\"value\": -0.42603738527412355}, {\"value\": 0.676124902189044}, {\"value\": -0.4825529940110373}, {\"value\": 0.9576487876318157}, {\"value\": -1.1828364289457078}, {\"value\": -0.3572696395736765}, {\"value\": -0.5457718311487405}, {\"value\": -1.5192538225366008}, {\"value\": -1.5929490644067765}, {\"value\": 0.17846525456913484}, {\"value\": 2.320020955151598}, {\"value\": -0.7829270166093717}, {\"value\": 1.965740806008603}, {\"value\": -1.2391828369527174}, {\"value\": -0.0514262074094996}, {\"value\": 1.1684528540956385}, {\"value\": -2.759564457414767}, {\"value\": -0.3942390638645568}, {\"value\": 0.5377828070448338}, {\"value\": -1.2414377675661135}, {\"value\": -0.6995909004689014}, {\"value\": -0.8009565959646521}, {\"value\": 1.5809621428916225}, {\"value\": -0.09999275516572206}, {\"value\": -0.15695344641775497}, {\"value\": -0.023086613275869583}, {\"value\": 1.7518083625916967}, {\"value\": -0.7653462574679297}, {\"value\": 0.29180186406394076}, {\"value\": -1.326193294687096}, {\"value\": 0.015444664328957115}, {\"value\": 0.15439629460366383}, {\"value\": 0.2676469497762208}, {\"value\": 2.2674420165711866}, {\"value\": 0.2510542858406824}, {\"value\": -2.008104595075536}, {\"value\": 0.2604553110520164}, {\"value\": 1.9627296364795712}, {\"value\": -0.3035718236642716}, {\"value\": 0.19194301493354748}, {\"value\": 0.24449905011151193}, {\"value\": -0.7470653809940124}, {\"value\": 1.6517043804861213}, {\"value\": 0.40353145806906515}, {\"value\": -0.81907378657381}, {\"value\": 1.6310120121973348}, {\"value\": -1.152313754778298}, {\"value\": -1.6400625332339849}, {\"value\": -0.9793279506258069}, {\"value\": 0.6444202288291981}, {\"value\": 0.2104966985491333}, {\"value\": -0.059457349534123446}, {\"value\": 0.46139205981947534}, {\"value\": -0.42018364222600896}, {\"value\": -1.1687077334265696}, {\"value\": 1.799568989788887}, {\"value\": -0.21990481730066697}, {\"value\": 1.75334750018757}, {\"value\": -1.0880778323426017}, {\"value\": -0.8457131050870914}, {\"value\": -1.0729765949813748}, {\"value\": -0.1680102134021555}, {\"value\": 0.5684346630067869}, {\"value\": 0.6182812600494065}, {\"value\": -0.24565913494169714}, {\"value\": 0.46516950174222466}, {\"value\": 0.20553728995589698}, {\"value\": -0.049246463120501516}, {\"value\": 0.5809059827647148}, {\"value\": -1.3724798937526608}, {\"value\": 2.344693857008125}, {\"value\": -0.9877377024864618}, {\"value\": -0.07629446143759537}, {\"value\": -0.40810795595196786}, {\"value\": -0.02179062235558139}, {\"value\": -0.7687221516449663}, {\"value\": -0.7070678948287311}, {\"value\": -0.09797371429621829}, {\"value\": 1.244541644688806}, {\"value\": -0.0037960048969106143}, {\"value\": -0.9380476189282807}, {\"value\": 0.06892026582787776}, {\"value\": -1.5630572916381384}, {\"value\": -0.2846109811987133}, {\"value\": -1.0479302110966937}, {\"value\": -0.46987530232154007}, {\"value\": -0.45575114084803775}, {\"value\": 0.4958212876722565}, {\"value\": 1.6139776901879117}, {\"value\": -0.8750367285738775}, {\"value\": 0.1750958276609046}, {\"value\": -1.1905168389954288}, {\"value\": -0.5706394842771613}, {\"value\": 0.010362447395669586}, {\"value\": -0.06745557605902278}, {\"value\": -0.12409394136674272}, {\"value\": -1.6669788584876484}, {\"value\": 1.0889434660014474}, {\"value\": -0.44481384789311895}, {\"value\": -1.5072974419335945}, {\"value\": 0.10648305518949852}, {\"value\": 0.9507114317536619}, {\"value\": 1.9208002260660069}, {\"value\": 0.07050729425820011}, {\"value\": 1.152021280397326}, {\"value\": 0.47897662610079256}, {\"value\": 0.7861869783174383}, {\"value\": -0.7466274649810273}, {\"value\": 1.8698344397724118}, {\"value\": -0.5491933068619403}, {\"value\": 0.107765311966732}, {\"value\": -1.394739225016862}, {\"value\": -1.89334477322553}, {\"value\": -0.9033034484096266}, {\"value\": -0.0969083260985516}, {\"value\": 0.2856131901762327}, {\"value\": 0.9127625150695668}, {\"value\": -1.1750146006548077}, {\"value\": -0.76977127152093}, {\"value\": -2.2543944694560345}, {\"value\": -0.11101262012848434}, {\"value\": 0.05876724427702271}, {\"value\": 0.0024801607175779475}, {\"value\": -1.6027603703664226}, {\"value\": 0.5766607053170092}, {\"value\": -0.24842802924973262}, {\"value\": -0.09754563138492549}, {\"value\": -0.2032194838463184}, {\"value\": 1.4481501815513178}, {\"value\": -0.15814402485170315}, {\"value\": -0.013395875112354811}, {\"value\": 0.23636053084112635}, {\"value\": 0.5633262500887035}, {\"value\": 0.20772921006799158}, {\"value\": -0.15309231938004672}, {\"value\": 1.3897080284958478}, {\"value\": -0.2955220276282608}, {\"value\": 0.8788558806212298}, {\"value\": 0.7966273105950908}, {\"value\": -0.46548725668150365}, {\"value\": -0.13050754714892948}, {\"value\": 0.9171402993909545}, {\"value\": 0.591528619810477}, {\"value\": -0.4523379818785505}, {\"value\": -1.0861787708935597}, {\"value\": 0.13591631808697818}, {\"value\": -0.4817979045873863}, {\"value\": -0.880252024755477}, {\"value\": 1.0055671430800777}, {\"value\": 0.9957329799935298}, {\"value\": -0.8011117865197577}, {\"value\": -1.2565947756045026}, {\"value\": -0.10716489186037312}, {\"value\": -1.5942225315101146}, {\"value\": 1.5882591475719925}, {\"value\": -1.6069387824435808}, {\"value\": -1.3721935727864023}, {\"value\": -0.08761892721709184}, {\"value\": 0.31994208157508336}, {\"value\": 0.8346606141774235}, {\"value\": -0.1641201665062475}, {\"value\": -0.8438482957877232}, {\"value\": 0.753707035285428}, {\"value\": -0.14207999454448605}, {\"value\": 0.9164236076662308}, {\"value\": -1.1031568255183217}, {\"value\": 1.0907808360002418}, {\"value\": 1.5849916439657032}, {\"value\": -0.9554293301825221}, {\"value\": -0.1476495106141739}, {\"value\": -0.17564058692135834}, {\"value\": 2.550185738759859}, {\"value\": -0.14017094651552178}, {\"value\": 0.7258207765561978}, {\"value\": 0.08666123770559792}, {\"value\": -0.9573219712314346}, {\"value\": -0.8831712337667573}, {\"value\": -1.5356009991768707}, {\"value\": -0.19908359964517236}, {\"value\": -4.0240274809210845}, {\"value\": 0.48117479128052204}, {\"value\": 0.5280675937793915}, {\"value\": 1.7712426913801989}, {\"value\": -0.6834201954411689}, {\"value\": 1.1415593451036172}, {\"value\": 0.2957730378200091}, {\"value\": -2.3137166255609833}, {\"value\": -0.9079000483065018}, {\"value\": 0.6280957706631953}, {\"value\": 0.37351246196030696}, {\"value\": 0.39993082189705476}, {\"value\": -0.6825985804522595}, {\"value\": 0.05119627798424888}, {\"value\": -0.06267314857555023}, {\"value\": -0.2845277916652897}, {\"value\": 0.2737080997744329}, {\"value\": 1.0195344218967994}, {\"value\": 0.09580180297886057}, {\"value\": -0.9327337252589212}, {\"value\": -0.7907448203928041}, {\"value\": -0.926679597791375}, {\"value\": -0.3658655861249412}, {\"value\": 0.004674817698175959}, {\"value\": 0.6323194766598227}, {\"value\": 1.614385611815801}, {\"value\": 1.1637519388816637}, {\"value\": -0.303127960367201}, {\"value\": -1.1294999492595146}, {\"value\": -1.2407197468559874}, {\"value\": 0.6443553447887204}, {\"value\": -0.95347987728811}, {\"value\": 1.0427213249274643}, {\"value\": -1.5575653806725334}, {\"value\": -0.9956495440945905}, {\"value\": -0.5734141676948007}, {\"value\": 0.8128291208250893}, {\"value\": 1.0978146559575335}, {\"value\": -0.797059612792736}, {\"value\": 0.6036271508716238}, {\"value\": 0.05314231089531481}, {\"value\": 1.5079079972496976}, {\"value\": -1.483961067141749}, {\"value\": 0.7503073896179595}, {\"value\": -1.211300010572217}, {\"value\": -1.4514822143408619}, {\"value\": 0.23861180710134017}, {\"value\": 0.6812684536757709}, {\"value\": -0.2899906629248575}, {\"value\": 0.06598344656619869}, {\"value\": 0.6295134915450917}, {\"value\": -0.5696529510121411}, {\"value\": -0.5811345290812231}, {\"value\": 0.6011313003266642}, {\"value\": 0.8784619315200544}, {\"value\": 2.0523105889692412}, {\"value\": 0.9687842258462316}, {\"value\": -2.504647531582294}, {\"value\": 0.44880459902769587}, {\"value\": -0.4605811701801169}, {\"value\": -1.3857716897616867}, {\"value\": -0.9883926636171234}, {\"value\": -1.0308994815750696}, {\"value\": 0.708112467026285}, {\"value\": -1.8735753735986096}, {\"value\": 0.9228142796218722}, {\"value\": 1.6611672279567773}, {\"value\": 1.0142907574790483}, {\"value\": 2.223544793475171}, {\"value\": -0.40794888204842933}, {\"value\": 1.3421435970689641}, {\"value\": -0.6256354795457572}, {\"value\": 0.3998825919120197}, {\"value\": -1.2508715419379408}, {\"value\": -0.6764119864524398}, {\"value\": 0.8995522918916766}, {\"value\": 2.285685109900157}, {\"value\": 0.01590394063739204}, {\"value\": 2.0977406925968043}, {\"value\": -0.24380768140907894}, {\"value\": 0.19121817578288347}, {\"value\": 0.321873367887527}, {\"value\": -0.48567676122381603}, {\"value\": -0.11545611733160363}, {\"value\": 0.9652541302251352}, {\"value\": -0.03428299668109316}, {\"value\": -0.335960789074185}, {\"value\": -0.11536596260403945}, {\"value\": -0.8639867546406327}, {\"value\": 0.4906074633691664}, {\"value\": 0.3386368106905282}, {\"value\": 0.3783751226718448}, {\"value\": 0.7240350663189323}, {\"value\": -0.28345017977289183}, {\"value\": 0.041720550887800724}, {\"value\": 0.07305832337246555}, {\"value\": 0.225471677158825}, {\"value\": -1.3881263555255088}, {\"value\": -1.0421168497859266}, {\"value\": 0.7278196344202512}, {\"value\": -0.7338690482406696}, {\"value\": 0.7413614113025048}, {\"value\": -0.7312135890615804}, {\"value\": -0.5717981266844542}, {\"value\": 0.03670670538401341}, {\"value\": 1.0697838859422106}, {\"value\": 0.10289899152817887}, {\"value\": 0.7413599897241027}, {\"value\": -0.9379726010962696}, {\"value\": 0.5750681460721943}, {\"value\": 0.7439339006078808}, {\"value\": 0.08727958775778265}, {\"value\": 0.7424804688425397}, {\"value\": 0.34410379480740744}, {\"value\": -0.6431037794129062}, {\"value\": 0.1353064027817933}, {\"value\": 0.24102269934884393}, {\"value\": 0.5289869111809717}, {\"value\": 1.1383974977972975}, {\"value\": -0.5646124349514795}, {\"value\": -0.25858720799593027}, {\"value\": -1.8260164398263476}, {\"value\": -1.3124991789755807}, {\"value\": 1.2796434168470887}, {\"value\": -1.0411037118797943}, {\"value\": 2.5868867833145166}, {\"value\": 0.41940159352956013}, {\"value\": -0.41895579661224164}, {\"value\": 0.3307598877286294}, {\"value\": -0.3379400702927532}, {\"value\": -0.4267268638578847}, {\"value\": 0.38593857129144143}, {\"value\": -0.6632420113332609}, {\"value\": 0.5288377014958879}, {\"value\": 1.6810063700597262}, {\"value\": 0.5357235113074658}, {\"value\": 1.2634059460070424}, {\"value\": -0.026440427455052224}, {\"value\": -1.691902955142064}, {\"value\": 0.46094653359150345}, {\"value\": -0.4093910880199949}, {\"value\": -2.0250046912547766}, {\"value\": -1.2859092364739058}, {\"value\": -0.9222722064593561}, {\"value\": -0.20167749331515888}, {\"value\": 0.0400320663861239}, {\"value\": -0.0796626697445006}, {\"value\": -0.8596942160045818}, {\"value\": -0.7862569693765491}, {\"value\": -0.40826001072461626}, {\"value\": -0.3996400941417206}, {\"value\": 0.0807471626791029}, {\"value\": 0.23229410440488754}, {\"value\": -0.08175334693612929}, {\"value\": 0.590900830459341}, {\"value\": 1.0804625522074727}, {\"value\": -1.317223727506183}, {\"value\": -0.5364611512329334}, {\"value\": 0.4990160068291111}, {\"value\": -0.16159829906529677}, {\"value\": -0.769440101453505}, {\"value\": 2.0706023856744813}, {\"value\": -0.4126036118721761}, {\"value\": 1.430610841630929}, {\"value\": -0.51801640372495}, {\"value\": -1.5178343538598613}, {\"value\": -0.19414658350846703}, {\"value\": -0.9184459811814024}, {\"value\": 0.70350892018783}, {\"value\": 0.2450600795389284}, {\"value\": -0.3273836275558772}, {\"value\": 0.4793480002403203}, {\"value\": -0.28922903228611613}, {\"value\": -0.16214642949033478}, {\"value\": -0.9410009777341126}, {\"value\": -1.1058690052405076}, {\"value\": -0.6464651808716294}, {\"value\": -0.6105363305857912}, {\"value\": -0.8081686353451524}, {\"value\": -1.652751680955506}, {\"value\": 1.358568846131382}, {\"value\": 1.1741724276931882}, {\"value\": -0.4887324585055974}, {\"value\": 0.6338957405476305}, {\"value\": -0.7613031613182167}, {\"value\": -0.3998942682295764}, {\"value\": 1.1292764471574182}, {\"value\": -1.3715307329077082}, {\"value\": 0.4265474649490667}, {\"value\": -0.07211733704362086}, {\"value\": -0.5551876474912094}, {\"value\": 0.08675432999739612}, {\"value\": -0.6153931763955723}, {\"value\": 1.0555490456861738}, {\"value\": 0.16012360021070596}, {\"value\": 0.573306096575139}, {\"value\": -0.47106721240152155}, {\"value\": -0.4314150111364448}, {\"value\": 0.6075496731895228}, {\"value\": -0.9387951224059604}, {\"value\": -0.01580105160438287}, {\"value\": 1.905595604155644}, {\"value\": -1.2301992230404846}, {\"value\": 0.8994109831317463}, {\"value\": 1.6523269412917536}, {\"value\": -0.47475842219146436}, {\"value\": -0.4850698936242182}, {\"value\": -0.7378147487095891}, {\"value\": 0.019691199003462265}, {\"value\": -0.9283006338424667}, {\"value\": 1.0478347860753967}, {\"value\": 0.9759196846163835}, {\"value\": 0.9929269382788706}, {\"value\": -2.1602920105675887}, {\"value\": -1.1039153262687753}, {\"value\": 0.04527913914912785}, {\"value\": 0.6104804552046678}, {\"value\": 0.14478646119783126}, {\"value\": -2.002248537559364}, {\"value\": -2.0178592358425154}, {\"value\": -0.4905205017092146}, {\"value\": -1.2439062117239572}, {\"value\": -0.1659364959671555}, {\"value\": -0.04058220909676763}, {\"value\": -0.39301844437735833}, {\"value\": -1.0477040157635937}, {\"value\": -0.7429593931818089}, {\"value\": 1.6315736607990488}, {\"value\": -0.5580373414896591}, {\"value\": 0.24948607125763295}, {\"value\": -0.29045706647950204}, {\"value\": -0.11524265204493397}, {\"value\": 1.4686656995888985}, {\"value\": 0.3464740606401242}, {\"value\": -0.6199923191789787}, {\"value\": 0.7618488140272218}, {\"value\": 1.2307044654947668}, {\"value\": 0.055609181368130964}, {\"value\": -1.1191561028866464}, {\"value\": 0.1574724691017333}, {\"value\": -0.48844122406538976}, {\"value\": 1.0922773982643108}, {\"value\": -0.2032261766234327}, {\"value\": -1.1840382430953558}, {\"value\": 1.6329010762156522}, {\"value\": -0.2309085121012387}, {\"value\": -1.8620263389213496}, {\"value\": -1.0661629180664751}, {\"value\": 0.29948108729238876}, {\"value\": 0.28220617693746486}, {\"value\": 0.11361917336758695}, {\"value\": 1.0426471300865665}, {\"value\": -0.06053064059149356}, {\"value\": -0.6050891727887816}, {\"value\": 1.4710252364361527}, {\"value\": 0.39023523878360117}, {\"value\": -0.8760136890465983}, {\"value\": -0.5029320978554103}, {\"value\": 0.008402668154176689}, {\"value\": 0.7921643534579615}, {\"value\": -0.9523355655457952}, {\"value\": -0.6826266716907716}, {\"value\": 1.3922063824621218}, {\"value\": -0.3895600455376508}, {\"value\": 0.508839861310379}, {\"value\": 0.15221945189629926}, {\"value\": 0.8486818044124589}, {\"value\": 0.04432158375982611}, {\"value\": 2.583365333595435}, {\"value\": -1.3509176940698806}, {\"value\": 0.9960484653536713}, {\"value\": 1.1786445083839558}, {\"value\": -1.4244585848634366}, {\"value\": 0.37411879893894034}, {\"value\": -1.275722081481655}, {\"value\": -0.9328666758473076}, {\"value\": 0.4607373269115007}, {\"value\": -0.4115508681806797}, {\"value\": 0.5216096394798012}, {\"value\": 0.20929254856068816}, {\"value\": -0.11293087958991456}, {\"value\": 0.7470130532074186}, {\"value\": 1.9167370532767856}, {\"value\": -0.11205551378319359}, {\"value\": -0.8788562615315786}, {\"value\": 1.5597804944658278}, {\"value\": -1.3670709379167802}, {\"value\": -1.165072206140985}, {\"value\": -1.9186736734213703}, {\"value\": -0.09207349354044903}, {\"value\": 0.07416214914493188}, {\"value\": -0.08730497490817177}, {\"value\": 1.3042347959790093}, {\"value\": -0.6944269988297305}, {\"value\": -0.11440624930546657}, {\"value\": 0.8428783170948532}, {\"value\": -2.0455785330616743}, {\"value\": -0.5115032545495679}, {\"value\": 0.7642174202489911}, {\"value\": 0.0026221444520486063}, {\"value\": -0.5178678465471452}, {\"value\": 1.0293074543180984}, {\"value\": -0.2097172849788791}, {\"value\": -0.09374065098995234}, {\"value\": -0.3894368122531055}, {\"value\": -0.4300073240802609}, {\"value\": 0.0957957097902123}, {\"value\": 1.2661912485990126}, {\"value\": -0.4536093057265631}, {\"value\": 0.9486123770524927}, {\"value\": 1.228872215661217}, {\"value\": 0.9541593232102735}, {\"value\": -0.09928921271287196}, {\"value\": 0.3746336480054349}, {\"value\": 1.4758244126958642}, {\"value\": 0.23806697120998194}, {\"value\": 0.460201486146808}, {\"value\": -1.2172007892940915}, {\"value\": -0.45917707899351845}, {\"value\": -0.027376362070845983}, {\"value\": 2.1016623188105163}, {\"value\": 0.9093524443644819}, {\"value\": 0.1783614409572466}, {\"value\": 0.15175363260591698}, {\"value\": -1.1555419671090297}, {\"value\": -0.25356075307193904}, {\"value\": -0.3841602205911724}, {\"value\": 2.929689258387537}, {\"value\": -0.48804391621784343}, {\"value\": 2.0849402630766005}, {\"value\": -2.024069625717745}, {\"value\": -0.9850807093560644}, {\"value\": 0.2977929751103999}, {\"value\": -0.9088602675084867}, {\"value\": -1.2909268460519345}, {\"value\": -0.9694082706890057}, {\"value\": 0.471383172089815}, {\"value\": 0.2407146257086653}, {\"value\": 0.11048436436207315}, {\"value\": -1.5130941698046272}, {\"value\": 0.04964100939669363}, {\"value\": 0.19691668473096044}, {\"value\": -0.2449199965386944}, {\"value\": -0.7454454199822732}, {\"value\": 1.3294881897395583}, {\"value\": -0.3705114344484092}, {\"value\": -2.1302789351377682}, {\"value\": 0.16189824947806564}, {\"value\": -1.2032644494356246}, {\"value\": 0.12936691912654721}, {\"value\": 1.2438616654641075}, {\"value\": -1.806078167170331}, {\"value\": 1.2323059878345033}, {\"value\": 0.30695720407007776}, {\"value\": 0.002727270839495108}, {\"value\": 0.7533277163052248}, {\"value\": 0.29329126727170884}, {\"value\": -0.02309598428669495}, {\"value\": -0.9306713134784989}, {\"value\": 0.6878206209424116}, {\"value\": 0.3974843639918073}, {\"value\": 0.6451444326887553}, {\"value\": 0.7142627209068229}, {\"value\": -0.7782156597957165}, {\"value\": -0.8748097667319351}, {\"value\": -0.36797563012715184}, {\"value\": -2.92029228967894}, {\"value\": 2.576740333445622}, {\"value\": -0.14466300973922563}, {\"value\": -0.32653229896137453}, {\"value\": 0.009718667305285842}, {\"value\": 0.9166403736639819}, {\"value\": 0.3298233045225697}, {\"value\": -0.8855722339709969}, {\"value\": 0.520130601071319}, {\"value\": -1.1205366916746933}, {\"value\": 0.1065760635392761}, {\"value\": -0.21981702648555546}, {\"value\": 0.3524698459073029}, {\"value\": -0.9193463511642125}, {\"value\": 0.4349444923318485}, {\"value\": 0.5596537893853241}, {\"value\": -0.27726398623608484}, {\"value\": -0.15172141623146432}, {\"value\": -0.7916231984998457}, {\"value\": -0.8648909509767124}, {\"value\": 1.1848940097139236}, {\"value\": -0.7927560303608691}, {\"value\": 0.46760291469310605}, {\"value\": 0.4119893613495398}, {\"value\": 1.2055503399533294}, {\"value\": -0.22260280581197722}, {\"value\": 0.08412105697165304}, {\"value\": 1.2285879275596219}, {\"value\": 0.2855122402216293}, {\"value\": 0.44982109290148486}, {\"value\": -0.6717394955354926}, {\"value\": -0.057489251204131404}, {\"value\": -2.203405547345773}, {\"value\": 0.07758930848856352}, {\"value\": 0.21870069486976168}, {\"value\": -0.025987839200940367}, {\"value\": 0.9894674849085229}, {\"value\": 0.30213677602049266}, {\"value\": 0.9974517753689792}, {\"value\": -1.4259935575334233}, {\"value\": 0.06686003786056657}, {\"value\": -0.8231989352291194}, {\"value\": -1.6568838476336616}, {\"value\": -0.2843845535086166}, {\"value\": 0.2863689398244724}, {\"value\": 0.36705521558008863}, {\"value\": -2.387456391421513}, {\"value\": -0.15489763655810793}, {\"value\": 0.06263830037643286}, {\"value\": -0.5808198014998123}, {\"value\": 1.1968147204326323}, {\"value\": -0.6464347253521666}, {\"value\": -0.11696233387828334}, {\"value\": -0.1685382351638599}, {\"value\": -1.7168032926007015}, {\"value\": 0.18152846325978175}, {\"value\": 0.6146592993741334}, {\"value\": 0.8308778367905573}, {\"value\": -0.7423318459739775}, {\"value\": -1.4143146160885163}, {\"value\": -0.883855459929018}, {\"value\": 2.116902342069361}, {\"value\": -0.22423131379095174}, {\"value\": 1.339582583792347}, {\"value\": -0.44172202060332455}, {\"value\": -0.9629711510566222}, {\"value\": 0.13862100156191737}, {\"value\": 0.6197285918719102}, {\"value\": -0.2396694862325543}, {\"value\": 0.4196225564216282}, {\"value\": -0.2989303700182593}, {\"value\": 0.2527896943652172}, {\"value\": 0.039481135904727044}, {\"value\": 0.8085700482578424}, {\"value\": -0.17125651031728012}, {\"value\": 0.777000152428193}, {\"value\": -0.58479708640379}, {\"value\": -1.4461290908501376}, {\"value\": 0.26149008590529743}, {\"value\": -0.3453447598686078}, {\"value\": 0.2357008607538046}, {\"value\": 0.5433679157784751}, {\"value\": 0.9933937185220291}, {\"value\": -0.08757201167892122}, {\"value\": -0.034475290742496126}, {\"value\": 1.5154475230627285}, {\"value\": 1.0078351433051727}, {\"value\": -1.6932812325212934}, {\"value\": -0.501956895601356}, {\"value\": 0.3695481356242601}, {\"value\": -2.205605189397573}, {\"value\": 0.7635355875629791}, {\"value\": 0.26580258011800467}, {\"value\": -1.2784963577767963}, {\"value\": -1.0891529765228078}, {\"value\": -0.4765147059189817}, {\"value\": -0.6947552763045518}, {\"value\": -0.9310853626070803}, {\"value\": -1.276046594142049}, {\"value\": 1.2882223579614698}, {\"value\": -1.0725455219937772}, {\"value\": 1.2359436467367941}, {\"value\": 0.8462063414634394}, {\"value\": -0.9993564537949762}, {\"value\": -0.6760723922617473}, {\"value\": 1.2885435863255315}, {\"value\": -0.6781165383983819}, {\"value\": 0.7342470891115468}, {\"value\": 1.0185650547775649}, {\"value\": 1.3074930412601673}, {\"value\": 0.968623921221103}, {\"value\": -1.008431698854776}, {\"value\": 0.9658466113566985}, {\"value\": 0.37760643481283274}, {\"value\": 0.8101220788707876}, {\"value\": 2.674882792841109}, {\"value\": -0.6511865785044665}, {\"value\": 1.046110052196991}, {\"value\": -0.9488632194984706}, {\"value\": 0.2942672256785907}, {\"value\": 0.31098298117957646}, {\"value\": -0.1979626566305629}, {\"value\": 0.06137950270478372}, {\"value\": -0.4038727510826658}, {\"value\": -1.4207275012948513}, {\"value\": -0.09750590966667429}, {\"value\": 0.5433134320600473}, {\"value\": -0.5864140256070818}, {\"value\": 0.21945601494808}, {\"value\": 1.006286779739265}, {\"value\": -1.9172444616130875}, {\"value\": 0.06322510598391487}, {\"value\": -0.6678055280834262}, {\"value\": -1.1639696551079186}, {\"value\": -1.2031332450770107}, {\"value\": 0.5614639633228765}, {\"value\": -0.8069166615055422}, {\"value\": 0.4009507558510506}, {\"value\": 0.6184060809756105}, {\"value\": 1.111065909727835}, {\"value\": -0.44966531666297305}, {\"value\": 0.06050724852741874}, {\"value\": -0.7402751379168461}, {\"value\": 0.18760430167810774}, {\"value\": 0.4330633039786743}, {\"value\": 0.5171120409474549}, {\"value\": 0.4580501130099128}, {\"value\": -0.3763259812185048}, {\"value\": 1.172208836784368}, {\"value\": -0.09935411325562073}, {\"value\": 0.5113147782084483}, {\"value\": -1.1044578798718845}, {\"value\": 0.1035428773215883}, {\"value\": -0.7203617458987374}, {\"value\": 1.1494688781283642}, {\"value\": -0.59323985238662}, {\"value\": -0.388886361903824}, {\"value\": 0.13009303231446076}, {\"value\": 1.0422553035764788}, {\"value\": 0.07778254322855922}, {\"value\": -1.2679985002441991}, {\"value\": 0.41707157042190346}, {\"value\": 1.0896703956965632}, {\"value\": 2.6587513866134453}, {\"value\": -0.17998442540257112}, {\"value\": 0.05670617729093556}, {\"value\": -0.40379363746572366}, {\"value\": -0.5408243603465913}, {\"value\": -0.05695397560277438}, {\"value\": 0.9858085191493545}, {\"value\": -0.5051163932726912}, {\"value\": 1.5801648310617935}, {\"value\": 0.9275290560974964}, {\"value\": -0.07186329222048372}, {\"value\": -0.3460132172586936}, {\"value\": 2.0496392487267525}, {\"value\": 0.6969695993464483}, {\"value\": 0.9840867947083042}, {\"value\": -0.5373917672002686}, {\"value\": -0.6321776988430626}, {\"value\": 0.31746533372552016}, {\"value\": -1.1441088592120578}, {\"value\": -0.04506840554064405}, {\"value\": 0.4915215038120426}, {\"value\": -0.3038389944097992}, {\"value\": -0.15577609813398233}, {\"value\": 0.31019527650736384}, {\"value\": -0.5628113357972122}, {\"value\": -1.786551960032106}, {\"value\": -0.71526617661736}, {\"value\": 0.9830154126884799}, {\"value\": 1.3166648653752}, {\"value\": 0.726168731032208}, {\"value\": -0.4514061919055867}, {\"value\": 0.437985689833604}, {\"value\": -1.0796372434991477}, {\"value\": 0.8194712748542545}, {\"value\": 0.37772351812393634}, {\"value\": 1.7430808529567858}, {\"value\": 0.8608856359897018}, {\"value\": -1.5860445814084099}, {\"value\": -0.479716421568111}, {\"value\": -0.7980767429881589}, {\"value\": -1.1854510311499713}, {\"value\": 0.12554540596677896}, {\"value\": -0.29191879591136644}, {\"value\": -0.7946549300753306}, {\"value\": 0.7971521297763517}, {\"value\": 0.932981985181603}, {\"value\": -0.16937568879077716}, {\"value\": 0.09692874696817383}, {\"value\": -0.652557225938871}, {\"value\": -0.789267532333393}, {\"value\": 0.43758201568890204}, {\"value\": -1.4690217901429172}, {\"value\": -0.9273096168542446}, {\"value\": -0.21123467478910674}, {\"value\": -0.10552472912641714}, {\"value\": -1.3212744927115305}, {\"value\": -0.371572047610114}, {\"value\": 0.21370869529789002}, {\"value\": -3.0140991241008233}, {\"value\": -0.04617044931272904}, {\"value\": 0.1611309572689428}, {\"value\": -0.5502831787235862}, {\"value\": -0.7703830628203782}, {\"value\": 1.798830529030654}, {\"value\": 1.507354241200768}, {\"value\": -0.43200226731120045}, {\"value\": -1.4391166967801494}, {\"value\": -0.19506177696738006}, {\"value\": 0.639819346234304}, {\"value\": 0.5322707051926183}, {\"value\": 1.1499089029158387}, {\"value\": 0.7915808725645652}, {\"value\": -0.13110453747618284}, {\"value\": 0.5171624251396328}, {\"value\": -0.5607782583544775}, {\"value\": -1.7513630800792128}, {\"value\": -0.5336606755120535}, {\"value\": 1.4221769012579826}, {\"value\": -1.1136638821546234}, {\"value\": 0.09111310910140112}, {\"value\": 1.0065624355717757}, {\"value\": 0.7847052298996033}, {\"value\": 1.9056294204989244}, {\"value\": -0.19507262823654192}, {\"value\": 0.23001455997349765}, {\"value\": -0.4742740354771971}, {\"value\": 0.36873424275739647}, {\"value\": 0.7815376430938512}, {\"value\": -1.0126208605289035}, {\"value\": -0.2671188259939645}, {\"value\": 0.3908509057887242}, {\"value\": -2.4605660024149314}, {\"value\": -1.0938606678297986}, {\"value\": 0.2650063213400655}, {\"value\": -0.5036609202480256}, {\"value\": 2.3661194996144483}, {\"value\": 1.6445761632620859}, {\"value\": 0.6422624423768586}, {\"value\": -0.92433138066706}, {\"value\": -0.4452728189124118}, {\"value\": -1.0726111398604752}, {\"value\": 0.4930023549067926}, {\"value\": 0.16025925187462534}, {\"value\": -0.13244057785642885}, {\"value\": -1.627875251501303}, {\"value\": 0.3644421537854836}, {\"value\": 0.010859410756018815}, {\"value\": 1.6873966062189951}, {\"value\": -1.2560703722022073}, {\"value\": -1.447906366276612}, {\"value\": 0.8713353089169479}, {\"value\": -0.9459345436792171}, {\"value\": 0.26595267688046537}, {\"value\": -1.5768914494051602}, {\"value\": 1.5413391208569514}, {\"value\": 1.3696831447687225}, {\"value\": -0.7622670293538472}, {\"value\": -0.33420961407839966}, {\"value\": 0.8152010810981801}, {\"value\": -1.4631568632106846}, {\"value\": -0.13793526631357217}, {\"value\": -0.8592172603208583}, {\"value\": -0.6803865484387533}, {\"value\": 1.307130099701757}, {\"value\": -0.16982296920732545}, {\"value\": 0.2106182412851268}, {\"value\": -2.1636987667567147}, {\"value\": 0.3450954013632251}, {\"value\": 0.8568021304775227}, {\"value\": -0.7224425103955866}, {\"value\": -0.33996295976606566}, {\"value\": -0.8095075359627657}, {\"value\": -0.6348563034045194}, {\"value\": -0.441435321692258}, {\"value\": -0.044244226620187024}, {\"value\": -0.6695150304083923}, {\"value\": 0.4853732060946401}, {\"value\": -1.7123583022171656}, {\"value\": -1.3385073282289108}, {\"value\": 1.603190979214217}, {\"value\": 0.42511955528928425}, {\"value\": -0.570757170020534}, {\"value\": -0.10619716691738444}, {\"value\": -2.00057636384912}, {\"value\": 0.6369809564458406}, {\"value\": 0.05977356461732264}, {\"value\": 1.0376335957591112}, {\"value\": -0.008292764196875123}, {\"value\": -0.9310913679921221}, {\"value\": 1.4606004957557108}, {\"value\": -1.3523309225159683}, {\"value\": 0.4556981028730643}, {\"value\": 0.8562278412402958}, {\"value\": -0.33273266750045033}, {\"value\": -0.17914833079408482}, {\"value\": -0.3873551459418693}, {\"value\": 1.0453523474460182}, {\"value\": -0.45407970803005765}, {\"value\": 1.6727683765605323}, {\"value\": -1.2470895453436825}, {\"value\": -0.6855785084080784}, {\"value\": -0.19979583531460288}, {\"value\": 1.4276016668377882}, {\"value\": 1.2582008432849154}, {\"value\": -0.6951053174079429}, {\"value\": 0.7398526170942143}, {\"value\": 0.0989939193708966}, {\"value\": -0.6115377283975862}, {\"value\": -0.6063243841048345}, {\"value\": -0.06996824368485365}, {\"value\": -0.544273317874033}, {\"value\": -1.0091417373647298}, {\"value\": 0.2141206189110194}, {\"value\": 0.5542116469905506}, {\"value\": -1.3241870510936602}, {\"value\": 0.07751041495966193}, {\"value\": -0.6111495378924556}, {\"value\": -0.16882623389938867}, {\"value\": 0.9730736138959407}, {\"value\": -0.04560988372296547}, {\"value\": 0.4456062926757874}, {\"value\": -0.8809101122720658}, {\"value\": 0.5523417418643113}, {\"value\": -0.4730712957223845}, {\"value\": -0.16593621701499925}, {\"value\": -0.01791959677473585}, {\"value\": -1.01056498537509}, {\"value\": 0.9567605488784687}, {\"value\": -0.010241187612113024}, {\"value\": 0.8347447896897969}, {\"value\": -1.0920515142525404}, {\"value\": 0.1583325920427659}, {\"value\": -1.2825204315013488}, {\"value\": -0.25410839654277617}, {\"value\": 1.5158172008698465}, {\"value\": 0.4708507619474819}, {\"value\": -0.2600516940432879}, {\"value\": -0.181464419236922}, {\"value\": 0.11754919143026812}, {\"value\": -1.8366154340143988}, {\"value\": -1.3496965577124254}, {\"value\": 1.3349138425682205}, {\"value\": 1.522942277516038}, {\"value\": -0.21484211479420326}, {\"value\": 1.0045361616395645}, {\"value\": -1.5044487509034135}, {\"value\": -0.9157268583827802}, {\"value\": -1.1473490316253927}, {\"value\": -0.207383699274611}, {\"value\": -0.08125053904089305}, {\"value\": 1.2062675760957406}, {\"value\": 1.6217481289139928}, {\"value\": 2.0151361589648307}, {\"value\": 0.681692973434098}, {\"value\": 0.47912764145493986}, {\"value\": -1.405523877157041}, {\"value\": 0.2664146526170083}, {\"value\": -1.346205296703432}, {\"value\": -0.22450771260741811}, {\"value\": 0.49379466965040514}, {\"value\": 0.014697335879541324}, {\"value\": -0.9613328424773128}, {\"value\": 0.16884440118867097}, {\"value\": 0.9007494344270847}, {\"value\": -0.6838175523550524}, {\"value\": -0.01682691226611126}, {\"value\": 4.290701272123318}, {\"value\": -0.8705558509919348}, {\"value\": -0.596043862587883}, {\"value\": 2.122602436526638}, {\"value\": -0.8506431214137249}, {\"value\": 1.203705773172857}, {\"value\": -0.32480065029544397}, {\"value\": -1.7754433994548033}, {\"value\": -1.0446225692782742}, {\"value\": -0.23506033548347754}, {\"value\": 0.3398520802007}, {\"value\": 1.1739883951996537}, {\"value\": 1.2394658500473257}, {\"value\": 0.3245477337855081}, {\"value\": 1.0865614660111336}, {\"value\": -1.2815929022406327}, {\"value\": 0.2349882861213681}, {\"value\": -1.7406014169483621}, {\"value\": 1.3682340987863792}, {\"value\": 0.07461039914903214}, {\"value\": 0.08021612771473698}, {\"value\": -1.945249860214635}, {\"value\": 0.08638050948384528}, {\"value\": -0.4601665773172518}, {\"value\": -0.11108558079149665}, {\"value\": -0.5327302516162536}, {\"value\": -1.0365957421420768}, {\"value\": 0.7749730496485653}, {\"value\": 0.894667224764651}, {\"value\": -0.7348436045226217}, {\"value\": -1.3348036418995353}, {\"value\": 0.6991940189008706}, {\"value\": -0.6784323299812088}, {\"value\": 0.4193349456088268}, {\"value\": -1.41797279580328}, {\"value\": 0.03622398371590657}, {\"value\": 1.0209207777989484}, {\"value\": -0.358314496164048}, {\"value\": -0.8084095377408679}, {\"value\": -1.176670133889709}, {\"value\": 0.43107200471725116}, {\"value\": 0.9737404994217205}, {\"value\": 0.8033693904208361}, {\"value\": -0.0674916689489653}, {\"value\": -1.0144857153896092}, {\"value\": -0.6436980886465744}, {\"value\": -2.270194137293677}, {\"value\": -0.43366016913128025}, {\"value\": -0.961530228868842}, {\"value\": 0.5542114519031053}, {\"value\": -0.6225231452209251}, {\"value\": -0.1340841361217614}, {\"value\": 0.6076232894095275}, {\"value\": -0.2219326130063123}, {\"value\": 0.26765600989967664}, {\"value\": 1.9733115570297655}, {\"value\": -0.49358184551316725}, {\"value\": 0.37852254267899893}, {\"value\": 0.050840371774681904}, {\"value\": 1.129377273364785}, {\"value\": -0.326055814091457}, {\"value\": 0.864871390939781}, {\"value\": -1.0778801960024733}, {\"value\": 0.45597948319203363}, {\"value\": -1.4554593166053107}, {\"value\": 0.1894484546213503}, {\"value\": -1.1254674586719762}, {\"value\": 0.416256954209804}, {\"value\": -2.755827673160023}, {\"value\": 1.0070877359994899}, {\"value\": -1.7098113068266507}, {\"value\": 1.6659009947593286}, {\"value\": -0.7941110118865435}, {\"value\": 0.11932550711025579}, {\"value\": -1.3974828578230156}, {\"value\": -0.3596560367242897}, {\"value\": -0.44995455854101263}, {\"value\": -0.5552178076616305}, {\"value\": -0.24247534722614672}, {\"value\": 0.25250693417630665}, {\"value\": 1.4108995302560459}, {\"value\": 1.117541439600117}, {\"value\": -0.6995273343314643}, {\"value\": -2.274106482416971}, {\"value\": 0.9271681380980684}, {\"value\": 1.3458146338474517}, {\"value\": -1.4374382453178132}, {\"value\": 1.0181132660914531}, {\"value\": -1.1172443773880376}, {\"value\": 0.7010097386254694}, {\"value\": -0.8119272605031357}, {\"value\": -1.1781627196345767}, {\"value\": -0.5952463433107161}, {\"value\": -1.9801365404166007}, {\"value\": 0.2829157715011104}, {\"value\": 0.2647651974763463}, {\"value\": 1.4059256150705555}, {\"value\": 0.05436468467685822}, {\"value\": -0.49820236932722517}, {\"value\": 1.665876272221637}, {\"value\": 0.3354633228398577}, {\"value\": 0.2158601407057921}, {\"value\": 1.422080867189567}, {\"value\": -0.9255331405646502}, {\"value\": 0.49548034607943003}, {\"value\": 0.599697722849006}, {\"value\": 0.10282667723600776}, {\"value\": 1.019200328689352}, {\"value\": 1.0308125768116563}, {\"value\": -0.42237470890667916}, {\"value\": 0.6427498727831933}, {\"value\": -0.4289327452091858}, {\"value\": 0.30307125893696846}, {\"value\": -1.121416408160037}, {\"value\": 0.7193343723890021}, {\"value\": 0.8140017542677576}, {\"value\": -0.5557540703795618}, {\"value\": 1.0633560401593936}, {\"value\": 1.014295193554768}, {\"value\": 0.8636931092312631}, {\"value\": 1.7890576455610725}, {\"value\": 0.5062577924147065}, {\"value\": 0.743170104523512}, {\"value\": 0.025001701448486034}, {\"value\": 0.7433199181240027}, {\"value\": -0.7012448085464725}, {\"value\": -1.9848320782987563}, {\"value\": 0.8675861464175332}, {\"value\": -0.1113909338187601}, {\"value\": 0.09033822135322347}, {\"value\": -0.6467745049138635}, {\"value\": -1.8595210874756178}, {\"value\": -0.5529157950500609}, {\"value\": -0.5490694043681013}, {\"value\": -1.5876951465003508}, {\"value\": 0.5572660159192927}, {\"value\": 1.9303982068359582}, {\"value\": -0.9415761248621842}, {\"value\": -0.3631217277840384}, {\"value\": 1.4403325748531628}, {\"value\": 1.3669690287727247}, {\"value\": -1.1217439531247408}, {\"value\": -0.6912310679513857}, {\"value\": 0.3894279943320265}, {\"value\": 0.5689376708473345}, {\"value\": -0.37700322038636924}, {\"value\": 0.17137304097985376}, {\"value\": -0.07869146720787043}, {\"value\": -1.0909555956827377}, {\"value\": 0.33507217683824125}, {\"value\": -0.02259643045464871}, {\"value\": 0.7165750370196647}, {\"value\": -0.23819449333013293}, {\"value\": -1.6901129588736643}, {\"value\": 1.3212606032705905}, {\"value\": 0.508264847829294}, {\"value\": -1.1193547309008018}, {\"value\": -0.26161817653361746}, {\"value\": -1.101741289450754}, {\"value\": 1.1287294207984544}, {\"value\": -0.36504693936839305}, {\"value\": 0.4920014591429533}, {\"value\": -1.858149397131076}, {\"value\": -1.3791723064695616}, {\"value\": -0.7114964040662982}, {\"value\": 0.4187398838654189}, {\"value\": -0.9524080684084969}, {\"value\": 1.3284187360115096}, {\"value\": -0.050435948091531166}, {\"value\": -1.163966085377736}, {\"value\": -0.08104974086666598}, {\"value\": 2.1731191984960576}, {\"value\": 0.567845490835344}, {\"value\": -0.04354694547402502}, {\"value\": -1.3617507975370577}, {\"value\": -0.695216635935816}, {\"value\": -1.3850963988346539}, {\"value\": -1.1777798343538284}, {\"value\": 0.4854506912977501}, {\"value\": 0.4857570076815943}, {\"value\": 0.05246507722497242}, {\"value\": 0.053552384752578286}, {\"value\": 0.7387953040075205}, {\"value\": 2.430182739760488}, {\"value\": 1.086841464475863}, {\"value\": -1.4634795488110213}, {\"value\": -0.42343567276059046}, {\"value\": 0.6291797988799819}, {\"value\": 1.5810700951859913}, {\"value\": 0.3944402883232366}, {\"value\": 1.463233242017163}, {\"value\": 0.05147315138662261}, {\"value\": -0.4638590933092244}, {\"value\": 0.6963714667003198}, {\"value\": -0.13151647822375698}, {\"value\": -0.2687027239504221}, {\"value\": 0.2717884644360575}, {\"value\": -0.5537122610863386}, {\"value\": 0.9615328624986444}, {\"value\": -0.9482088289335706}, {\"value\": -0.8450919302877834}, {\"value\": -0.22595789704687352}, {\"value\": -0.5518532246873689}, {\"value\": -2.1138093380567353}, {\"value\": 1.7771641525383455}, {\"value\": 0.3123772007575871}, {\"value\": 0.37349662657314214}, {\"value\": 0.15281790763149605}, {\"value\": 0.14483638100155075}, {\"value\": -0.10846669427405209}, {\"value\": 0.7169374066666556}, {\"value\": -0.02458221715241959}, {\"value\": -0.19682222982419018}, {\"value\": 0.9427805964407309}, {\"value\": 0.7897256317474968}, {\"value\": -0.36429112773447364}, {\"value\": -0.5323888013311885}, {\"value\": -1.2552448323361176}, {\"value\": 0.39321234593621185}, {\"value\": -0.36845622314808313}, {\"value\": -0.8027225818851507}, {\"value\": -3.061824958145227}, {\"value\": -0.727269750755769}, {\"value\": 0.7066860929620461}, {\"value\": -0.3799610176954017}, {\"value\": 0.158571282423457}, {\"value\": 0.4325031126342521}, {\"value\": 1.234116732062253}, {\"value\": -0.05338272620895488}, {\"value\": -0.5239945177887894}, {\"value\": -1.7941828909040713}, {\"value\": 0.792625713517475}, {\"value\": 0.1287383766277846}, {\"value\": 0.3142649850775637}, {\"value\": 0.8375312087793918}, {\"value\": -0.15387819543664938}, {\"value\": -0.6789069557313303}, {\"value\": -2.390558433113813}, {\"value\": -1.1332638071046621}, {\"value\": 0.6144135434034507}, {\"value\": 1.211034751930368}, {\"value\": 1.2656033633221044}, {\"value\": 0.07230901204382076}, {\"value\": 0.034140091050549735}, {\"value\": -1.2438557042735043}, {\"value\": -0.29916750262488223}, {\"value\": 0.3296256957372327}, {\"value\": -1.6407459663423767}, {\"value\": 1.0178118658872675}, {\"value\": 0.25639953559377304}, {\"value\": 1.23252679234042}, {\"value\": -0.38762097674976015}, {\"value\": 1.6848738182850953}, {\"value\": 1.9111064779853655}, {\"value\": -0.5022156748124155}, {\"value\": -1.0403685356212276}, {\"value\": -0.5355106451746143}, {\"value\": 2.815971997440053}, {\"value\": 1.5230523165831584}, {\"value\": -0.8581859999450708}, {\"value\": 0.2761297544553399}, {\"value\": -0.395194092279287}, {\"value\": 0.49680552899676667}, {\"value\": -0.6164169854069145}, {\"value\": -1.07414108606021}, {\"value\": 0.19723691270952606}, {\"value\": 0.21632311085161518}, {\"value\": 1.3800425300456152}, {\"value\": 0.899440433087337}, {\"value\": 2.2490569756384904}, {\"value\": -0.0020531636197282043}, {\"value\": -0.13392244001803097}, {\"value\": 0.6808181074069898}, {\"value\": 0.23401420569472356}, {\"value\": -0.33079741305664356}, {\"value\": -0.6359088824457647}, {\"value\": 1.1112782938208696}, {\"value\": -0.8749047674068832}, {\"value\": -0.6729283479703712}, {\"value\": 0.5001952511253288}, {\"value\": -1.0920014086001288}, {\"value\": 2.099634144254305}, {\"value\": 0.9027251391117606}, {\"value\": -1.242814166383793}, {\"value\": 0.3351172911459619}, {\"value\": -1.0771276154724847}, {\"value\": -0.04330190231006998}, {\"value\": -0.12185883400257834}, {\"value\": 0.4992504538510473}, {\"value\": -1.5038014188655677}, {\"value\": 0.3228343919566526}, {\"value\": 0.5201097857117821}, {\"value\": -1.8597761120518816}, {\"value\": 0.6154465427611416}, {\"value\": 0.08041728419106392}, {\"value\": 0.6160379922166077}, {\"value\": -0.7675457120888436}, {\"value\": 1.5406649955290452}, {\"value\": -2.53705107373267}, {\"value\": -0.5950777865462225}, {\"value\": -1.7664951104843571}, {\"value\": -1.4487334929516567}, {\"value\": -1.3957492906102815}, {\"value\": -0.8955408072330013}, {\"value\": 0.7068843747395631}, {\"value\": -0.4695841295886924}, {\"value\": 0.5197163421749946}, {\"value\": 0.44110081073055774}, {\"value\": 0.1769170904869459}, {\"value\": -0.913944157188764}, {\"value\": 0.681529324548788}, {\"value\": 0.17528462492840005}, {\"value\": 0.3024355870660983}, {\"value\": 1.3958128622921768}, {\"value\": -0.8559253590096328}, {\"value\": 0.805751144659576}, {\"value\": -0.37179529009610546}, {\"value\": 0.11068110476884378}, {\"value\": 0.2776949135072711}, {\"value\": -1.6236720869186156}, {\"value\": -0.20406186127137985}, {\"value\": 0.5204283092690033}, {\"value\": -0.1659115209943428}, {\"value\": 0.09798251019789354}, {\"value\": 1.3353423602863987}, {\"value\": -0.16080773370908047}, {\"value\": 0.802566963632508}, {\"value\": -1.5678713796779766}, {\"value\": -0.46458138672266025}, {\"value\": 1.818541232746786}, {\"value\": -0.10830367892778886}, {\"value\": 0.015327344184685265}, {\"value\": -0.25958977925205623}, {\"value\": 0.045832672093475316}, {\"value\": 0.3164581595081475}, {\"value\": -0.6420548023710276}, {\"value\": -2.332538834310019}, {\"value\": -0.9562686333728762}, {\"value\": 1.6861312705481226}, {\"value\": -1.4128551364925475}, {\"value\": -1.306870066033815}, {\"value\": -0.5513794361729851}, {\"value\": 1.3834265912128598}, {\"value\": -0.1192212256542338}, {\"value\": -1.551620285105495}, {\"value\": 0.6210335307641215}, {\"value\": -2.487934657748473}, {\"value\": 0.4037346408751148}, {\"value\": -1.8205895140407244}, {\"value\": -1.417621375526244}, {\"value\": 2.1018654579381004}, {\"value\": -0.05575465570961306}, {\"value\": -0.3024576445883}, {\"value\": 1.2086778107197942}, {\"value\": -1.275715885699676}, {\"value\": 0.9775963208478327}, {\"value\": 0.18045092922220185}, {\"value\": -0.3054923752665377}, {\"value\": -0.660028576878985}, {\"value\": -0.38140216304802316}, {\"value\": -0.3944171459097751}, {\"value\": -1.8688835687263827}, {\"value\": 0.8039997606663454}, {\"value\": -0.6944721153886126}, {\"value\": 1.2002632861021054}, {\"value\": -0.21187518569056268}, {\"value\": -0.35000319853593836}, {\"value\": -0.10086729387875136}, {\"value\": 1.0054711311018603}, {\"value\": -1.3119753257664974}, {\"value\": -0.8446724579112513}, {\"value\": 0.4656668675190843}, {\"value\": 0.44727348093811237}, {\"value\": -0.3638140589206022}, {\"value\": 1.0592495741866155}, {\"value\": -0.6106005004528177}, {\"value\": 0.7373292297818479}, {\"value\": 0.13488047818214266}, {\"value\": -2.227672984809149}, {\"value\": 0.17631401435841595}, {\"value\": -0.5572971999818987}, {\"value\": 0.46913324241816523}, {\"value\": -1.7240077678175776}, {\"value\": 1.6029620095607278}, {\"value\": -0.43686801193886093}, {\"value\": -0.8838171419691925}, {\"value\": -0.1876824229285332}, {\"value\": -1.0275929066026313}, {\"value\": 0.6394932999111658}, {\"value\": 0.4789477622322873}, {\"value\": -1.104706873010089}, {\"value\": -1.1291515253848876}, {\"value\": -0.9875905937279827}, {\"value\": 0.4863834922098227}, {\"value\": -0.1670835784367575}, {\"value\": 0.5912612753544784}, {\"value\": 1.200910893166936}, {\"value\": -0.3800041211673095}, {\"value\": 0.8788467353397729}, {\"value\": 0.21445846566562768}, {\"value\": 1.633596829011412}, {\"value\": -1.23670750397143}, {\"value\": -1.4032935148772907}, {\"value\": -0.46891703132635415}, {\"value\": 0.624980238183935}, {\"value\": 0.21645291374552186}, {\"value\": 0.036038247981743536}, {\"value\": -0.8364362702099446}, {\"value\": -0.027447616658114418}, {\"value\": 1.1523599301207594}, {\"value\": 1.354632500006141}, {\"value\": 0.18707973196437036}, {\"value\": -0.3318216840544743}, {\"value\": -0.2912745547208998}, {\"value\": -1.4302031631678913}, {\"value\": 0.44901148182999406}, {\"value\": -0.08526011616839524}, {\"value\": -0.30079298227962875}, {\"value\": 0.39299251252771555}, {\"value\": 0.2565272500849904}, {\"value\": -0.9030252734200911}, {\"value\": -0.7427919125870788}, {\"value\": 0.11361686400320173}, {\"value\": -0.35428718004904525}, {\"value\": 1.345868670153377}, {\"value\": -1.9177004559919424}, {\"value\": 0.04755966012288711}, {\"value\": -1.192557591584831}, {\"value\": -1.093663908095165}, {\"value\": 0.5393184039780933}, {\"value\": -0.7073305281840957}, {\"value\": 0.9032576221908947}, {\"value\": -0.07105201295108837}, {\"value\": -1.271356315677309}, {\"value\": 1.4863569195255255}, {\"value\": 0.23006800352991055}, {\"value\": 0.8123166189370504}, {\"value\": -0.800972219780814}, {\"value\": -0.4071822515162582}, {\"value\": -1.0030052606622448}, {\"value\": -0.4450476604093713}, {\"value\": 0.11438495471704438}, {\"value\": -1.2650633756293983}, {\"value\": -0.2277795488163005}, {\"value\": 1.231135597886983}, {\"value\": 0.8152389525614234}, {\"value\": -0.06596077878173393}, {\"value\": -0.19627984272685317}, {\"value\": -0.3248240557352422}, {\"value\": -0.9352406186985058}, {\"value\": -0.4969924079566591}, {\"value\": 0.08241483533735434}, {\"value\": -0.550690780477055}, {\"value\": -1.2623461975593462}, {\"value\": -0.6354730936805975}, {\"value\": -0.7083125791991592}, {\"value\": 1.077378841076943}, {\"value\": -0.45591394108832745}, {\"value\": -1.2080633494303301}, {\"value\": 0.7529917882196906}, {\"value\": 0.33767738719285717}, {\"value\": -1.7325026119951965}, {\"value\": 0.473157421367084}, {\"value\": -1.3357776099852907}, {\"value\": -0.5042968972884876}, {\"value\": 0.443207743791549}, {\"value\": -1.0764638563847297}, {\"value\": 0.41627111336862416}, {\"value\": -0.28757330385207924}, {\"value\": -1.760659160655554}, {\"value\": -0.033675722856865146}, {\"value\": 0.9598383032814896}, {\"value\": -0.1997739660842507}, {\"value\": -1.2742800172245266}, {\"value\": 1.0790011369918877}, {\"value\": 1.7751872665255808}, {\"value\": 1.5943252206976788}, {\"value\": 0.8994520644009383}, {\"value\": 0.666764080573275}, {\"value\": 0.294964530301994}, {\"value\": -0.010723142321835319}, {\"value\": 1.0923947443042579}, {\"value\": 0.7910377247909088}, {\"value\": -1.2025229037383773}, {\"value\": 0.22927242218440275}, {\"value\": -0.8863823115746929}, {\"value\": 0.7195800934890104}, {\"value\": 0.7928656099186661}, {\"value\": 0.6502566444084626}, {\"value\": -0.18250767465432038}, {\"value\": 0.9877545422769527}, {\"value\": 0.07070373347899025}, {\"value\": 0.29656840242742905}, {\"value\": -1.6990223081712863}, {\"value\": 0.07748662585523178}, {\"value\": 0.3344161833952177}, {\"value\": 1.5207893234618974}, {\"value\": 0.3022677085931703}, {\"value\": 1.1115037213981824}, {\"value\": -1.120331702362472}, {\"value\": 0.9417835051856921}, {\"value\": -0.4063125009611764}, {\"value\": -1.2951346327062587}, {\"value\": 0.38329213121208155}, {\"value\": -0.762952755101919}, {\"value\": -0.5167399820113233}, {\"value\": -1.2069718565681955}, {\"value\": 1.2087371797761859}, {\"value\": -0.32031589767517205}, {\"value\": 1.2287852971067232}, {\"value\": -1.2705524767541707}, {\"value\": -1.6972965447015749}, {\"value\": 0.5312867443097193}, {\"value\": 0.8937411372944415}, {\"value\": -0.5359103355854555}, {\"value\": -0.1357934378385618}, {\"value\": -0.5192725294669243}, {\"value\": -0.14698978212181402}, {\"value\": 1.1799519128631863}, {\"value\": -0.6011513778368848}, {\"value\": -0.596119578350205}, {\"value\": -0.4179911428112208}, {\"value\": 1.3744513567917773}, {\"value\": -0.05723746810965547}, {\"value\": -0.18853641501558654}, {\"value\": 0.3192993797034956}, {\"value\": -0.29177344148304435}, {\"value\": 1.557489182627912}, {\"value\": 0.3919386810824309}, {\"value\": -0.4212722643808697}, {\"value\": -0.05333760824332897}, {\"value\": 0.09842722088472892}, {\"value\": -0.3832868765184978}, {\"value\": 0.019333602147331957}, {\"value\": 0.4141061734816415}, {\"value\": 0.7742240161827917}, {\"value\": -0.8249122677335294}, {\"value\": -0.7878323858843639}, {\"value\": -0.2722696073514286}, {\"value\": -0.012518454243382531}, {\"value\": 2.1475865815770216}, {\"value\": -0.6480489153998169}, {\"value\": 0.8438838435154863}, {\"value\": 1.027902802677682}, {\"value\": 0.0491771213403822}, {\"value\": -0.8790118053808984}, {\"value\": -0.5909354092511895}, {\"value\": -2.268586284323511}, {\"value\": 0.5482431537953125}, {\"value\": 0.022082348104466243}, {\"value\": -1.5882068012802615}, {\"value\": -0.7718877157323742}, {\"value\": -0.9509998742765892}, {\"value\": 0.03171696369096904}, {\"value\": -0.3858581017245547}, {\"value\": -0.7977446834227309}, {\"value\": -0.8445416308981183}, {\"value\": 0.3877392905372819}, {\"value\": -1.1056723109284277}, {\"value\": -0.5694860976966425}, {\"value\": -0.6689431893371255}, {\"value\": 1.3527128564466266}, {\"value\": 0.4890716990104507}, {\"value\": 0.9341000358663819}, {\"value\": -1.2296901410555567}, {\"value\": 1.0609633991227008}, {\"value\": 1.2000733776962764}, {\"value\": -2.0257224115809387}, {\"value\": -0.16853768911666908}, {\"value\": -1.0417460502762328}, {\"value\": -1.8206542408935693}, {\"value\": -0.3576772886122966}, {\"value\": -1.329799196147215}, {\"value\": 0.6020883707223081}, {\"value\": 2.061421666112648}, {\"value\": 1.050609774680555}, {\"value\": 1.3098193518595984}, {\"value\": 0.00821116214750434}, {\"value\": -0.4208467451601809}, {\"value\": -0.4455098821583642}, {\"value\": 0.059768498639989766}, {\"value\": -1.7051736991400084}, {\"value\": 1.7514226317980806}, {\"value\": 0.5808475587390469}, {\"value\": -0.009891414440199892}, {\"value\": -0.5365243128739997}, {\"value\": -0.8394832328203512}, {\"value\": -0.23772506686641032}, {\"value\": 0.6041095002952158}, {\"value\": -0.6214022120044408}, {\"value\": 0.1728438484966064}, {\"value\": 0.746180643529487}, {\"value\": -0.38560779207451806}, {\"value\": -0.6038144991784918}, {\"value\": -1.317641939891532}, {\"value\": 1.5886218700339276}, {\"value\": 0.601937524966044}, {\"value\": -0.2245659144629426}, {\"value\": -0.7642159335255845}, {\"value\": -2.4733996221631496}, {\"value\": 0.41446050487936625}, {\"value\": 0.5730003940336243}, {\"value\": 0.8122037242561935}, {\"value\": -0.07536347568263038}, {\"value\": 0.09520962369057523}, {\"value\": 0.29627735650026954}, {\"value\": -1.616256050149046}, {\"value\": 0.3424459297629376}, {\"value\": 1.3110624639426993}, {\"value\": -1.4850933707873963}, {\"value\": -0.021680466284825634}, {\"value\": 0.2779734899865009}, {\"value\": 0.9220590118909754}, {\"value\": 0.22752441269923535}, {\"value\": 1.276228246268866}, {\"value\": 1.3102771893517118}, {\"value\": 1.9339064138259459}, {\"value\": 0.43491580223902165}, {\"value\": -1.3521886408468407}, {\"value\": 0.26672508480436424}, {\"value\": 1.0115020731628934}, {\"value\": 1.1970310195408287}, {\"value\": -1.5522218423246663}, {\"value\": -0.038457860580341}, {\"value\": -0.0714107317836528}, {\"value\": -0.10585253185773404}, {\"value\": -1.832455066643614}, {\"value\": -0.6299300406056008}, {\"value\": -1.027358582958077}, {\"value\": -2.070343573102163}, {\"value\": -1.0580013326364304}, {\"value\": -0.8557446729074276}, {\"value\": -0.5841972840120189}, {\"value\": -0.2181400194255827}, {\"value\": -0.3395286792850626}, {\"value\": 0.20519805732546262}, {\"value\": -2.595825423956051}, {\"value\": -0.45427421708847426}, {\"value\": 0.5579702302844135}, {\"value\": 0.5951381557108085}, {\"value\": 0.3413601146521656}, {\"value\": 0.21115036127914935}, {\"value\": -1.708317302938388}, {\"value\": 1.763661149426771}, {\"value\": -2.3229326547659315}, {\"value\": -0.5163817509973495}, {\"value\": 0.32411319069498645}, {\"value\": -0.7280548684475188}, {\"value\": -0.30101177379329064}, {\"value\": 0.10200211399216082}, {\"value\": 0.2526063894480831}, {\"value\": -0.4808239631326987}, {\"value\": -0.44172119871964605}, {\"value\": -0.4362582459494845}, {\"value\": -0.4919407361823658}, {\"value\": -0.11744524809344638}, {\"value\": -0.15149371725232008}, {\"value\": -2.1755600005939}, {\"value\": 0.2578532889819771}, {\"value\": -0.021409075134929883}, {\"value\": 0.26513675291590577}, {\"value\": -0.20585174325986313}, {\"value\": -1.0479270122422883}, {\"value\": 0.11587240669867563}, {\"value\": 0.6502595221305585}, {\"value\": -0.1805423262238981}, {\"value\": -0.29126713552135636}, {\"value\": 0.24346462027256008}, {\"value\": -0.15359520607372437}, {\"value\": -0.5656240342793791}, {\"value\": -1.323144831277338}, {\"value\": -0.07301095148632947}, {\"value\": -0.9903987178052615}, {\"value\": 1.4040872179170576}, {\"value\": 0.334507563345946}, {\"value\": -0.06262948270878813}, {\"value\": 0.5058122636456321}, {\"value\": 0.65686175761621}, {\"value\": 0.8883081661605597}, {\"value\": 1.5042835040983786}, {\"value\": -0.7282790040072281}, {\"value\": -0.5009777944355529}, {\"value\": -0.9455777916141718}, {\"value\": -0.3982719400117765}, {\"value\": 0.40513628471224195}, {\"value\": -1.1092021304299469}, {\"value\": 1.0007648570074144}, {\"value\": 0.1536934673292282}, {\"value\": -0.5108439828724899}, {\"value\": 1.5667226826388378}, {\"value\": 0.6763060384480962}, {\"value\": -1.1391666970766126}, {\"value\": -0.5649553991793794}, {\"value\": -1.1577586474457655}, {\"value\": -0.3742477818354167}, {\"value\": -0.020043194714366698}, {\"value\": -0.938355182085485}, {\"value\": -1.450111628974817}, {\"value\": -0.08272116899902329}, {\"value\": -0.7316891609381339}, {\"value\": 1.7815859928139557}, {\"value\": 0.8118952422311877}, {\"value\": 0.12591677746978794}, {\"value\": -1.1765364614847562}, {\"value\": -0.4981614626217515}, {\"value\": -1.3265982550995687}, {\"value\": -0.7481020575885275}, {\"value\": -0.8992269929538459}, {\"value\": -0.3292671734221255}, {\"value\": 0.46423247284076447}, {\"value\": 0.23290417926615187}, {\"value\": 0.45963110423170145}, {\"value\": 2.8534660145443635}, {\"value\": -0.014683964453908705}, {\"value\": 0.38943373393550573}, {\"value\": -1.0327536903320242}, {\"value\": 0.8118240083531798}, {\"value\": 1.1268220156770086}, {\"value\": 2.0622192292745747}, {\"value\": -1.0312724158572741}, {\"value\": -0.6974416744905033}, {\"value\": 1.7754001765953413}, {\"value\": -0.8227865084502396}, {\"value\": -0.6184090431976108}, {\"value\": -0.911790430434756}, {\"value\": -0.8662107394583014}, {\"value\": 0.18715176149670895}, {\"value\": -0.4236135329411516}, {\"value\": 0.15726256248999648}, {\"value\": -1.0619853005857691}, {\"value\": 0.33563009535848654}, {\"value\": -1.4625054966539348}, {\"value\": 0.3845400213443996}, {\"value\": -0.7418760737230312}, {\"value\": 1.1344953733552463}, {\"value\": 0.6324722596487694}, {\"value\": 0.16324370984371042}, {\"value\": 1.9436567139120087}, {\"value\": -0.5845407869109671}, {\"value\": -1.3222777096799214}, {\"value\": 0.15773837879321673}, {\"value\": -1.4391385992291923}, {\"value\": 0.5091612169188061}, {\"value\": 1.1787795091841453}, {\"value\": 1.5186272682145865}, {\"value\": 0.41694937653090686}, {\"value\": -1.1172530231105222}, {\"value\": -0.6022663453774136}, {\"value\": -1.3886157832944597}, {\"value\": -0.391733132346977}, {\"value\": -0.1750633304769001}, {\"value\": -0.7648974140313346}, {\"value\": -0.5867669971124643}, {\"value\": 1.4806499217736493}, {\"value\": -0.44132073250039555}, {\"value\": -0.688954791617643}, {\"value\": 0.7312126692850078}, {\"value\": -0.2827880154629484}, {\"value\": -0.6366941402704872}, {\"value\": -0.5236713721684974}, {\"value\": -0.4403047129131336}, {\"value\": 0.06902966504846451}, {\"value\": 0.5280805224296052}, {\"value\": -1.5015652555276133}, {\"value\": 2.4405425225186836}, {\"value\": -0.9550915656295719}, {\"value\": -1.5463423764502993}, {\"value\": -0.34360043938227336}, {\"value\": -0.07179269888406298}, {\"value\": -0.872467665089061}, {\"value\": -0.6205813695511322}, {\"value\": 0.08316595013557584}, {\"value\": 0.4060411859478818}, {\"value\": 1.1793866444116297}, {\"value\": 0.14024144458669785}, {\"value\": 1.0227774253278883}, {\"value\": -1.3848355844600084}, {\"value\": -0.9639010749855569}, {\"value\": 0.9526949531297186}, {\"value\": -0.5669078096034303}, {\"value\": 2.6901859341231913}, {\"value\": -1.2065182588802412}, {\"value\": 1.7278467594609357}, {\"value\": 0.24122863276980527}, {\"value\": 0.938256363794393}, {\"value\": -1.7355199724709953}, {\"value\": 0.3644224182018861}, {\"value\": -0.9572235303833478}, {\"value\": -0.12232156579848685}, {\"value\": -0.013612332604471684}, {\"value\": 0.19427581638791624}, {\"value\": 0.09363074160368812}, {\"value\": 0.4019963506057615}, {\"value\": 0.042459097987523536}, {\"value\": -0.6724974536551575}, {\"value\": 0.4058454225086284}, {\"value\": -0.6910372839574572}, {\"value\": 1.5936281040977824}, {\"value\": -0.9528326589162796}, {\"value\": -0.23621442446432134}, {\"value\": -1.7705187070476414}, {\"value\": 0.14978188080177193}, {\"value\": -1.043715703971707}, {\"value\": -1.5212518632274752}, {\"value\": 0.3335653219473763}, {\"value\": 0.05438803518040939}, {\"value\": -1.793664554560991}, {\"value\": 0.6362349561869576}, {\"value\": 0.27884092328527343}, {\"value\": 0.3214390207275623}, {\"value\": -0.8044880539051741}, {\"value\": -0.8733686247160816}, {\"value\": -0.4559787494479}, {\"value\": 0.08238625324159918}, {\"value\": 1.7247662748042913}, {\"value\": -1.0922911604001555}, {\"value\": 1.1177818508347435}, {\"value\": -0.943845125807443}, {\"value\": 1.0117891840331783}, {\"value\": 0.5731292064430612}, {\"value\": -0.41737568948031023}, {\"value\": 0.5894228416486642}, {\"value\": 0.3668930373590764}, {\"value\": 0.8581049394678766}, {\"value\": -1.124051460890984}, {\"value\": 0.4119801830677115}, {\"value\": -0.7362896350289239}, {\"value\": -0.22586563690643657}, {\"value\": 0.6812676324424135}, {\"value\": -0.9486864148155675}, {\"value\": -0.1361583788207289}, {\"value\": 0.2981260780278092}, {\"value\": 0.6246605114831081}, {\"value\": -0.29855583817913006}, {\"value\": 0.3484555637487108}, {\"value\": 1.2814835427244793}, {\"value\": 0.11942890380951424}, {\"value\": 0.7163305742830045}, {\"value\": 0.26645070715245445}, {\"value\": 1.0995369208227725}, {\"value\": 0.34711643224731004}, {\"value\": 1.2604667094884234}, {\"value\": -1.1954697066390727}, {\"value\": -1.0546512137818236}, {\"value\": 0.12362662677510092}, {\"value\": -1.0452165574221242}, {\"value\": -0.3702427698305438}, {\"value\": 1.675071974252029}, {\"value\": 0.54737710545082}, {\"value\": 0.022145539641830296}, {\"value\": -0.31596878648331045}, {\"value\": 0.35588249108177433}, {\"value\": 0.11474467435701659}, {\"value\": -0.4615038607936195}, {\"value\": -0.2186990349607414}, {\"value\": -1.4817356577535983}, {\"value\": -1.3397226197017562}, {\"value\": 0.14246918810701834}, {\"value\": 1.0539462623860205}, {\"value\": 0.26161996197885307}, {\"value\": -0.6566235247822253}, {\"value\": 1.2971225486106004}, {\"value\": 0.07131348587073363}, {\"value\": 0.7264402137690206}, {\"value\": -1.0768453734770196}, {\"value\": 0.5399555547727029}, {\"value\": 1.5020639402720373}, {\"value\": 1.1146741380818062}, {\"value\": 0.7658302657953088}, {\"value\": -0.3064492045562559}, {\"value\": -1.054170908515404}, {\"value\": -0.3547830252053555}, {\"value\": -1.1583998848123351}, {\"value\": 0.11672794953997147}, {\"value\": -0.36238833862112474}, {\"value\": 2.140443248451501}, {\"value\": -3.6014261561016747}, {\"value\": 0.1750557090882297}, {\"value\": -1.7746913060236778}, {\"value\": 0.1258295438657817}, {\"value\": -1.1865262065025717}, {\"value\": 1.4903371080562167}, {\"value\": -0.20782222854872237}, {\"value\": -0.20369747996807108}, {\"value\": -0.26421630286282183}, {\"value\": -1.4930605823641145}, {\"value\": -0.27341181100887263}, {\"value\": 1.3523659085869522}, {\"value\": -1.8295052525311655}, {\"value\": -0.49025474261423097}, {\"value\": 0.9815458004995556}, {\"value\": -1.6874281409580665}, {\"value\": -1.3417504911972522}, {\"value\": 1.4583603992934049}, {\"value\": -0.9706972484506129}, {\"value\": 2.296516634660745}, {\"value\": -1.1685728604090957}, {\"value\": -0.82153141880861}, {\"value\": 1.116233099312015}, {\"value\": -1.666901834631809}, {\"value\": 0.8635922343284897}, {\"value\": -0.7423449712395626}, {\"value\": -1.0324048191249324}, {\"value\": -1.6959287799914184}, {\"value\": -2.757974145348566}, {\"value\": 0.9131037871549782}, {\"value\": 0.4986134711880192}, {\"value\": 0.2143517375049287}, {\"value\": -1.3306165936954546}, {\"value\": 0.33031691163232324}, {\"value\": 0.15187282404603253}, {\"value\": 0.27424047220885417}, {\"value\": -0.6301075973547614}, {\"value\": -0.24632909503048986}, {\"value\": -1.4049015595609684}, {\"value\": 0.279759685043677}, {\"value\": -0.6897187126040599}, {\"value\": 0.15968488957105262}, {\"value\": -1.3439883601854323}, {\"value\": -0.43928217662682134}, {\"value\": -0.9482902876014047}, {\"value\": 1.444595509047357}, {\"value\": -1.2099480295283485}, {\"value\": 0.9788538696087329}, {\"value\": 1.3056473645042266}, {\"value\": 1.0454104658517265}, {\"value\": -0.5367734738144713}, {\"value\": -0.28466480396553956}, {\"value\": 1.054708236437223}, {\"value\": -0.33512303509521657}, {\"value\": -0.966002929764745}, {\"value\": 1.0286649807336656}, {\"value\": -0.7141462401165822}, {\"value\": -0.09157389162136238}, {\"value\": -0.599672928586193}, {\"value\": 1.1809387206438904}, {\"value\": -0.012383258842780518}, {\"value\": -1.0828688445491637}, {\"value\": -0.011593838552894883}, {\"value\": -0.19605805540790516}, {\"value\": -0.3857423705227343}, {\"value\": 2.142268170220496}, {\"value\": -0.13176594516230522}, {\"value\": 1.2488512149878224}, {\"value\": -0.7045887281495974}, {\"value\": 0.0406885324513469}, {\"value\": 0.16561865931320996}, {\"value\": 0.2962311887752327}, {\"value\": -0.8454664712466083}, {\"value\": 1.065949761195978}, {\"value\": 0.2732397465834272}, {\"value\": -1.291791044355121}, {\"value\": -0.10092305399805893}, {\"value\": 0.9697864322410139}, {\"value\": -0.6654036070734267}, {\"value\": 0.12978712738555817}, {\"value\": -0.12193130239085428}, {\"value\": 0.05966981909599543}, {\"value\": 0.6665392093363582}, {\"value\": -0.9577127002004694}, {\"value\": -0.007027504107165572}, {\"value\": 0.44280896925342605}, {\"value\": 0.5273249704719255}, {\"value\": 1.0632909269957354}, {\"value\": 1.7245970943270363}, {\"value\": -1.8520141824442973}, {\"value\": -0.3756145987344427}, {\"value\": -2.416629417204833}, {\"value\": 1.622657712414351}, {\"value\": 0.8218398884717419}, {\"value\": -0.5728774780031538}, {\"value\": -0.9036219179674092}, {\"value\": 0.16947439090886246}, {\"value\": 0.5418916534030245}, {\"value\": 0.04276254057281152}, {\"value\": -0.2032427774586596}, {\"value\": -0.3977680419563811}, {\"value\": 0.10187486482964803}, {\"value\": -0.014939542598636814}, {\"value\": 0.5572235460746848}, {\"value\": 0.3399570880587865}, {\"value\": -0.80926019136156}, {\"value\": 0.19904803763184226}, {\"value\": -0.03374968236305079}, {\"value\": -0.4038968485797345}, {\"value\": 0.09052017537086042}, {\"value\": 0.9477005477737136}, {\"value\": -1.0000515443866533}, {\"value\": 0.21199194465991175}, {\"value\": -1.0591747467441834}, {\"value\": -0.8442278019409029}, {\"value\": 0.10355199568284636}, {\"value\": 1.3998782390461446}, {\"value\": -0.06752921110703033}, {\"value\": -0.7909593371870579}, {\"value\": -0.11849662358211076}, {\"value\": -0.6903490083241054}, {\"value\": 1.417105667932176}, {\"value\": -2.014556880433106}, {\"value\": -0.08858946913362588}, {\"value\": 0.8953536670824547}, {\"value\": 2.6303733737678954}, {\"value\": 0.2955199269188698}, {\"value\": -0.42747444345753427}, {\"value\": -0.1125197306691805}, {\"value\": 2.0864856947862473}, {\"value\": 0.4382682751899934}, {\"value\": -1.5676361284495355}, {\"value\": 1.657987696597046}, {\"value\": -0.9671742396967784}, {\"value\": 1.2226464167211808}, {\"value\": 0.2079248489008196}, {\"value\": 0.6674013759049029}, {\"value\": -0.14969536292200888}, {\"value\": -0.28284208481286655}, {\"value\": -0.270729073363465}, {\"value\": -0.4652151844591788}, {\"value\": 0.36638320432157523}, {\"value\": 0.07327154855046286}, {\"value\": -0.6388121339765452}, {\"value\": -0.4929000388703719}, {\"value\": 0.012671389755182267}, {\"value\": 0.8180660749125681}, {\"value\": 1.9263069342600108}, {\"value\": 1.5712201421710839}, {\"value\": 1.1395920774965453}, {\"value\": 0.2368639061282832}, {\"value\": -2.0276387944451395}, {\"value\": -2.2522076038533494}, {\"value\": 1.9285360844838286}, {\"value\": 0.28095341904205234}, {\"value\": -2.222303177719774}, {\"value\": -0.9561224975151921}, {\"value\": 1.0602495114370063}, {\"value\": 0.5967294452773431}, {\"value\": 0.6585158981806488}, {\"value\": -0.6889290453923856}, {\"value\": 0.9338852213720997}, {\"value\": 1.2548896508499177}, {\"value\": 0.9588481170371993}, {\"value\": 0.1455651055521297}, {\"value\": 1.0464285343514035}, {\"value\": 0.7268712746331732}, {\"value\": -0.5789219176419538}, {\"value\": 0.1327810853343961}, {\"value\": -2.1519197994012447}, {\"value\": -0.9385070016736143}, {\"value\": 1.1626999011617933}, {\"value\": 1.2987764788042704}, {\"value\": -0.09998193131972453}, {\"value\": -0.18499017316071917}, {\"value\": -0.011113777803186151}, {\"value\": -0.837031456739123}, {\"value\": 0.44927456889355794}, {\"value\": -1.536945572062951}, {\"value\": 0.5586653147412862}, {\"value\": -0.8891160133031569}, {\"value\": -1.3844498871484507}, {\"value\": -0.393907056842425}, {\"value\": -2.4827021801650497}, {\"value\": -1.1989526027799273}, {\"value\": 0.1600405929608694}, {\"value\": -1.2070553402590807}, {\"value\": -0.4585303658924749}, {\"value\": -1.7035398974392855}, {\"value\": -0.43940351626704083}, {\"value\": 0.018953355930092217}, {\"value\": -2.1108991929519174}, {\"value\": 2.3878478260191547}, {\"value\": 1.9170124424429658}, {\"value\": 0.18708141484415444}, {\"value\": -0.020013282044353063}, {\"value\": 0.11412922723221991}, {\"value\": 0.2796218335316679}, {\"value\": 0.31818705899689187}, {\"value\": 0.07039104895399982}, {\"value\": 2.086144539947711}, {\"value\": 1.5555372711093103}, {\"value\": 0.837585218343937}, {\"value\": 0.38984984160100145}, {\"value\": 0.15841858121956354}, {\"value\": 0.7453241987504021}, {\"value\": 0.8574669492043967}, {\"value\": 0.02931713201317324}, {\"value\": 0.5103765960031718}, {\"value\": -0.35028146458369075}, {\"value\": 0.8211794865279988}, {\"value\": -0.27746832682482264}, {\"value\": 1.0662555442666346}, {\"value\": 2.1212592639314822}, {\"value\": 0.6138252458083608}, {\"value\": -0.5590350515075566}, {\"value\": 1.2263244632366506}, {\"value\": -1.535298080634567}, {\"value\": -0.24594332001836958}, {\"value\": 0.9799214265061786}, {\"value\": 0.6050771308606107}, {\"value\": -0.792062715341048}, {\"value\": 1.695178528194672}, {\"value\": 0.6313171825715576}, {\"value\": 1.4193397074060319}, {\"value\": 0.06375698233765509}, {\"value\": 1.6575220635432573}, {\"value\": 0.17217512231524765}, {\"value\": -0.5265282063943084}, {\"value\": -0.15773788785970502}, {\"value\": 1.4475517736657453}, {\"value\": 0.05570981226578141}, {\"value\": 1.0125098557012544}, {\"value\": -1.330160561295703}, {\"value\": -0.4987888603878118}, {\"value\": 0.7050043804860723}, {\"value\": -0.2753091980773527}, {\"value\": 0.47319108202468635}, {\"value\": 0.21314806990593124}, {\"value\": -0.29490126138853445}, {\"value\": -0.019802405155629085}, {\"value\": 0.42992488752468677}, {\"value\": -0.5342973065944956}, {\"value\": -0.6129513782529792}, {\"value\": 0.485312073626788}, {\"value\": 0.9354201675101828}, {\"value\": -1.176228082385834}, {\"value\": 0.5528537378497327}, {\"value\": 0.047722246372474686}, {\"value\": -0.652018986182252}, {\"value\": 0.7252707110679958}, {\"value\": 1.6225717038599519}, {\"value\": -2.3701214509948327}, {\"value\": 1.232382628139996}, {\"value\": 0.04658215546965847}, {\"value\": 0.11571669576168787}, {\"value\": -0.3567753919579618}, {\"value\": 1.3293973781364705}, {\"value\": -0.05790778541301793}, {\"value\": -0.1947731877294828}, {\"value\": 1.1924000359347202}, {\"value\": -1.9843872745195523}, {\"value\": 0.46356925917680925}, {\"value\": -0.25866936143632974}, {\"value\": 0.12637951143635567}, {\"value\": -0.44225573858092027}, {\"value\": 0.4344910339843813}, {\"value\": 0.4967585745289719}, {\"value\": -1.5584372862016582}, {\"value\": -0.8163394622123452}, {\"value\": 0.2024445863325141}, {\"value\": -0.9654478687665293}, {\"value\": 0.13649677446321234}, {\"value\": 0.4126423706019311}, {\"value\": -1.3050098847686942}, {\"value\": -0.6874762703695854}, {\"value\": 0.02252145605605055}, {\"value\": 0.1968157079998854}, {\"value\": 0.903775231302848}, {\"value\": 0.25833279468356296}, {\"value\": -1.3064145052281828}, {\"value\": 0.8142042453696214}, {\"value\": -0.03701608704391925}, {\"value\": -0.18469885718608936}, {\"value\": 0.6487271292319782}, {\"value\": 2.081776753658655}, {\"value\": 0.18385734040685514}, {\"value\": 0.7912023387369974}, {\"value\": -1.3638503419987542}, {\"value\": -0.8077495046706817}, {\"value\": 1.8104349734223304}, {\"value\": 0.6085040002543248}, {\"value\": 0.4591037623044299}, {\"value\": 0.6147023236092942}, {\"value\": -0.3920345414939914}, {\"value\": -1.3932997316641664}, {\"value\": -0.37133143098484267}, {\"value\": -0.1571225682293584}, {\"value\": 0.029509931519437607}, {\"value\": 0.4665104976344277}, {\"value\": 0.4192098192965609}, {\"value\": 1.1595164404922882}, {\"value\": -1.3956591340322135}, {\"value\": 2.186359968919359}, {\"value\": 0.06904661456919746}, {\"value\": -0.9425007725123908}, {\"value\": 0.3893903829266586}, {\"value\": -1.380642381380331}, {\"value\": -0.07608421994887787}, {\"value\": -0.21456886613479265}, {\"value\": 1.3410035340964572}, {\"value\": -1.4067435755851179}, {\"value\": 0.6811760346136724}, {\"value\": -1.6328953897218212}, {\"value\": 0.12982448925305456}, {\"value\": -0.6640573315800011}, {\"value\": 0.07285232055696762}, {\"value\": 0.37640577001060194}, {\"value\": 0.29345979527767146}, {\"value\": -1.510219874612885}, {\"value\": -1.2410597346413497}, {\"value\": -1.2229622507775062}, {\"value\": -0.10866800993506545}, {\"value\": 0.07241385858200576}, {\"value\": 0.23715952681968397}, {\"value\": 1.700800929249571}, {\"value\": 0.15254519991948548}, {\"value\": 1.2905030671104945}, {\"value\": -0.7417046056183145}, {\"value\": -0.8370463948841754}, {\"value\": -0.6800284283276763}, {\"value\": 0.15061033982524438}, {\"value\": -1.0876358587665602}, {\"value\": 1.3509100902889366}, {\"value\": 0.8291393125880361}, {\"value\": -1.0069402808654497}, {\"value\": -0.0793109826455972}, {\"value\": -1.9897293297912964}, {\"value\": 0.15002753657645448}, {\"value\": 0.7885631226974119}, {\"value\": 0.2149979947085062}, {\"value\": -0.4972464960155454}, {\"value\": -0.5114507934216378}, {\"value\": 1.2545406636431844}, {\"value\": 0.8809477194346516}, {\"value\": -0.1823390263545005}, {\"value\": 0.10227482025313622}, {\"value\": 0.51483848793266}, {\"value\": 0.753178402652129}, {\"value\": -0.10054485765918167}, {\"value\": -0.1907387186288571}, {\"value\": -0.36916711332847224}, {\"value\": 0.6548575329087236}, {\"value\": -0.4469402294622756}, {\"value\": -0.45205331886271}, {\"value\": 1.6239537321132995}, {\"value\": -0.8009224771017183}, {\"value\": -0.4803166192981159}, {\"value\": 0.8349926919537326}, {\"value\": -0.6800165877367781}, {\"value\": -0.531897515938624}, {\"value\": -0.49602147540576624}, {\"value\": -1.0163476271175866}, {\"value\": -1.128265892575405}, {\"value\": 0.686434309019146}, {\"value\": -1.841616230363092}, {\"value\": -1.216881186383796}, {\"value\": -1.107861261488187}, {\"value\": 0.4103081568226884}, {\"value\": 0.44097577470669913}, {\"value\": 0.09918284972302469}, {\"value\": 0.7664721689467443}, {\"value\": -0.831307347071493}, {\"value\": -2.393035840756279}, {\"value\": -0.929417792756657}, {\"value\": 0.7767404621624288}, {\"value\": -0.27684793817673975}, {\"value\": 0.12016149656254413}, {\"value\": 0.6313603975132288}, {\"value\": 0.12577534988604117}, {\"value\": -0.8304415075564787}, {\"value\": -0.6314389316670138}, {\"value\": 0.8014580789286809}, {\"value\": -0.2519142304694079}, {\"value\": -0.9970568755298912}, {\"value\": 0.23464345365752665}, {\"value\": -0.6091394893396284}, {\"value\": 2.7722958944762754}, {\"value\": -0.7283306827345255}, {\"value\": 0.5266276663562768}, {\"value\": -1.1448296989401598}, {\"value\": 0.1223742927896338}, {\"value\": -0.673073233662768}, {\"value\": -1.9867529782574207}, {\"value\": -1.163873130709567}, {\"value\": 1.6203458124243377}, {\"value\": -0.019768012365081}, {\"value\": 0.175803745426341}, {\"value\": -1.2458496474675615}, {\"value\": 0.29899988661313925}, {\"value\": 0.38295975405260874}, {\"value\": 1.0604897116916594}, {\"value\": 1.8543186520402715}, {\"value\": 1.685175039379393}, {\"value\": -0.4025397472678339}, {\"value\": -0.7128603563611637}, {\"value\": 1.5371266273812187}, {\"value\": 0.8502047520880534}, {\"value\": 0.041354710014940566}, {\"value\": -0.7503495141876317}, {\"value\": 1.0286203656360033}, {\"value\": -0.29790984468756876}, {\"value\": 1.4290506432487047}, {\"value\": 0.9902072150004685}, {\"value\": -0.1604814100994954}, {\"value\": -0.19615460132898407}, {\"value\": -0.4240027225741421}, {\"value\": -0.5834224999506084}, {\"value\": -0.4129976969207282}, {\"value\": 1.0752245942707275}, {\"value\": 0.02842068338282578}, {\"value\": 1.2280331819178492}, {\"value\": 1.0310850590290113}, {\"value\": -0.386122708399127}, {\"value\": 0.6661300565478514}, {\"value\": -2.4276145696299793}, {\"value\": 0.04901656444003463}, {\"value\": -1.0626654407556333}, {\"value\": -0.5068906166657832}, {\"value\": -0.6519559428312558}, {\"value\": 0.1420504241236928}, {\"value\": -0.508403297543491}, {\"value\": 0.22625724859835097}, {\"value\": -0.7032377053117409}, {\"value\": -1.649204392656619}, {\"value\": 0.7852645180826919}, {\"value\": -1.183320196838883}, {\"value\": 1.4967412445842025}, {\"value\": -1.259833324999429}, {\"value\": 0.3203142920745171}, {\"value\": -0.32409103072144224}, {\"value\": -0.2653499255625228}, {\"value\": 0.5873340286440975}, {\"value\": 0.5863360185269645}, {\"value\": -0.9183442604208817}, {\"value\": -1.1552493869720377}, {\"value\": 1.66651366864628}, {\"value\": 0.25756644368468895}, {\"value\": -0.3601957516093577}, {\"value\": 0.26474308051009865}, {\"value\": -1.049893747750563}, {\"value\": 0.1176053595135416}, {\"value\": 0.8550259155611867}, {\"value\": 1.4343959891404023}, {\"value\": 0.29150166952057405}, {\"value\": 0.7137868322354529}, {\"value\": -0.13761864243768232}, {\"value\": -0.8951528429814369}, {\"value\": 0.6843074276378077}, {\"value\": -0.5039508621335892}, {\"value\": 0.08018914866879628}, {\"value\": -1.0053080484397978}, {\"value\": -0.5801795831931563}, {\"value\": -0.7183271982931236}, {\"value\": -1.893992617813387}, {\"value\": -0.09853745911061515}, {\"value\": -0.6700264310723729}, {\"value\": -0.9778490941427589}, {\"value\": 0.049332138767039554}, {\"value\": 0.9596479817544105}, {\"value\": 0.06668461205730455}, {\"value\": -0.3953891150536653}, {\"value\": -1.3805403669917484}, {\"value\": -0.06544678052893585}, {\"value\": 1.6741198044602783}, {\"value\": 0.9546978421223475}, {\"value\": 0.11990782953451108}, {\"value\": 0.8631175788281318}, {\"value\": 1.2197042987644795}, {\"value\": 0.003020269765403123}, {\"value\": 0.7452412357523154}, {\"value\": -0.9644514162515083}, {\"value\": 0.3556874005352515}, {\"value\": 1.1440460416522953}, {\"value\": 0.23551398465429071}, {\"value\": -0.17846021620687985}, {\"value\": -1.0793651591737246}, {\"value\": -0.22165239938366654}, {\"value\": 1.5967017072372276}, {\"value\": 0.3130284928997546}, {\"value\": -0.3604470432160849}, {\"value\": 0.42042092160625777}, {\"value\": 0.258614219281325}, {\"value\": -0.6505659364597892}, {\"value\": 0.5687511466809895}, {\"value\": -0.01862901896764131}, {\"value\": 0.3295350555689806}, {\"value\": 0.5698394463983424}, {\"value\": 0.97568829755378}, {\"value\": -0.016016889396805577}, {\"value\": -0.846468161039092}, {\"value\": 0.597394389759019}, {\"value\": -1.3386680779945945}, {\"value\": 0.25585448401619476}, {\"value\": 1.4564673051484855}, {\"value\": -0.4695649503465229}, {\"value\": -1.1210464896099805}, {\"value\": 0.18046662623163617}, {\"value\": 0.4348241448455151}, {\"value\": 0.16672852713115355}, {\"value\": 0.11464834940381474}, {\"value\": -0.07501420850379449}, {\"value\": 0.6698599934867341}, {\"value\": 0.4849181552808672}, {\"value\": -0.02707205461370171}, {\"value\": -0.2986830760533549}, {\"value\": 0.7023619138793674}, {\"value\": 0.6822651196417546}, {\"value\": 0.12640512820037988}, {\"value\": -1.4363447298573278}, {\"value\": -0.4946861643688875}, {\"value\": -0.18008636405325096}, {\"value\": -0.9192910626817762}, {\"value\": 1.691973000647136}, {\"value\": -0.4918073425990298}, {\"value\": 0.1914995632619068}, {\"value\": 0.7313156089946028}, {\"value\": 0.2926786740865181}, {\"value\": 0.5953896029102036}, {\"value\": -0.11079063419252011}, {\"value\": 0.8346410764831325}, {\"value\": -0.1317347103859335}, {\"value\": -0.03729116600122078}, {\"value\": 0.413194798229314}, {\"value\": 0.9919616293435186}, {\"value\": 1.0218768913749428}, {\"value\": -0.880413683970477}, {\"value\": 0.0032396490484771037}, {\"value\": -0.06326063254142873}, {\"value\": 1.488997258737297}, {\"value\": 1.1959737613246377}, {\"value\": 0.3750541726596356}, {\"value\": 0.038122167305810105}, {\"value\": 1.2570148296954131}, {\"value\": 0.2923964913788251}, {\"value\": 0.26169271129106453}, {\"value\": 0.04109558021607171}, {\"value\": -0.7978548467250333}, {\"value\": -0.35016087957473335}, {\"value\": -1.1505889890335113}, {\"value\": -0.46751165644742787}, {\"value\": -1.403353915333426}, {\"value\": -0.37685451176519374}, {\"value\": 0.9351613759416404}, {\"value\": 0.2797564276687102}, {\"value\": 0.960558942444874}, {\"value\": 1.0798004549913198}, {\"value\": -1.7919625802047305}, {\"value\": 0.31869750378671563}, {\"value\": 0.09093728679343105}, {\"value\": 1.7371567353668753}, {\"value\": 0.4221206937170982}, {\"value\": -0.6229096098507404}, {\"value\": -0.06424070903056268}, {\"value\": 0.11278741158740611}, {\"value\": -0.29644350114085566}, {\"value\": -0.6477258314997694}, {\"value\": 0.27607537709629104}, {\"value\": -0.4056260095850795}, {\"value\": 0.40882416160685}, {\"value\": 0.18857327599132082}, {\"value\": 0.09767097106818452}, {\"value\": -1.4296486039842355}, {\"value\": 1.0444962028352618}, {\"value\": 1.7964695592701607}, {\"value\": -0.33648987265898006}, {\"value\": -0.27356505459276825}, {\"value\": 0.03212363653050415}, {\"value\": -0.09444631288577421}, {\"value\": 0.040901882567967666}, {\"value\": 0.22378403397769292}, {\"value\": 0.5592354432987131}, {\"value\": 0.30301123657897755}, {\"value\": -0.4766697285401765}, {\"value\": -0.8079546620116684}, {\"value\": 0.1415360704151103}, {\"value\": -2.157648634107405}, {\"value\": -1.3770500962853884}, {\"value\": -0.25550366627679894}, {\"value\": 0.9503291692054902}, {\"value\": -0.5145155845395041}, {\"value\": 0.0783099860900675}, {\"value\": 0.5770013065660237}, {\"value\": 1.5506902677894068}, {\"value\": -0.39221523888216125}, {\"value\": 0.30669779308759876}, {\"value\": 0.6717327519472782}, {\"value\": -0.9621005463271927}, {\"value\": 0.322447408741683}, {\"value\": -0.665032703806348}, {\"value\": 0.3225465692295755}, {\"value\": 0.35318661690536396}, {\"value\": 1.3396303775786293}, {\"value\": -0.587938531546553}, {\"value\": 0.7461829149368949}, {\"value\": -0.42436235219750995}, {\"value\": -1.071798834819084}, {\"value\": -0.5581000856041053}, {\"value\": -0.5761900914359809}, {\"value\": -0.5764766457880596}, {\"value\": -0.18715672949144743}, {\"value\": 0.5907720748184875}, {\"value\": -0.6247045152258146}, {\"value\": -0.7395463401557918}, {\"value\": -0.17547371251607147}, {\"value\": 1.2256590610286993}, {\"value\": -0.37975531944972774}, {\"value\": -0.7805491033391428}, {\"value\": -0.9596244672659504}, {\"value\": -0.06308970047228213}, {\"value\": 0.4281647948222908}, {\"value\": -1.199178232493459}, {\"value\": 1.0056672186906623}, {\"value\": -0.37372918229649527}, {\"value\": -1.2475804380627717}, {\"value\": -0.41568001837971}, {\"value\": 0.13867685323785742}, {\"value\": -0.1544646038854809}, {\"value\": -0.04752755345814827}, {\"value\": -1.4055757834882052}, {\"value\": 0.7992152438931648}, {\"value\": -0.1055507306235358}, {\"value\": 0.14235976845009662}, {\"value\": -0.30181628641543895}, {\"value\": 1.2441105058314468}, {\"value\": -0.14686952716352153}, {\"value\": -0.7932089318206951}, {\"value\": 0.7596026646885085}, {\"value\": 1.4276286454797718}, {\"value\": -0.6022667610883065}, {\"value\": -0.6126028902015694}, {\"value\": 0.11724362023955706}, {\"value\": -0.26704100478746284}, {\"value\": -0.01840923564626303}, {\"value\": 0.422376582072966}, {\"value\": 0.5358712498082394}, {\"value\": 1.116909076170801}, {\"value\": -0.4343715634348508}, {\"value\": -0.43426937416060857}, {\"value\": 0.8738282825166128}, {\"value\": -0.49605755753597547}, {\"value\": 1.6008175609909312}, {\"value\": 0.7857586750224043}, {\"value\": -0.906253519065994}, {\"value\": -0.17332155089109627}, {\"value\": -1.8454056459870556}, {\"value\": 0.4857771175681766}, {\"value\": 0.6781446872996334}, {\"value\": -1.4202201497278182}, {\"value\": 1.391191082360456}, {\"value\": -0.4292024953357282}, {\"value\": -0.42148405927149846}, {\"value\": -0.11730951897469619}, {\"value\": -1.8699285107962953}, {\"value\": 0.49449146208773276}, {\"value\": 1.520039009135969}, {\"value\": 1.0730805311758458}, {\"value\": 1.1215803579119477}, {\"value\": 0.8700437384675699}, {\"value\": -1.080387054300003}, {\"value\": -0.5655373896719332}, {\"value\": -0.40281627992398245}, {\"value\": 2.141747535528472}, {\"value\": -0.3137487439678305}, {\"value\": -0.27147801891091644}, {\"value\": -0.2027458109974011}, {\"value\": -1.5285181081236436}, {\"value\": 1.5068043912478297}, {\"value\": 1.724217157226284}, {\"value\": -1.4232771827690422}, {\"value\": 1.0773127121288928}, {\"value\": 0.26264195082364217}, {\"value\": -1.1095972419805793}, {\"value\": -1.4976172340359544}, {\"value\": 1.9008580022758526}, {\"value\": 0.21922684001287354}, {\"value\": -0.3983983664989799}, {\"value\": 0.5274817333195546}, {\"value\": -1.828671665352327}, {\"value\": 0.3372319468286337}, {\"value\": -1.6315089884916703}, {\"value\": 1.0650946692149268}, {\"value\": 0.01043819140192682}, {\"value\": -1.0810301334583121}, {\"value\": 1.4338504438098836}, {\"value\": -1.3955158334048219}, {\"value\": 0.12597868138626814}, {\"value\": 0.6012836629383065}, {\"value\": 0.06980457109532072}, {\"value\": -0.6913623320670177}, {\"value\": -0.5984660499571791}, {\"value\": -0.09996189340345175}, {\"value\": -1.22622303578554}, {\"value\": -0.1596807904607517}, {\"value\": -0.22379707164535872}, {\"value\": 0.006692881596998134}, {\"value\": 0.42361959948988087}, {\"value\": -1.1520528907846175}, {\"value\": 0.7778968109607355}, {\"value\": 0.14840683346702077}, {\"value\": 1.20740211906583}, {\"value\": 0.8805244943896663}, {\"value\": 0.004403554202013224}, {\"value\": -1.5737717986332498}, {\"value\": -0.3213185122691636}, {\"value\": -1.2435195489109117}, {\"value\": 2.5028775434987574}, {\"value\": -0.5039007417810167}, {\"value\": -0.6402904152002061}, {\"value\": -0.11015018760709984}, {\"value\": -0.862046364060728}, {\"value\": 1.6075280379382708}, {\"value\": 0.9981330341603949}, {\"value\": 1.1853346349810958}, {\"value\": -0.2335018175848256}, {\"value\": 0.5873273596959242}, {\"value\": 0.4464839903756368}, {\"value\": 1.961645434860484}, {\"value\": -0.5665377957910084}, {\"value\": 2.511334470921026}, {\"value\": -2.9897063127522054}, {\"value\": -0.10345557589777818}, {\"value\": -0.009059423933096025}, {\"value\": 3.3132873085241603}, {\"value\": -0.8510590905844847}, {\"value\": 0.47402548841665754}, {\"value\": 0.9026993940997535}, {\"value\": 0.8714143169605552}, {\"value\": 0.20553609427798536}, {\"value\": 0.8791118589172173}, {\"value\": 1.109978334512216}, {\"value\": -0.3392689283228903}, {\"value\": 0.3999459159468368}, {\"value\": -0.04920485713697531}, {\"value\": 1.476469077118389}, {\"value\": 1.0445743922228843}, {\"value\": 0.5349938224866874}, {\"value\": 0.7559764972407678}, {\"value\": 0.3600056139673968}, {\"value\": 0.03981445231777103}, {\"value\": 0.122925661884099}, {\"value\": -0.4342245178698914}, {\"value\": 1.348023151896017}, {\"value\": 0.4970369252394328}, {\"value\": 0.5557733918655721}, {\"value\": -0.3915789821573449}, {\"value\": -0.2764398596366634}, {\"value\": 0.8581089426739674}, {\"value\": 1.2161939922853844}, {\"value\": 0.35588274600448244}, {\"value\": -1.1419284234095561}, {\"value\": 0.814425521346001}, {\"value\": 0.3043624017389056}, {\"value\": -0.2685058492579624}, {\"value\": -1.0392481947868915}, {\"value\": -2.0031636262971624}, {\"value\": 0.10674501636309706}, {\"value\": -1.5976468072217196}, {\"value\": -0.05075476076923378}, {\"value\": 1.2017820281751899}, {\"value\": 0.5166944212339446}, {\"value\": -2.078063594714343}, {\"value\": -0.05148094822903982}, {\"value\": 0.406597661290711}, {\"value\": 0.01754055824684344}, {\"value\": -0.7409529398551427}, {\"value\": 0.5376452338296281}, {\"value\": 0.5785170669869957}, {\"value\": 0.5467202763213536}, {\"value\": -0.43044152880161435}, {\"value\": -0.21787691354296104}, {\"value\": -1.239939867763066}, {\"value\": -0.40572446115269645}, {\"value\": -1.3752353524033285}, {\"value\": -0.23235048289695368}, {\"value\": 1.5749102127763717}, {\"value\": 1.5608046945384928}, {\"value\": -0.7098786461206853}, {\"value\": 1.895411608075249}, {\"value\": 0.128410469256181}, {\"value\": 0.43630227120034853}, {\"value\": -1.558846012511737}, {\"value\": -1.630397666305128}, {\"value\": -0.44135917777032135}, {\"value\": 0.964414515967857}, {\"value\": -0.11857604073429143}, {\"value\": -0.43387297367877287}, {\"value\": 0.8636752944595723}, {\"value\": 0.12957558607189762}, {\"value\": -1.6773046056622904}, {\"value\": -0.8025020041204293}, {\"value\": -0.0884239171387593}, {\"value\": 0.6556003393117154}, {\"value\": 1.6787571289728527}, {\"value\": 0.8245886982152444}, {\"value\": 0.1366334789983265}, {\"value\": 0.16766920480547656}, {\"value\": 0.7513793124794014}, {\"value\": -0.9291582845461563}, {\"value\": 0.9490317005274644}, {\"value\": -1.1221305614682675}, {\"value\": -1.0655636685448961}, {\"value\": -1.2761125073437913}, {\"value\": 0.9849311524376904}, {\"value\": 0.1722128726418267}, {\"value\": 0.02614204099650388}, {\"value\": 0.3959020709123855}, {\"value\": -0.5503310345651482}, {\"value\": 0.19423599120524893}, {\"value\": 0.19513794217406796}, {\"value\": -0.6684700008759548}, {\"value\": -0.9190610430767107}, {\"value\": 0.01863050832871715}, {\"value\": -0.1686525862391124}, {\"value\": 0.7117827720247452}, {\"value\": 1.55837672781856}, {\"value\": -1.3460690768990051}, {\"value\": -0.4790041348569152}, {\"value\": -0.1100324517795177}, {\"value\": -0.14443573645395444}, {\"value\": 0.5068643192901475}, {\"value\": 0.2216678972297041}, {\"value\": -0.41429528901036006}, {\"value\": 0.31636565257945065}, {\"value\": 0.2380216826975196}, {\"value\": -2.353762526936814}, {\"value\": 0.3245713950195573}, {\"value\": 0.20698503862267414}, {\"value\": 0.05175367942938405}, {\"value\": 0.8412554159851756}, {\"value\": 1.0283673128240154}, {\"value\": -0.7395825225389642}, {\"value\": -0.09920710327572804}, {\"value\": -1.1098352232210733}, {\"value\": -1.4346358631707585}, {\"value\": -0.11986464641024662}, {\"value\": -1.318942469251561}, {\"value\": 0.7410754131025495}, {\"value\": -0.3617059202855143}, {\"value\": 3.2518949235433765}, {\"value\": -0.6692854295122482}, {\"value\": 0.9577895341859333}, {\"value\": -1.0655670461266196}, {\"value\": -0.8240123200704146}, {\"value\": 0.8227063053034201}, {\"value\": -1.4890538043551518}, {\"value\": -0.30014547920039353}, {\"value\": -0.28675012103196784}, {\"value\": -1.7736258587831724}, {\"value\": 1.0821224177706108}, {\"value\": 0.11107025053258024}, {\"value\": 1.6131384046666775}, {\"value\": 1.8877262711427807}, {\"value\": 0.782956796508814}, {\"value\": -1.4490895303595148}, {\"value\": -0.6627282084322941}, {\"value\": -0.8138060810393378}, {\"value\": -0.39602281551288054}, {\"value\": 0.2920459263868448}, {\"value\": -0.0647036700662145}, {\"value\": -1.035929763241467}, {\"value\": 1.3849452895746586}, {\"value\": 0.8685562555075028}, {\"value\": 2.392564556304995}, {\"value\": 0.14297315937274324}, {\"value\": 0.24202136422323003}, {\"value\": 0.35411523829644587}, {\"value\": 1.9151051939930013}, {\"value\": -0.4678297306692594}, {\"value\": -0.21598886835120146}, {\"value\": 2.040783696106174}, {\"value\": -0.23605415098622481}, {\"value\": -2.2089794081826226}, {\"value\": -0.4566409031810449}, {\"value\": 0.7907441775019859}, {\"value\": -1.5496629051461355}, {\"value\": -1.900061904056789}, {\"value\": -0.6196713308840072}, {\"value\": -2.3797275594997753}, {\"value\": -0.7976909955068298}, {\"value\": -0.48780382631956626}, {\"value\": -0.7921162279199047}, {\"value\": -0.16512998877935453}, {\"value\": 1.3917260895263257}, {\"value\": 0.06085137476977884}, {\"value\": -0.9576744542523303}, {\"value\": -0.31219701538487377}, {\"value\": -0.01898706069973616}, {\"value\": -0.3067091032940978}, {\"value\": -1.6078622611237712}, {\"value\": -0.8235966285949262}, {\"value\": 0.8259973904524716}, {\"value\": -1.3411809451925858}, {\"value\": -0.43232928338401294}, {\"value\": 1.3703862099253898}, {\"value\": -0.10384222555013577}, {\"value\": -0.35841864548871416}, {\"value\": 0.26590060530401144}, {\"value\": 0.3650327467172792}, {\"value\": 0.5784242936984066}, {\"value\": 0.0388560989346545}, {\"value\": 0.35459865780584526}, {\"value\": -0.33373772646886674}, {\"value\": 0.7967226519176515}, {\"value\": 0.11943545636519409}, {\"value\": 1.1691540723131053}, {\"value\": -0.2899984372776537}, {\"value\": 1.1638639698583908}, {\"value\": 0.6129201636872877}, {\"value\": -1.2477589165310041}, {\"value\": 0.02106657380073909}, {\"value\": 1.3971474307859675}, {\"value\": -0.4323200477742228}, {\"value\": -2.6948252444433765}, {\"value\": 0.9236561194599883}, {\"value\": -0.39961373662250554}, {\"value\": 0.3628055123807657}, {\"value\": -0.582656656061475}, {\"value\": 0.6817595696272623}, {\"value\": 1.0479406748018731}, {\"value\": 0.5162355226179619}, {\"value\": -2.2300328485471272}, {\"value\": -0.3124396946375247}, {\"value\": 1.7644273529207697}, {\"value\": -1.127752364683646}, {\"value\": 0.2646359289637994}, {\"value\": -0.1496937255962682}, {\"value\": 1.5567018509330222}, {\"value\": 1.1105934917272053}, {\"value\": -1.7583073122737818}, {\"value\": 0.07673134158704426}, {\"value\": -1.5157170991499214}, {\"value\": -0.4619676471286028}, {\"value\": -0.9695966763301322}, {\"value\": 1.4066849562009962}, {\"value\": 0.5073502245572007}, {\"value\": 0.35895636033005346}, {\"value\": -0.8080366292346445}, {\"value\": 0.04409391854537343}, {\"value\": -0.2924238752822883}, {\"value\": -0.05029682660574053}, {\"value\": 1.6046960843599103}, {\"value\": 0.4950408235581389}, {\"value\": 0.4964750161581929}, {\"value\": 1.3966014654560812}, {\"value\": 1.0534884398537443}, {\"value\": -1.4111861501559848}, {\"value\": 0.2542352327981911}, {\"value\": -0.6315527441220002}, {\"value\": -0.38405569240114995}, {\"value\": 0.8806690811625213}, {\"value\": -1.0531111156775719}, {\"value\": -0.33722533456906545}, {\"value\": 0.9313253275250302}, {\"value\": -0.4191156369931211}, {\"value\": -0.6146769686035913}, {\"value\": 0.05663549066692754}, {\"value\": 1.298702015086018}, {\"value\": -0.3791509702781424}, {\"value\": -0.3802084663796163}, {\"value\": -0.7623960126129403}, {\"value\": 0.2719404812499953}, {\"value\": 0.18623171890138554}, {\"value\": 0.9760661498426624}, {\"value\": 0.5916749326031436}, {\"value\": -1.533489472615}, {\"value\": -1.2946224518854377}, {\"value\": -0.5851025028448883}, {\"value\": 0.28010504570900335}, {\"value\": 1.449416473451718}, {\"value\": 0.18970672367300503}, {\"value\": -0.7448518519763316}, {\"value\": 0.05535838701820045}, {\"value\": -0.09920727080481223}, {\"value\": -1.5067471061205222}, {\"value\": 0.22405466082330608}, {\"value\": -1.3581262770834197}, {\"value\": 0.5013398736056429}, {\"value\": -0.6606422393612804}, {\"value\": 2.000791666938723}, {\"value\": -0.4603041078046302}, {\"value\": 0.5976385371546565}, {\"value\": -0.28681626281188943}, {\"value\": -0.9805104753685392}, {\"value\": -0.5680442971158317}, {\"value\": -0.7665972612720356}, {\"value\": -0.8356939207878105}, {\"value\": -1.6601455437792898}, {\"value\": -1.1507764793331368}, {\"value\": -2.053456438439101}, {\"value\": -1.033759776360127}, {\"value\": -0.3924253396404498}, {\"value\": -0.8057773589261088}, {\"value\": 1.581548869478664}, {\"value\": 2.365807590395984}, {\"value\": -1.5088885855955991}, {\"value\": 1.9192283840130888}, {\"value\": 0.4711347413785819}, {\"value\": -0.2377979614834269}, {\"value\": 0.38173644998251033}, {\"value\": -0.32070769006174016}, {\"value\": 1.241072454246026}, {\"value\": 0.8187387863369432}, {\"value\": 0.6191503685250164}, {\"value\": -0.22362906914445965}, {\"value\": 0.7816403020417076}, {\"value\": -0.7607502097141459}, {\"value\": -1.236453032742988}, {\"value\": -0.035448663942578396}, {\"value\": 0.36344135419295037}, {\"value\": -0.7461957998707218}, {\"value\": 0.2619866331905719}, {\"value\": 0.9833397184983645}, {\"value\": -0.810559282225914}, {\"value\": 0.9192136030790033}, {\"value\": 2.453571602180364}, {\"value\": -0.42942506832329835}, {\"value\": -0.4741904144145939}, {\"value\": 0.7091500780619305}, {\"value\": 0.024942871017148833}, {\"value\": 0.3623231422774245}, {\"value\": -0.6120535956626229}, {\"value\": -2.014771607823803}, {\"value\": 0.2564558361264055}, {\"value\": -0.31789312234153294}, {\"value\": 0.8844688042705448}, {\"value\": 0.7676842309242077}, {\"value\": -0.5075567986526848}, {\"value\": 0.5150779516596384}, {\"value\": -2.596043841418731}, {\"value\": -1.1739031579297767}, {\"value\": 0.4483243473767456}, {\"value\": -0.6871327078194874}, {\"value\": 1.269830468622767}, {\"value\": 0.9018907710147032}, {\"value\": 0.13640578573957887}, {\"value\": -0.4576627166349922}, {\"value\": 2.372889120332167}, {\"value\": -0.22972081646193546}, {\"value\": 1.7397376596500465}, {\"value\": -0.5224846698678993}, {\"value\": 1.4368084015949278}, {\"value\": 1.0333793804832643}, {\"value\": 0.3011850705656856}, {\"value\": -0.21844295065363464}, {\"value\": -0.46567729882968245}, {\"value\": 0.8666968840220771}, {\"value\": 0.6358466004544383}, {\"value\": 0.41027784094571207}, {\"value\": -1.3066659849356383}, {\"value\": -0.03324412202008767}, {\"value\": -1.7057949125662852}, {\"value\": 0.5527557172418909}, {\"value\": 1.1779987200839597}, {\"value\": -0.08609852057744374}, {\"value\": -0.537000597949386}, {\"value\": -0.07904263240815988}, {\"value\": 0.8965746672555919}, {\"value\": -0.34591014574860474}, {\"value\": 1.5755885519535584}, {\"value\": 0.5772000709484615}, {\"value\": 0.5290699510562444}, {\"value\": 2.0746688239162423}, {\"value\": -0.24917773192824355}, {\"value\": -0.15548408329607072}, {\"value\": -0.780244375928065}, {\"value\": 0.2382819497377275}, {\"value\": -0.6872790995464411}, {\"value\": -0.43939717580327947}, {\"value\": -1.1076892636043847}, {\"value\": 1.4735732692527739}, {\"value\": -0.9482295713202672}, {\"value\": 0.12989937036947644}, {\"value\": 0.22291070818816436}, {\"value\": 1.3908042043809765}, {\"value\": 2.238867232855847}, {\"value\": 1.375523653802195}, {\"value\": 0.3650057730851723}, {\"value\": -1.3434988501475484}, {\"value\": 0.8073473021457077}, {\"value\": -0.09593853435666498}, {\"value\": -1.1523728019162582}, {\"value\": 0.3114819611438323}, {\"value\": -0.4799584384050887}, {\"value\": -1.4725155327835207}, {\"value\": 0.7082099531585943}, {\"value\": -0.6452923149823836}, {\"value\": 0.21936528088902615}, {\"value\": -0.42509649576959246}, {\"value\": -0.40832213520870214}, {\"value\": -1.3308772106050184}, {\"value\": -0.8821455251581318}, {\"value\": -0.7668878788787531}, {\"value\": 0.8200392016699903}, {\"value\": -2.2504617618922715}, {\"value\": 0.30787991687763183}, {\"value\": 0.42396986584609125}, {\"value\": 0.1071397135959632}, {\"value\": -0.17590777487510112}, {\"value\": 0.9025732039909992}, {\"value\": 1.0116699289559008}, {\"value\": -0.3528010956441885}, {\"value\": 1.252402161919865}, {\"value\": -0.7099455767350273}, {\"value\": -0.2123477410261743}, {\"value\": -1.2061524853279137}, {\"value\": -0.11077292340492934}, {\"value\": -0.24735989794454086}, {\"value\": 0.02589949903146362}, {\"value\": 0.6030235372182824}, {\"value\": 1.5005116863381194}, {\"value\": 1.2007066336287384}, {\"value\": 0.9807524945330214}, {\"value\": -0.6159253493452078}, {\"value\": -0.1703906392685568}, {\"value\": -0.27678364169279546}, {\"value\": -0.4761086148754603}, {\"value\": -1.1459545876599524}, {\"value\": -1.2667339923515375}, {\"value\": 0.1141122833572713}, {\"value\": 0.3997137649525662}, {\"value\": -0.8416236786059288}, {\"value\": -1.2263354995879305}, {\"value\": 0.27533198818904564}, {\"value\": -0.5960305421540585}, {\"value\": -1.3951213893276913}, {\"value\": 0.20794353380113134}, {\"value\": -2.606674309155366}, {\"value\": 0.17804077747706756}, {\"value\": 0.38791114307988167}, {\"value\": 0.6470159209305778}, {\"value\": -0.8511663353408069}, {\"value\": 2.0144258758925804}, {\"value\": 0.5673350433722872}, {\"value\": 0.7703957933934266}, {\"value\": -1.4507425889764636}, {\"value\": -0.27293458823638667}, {\"value\": -0.5133200339354232}, {\"value\": 0.6468115254307268}, {\"value\": 0.87458264043719}, {\"value\": -0.6008366263852805}, {\"value\": 1.33767891751598}, {\"value\": -0.12673403608337044}, {\"value\": 1.223383657265227}, {\"value\": 0.37726914656195215}, {\"value\": -0.6825642455354779}, {\"value\": -1.1319215591049085}, {\"value\": 1.8989148752501903}, {\"value\": -0.7440665242791633}, {\"value\": 1.7555238725960123}, {\"value\": 1.8734733620418815}, {\"value\": -0.2185407882887416}, {\"value\": -0.2929031846546963}, {\"value\": 0.2873367249231859}, {\"value\": 0.3408569235309518}, {\"value\": -0.2973642929417317}, {\"value\": -0.8285260149944638}, {\"value\": -0.8310530059392087}, {\"value\": 0.2294748708513723}, {\"value\": -1.057978934623837}, {\"value\": 1.1303626817429544}, {\"value\": 1.6006108162518575}, {\"value\": 1.626594968060814}, {\"value\": -0.7085087495466903}, {\"value\": 0.28306953624780784}, {\"value\": 0.6492114890249907}, {\"value\": -0.5831233663587774}, {\"value\": 0.4288694042024008}, {\"value\": -0.03606112799036332}, {\"value\": -0.28831503934736696}, {\"value\": 0.08429798633451728}, {\"value\": 1.1077110360600115}, {\"value\": 0.4038909310715761}, {\"value\": -0.596288940830758}, {\"value\": 0.7421447253759851}, {\"value\": -0.692532581302474}, {\"value\": -1.5403389331119348}, {\"value\": 1.2308184680389764}, {\"value\": 2.0882685523853772}, {\"value\": -0.31910692728870177}, {\"value\": 0.15462501154931313}, {\"value\": -1.1421214294909332}, {\"value\": 0.2891791329856271}, {\"value\": -1.3893120845809355}, {\"value\": -0.32897028074113566}, {\"value\": -0.7072993366223655}, {\"value\": -0.9526045550204386}, {\"value\": -0.051426465837560276}, {\"value\": 0.6636466962060327}, {\"value\": 0.7635660030194849}, {\"value\": 0.9559665705405671}, {\"value\": -0.03948223573522759}, {\"value\": 0.6667709282497668}, {\"value\": 0.6133775531620262}, {\"value\": 1.4382539066586775}, {\"value\": 1.2536226656585212}, {\"value\": 0.1779190687035322}, {\"value\": -0.26815245294412154}, {\"value\": 1.5015621257294633}, {\"value\": 0.6987309164473781}, {\"value\": 0.6795700689925711}, {\"value\": -1.9218275186587304}, {\"value\": -1.2400513006813505}, {\"value\": 0.7420086724990191}, {\"value\": -0.32873336984719526}, {\"value\": -0.54008879384139}, {\"value\": -0.511160271418778}, {\"value\": -0.15623626636560564}, {\"value\": -1.2143899196845218}, {\"value\": -1.1907527926374064}, {\"value\": -0.7478463378934019}, {\"value\": 0.6433286541970024}, {\"value\": -0.004452820783760213}, {\"value\": -0.6079629703485198}, {\"value\": -0.896880740506964}, {\"value\": -0.7695751757578689}, {\"value\": -0.4574905776345489}, {\"value\": 0.5998128226152865}, {\"value\": 0.24327354584065553}, {\"value\": -0.4081573968427468}, {\"value\": 0.5774111625302388}, {\"value\": 0.08263297074497712}, {\"value\": 0.027444527041546398}, {\"value\": 0.4832892123239601}, {\"value\": -0.4918978464365541}, {\"value\": 0.24662511707922263}, {\"value\": -0.35112025292405424}, {\"value\": -1.0014759528955135}, {\"value\": -0.20251460749642886}, {\"value\": 0.4595045126884637}, {\"value\": -0.6433679395181454}, {\"value\": -0.026620218686395372}, {\"value\": 0.10587744742397211}, {\"value\": -1.24277530155563}, {\"value\": -1.0379083616224647}, {\"value\": -1.5252687475984235}, {\"value\": 0.7597690913977155}, {\"value\": 1.158202798535818}, {\"value\": -1.230402002492731}, {\"value\": -1.1246187293675585}, {\"value\": -0.057711486925133726}, {\"value\": -0.314742651768064}, {\"value\": -0.017749236834033698}, {\"value\": -0.829410617481182}, {\"value\": -0.3961957027784409}, {\"value\": -2.467948675766982}, {\"value\": 0.17608454836580195}, {\"value\": -1.4412342541432728}, {\"value\": -0.3143320771871652}, {\"value\": 0.3001669325856377}, {\"value\": -0.7295007222116509}, {\"value\": -1.1238100178423631}, {\"value\": 0.48363393807694754}, {\"value\": 1.8131728639609717}, {\"value\": -0.12944019421822753}, {\"value\": -1.5702680088082885}, {\"value\": 0.09628448719130163}, {\"value\": -0.1521083618878115}, {\"value\": -0.5339373662765551}, {\"value\": 0.14467898921204325}, {\"value\": -0.011789707520337275}, {\"value\": -0.9462291776919283}, {\"value\": 0.19905701951250457}, {\"value\": 0.12792156221013448}, {\"value\": 0.4990498157999495}, {\"value\": 0.6272776291228624}, {\"value\": 0.4038144713063295}, {\"value\": 0.9555574858479657}, {\"value\": 0.06691369666455775}, {\"value\": 0.4704768644979534}, {\"value\": 0.9679029431924971}, {\"value\": 0.12626485667003232}, {\"value\": -0.3070048271417868}, {\"value\": 1.268077368713437}, {\"value\": -0.5213089184803078}, {\"value\": -0.8888851436641004}, {\"value\": 0.13224266975724547}, {\"value\": 0.49661861069018787}, {\"value\": -1.3625419355392983}, {\"value\": 0.715548610580947}, {\"value\": -0.8501173820385984}, {\"value\": 0.2475362080606603}, {\"value\": 0.4724539818373629}, {\"value\": -0.06425019967818803}, {\"value\": -0.5105797096631487}, {\"value\": 0.5642441217817075}, {\"value\": 1.1342920866612418}, {\"value\": 0.8444468015365895}, {\"value\": -1.845156460352024}, {\"value\": 0.39812839513513354}, {\"value\": 0.3088966362040935}]}}, {\"mode\": \"vega-lite\"});\n",
       "</script>"
      ],
      "text/plain": [
       "alt.Chart(...)"
      ]
     },
     "execution_count": 19,
     "metadata": {},
     "output_type": "execute_result"
    }
   ],
   "source": [
    "# Histograms work better here\n",
    "\n",
    "normal_values = pd.DataFrame({\"value\": n.rvs(5000)})\n",
    "\n",
    "alt.Chart(normal_values).mark_bar().encode(\n",
    "    alt.X(\"value\", bin=alt.Bin(maxbins=100)),\n",
    "    y='count()',\n",
    "    color=alt.value('#287E1E'),  # Aside: Note US spelling. Also try \"hex codes\": https://htmlcolorcodes.com/\n",
    ")"
   ]
  },
  {
   "cell_type": "markdown",
   "metadata": {},
   "source": [
    "\n",
    "<div class=\"alert alert-success\">\n",
    "Note that Altair won't let us directly compute a histogram with more than 5000 rows. To do that, check out this example, which saves the data to a local temporary json file, and then displays from that. Without doing this, Altair embeds a *copy* of the data in a graph!"
   ]
  },
  {
   "cell_type": "code",
   "execution_count": 20,
   "metadata": {
    "scrolled": false
   },
   "outputs": [
    {
     "data": {
      "text/html": [
       "\n",
       "<div id=\"altair-viz-3bd4abc44ac14216b866d6e05ca3f2e3\"></div>\n",
       "<script type=\"text/javascript\">\n",
       "  var VEGA_DEBUG = (typeof VEGA_DEBUG == \"undefined\") ? {} : VEGA_DEBUG;\n",
       "  (function(spec, embedOpt){\n",
       "    let outputDiv = document.currentScript.previousElementSibling;\n",
       "    if (outputDiv.id !== \"altair-viz-3bd4abc44ac14216b866d6e05ca3f2e3\") {\n",
       "      outputDiv = document.getElementById(\"altair-viz-3bd4abc44ac14216b866d6e05ca3f2e3\");\n",
       "    }\n",
       "    const paths = {\n",
       "      \"vega\": \"https://cdn.jsdelivr.net/npm//vega@5?noext\",\n",
       "      \"vega-lib\": \"https://cdn.jsdelivr.net/npm//vega-lib?noext\",\n",
       "      \"vega-lite\": \"https://cdn.jsdelivr.net/npm//vega-lite@4.17.0?noext\",\n",
       "      \"vega-embed\": \"https://cdn.jsdelivr.net/npm//vega-embed@6?noext\",\n",
       "    };\n",
       "\n",
       "    function maybeLoadScript(lib, version) {\n",
       "      var key = `${lib.replace(\"-\", \"\")}_version`;\n",
       "      return (VEGA_DEBUG[key] == version) ?\n",
       "        Promise.resolve(paths[lib]) :\n",
       "        new Promise(function(resolve, reject) {\n",
       "          var s = document.createElement('script');\n",
       "          document.getElementsByTagName(\"head\")[0].appendChild(s);\n",
       "          s.async = true;\n",
       "          s.onload = () => {\n",
       "            VEGA_DEBUG[key] = version;\n",
       "            return resolve(paths[lib]);\n",
       "          };\n",
       "          s.onerror = () => reject(`Error loading script: ${paths[lib]}`);\n",
       "          s.src = paths[lib];\n",
       "        });\n",
       "    }\n",
       "\n",
       "    function showError(err) {\n",
       "      outputDiv.innerHTML = `<div class=\"error\" style=\"color:red;\">${err}</div>`;\n",
       "      throw err;\n",
       "    }\n",
       "\n",
       "    function displayChart(vegaEmbed) {\n",
       "      vegaEmbed(outputDiv, spec, embedOpt)\n",
       "        .catch(err => showError(`Javascript Error: ${err.message}<br>This usually means there's a typo in your chart specification. See the javascript console for the full traceback.`));\n",
       "    }\n",
       "\n",
       "    if(typeof define === \"function\" && define.amd) {\n",
       "      requirejs.config({paths});\n",
       "      require([\"vega-embed\"], displayChart, err => showError(`Error loading script: ${err.message}`));\n",
       "    } else {\n",
       "      maybeLoadScript(\"vega\", \"5\")\n",
       "        .then(() => maybeLoadScript(\"vega-lite\", \"4.17.0\"))\n",
       "        .then(() => maybeLoadScript(\"vega-embed\", \"6\"))\n",
       "        .catch(showError)\n",
       "        .then(() => displayChart(vegaEmbed));\n",
       "    }\n",
       "  })({\"config\": {\"view\": {\"continuousWidth\": 400, \"continuousHeight\": 300}}, \"data\": {\"url\": \"altair-temp-data/-79123025a1cc105512c1a907f8298ea0.json\", \"format\": {\"type\": \"json\"}}, \"mark\": \"bar\", \"encoding\": {\"x\": {\"bin\": {\"maxbins\": 100}, \"field\": \"value\", \"type\": \"quantitative\"}, \"y\": {\"aggregate\": \"count\", \"type\": \"quantitative\"}}, \"$schema\": \"https://vega.github.io/schema/vega-lite/v4.17.0.json\"}, {\"mode\": \"vega-lite\"});\n",
       "</script>"
      ],
      "text/plain": [
       "alt.Chart(...)"
      ]
     },
     "execution_count": 20,
     "metadata": {},
     "output_type": "execute_result"
    }
   ],
   "source": [
    "if not alt.data_transformers.active == 'json':  # Check json isn't already active\n",
    "    import os\n",
    "    # Make a temp folder to put these json files in - Altair creates a lot of them!\n",
    "    dataset_temp_name = 'altair-temp-data/'\n",
    "    if not os.path.exists(dataset_temp_name):\n",
    "        # if the folder doesn't exist, create it\n",
    "        os.mkdir(dataset_temp_name)\n",
    "    # Tell Altair to temporary save datasets it needs to that folder\n",
    "    alt.data_transformers.enable('json', prefix=dataset_temp_name)\n",
    "\n",
    "normal_values = pd.DataFrame({\"value\": n.rvs(100000)})\n",
    "\n",
    "alt.Chart(normal_values).mark_bar().encode(\n",
    "    alt.X(\"value\", bin=alt.Bin(maxbins=100)),\n",
    "    y='count()',\n",
    ")"
   ]
  },
  {
   "cell_type": "markdown",
   "metadata": {},
   "source": [
    "Notice the shape, the famous \"bell curve\" of the normal distribution. It's heavily centred around the mean (0) and the spread of data is indicated by the standard deviation."
   ]
  },
  {
   "cell_type": "markdown",
   "metadata": {},
   "source": [
    "#### Exercises\n",
    "\n",
    "1. Plot a histogram of the standard deviation with the following properties:\n",
    "\n",
    "    1. Mean ($\\mu$) of 1, standard deviation ($\\sigma$) of 7\n",
    "    2. $\\mu=10, \\sigma=1$\n",
    "    3. $\\mu=-10, \\sigma=5$\n",
    "2. Create a python function that accepts two inputs (`mean` and `standard_deviation`) and plots the histogram as per question 1.\n",
    "\n",
    "3. Investigate the documentation of Altair and overlay these plots on top of each other, with different colours, giving a result that looks like this:\n",
    "<img src=\"img/snapshot.png\">"
   ]
  },
  {
   "cell_type": "code",
   "execution_count": 27,
   "metadata": {},
   "outputs": [
    {
     "data": {
      "text/html": [
       "\n",
       "<div id=\"altair-viz-f8e5835516674161b91136a550b512da\"></div>\n",
       "<script type=\"text/javascript\">\n",
       "  var VEGA_DEBUG = (typeof VEGA_DEBUG == \"undefined\") ? {} : VEGA_DEBUG;\n",
       "  (function(spec, embedOpt){\n",
       "    let outputDiv = document.currentScript.previousElementSibling;\n",
       "    if (outputDiv.id !== \"altair-viz-f8e5835516674161b91136a550b512da\") {\n",
       "      outputDiv = document.getElementById(\"altair-viz-f8e5835516674161b91136a550b512da\");\n",
       "    }\n",
       "    const paths = {\n",
       "      \"vega\": \"https://cdn.jsdelivr.net/npm//vega@5?noext\",\n",
       "      \"vega-lib\": \"https://cdn.jsdelivr.net/npm//vega-lib?noext\",\n",
       "      \"vega-lite\": \"https://cdn.jsdelivr.net/npm//vega-lite@4.17.0?noext\",\n",
       "      \"vega-embed\": \"https://cdn.jsdelivr.net/npm//vega-embed@6?noext\",\n",
       "    };\n",
       "\n",
       "    function maybeLoadScript(lib, version) {\n",
       "      var key = `${lib.replace(\"-\", \"\")}_version`;\n",
       "      return (VEGA_DEBUG[key] == version) ?\n",
       "        Promise.resolve(paths[lib]) :\n",
       "        new Promise(function(resolve, reject) {\n",
       "          var s = document.createElement('script');\n",
       "          document.getElementsByTagName(\"head\")[0].appendChild(s);\n",
       "          s.async = true;\n",
       "          s.onload = () => {\n",
       "            VEGA_DEBUG[key] = version;\n",
       "            return resolve(paths[lib]);\n",
       "          };\n",
       "          s.onerror = () => reject(`Error loading script: ${paths[lib]}`);\n",
       "          s.src = paths[lib];\n",
       "        });\n",
       "    }\n",
       "\n",
       "    function showError(err) {\n",
       "      outputDiv.innerHTML = `<div class=\"error\" style=\"color:red;\">${err}</div>`;\n",
       "      throw err;\n",
       "    }\n",
       "\n",
       "    function displayChart(vegaEmbed) {\n",
       "      vegaEmbed(outputDiv, spec, embedOpt)\n",
       "        .catch(err => showError(`Javascript Error: ${err.message}<br>This usually means there's a typo in your chart specification. See the javascript console for the full traceback.`));\n",
       "    }\n",
       "\n",
       "    if(typeof define === \"function\" && define.amd) {\n",
       "      requirejs.config({paths});\n",
       "      require([\"vega-embed\"], displayChart, err => showError(`Error loading script: ${err.message}`));\n",
       "    } else {\n",
       "      maybeLoadScript(\"vega\", \"5\")\n",
       "        .then(() => maybeLoadScript(\"vega-lite\", \"4.17.0\"))\n",
       "        .then(() => maybeLoadScript(\"vega-embed\", \"6\"))\n",
       "        .catch(showError)\n",
       "        .then(() => displayChart(vegaEmbed));\n",
       "    }\n",
       "  })({\"config\": {\"view\": {\"continuousWidth\": 400, \"continuousHeight\": 300}}, \"data\": {\"url\": \"altair-temp-data/-72fd843685a60fe52ef1b6d49255f97a.json\", \"format\": {\"type\": \"json\"}}, \"mark\": \"bar\", \"encoding\": {\"x\": {\"bin\": {\"maxbins\": 100}, \"field\": \"value\", \"type\": \"quantitative\"}, \"y\": {\"aggregate\": \"count\", \"type\": \"quantitative\"}}, \"title\": \"Normal Distribution histogram with mean 1 and standard deviation 7\", \"$schema\": \"https://vega.github.io/schema/vega-lite/v4.17.0.json\"}, {\"mode\": \"vega-lite\"});\n",
       "</script>"
      ],
      "text/plain": [
       "alt.Chart(...)"
      ]
     },
     "metadata": {},
     "output_type": "display_data"
    },
    {
     "data": {
      "text/html": [
       "\n",
       "<div id=\"altair-viz-a72efa38475248e7a57f796e7f0cbc81\"></div>\n",
       "<script type=\"text/javascript\">\n",
       "  var VEGA_DEBUG = (typeof VEGA_DEBUG == \"undefined\") ? {} : VEGA_DEBUG;\n",
       "  (function(spec, embedOpt){\n",
       "    let outputDiv = document.currentScript.previousElementSibling;\n",
       "    if (outputDiv.id !== \"altair-viz-a72efa38475248e7a57f796e7f0cbc81\") {\n",
       "      outputDiv = document.getElementById(\"altair-viz-a72efa38475248e7a57f796e7f0cbc81\");\n",
       "    }\n",
       "    const paths = {\n",
       "      \"vega\": \"https://cdn.jsdelivr.net/npm//vega@5?noext\",\n",
       "      \"vega-lib\": \"https://cdn.jsdelivr.net/npm//vega-lib?noext\",\n",
       "      \"vega-lite\": \"https://cdn.jsdelivr.net/npm//vega-lite@4.17.0?noext\",\n",
       "      \"vega-embed\": \"https://cdn.jsdelivr.net/npm//vega-embed@6?noext\",\n",
       "    };\n",
       "\n",
       "    function maybeLoadScript(lib, version) {\n",
       "      var key = `${lib.replace(\"-\", \"\")}_version`;\n",
       "      return (VEGA_DEBUG[key] == version) ?\n",
       "        Promise.resolve(paths[lib]) :\n",
       "        new Promise(function(resolve, reject) {\n",
       "          var s = document.createElement('script');\n",
       "          document.getElementsByTagName(\"head\")[0].appendChild(s);\n",
       "          s.async = true;\n",
       "          s.onload = () => {\n",
       "            VEGA_DEBUG[key] = version;\n",
       "            return resolve(paths[lib]);\n",
       "          };\n",
       "          s.onerror = () => reject(`Error loading script: ${paths[lib]}`);\n",
       "          s.src = paths[lib];\n",
       "        });\n",
       "    }\n",
       "\n",
       "    function showError(err) {\n",
       "      outputDiv.innerHTML = `<div class=\"error\" style=\"color:red;\">${err}</div>`;\n",
       "      throw err;\n",
       "    }\n",
       "\n",
       "    function displayChart(vegaEmbed) {\n",
       "      vegaEmbed(outputDiv, spec, embedOpt)\n",
       "        .catch(err => showError(`Javascript Error: ${err.message}<br>This usually means there's a typo in your chart specification. See the javascript console for the full traceback.`));\n",
       "    }\n",
       "\n",
       "    if(typeof define === \"function\" && define.amd) {\n",
       "      requirejs.config({paths});\n",
       "      require([\"vega-embed\"], displayChart, err => showError(`Error loading script: ${err.message}`));\n",
       "    } else {\n",
       "      maybeLoadScript(\"vega\", \"5\")\n",
       "        .then(() => maybeLoadScript(\"vega-lite\", \"4.17.0\"))\n",
       "        .then(() => maybeLoadScript(\"vega-embed\", \"6\"))\n",
       "        .catch(showError)\n",
       "        .then(() => displayChart(vegaEmbed));\n",
       "    }\n",
       "  })({\"config\": {\"view\": {\"continuousWidth\": 400, \"continuousHeight\": 300}}, \"data\": {\"url\": \"altair-temp-data/-3bfe9cc51f7934b29bf1a09eeb0ce0a8.json\", \"format\": {\"type\": \"json\"}}, \"mark\": \"bar\", \"encoding\": {\"x\": {\"bin\": {\"maxbins\": 100}, \"field\": \"value\", \"type\": \"quantitative\"}, \"y\": {\"aggregate\": \"count\", \"type\": \"quantitative\"}}, \"title\": \"Normal Distribution histogram with mean 10 and standard deviation 1\", \"$schema\": \"https://vega.github.io/schema/vega-lite/v4.17.0.json\"}, {\"mode\": \"vega-lite\"});\n",
       "</script>"
      ],
      "text/plain": [
       "alt.Chart(...)"
      ]
     },
     "metadata": {},
     "output_type": "display_data"
    },
    {
     "data": {
      "text/html": [
       "\n",
       "<div id=\"altair-viz-c113db7e95a1480fa47c1b0cb7da7fb7\"></div>\n",
       "<script type=\"text/javascript\">\n",
       "  var VEGA_DEBUG = (typeof VEGA_DEBUG == \"undefined\") ? {} : VEGA_DEBUG;\n",
       "  (function(spec, embedOpt){\n",
       "    let outputDiv = document.currentScript.previousElementSibling;\n",
       "    if (outputDiv.id !== \"altair-viz-c113db7e95a1480fa47c1b0cb7da7fb7\") {\n",
       "      outputDiv = document.getElementById(\"altair-viz-c113db7e95a1480fa47c1b0cb7da7fb7\");\n",
       "    }\n",
       "    const paths = {\n",
       "      \"vega\": \"https://cdn.jsdelivr.net/npm//vega@5?noext\",\n",
       "      \"vega-lib\": \"https://cdn.jsdelivr.net/npm//vega-lib?noext\",\n",
       "      \"vega-lite\": \"https://cdn.jsdelivr.net/npm//vega-lite@4.17.0?noext\",\n",
       "      \"vega-embed\": \"https://cdn.jsdelivr.net/npm//vega-embed@6?noext\",\n",
       "    };\n",
       "\n",
       "    function maybeLoadScript(lib, version) {\n",
       "      var key = `${lib.replace(\"-\", \"\")}_version`;\n",
       "      return (VEGA_DEBUG[key] == version) ?\n",
       "        Promise.resolve(paths[lib]) :\n",
       "        new Promise(function(resolve, reject) {\n",
       "          var s = document.createElement('script');\n",
       "          document.getElementsByTagName(\"head\")[0].appendChild(s);\n",
       "          s.async = true;\n",
       "          s.onload = () => {\n",
       "            VEGA_DEBUG[key] = version;\n",
       "            return resolve(paths[lib]);\n",
       "          };\n",
       "          s.onerror = () => reject(`Error loading script: ${paths[lib]}`);\n",
       "          s.src = paths[lib];\n",
       "        });\n",
       "    }\n",
       "\n",
       "    function showError(err) {\n",
       "      outputDiv.innerHTML = `<div class=\"error\" style=\"color:red;\">${err}</div>`;\n",
       "      throw err;\n",
       "    }\n",
       "\n",
       "    function displayChart(vegaEmbed) {\n",
       "      vegaEmbed(outputDiv, spec, embedOpt)\n",
       "        .catch(err => showError(`Javascript Error: ${err.message}<br>This usually means there's a typo in your chart specification. See the javascript console for the full traceback.`));\n",
       "    }\n",
       "\n",
       "    if(typeof define === \"function\" && define.amd) {\n",
       "      requirejs.config({paths});\n",
       "      require([\"vega-embed\"], displayChart, err => showError(`Error loading script: ${err.message}`));\n",
       "    } else {\n",
       "      maybeLoadScript(\"vega\", \"5\")\n",
       "        .then(() => maybeLoadScript(\"vega-lite\", \"4.17.0\"))\n",
       "        .then(() => maybeLoadScript(\"vega-embed\", \"6\"))\n",
       "        .catch(showError)\n",
       "        .then(() => displayChart(vegaEmbed));\n",
       "    }\n",
       "  })({\"config\": {\"view\": {\"continuousWidth\": 400, \"continuousHeight\": 300}}, \"data\": {\"url\": \"altair-temp-data/-fe30c565244867acbe1677769e4cb545.json\", \"format\": {\"type\": \"json\"}}, \"mark\": \"bar\", \"encoding\": {\"x\": {\"bin\": {\"maxbins\": 100}, \"field\": \"value\", \"type\": \"quantitative\"}, \"y\": {\"aggregate\": \"count\", \"type\": \"quantitative\"}}, \"title\": \"Normal Distribution histogram with mean -10 and standard deviation 5\", \"$schema\": \"https://vega.github.io/schema/vega-lite/v4.17.0.json\"}, {\"mode\": \"vega-lite\"});\n",
       "</script>"
      ],
      "text/plain": [
       "alt.Chart(...)"
      ]
     },
     "metadata": {},
     "output_type": "display_data"
    }
   ],
   "source": [
    "# (1) (doing this from scratch so just this chunk can be run)\n",
    "import pandas as pd\n",
    "from scipy import stats\n",
    "import altair as alt\n",
    "alt.renderers.enable('default')\n",
    "\n",
    "mean_std_list = [(1,7), (10,1), (-10,5)]\n",
    "\n",
    "for vals in mean_std_list:\n",
    "    norm_dist_func = stats.norm(vals[0], vals[1])\n",
    "    results = norm_dist_func.rvs(1000)\n",
    "    normal_values = pd.DataFrame({\"value\": results})\n",
    "    norm_plot = alt.Chart(normal_values, title=\"Normal Distribution histogram with mean \" + str(vals[0]) + \" and standard deviation \" + str(vals[1])).mark_bar().encode(\n",
    "    alt.X(\"value\", bin=alt.Bin(maxbins=100)),\n",
    "    y='count()',)\n",
    "    norm_plot.display()"
   ]
  },
  {
   "cell_type": "code",
   "execution_count": 39,
   "metadata": {},
   "outputs": [
    {
     "data": {
      "text/html": [
       "\n",
       "<div id=\"altair-viz-6143459c27ea44bfa9784b43c47c5f13\"></div>\n",
       "<script type=\"text/javascript\">\n",
       "  var VEGA_DEBUG = (typeof VEGA_DEBUG == \"undefined\") ? {} : VEGA_DEBUG;\n",
       "  (function(spec, embedOpt){\n",
       "    let outputDiv = document.currentScript.previousElementSibling;\n",
       "    if (outputDiv.id !== \"altair-viz-6143459c27ea44bfa9784b43c47c5f13\") {\n",
       "      outputDiv = document.getElementById(\"altair-viz-6143459c27ea44bfa9784b43c47c5f13\");\n",
       "    }\n",
       "    const paths = {\n",
       "      \"vega\": \"https://cdn.jsdelivr.net/npm//vega@5?noext\",\n",
       "      \"vega-lib\": \"https://cdn.jsdelivr.net/npm//vega-lib?noext\",\n",
       "      \"vega-lite\": \"https://cdn.jsdelivr.net/npm//vega-lite@4.17.0?noext\",\n",
       "      \"vega-embed\": \"https://cdn.jsdelivr.net/npm//vega-embed@6?noext\",\n",
       "    };\n",
       "\n",
       "    function maybeLoadScript(lib, version) {\n",
       "      var key = `${lib.replace(\"-\", \"\")}_version`;\n",
       "      return (VEGA_DEBUG[key] == version) ?\n",
       "        Promise.resolve(paths[lib]) :\n",
       "        new Promise(function(resolve, reject) {\n",
       "          var s = document.createElement('script');\n",
       "          document.getElementsByTagName(\"head\")[0].appendChild(s);\n",
       "          s.async = true;\n",
       "          s.onload = () => {\n",
       "            VEGA_DEBUG[key] = version;\n",
       "            return resolve(paths[lib]);\n",
       "          };\n",
       "          s.onerror = () => reject(`Error loading script: ${paths[lib]}`);\n",
       "          s.src = paths[lib];\n",
       "        });\n",
       "    }\n",
       "\n",
       "    function showError(err) {\n",
       "      outputDiv.innerHTML = `<div class=\"error\" style=\"color:red;\">${err}</div>`;\n",
       "      throw err;\n",
       "    }\n",
       "\n",
       "    function displayChart(vegaEmbed) {\n",
       "      vegaEmbed(outputDiv, spec, embedOpt)\n",
       "        .catch(err => showError(`Javascript Error: ${err.message}<br>This usually means there's a typo in your chart specification. See the javascript console for the full traceback.`));\n",
       "    }\n",
       "\n",
       "    if(typeof define === \"function\" && define.amd) {\n",
       "      requirejs.config({paths});\n",
       "      require([\"vega-embed\"], displayChart, err => showError(`Error loading script: ${err.message}`));\n",
       "    } else {\n",
       "      maybeLoadScript(\"vega\", \"5\")\n",
       "        .then(() => maybeLoadScript(\"vega-lite\", \"4.17.0\"))\n",
       "        .then(() => maybeLoadScript(\"vega-embed\", \"6\"))\n",
       "        .catch(showError)\n",
       "        .then(() => displayChart(vegaEmbed));\n",
       "    }\n",
       "  })({\"config\": {\"view\": {\"continuousWidth\": 400, \"continuousHeight\": 300}}, \"data\": {\"url\": \"altair-temp-data/-b72bcd4fa2daedea1bea96255f357fe2.json\", \"format\": {\"type\": \"json\"}}, \"mark\": \"bar\", \"encoding\": {\"x\": {\"bin\": {\"maxbins\": 100}, \"field\": \"value\", \"type\": \"quantitative\"}, \"y\": {\"aggregate\": \"count\", \"type\": \"quantitative\"}}, \"title\": \"Normal Distribution histogram with mean 1 and standard deviation 7\", \"$schema\": \"https://vega.github.io/schema/vega-lite/v4.17.0.json\"}, {\"mode\": \"vega-lite\"});\n",
       "</script>"
      ],
      "text/plain": [
       "alt.Chart(...)"
      ]
     },
     "metadata": {},
     "output_type": "display_data"
    },
    {
     "data": {
      "text/html": [
       "\n",
       "<div id=\"altair-viz-26e533c73fd644528e469f3ab66aa7c1\"></div>\n",
       "<script type=\"text/javascript\">\n",
       "  var VEGA_DEBUG = (typeof VEGA_DEBUG == \"undefined\") ? {} : VEGA_DEBUG;\n",
       "  (function(spec, embedOpt){\n",
       "    let outputDiv = document.currentScript.previousElementSibling;\n",
       "    if (outputDiv.id !== \"altair-viz-26e533c73fd644528e469f3ab66aa7c1\") {\n",
       "      outputDiv = document.getElementById(\"altair-viz-26e533c73fd644528e469f3ab66aa7c1\");\n",
       "    }\n",
       "    const paths = {\n",
       "      \"vega\": \"https://cdn.jsdelivr.net/npm//vega@5?noext\",\n",
       "      \"vega-lib\": \"https://cdn.jsdelivr.net/npm//vega-lib?noext\",\n",
       "      \"vega-lite\": \"https://cdn.jsdelivr.net/npm//vega-lite@4.17.0?noext\",\n",
       "      \"vega-embed\": \"https://cdn.jsdelivr.net/npm//vega-embed@6?noext\",\n",
       "    };\n",
       "\n",
       "    function maybeLoadScript(lib, version) {\n",
       "      var key = `${lib.replace(\"-\", \"\")}_version`;\n",
       "      return (VEGA_DEBUG[key] == version) ?\n",
       "        Promise.resolve(paths[lib]) :\n",
       "        new Promise(function(resolve, reject) {\n",
       "          var s = document.createElement('script');\n",
       "          document.getElementsByTagName(\"head\")[0].appendChild(s);\n",
       "          s.async = true;\n",
       "          s.onload = () => {\n",
       "            VEGA_DEBUG[key] = version;\n",
       "            return resolve(paths[lib]);\n",
       "          };\n",
       "          s.onerror = () => reject(`Error loading script: ${paths[lib]}`);\n",
       "          s.src = paths[lib];\n",
       "        });\n",
       "    }\n",
       "\n",
       "    function showError(err) {\n",
       "      outputDiv.innerHTML = `<div class=\"error\" style=\"color:red;\">${err}</div>`;\n",
       "      throw err;\n",
       "    }\n",
       "\n",
       "    function displayChart(vegaEmbed) {\n",
       "      vegaEmbed(outputDiv, spec, embedOpt)\n",
       "        .catch(err => showError(`Javascript Error: ${err.message}<br>This usually means there's a typo in your chart specification. See the javascript console for the full traceback.`));\n",
       "    }\n",
       "\n",
       "    if(typeof define === \"function\" && define.amd) {\n",
       "      requirejs.config({paths});\n",
       "      require([\"vega-embed\"], displayChart, err => showError(`Error loading script: ${err.message}`));\n",
       "    } else {\n",
       "      maybeLoadScript(\"vega\", \"5\")\n",
       "        .then(() => maybeLoadScript(\"vega-lite\", \"4.17.0\"))\n",
       "        .then(() => maybeLoadScript(\"vega-embed\", \"6\"))\n",
       "        .catch(showError)\n",
       "        .then(() => displayChart(vegaEmbed));\n",
       "    }\n",
       "  })({\"config\": {\"view\": {\"continuousWidth\": 400, \"continuousHeight\": 300}}, \"data\": {\"url\": \"altair-temp-data/-61d853e42914629e3ccb99d082941587.json\", \"format\": {\"type\": \"json\"}}, \"mark\": \"bar\", \"encoding\": {\"x\": {\"bin\": {\"maxbins\": 100}, \"field\": \"value\", \"type\": \"quantitative\"}, \"y\": {\"aggregate\": \"count\", \"type\": \"quantitative\"}}, \"title\": \"Normal Distribution histogram with mean 10 and standard deviation 1\", \"$schema\": \"https://vega.github.io/schema/vega-lite/v4.17.0.json\"}, {\"mode\": \"vega-lite\"});\n",
       "</script>"
      ],
      "text/plain": [
       "alt.Chart(...)"
      ]
     },
     "metadata": {},
     "output_type": "display_data"
    },
    {
     "data": {
      "text/html": [
       "\n",
       "<div id=\"altair-viz-af2ce4bcb0b7440795d67c8bbf9f19dc\"></div>\n",
       "<script type=\"text/javascript\">\n",
       "  var VEGA_DEBUG = (typeof VEGA_DEBUG == \"undefined\") ? {} : VEGA_DEBUG;\n",
       "  (function(spec, embedOpt){\n",
       "    let outputDiv = document.currentScript.previousElementSibling;\n",
       "    if (outputDiv.id !== \"altair-viz-af2ce4bcb0b7440795d67c8bbf9f19dc\") {\n",
       "      outputDiv = document.getElementById(\"altair-viz-af2ce4bcb0b7440795d67c8bbf9f19dc\");\n",
       "    }\n",
       "    const paths = {\n",
       "      \"vega\": \"https://cdn.jsdelivr.net/npm//vega@5?noext\",\n",
       "      \"vega-lib\": \"https://cdn.jsdelivr.net/npm//vega-lib?noext\",\n",
       "      \"vega-lite\": \"https://cdn.jsdelivr.net/npm//vega-lite@4.17.0?noext\",\n",
       "      \"vega-embed\": \"https://cdn.jsdelivr.net/npm//vega-embed@6?noext\",\n",
       "    };\n",
       "\n",
       "    function maybeLoadScript(lib, version) {\n",
       "      var key = `${lib.replace(\"-\", \"\")}_version`;\n",
       "      return (VEGA_DEBUG[key] == version) ?\n",
       "        Promise.resolve(paths[lib]) :\n",
       "        new Promise(function(resolve, reject) {\n",
       "          var s = document.createElement('script');\n",
       "          document.getElementsByTagName(\"head\")[0].appendChild(s);\n",
       "          s.async = true;\n",
       "          s.onload = () => {\n",
       "            VEGA_DEBUG[key] = version;\n",
       "            return resolve(paths[lib]);\n",
       "          };\n",
       "          s.onerror = () => reject(`Error loading script: ${paths[lib]}`);\n",
       "          s.src = paths[lib];\n",
       "        });\n",
       "    }\n",
       "\n",
       "    function showError(err) {\n",
       "      outputDiv.innerHTML = `<div class=\"error\" style=\"color:red;\">${err}</div>`;\n",
       "      throw err;\n",
       "    }\n",
       "\n",
       "    function displayChart(vegaEmbed) {\n",
       "      vegaEmbed(outputDiv, spec, embedOpt)\n",
       "        .catch(err => showError(`Javascript Error: ${err.message}<br>This usually means there's a typo in your chart specification. See the javascript console for the full traceback.`));\n",
       "    }\n",
       "\n",
       "    if(typeof define === \"function\" && define.amd) {\n",
       "      requirejs.config({paths});\n",
       "      require([\"vega-embed\"], displayChart, err => showError(`Error loading script: ${err.message}`));\n",
       "    } else {\n",
       "      maybeLoadScript(\"vega\", \"5\")\n",
       "        .then(() => maybeLoadScript(\"vega-lite\", \"4.17.0\"))\n",
       "        .then(() => maybeLoadScript(\"vega-embed\", \"6\"))\n",
       "        .catch(showError)\n",
       "        .then(() => displayChart(vegaEmbed));\n",
       "    }\n",
       "  })({\"config\": {\"view\": {\"continuousWidth\": 400, \"continuousHeight\": 300}}, \"data\": {\"url\": \"altair-temp-data/-39c057fd57634838b29c4db3d28a0cff.json\", \"format\": {\"type\": \"json\"}}, \"mark\": \"bar\", \"encoding\": {\"x\": {\"bin\": {\"maxbins\": 100}, \"field\": \"value\", \"type\": \"quantitative\"}, \"y\": {\"aggregate\": \"count\", \"type\": \"quantitative\"}}, \"title\": \"Normal Distribution histogram with mean -10 and standard deviation 5\", \"$schema\": \"https://vega.github.io/schema/vega-lite/v4.17.0.json\"}, {\"mode\": \"vega-lite\"});\n",
       "</script>"
      ],
      "text/plain": [
       "alt.Chart(...)"
      ]
     },
     "metadata": {},
     "output_type": "display_data"
    }
   ],
   "source": [
    "# (2)\n",
    "def display_norm(mean, std):\n",
    "    norm_dist_func = stats.norm(mean, std)\n",
    "    results = norm_dist_func.rvs(1000)\n",
    "    normal_values = pd.DataFrame({\"value\": results})\n",
    "    norm_plot = alt.Chart(normal_values, title=\"Normal Distribution histogram with mean \" + str(mean) + \" and standard deviation \" + str(std)).mark_bar().encode(\n",
    "    alt.X(\"value\", bin=alt.Bin(maxbins=100)),\n",
    "    y='count()',)\n",
    "    return(norm_plot)\n",
    "    \n",
    "c1 = display_norm(1, 7)\n",
    "c2 = display_norm(10, 1)\n",
    "c3 = display_norm(-10, 5)\n",
    "\n",
    "c1.display()\n",
    "c2.display()\n",
    "c3.display()"
   ]
  },
  {
   "cell_type": "code",
   "execution_count": 59,
   "metadata": {},
   "outputs": [
    {
     "data": {
      "text/html": [
       "\n",
       "<div id=\"altair-viz-fb5f00c835734ece8eee0b82fa67d6e0\"></div>\n",
       "<script type=\"text/javascript\">\n",
       "  var VEGA_DEBUG = (typeof VEGA_DEBUG == \"undefined\") ? {} : VEGA_DEBUG;\n",
       "  (function(spec, embedOpt){\n",
       "    let outputDiv = document.currentScript.previousElementSibling;\n",
       "    if (outputDiv.id !== \"altair-viz-fb5f00c835734ece8eee0b82fa67d6e0\") {\n",
       "      outputDiv = document.getElementById(\"altair-viz-fb5f00c835734ece8eee0b82fa67d6e0\");\n",
       "    }\n",
       "    const paths = {\n",
       "      \"vega\": \"https://cdn.jsdelivr.net/npm//vega@5?noext\",\n",
       "      \"vega-lib\": \"https://cdn.jsdelivr.net/npm//vega-lib?noext\",\n",
       "      \"vega-lite\": \"https://cdn.jsdelivr.net/npm//vega-lite@4.17.0?noext\",\n",
       "      \"vega-embed\": \"https://cdn.jsdelivr.net/npm//vega-embed@6?noext\",\n",
       "    };\n",
       "\n",
       "    function maybeLoadScript(lib, version) {\n",
       "      var key = `${lib.replace(\"-\", \"\")}_version`;\n",
       "      return (VEGA_DEBUG[key] == version) ?\n",
       "        Promise.resolve(paths[lib]) :\n",
       "        new Promise(function(resolve, reject) {\n",
       "          var s = document.createElement('script');\n",
       "          document.getElementsByTagName(\"head\")[0].appendChild(s);\n",
       "          s.async = true;\n",
       "          s.onload = () => {\n",
       "            VEGA_DEBUG[key] = version;\n",
       "            return resolve(paths[lib]);\n",
       "          };\n",
       "          s.onerror = () => reject(`Error loading script: ${paths[lib]}`);\n",
       "          s.src = paths[lib];\n",
       "        });\n",
       "    }\n",
       "\n",
       "    function showError(err) {\n",
       "      outputDiv.innerHTML = `<div class=\"error\" style=\"color:red;\">${err}</div>`;\n",
       "      throw err;\n",
       "    }\n",
       "\n",
       "    function displayChart(vegaEmbed) {\n",
       "      vegaEmbed(outputDiv, spec, embedOpt)\n",
       "        .catch(err => showError(`Javascript Error: ${err.message}<br>This usually means there's a typo in your chart specification. See the javascript console for the full traceback.`));\n",
       "    }\n",
       "\n",
       "    if(typeof define === \"function\" && define.amd) {\n",
       "      requirejs.config({paths});\n",
       "      require([\"vega-embed\"], displayChart, err => showError(`Error loading script: ${err.message}`));\n",
       "    } else {\n",
       "      maybeLoadScript(\"vega\", \"5\")\n",
       "        .then(() => maybeLoadScript(\"vega-lite\", \"4.17.0\"))\n",
       "        .then(() => maybeLoadScript(\"vega-embed\", \"6\"))\n",
       "        .catch(showError)\n",
       "        .then(() => displayChart(vegaEmbed));\n",
       "    }\n",
       "  })({\"config\": {\"view\": {\"continuousWidth\": 400, \"continuousHeight\": 300}}, \"layer\": [{\"data\": {\"url\": \"altair-temp-data/-479b7050cc41ebb03c0fadc15da731d7.json\", \"format\": {\"type\": \"json\"}}, \"mark\": \"bar\", \"encoding\": {\"color\": {\"value\": \"grey\"}, \"x\": {\"bin\": {\"maxbins\": 100}, \"field\": \"value\", \"type\": \"quantitative\"}, \"y\": {\"aggregate\": \"count\", \"type\": \"quantitative\"}}}, {\"data\": {\"url\": \"altair-temp-data/-1554e0bd61f559ce139152f5791228ed.json\", \"format\": {\"type\": \"json\"}}, \"mark\": \"bar\", \"encoding\": {\"color\": {\"value\": \"red\"}, \"x\": {\"bin\": {\"maxbins\": 100}, \"field\": \"value\", \"type\": \"quantitative\"}, \"y\": {\"aggregate\": \"count\", \"type\": \"quantitative\"}}}, {\"data\": {\"url\": \"altair-temp-data/-d40775a3e6309d0c22db66c356bdb7a7.json\", \"format\": {\"type\": \"json\"}}, \"mark\": \"bar\", \"encoding\": {\"color\": {\"value\": \"green\"}, \"x\": {\"bin\": {\"maxbins\": 100}, \"field\": \"value\", \"type\": \"quantitative\"}, \"y\": {\"aggregate\": \"count\", \"type\": \"quantitative\"}}}], \"$schema\": \"https://vega.github.io/schema/vega-lite/v4.17.0.json\"}, {\"mode\": \"vega-lite\"});\n",
       "</script>"
      ],
      "text/plain": [
       "alt.LayerChart(...)"
      ]
     },
     "execution_count": 59,
     "metadata": {},
     "output_type": "execute_result"
    }
   ],
   "source": [
    "# (3) Compound Histogram Altair\n",
    "df = pd.DataFrame({'Norm 1': stats.norm(1,7).rvs(6000),\n",
    "                   'Norm 2': stats.norm(10,1).rvs(6000),\n",
    "                   'Norm 3': stats.norm(-10,5).rvs(6000)})\n",
    "\n",
    "colors = [\"grey\", \"red\", \"green\"]\n",
    "\n",
    "# alt.Chart(df).transform_fold(\n",
    "#     ['Norm 1', 'Norm 2', 'Norm 3'],\n",
    "#     as_=['Columns', 'Values']\n",
    "# ).mark_area(\n",
    "#     opacity=0.8,\n",
    "#     interpolate='step'\n",
    "# ).encode(\n",
    "#     alt.X('Values:Q', bin=alt.Bin(maxbins=300)),\n",
    "#     alt.Y('count()', stack=None),\n",
    "#     alt.Color('Columns:N'))\n",
    "\n",
    "def display_norm(distribution, col):\n",
    "    normal_values = pd.DataFrame({\"value\": distribution})\n",
    "    norm_plot = alt.Chart(normal_values).mark_bar().encode(\n",
    "    alt.X(\"value\", bin=alt.Bin(maxbins=100)), color=alt.value(col),\n",
    "    y='count()',)\n",
    "    return(norm_plot)\n",
    "\n",
    "c = []\n",
    "for i in range(df.shape[1]):\n",
    "    c.append(display_norm(df.iloc[:, i], col = colors[i]))\n",
    "\n",
    "c[0] + c[1] + c[2]\n"
   ]
  },
  {
   "cell_type": "markdown",
   "metadata": {},
   "source": [
    "*For solutions, see `solutions/normal_distributions.py`*"
   ]
  },
  {
   "cell_type": "markdown",
   "metadata": {},
   "source": [
    "### Probability Density Functions\n",
    "\n",
    "The histograms we were looking at above are approximations of what is known as a *Probability Density Function*, or PDF. A PDF shows us the probability of a given value, for a discrete random variable.\n",
    "\n",
    "For a continuous random variable, any *exact* value has a probability of 0 (think about why this is the case). We can only give probabilities for ranges. For a lower bound of $a$ and an upper bound of $b$, we can obtain the probability of a random value lying between $a$ and $b$ by integrating the PDF between those values. For example, if our PDF function is $f(x)$, then the probability of random variable $X$ lying between $a$ and $b$ is given by:\n",
    "\n",
    "$P[a <= X <= b] = \\int_a^b f(x) dx$\n",
    "\n",
    "As an aside, and very informally, you can think of \"the probability of $X=2$\" as being a range *about* 2, say any value between 1.99 and 2.01 (or whatever precision makes sense in the context). Be clear on this definition when you do go to present your findings though, as a formal definition will be needed to replicate your results.\n",
    "\n",
    "We can generate the PDF through the `.pdf` method on a `scipy.stats` distribution. Earlier in this notebook we computed this manually through the equation. Now we let a library do the work for us."
   ]
  },
  {
   "cell_type": "code",
   "execution_count": 60,
   "metadata": {},
   "outputs": [],
   "source": [
    "n = stats.norm(0, 1)"
   ]
  },
  {
   "cell_type": "code",
   "execution_count": 61,
   "metadata": {},
   "outputs": [
    {
     "data": {
      "text/plain": [
       "<scipy.stats._distn_infrastructure.rv_frozen at 0x1fa81dca200>"
      ]
     },
     "execution_count": 61,
     "metadata": {},
     "output_type": "execute_result"
    }
   ],
   "source": [
    "n"
   ]
  },
  {
   "cell_type": "code",
   "execution_count": 62,
   "metadata": {},
   "outputs": [],
   "source": [
    "x = np.linspace(-4, 4, 1000)\n",
    "y = n.pdf(x)"
   ]
  },
  {
   "cell_type": "code",
   "execution_count": 63,
   "metadata": {},
   "outputs": [
    {
     "data": {
      "image/png": "[encoded data removed]",
      "text/plain": [
       "<Figure size 432x288 with 1 Axes>"
      ]
     },
     "metadata": {
      "needs_background": "light"
     },
     "output_type": "display_data"
    }
   ],
   "source": [
    "plt.plot(x, y);"
   ]
  },
  {
   "cell_type": "markdown",
   "metadata": {},
   "source": [
    "As with all probabilities, the sum or integral of the probabilities of all possible outcomes must equal one. In a die roll, each outcome (1, 2, 3, 4, 5, 6) has an probability of $\\frac{1}{6}$. Summed, that equals one.\n",
    "\n",
    "In a continuous scenario, the *area under the curve* must sum to 1.0 across the full range. That is:\n",
    "\n",
    "$\\int_{-\\infty}^{\\infty}f(x)dx = 1$\n",
    "\n",
    "<div class=\"alert alert-warning\">\n",
    "    Note that the value $f(x)$ is not a probability! It might look like one, but it's the <i>area under the curve</i> that gives us the probability.\n",
    "</div>\n",
    "\n",
    "For a given function, if it is positive or 0 everywhere, and the area under the curve integrates to 1, the function is a valid probability density function.\n",
    "\n",
    "Some functions are valid only under a given domain. For instance, the function $y = ax(b-x)$ is only positive for $0<=x<=b$. In this case, if the area under the curve sums to 1 across that domain, the function is a valid PDF for that domain.\n"
   ]
  },
  {
   "attachments": {},
   "cell_type": "markdown",
   "metadata": {},
   "source": [
    "\n",
    "#### Exercises\n",
    "Using three different distribution classes in `scipy.stats`, run the following experiment:\n",
    "\n",
    "1. Compute 10,000 random values. Compute and save the mean.\n",
    "2. Repeat step 1, 1,000 times\n",
    "3. Plot the histogram of the mean values and observe the shape.\n",
    "\n",
    "Use the distributions `norm`, `cosine` and `uniform`.\n",
    "\n",
    "This finding is why the normal distribution is so important, and so commonly found in nature.\n",
    "\n",
    "**Hint:** See this example for how to do independent axes with Altair: https://altair-viz.github.io/gallery/layered_plot_with_dual_axis.html?highlight=resolve_scale (link not working)\n",
    "\n",
    "#### Extended exercise\n",
    "\n",
    "Load a random dataset, and perform the same exercise with the real world data - that is, take the mean of each of 1,000 samples of size 10,000 and plot the histogram. What shaped distribution does it look like?"
   ]
  },
  {
   "cell_type": "code",
   "execution_count": 71,
   "metadata": {},
   "outputs": [
    {
     "data": {
      "text/html": [
       "\n",
       "<div id=\"altair-viz-1915adb2ff864c86b4c9c10e8f242c65\"></div>\n",
       "<script type=\"text/javascript\">\n",
       "  var VEGA_DEBUG = (typeof VEGA_DEBUG == \"undefined\") ? {} : VEGA_DEBUG;\n",
       "  (function(spec, embedOpt){\n",
       "    let outputDiv = document.currentScript.previousElementSibling;\n",
       "    if (outputDiv.id !== \"altair-viz-1915adb2ff864c86b4c9c10e8f242c65\") {\n",
       "      outputDiv = document.getElementById(\"altair-viz-1915adb2ff864c86b4c9c10e8f242c65\");\n",
       "    }\n",
       "    const paths = {\n",
       "      \"vega\": \"https://cdn.jsdelivr.net/npm//vega@5?noext\",\n",
       "      \"vega-lib\": \"https://cdn.jsdelivr.net/npm//vega-lib?noext\",\n",
       "      \"vega-lite\": \"https://cdn.jsdelivr.net/npm//vega-lite@4.17.0?noext\",\n",
       "      \"vega-embed\": \"https://cdn.jsdelivr.net/npm//vega-embed@6?noext\",\n",
       "    };\n",
       "\n",
       "    function maybeLoadScript(lib, version) {\n",
       "      var key = `${lib.replace(\"-\", \"\")}_version`;\n",
       "      return (VEGA_DEBUG[key] == version) ?\n",
       "        Promise.resolve(paths[lib]) :\n",
       "        new Promise(function(resolve, reject) {\n",
       "          var s = document.createElement('script');\n",
       "          document.getElementsByTagName(\"head\")[0].appendChild(s);\n",
       "          s.async = true;\n",
       "          s.onload = () => {\n",
       "            VEGA_DEBUG[key] = version;\n",
       "            return resolve(paths[lib]);\n",
       "          };\n",
       "          s.onerror = () => reject(`Error loading script: ${paths[lib]}`);\n",
       "          s.src = paths[lib];\n",
       "        });\n",
       "    }\n",
       "\n",
       "    function showError(err) {\n",
       "      outputDiv.innerHTML = `<div class=\"error\" style=\"color:red;\">${err}</div>`;\n",
       "      throw err;\n",
       "    }\n",
       "\n",
       "    function displayChart(vegaEmbed) {\n",
       "      vegaEmbed(outputDiv, spec, embedOpt)\n",
       "        .catch(err => showError(`Javascript Error: ${err.message}<br>This usually means there's a typo in your chart specification. See the javascript console for the full traceback.`));\n",
       "    }\n",
       "\n",
       "    if(typeof define === \"function\" && define.amd) {\n",
       "      requirejs.config({paths});\n",
       "      require([\"vega-embed\"], displayChart, err => showError(`Error loading script: ${err.message}`));\n",
       "    } else {\n",
       "      maybeLoadScript(\"vega\", \"5\")\n",
       "        .then(() => maybeLoadScript(\"vega-lite\", \"4.17.0\"))\n",
       "        .then(() => maybeLoadScript(\"vega-embed\", \"6\"))\n",
       "        .catch(showError)\n",
       "        .then(() => displayChart(vegaEmbed));\n",
       "    }\n",
       "  })({\"config\": {\"view\": {\"continuousWidth\": 400, \"continuousHeight\": 300}}, \"data\": {\"url\": \"altair-temp-data/-f13eaca54854f98b8d65440d40f5888f.json\", \"format\": {\"type\": \"json\"}}, \"mark\": \"bar\", \"encoding\": {\"x\": {\"bin\": {\"maxbins\": 100}, \"field\": \"normal\", \"type\": \"quantitative\"}, \"y\": {\"aggregate\": \"count\", \"type\": \"quantitative\"}}, \"$schema\": \"https://vega.github.io/schema/vega-lite/v4.17.0.json\"}, {\"mode\": \"vega-lite\"});\n",
       "</script>"
      ],
      "text/plain": [
       "alt.Chart(...)"
      ]
     },
     "metadata": {},
     "output_type": "display_data"
    },
    {
     "data": {
      "text/html": [
       "\n",
       "<div id=\"altair-viz-ead00c0420914199a7bec4fae16fd936\"></div>\n",
       "<script type=\"text/javascript\">\n",
       "  var VEGA_DEBUG = (typeof VEGA_DEBUG == \"undefined\") ? {} : VEGA_DEBUG;\n",
       "  (function(spec, embedOpt){\n",
       "    let outputDiv = document.currentScript.previousElementSibling;\n",
       "    if (outputDiv.id !== \"altair-viz-ead00c0420914199a7bec4fae16fd936\") {\n",
       "      outputDiv = document.getElementById(\"altair-viz-ead00c0420914199a7bec4fae16fd936\");\n",
       "    }\n",
       "    const paths = {\n",
       "      \"vega\": \"https://cdn.jsdelivr.net/npm//vega@5?noext\",\n",
       "      \"vega-lib\": \"https://cdn.jsdelivr.net/npm//vega-lib?noext\",\n",
       "      \"vega-lite\": \"https://cdn.jsdelivr.net/npm//vega-lite@4.17.0?noext\",\n",
       "      \"vega-embed\": \"https://cdn.jsdelivr.net/npm//vega-embed@6?noext\",\n",
       "    };\n",
       "\n",
       "    function maybeLoadScript(lib, version) {\n",
       "      var key = `${lib.replace(\"-\", \"\")}_version`;\n",
       "      return (VEGA_DEBUG[key] == version) ?\n",
       "        Promise.resolve(paths[lib]) :\n",
       "        new Promise(function(resolve, reject) {\n",
       "          var s = document.createElement('script');\n",
       "          document.getElementsByTagName(\"head\")[0].appendChild(s);\n",
       "          s.async = true;\n",
       "          s.onload = () => {\n",
       "            VEGA_DEBUG[key] = version;\n",
       "            return resolve(paths[lib]);\n",
       "          };\n",
       "          s.onerror = () => reject(`Error loading script: ${paths[lib]}`);\n",
       "          s.src = paths[lib];\n",
       "        });\n",
       "    }\n",
       "\n",
       "    function showError(err) {\n",
       "      outputDiv.innerHTML = `<div class=\"error\" style=\"color:red;\">${err}</div>`;\n",
       "      throw err;\n",
       "    }\n",
       "\n",
       "    function displayChart(vegaEmbed) {\n",
       "      vegaEmbed(outputDiv, spec, embedOpt)\n",
       "        .catch(err => showError(`Javascript Error: ${err.message}<br>This usually means there's a typo in your chart specification. See the javascript console for the full traceback.`));\n",
       "    }\n",
       "\n",
       "    if(typeof define === \"function\" && define.amd) {\n",
       "      requirejs.config({paths});\n",
       "      require([\"vega-embed\"], displayChart, err => showError(`Error loading script: ${err.message}`));\n",
       "    } else {\n",
       "      maybeLoadScript(\"vega\", \"5\")\n",
       "        .then(() => maybeLoadScript(\"vega-lite\", \"4.17.0\"))\n",
       "        .then(() => maybeLoadScript(\"vega-embed\", \"6\"))\n",
       "        .catch(showError)\n",
       "        .then(() => displayChart(vegaEmbed));\n",
       "    }\n",
       "  })({\"config\": {\"view\": {\"continuousWidth\": 400, \"continuousHeight\": 300}}, \"data\": {\"url\": \"altair-temp-data/-97e2ca6aaf5699d20cdae09b0073a6ba.json\", \"format\": {\"type\": \"json\"}}, \"mark\": \"bar\", \"encoding\": {\"x\": {\"bin\": {\"maxbins\": 100}, \"field\": \"cosine\", \"type\": \"quantitative\"}, \"y\": {\"aggregate\": \"count\", \"type\": \"quantitative\"}}, \"$schema\": \"https://vega.github.io/schema/vega-lite/v4.17.0.json\"}, {\"mode\": \"vega-lite\"});\n",
       "</script>"
      ],
      "text/plain": [
       "alt.Chart(...)"
      ]
     },
     "metadata": {},
     "output_type": "display_data"
    },
    {
     "data": {
      "text/html": [
       "\n",
       "<div id=\"altair-viz-b7c75f24c791443981b94056ea02139a\"></div>\n",
       "<script type=\"text/javascript\">\n",
       "  var VEGA_DEBUG = (typeof VEGA_DEBUG == \"undefined\") ? {} : VEGA_DEBUG;\n",
       "  (function(spec, embedOpt){\n",
       "    let outputDiv = document.currentScript.previousElementSibling;\n",
       "    if (outputDiv.id !== \"altair-viz-b7c75f24c791443981b94056ea02139a\") {\n",
       "      outputDiv = document.getElementById(\"altair-viz-b7c75f24c791443981b94056ea02139a\");\n",
       "    }\n",
       "    const paths = {\n",
       "      \"vega\": \"https://cdn.jsdelivr.net/npm//vega@5?noext\",\n",
       "      \"vega-lib\": \"https://cdn.jsdelivr.net/npm//vega-lib?noext\",\n",
       "      \"vega-lite\": \"https://cdn.jsdelivr.net/npm//vega-lite@4.17.0?noext\",\n",
       "      \"vega-embed\": \"https://cdn.jsdelivr.net/npm//vega-embed@6?noext\",\n",
       "    };\n",
       "\n",
       "    function maybeLoadScript(lib, version) {\n",
       "      var key = `${lib.replace(\"-\", \"\")}_version`;\n",
       "      return (VEGA_DEBUG[key] == version) ?\n",
       "        Promise.resolve(paths[lib]) :\n",
       "        new Promise(function(resolve, reject) {\n",
       "          var s = document.createElement('script');\n",
       "          document.getElementsByTagName(\"head\")[0].appendChild(s);\n",
       "          s.async = true;\n",
       "          s.onload = () => {\n",
       "            VEGA_DEBUG[key] = version;\n",
       "            return resolve(paths[lib]);\n",
       "          };\n",
       "          s.onerror = () => reject(`Error loading script: ${paths[lib]}`);\n",
       "          s.src = paths[lib];\n",
       "        });\n",
       "    }\n",
       "\n",
       "    function showError(err) {\n",
       "      outputDiv.innerHTML = `<div class=\"error\" style=\"color:red;\">${err}</div>`;\n",
       "      throw err;\n",
       "    }\n",
       "\n",
       "    function displayChart(vegaEmbed) {\n",
       "      vegaEmbed(outputDiv, spec, embedOpt)\n",
       "        .catch(err => showError(`Javascript Error: ${err.message}<br>This usually means there's a typo in your chart specification. See the javascript console for the full traceback.`));\n",
       "    }\n",
       "\n",
       "    if(typeof define === \"function\" && define.amd) {\n",
       "      requirejs.config({paths});\n",
       "      require([\"vega-embed\"], displayChart, err => showError(`Error loading script: ${err.message}`));\n",
       "    } else {\n",
       "      maybeLoadScript(\"vega\", \"5\")\n",
       "        .then(() => maybeLoadScript(\"vega-lite\", \"4.17.0\"))\n",
       "        .then(() => maybeLoadScript(\"vega-embed\", \"6\"))\n",
       "        .catch(showError)\n",
       "        .then(() => displayChart(vegaEmbed));\n",
       "    }\n",
       "  })({\"config\": {\"view\": {\"continuousWidth\": 400, \"continuousHeight\": 300}}, \"data\": {\"url\": \"altair-temp-data/-4e2ca29028f7d7794f239be958a9507a.json\", \"format\": {\"type\": \"json\"}}, \"mark\": \"bar\", \"encoding\": {\"x\": {\"bin\": {\"maxbins\": 100}, \"field\": \"uniform\", \"type\": \"quantitative\"}, \"y\": {\"aggregate\": \"count\", \"type\": \"quantitative\"}}, \"$schema\": \"https://vega.github.io/schema/vega-lite/v4.17.0.json\"}, {\"mode\": \"vega-lite\"});\n",
       "</script>"
      ],
      "text/plain": [
       "alt.Chart(...)"
      ]
     },
     "metadata": {},
     "output_type": "display_data"
    }
   ],
   "source": [
    "# (1)\n",
    "\n",
    "def get_rv_sample_mean(distribution, n_sample = 10000):\n",
    "    samp = distribution.rvs(n_sample)\n",
    "    return samp.mean()\n",
    "\n",
    "\n",
    "def list_of_means(distribution, n_means = 1000, n_sample = 10000):\n",
    "    samp_means = []\n",
    "    for i in range(n_means):\n",
    "        samp_means.append(get_rv_sample_mean(distribution, n_sample))\n",
    "    return samp_means\n",
    "\n",
    "\n",
    "distributions = dict([(\"normal\", stats.norm(0,1)),\n",
    "                 (\"cosine\", stats.cosine(0, 1)),\n",
    "                 (\"uniform\", stats.uniform(0, 1))\n",
    "                ])\n",
    "\n",
    "\n",
    "means = pd.DataFrame({distribution_name: list_of_means(distribution)\n",
    "                  for distribution_name, distribution in distributions.items()})\n",
    "\n",
    "\n",
    "for dist in distributions:\n",
    "    nplot = alt.Chart(means[[dist]]).mark_bar().encode(alt.X(dist, bin=alt.Bin(maxbins=100)), y='count()',)\n",
    "    nplot.display()\n"
   ]
  },
  {
   "cell_type": "markdown",
   "metadata": {},
   "source": [
    "*For solutions, see `solutions/plotting_distributions.py`*"
   ]
  },
  {
   "cell_type": "markdown",
   "metadata": {},
   "source": [
    "### Cumulative Density Function\n",
    "\n",
    "A cumulative density function (CDF) tells us the probability of a value being less than, or equal to, a given value. A CDF is normally more useful for everyday usage.\n",
    "\n",
    "Here is the CDF for the normal distribution:"
   ]
  },
  {
   "cell_type": "code",
   "execution_count": 72,
   "metadata": {},
   "outputs": [],
   "source": [
    "distribution = stats.norm()"
   ]
  },
  {
   "cell_type": "code",
   "execution_count": 73,
   "metadata": {},
   "outputs": [],
   "source": [
    "x = np.linspace(-5, 5, 1000)\n",
    "y_cdf = distribution.cdf(x)"
   ]
  },
  {
   "cell_type": "code",
   "execution_count": 74,
   "metadata": {},
   "outputs": [
    {
     "data": {
      "image/png": "[encoded data removed]",
      "text/plain": [
       "<Figure size 432x288 with 1 Axes>"
      ]
     },
     "metadata": {
      "needs_background": "light"
     },
     "output_type": "display_data"
    }
   ],
   "source": [
    "plt.plot(x, y_cdf);"
   ]
  },
  {
   "cell_type": "markdown",
   "metadata": {},
   "source": [
    "\n",
    "This graph allows us to compute the probability that a random value is chosen from the normal distribution ($\\mu=0, \\sigma=1$) will be less than or equal to the given $x$ value.\n",
    "\n",
    "For example, to determine the probability a given value is less than or equal to 1.2, we find the $y$ value corresponding to the given $x$ value:"
   ]
  },
  {
   "cell_type": "code",
   "execution_count": 75,
   "metadata": {},
   "outputs": [
    {
     "name": "stdout",
     "output_type": "stream",
     "text": [
      "At x=1.2, y=0.885\n"
     ]
    },
    {
     "data": {
      "image/png": "[encoded data removed]",
      "text/plain": [
       "<Figure size 432x288 with 1 Axes>"
      ]
     },
     "metadata": {
      "needs_background": "light"
     },
     "output_type": "display_data"
    }
   ],
   "source": [
    "x_0 = 1.2\n",
    "y_0 = distribution.cdf(x_0)\n",
    "\n",
    "plt.plot(x, y_cdf)\n",
    "plt.plot([x[0], x_0], [y_0, y_0], '--')\n",
    "plt.plot([x_0, x_0], [0, y_0], '--')\n",
    "print(\"At x={0}, y={1:.3f}\".format(x_0, y_0))"
   ]
  },
  {
   "cell_type": "markdown",
   "metadata": {},
   "source": [
    "Some major properties of a CDF, defined as $F_X(x)$ are:\n",
    " \n",
    "* The range (the values y can take) are between (and including) 0 and 1. This comes from its use as a probability computation - see the next point. Formally, $0 <= F_X(x) <= 1$ for any value $x$\n",
    "* The likelihood a value is less than or equal to infinity must be 1, and the likelihood it is less than or equal to negative infinity must be 0. Formally, $F_X(-\\infty)=0$ and $F_X(\\infty)=1$\n",
    "* The CDF value is *increasing*. That is, it must have a positive or zero slope (but not a negative one). Formally, $F_X(a) <= F_X(b) \\text{ iff } a < b$\n",
    " \n",
    "Further, if your random variable has a domain, then the CDF is 0 for all values less than the minimum domain, and 1 for any value above the maximum of the domain.\n",
    "\n",
    "To find the probability that a random variable lies within a range, subtract the value of the CDF at the minimum from the value at the maximum:\n",
    "\n",
    "$P(a < X <= b) = F_X(b) - F_X(a)$\n",
    "\n",
    "For a continuous distribution (like the normal distribution), the CDF is a smooth graph. Its shape will vary, but will follow the general pattern as seen above.\n",
    "\n",
    "For a discrete distribution, the graph is still increasing, but represents a \"staircase\", where the value of $F_X(x)$ between valid values remains the same. For example, for a die roll, the value of $F_X(3) == F_X(3.1)$. This makes sense, as no values between 3.0 and 3.1 can be obtained on a die, so the value $P(X<=3)$ must be the same as $P(X<=3.1)$."
   ]
  },
  {
   "cell_type": "markdown",
   "metadata": {},
   "source": [
    "#### Exercises\n",
    "\n",
    "1. Plot the relationship between the mean of a normal distribution as $x$ (with a fixed standard deviation of 1), and the area under the curve between 0 and 1 as the $y$ axis.\n",
    "2. Remake the plot, but have the standard deviation vary as $x$, and the mean fixed as 0. How can you characterise the relationship?\n",
    "\n",
    "#### Extended exercise\n",
    "\n",
    "Plot the CDF for rolling two dice, where the x value is the sum of the two dice, and the y value is the CDF for the distribution."
   ]
  },
  {
   "cell_type": "code",
   "execution_count": 88,
   "metadata": {},
   "outputs": [
    {
     "data": {
      "image/png": "[encoded data removed]",
      "text/plain": [
       "<Figure size 432x288 with 1 Axes>"
      ]
     },
     "metadata": {
      "needs_background": "light"
     },
     "output_type": "display_data"
    },
    {
     "data": {
      "image/png": "[encoded data removed]",
      "text/plain": [
       "<Figure size 432x288 with 1 Axes>"
      ]
     },
     "metadata": {
      "needs_background": "light"
     },
     "output_type": "display_data"
    },
    {
     "name": "stdout",
     "output_type": "stream",
     "text": [
      "The area between 0 and 1 decreases as the standard deviation increases are values will spread out and hence have less between 0 and 1.\n"
     ]
    },
    {
     "data": {
      "image/png": "[encoded data removed]",
      "text/plain": [
       "<Figure size 432x288 with 1 Axes>"
      ]
     },
     "metadata": {
      "needs_background": "light"
     },
     "output_type": "display_data"
    }
   ],
   "source": [
    "# Exercise 1\n",
    "x_values_1 = np.linspace(-5, 5, 1000)\n",
    "distributions_1 = [stats.norm(x, 1) for x in x_values_1]\n",
    "y_1 = np.array([distribution.cdf(1) - distribution.cdf(0)\n",
    "               for distribution in distributions_1])\n",
    "plt.plot(x_values_1, y_1, \"r\")\n",
    "plt.show()\n",
    "\n",
    "# Exercise 2\n",
    "x_values_2 = np.linspace(0.1, 20, 1000)\n",
    "distributions_2 = [stats.norm(0, x) for x in x_values_2]\n",
    "y_2 = np.array([distribution.cdf(1) - distribution.cdf(0)\n",
    "               for distribution in distributions_2])\n",
    "plt.plot(x_values_2, y_2)\n",
    "plt.show()\n",
    "print(\"The area between 0 and 1 decreases as the standard deviation increases are values will spread out and hence have less between 0 and 1.\")\n",
    "\n",
    "# Extended exercise\n",
    "n_samples = 100\n",
    "outcome = np.sort([random.randint(1, 6) + random.randint(1, 6) for _ in range(n_samples)])\n",
    "cdf = np.cumsum(outcome)/np.sum(outcome)\n",
    "plt.bar(outcome, cdf)\n",
    "plt.show()\n"
   ]
  },
  {
   "cell_type": "markdown",
   "metadata": {},
   "source": [
    "*For solutions, see `solutions/cdf_relationships.py`*"
   ]
  }
 ],
 "metadata": {
  "kernelspec": {
   "display_name": "env",
   "language": "python",
   "name": "python3"
  },
  "language_info": {
   "codemirror_mode": {
    "name": "ipython",
    "version": 3
   },
   "file_extension": ".py",
   "mimetype": "text/x-python",
   "name": "python",
   "nbconvert_exporter": "python",
   "pygments_lexer": "ipython3",
   "version": "3.10.3"
  },
  "vscode": {
   "interpreter": {
    "hash": "e4dc6b0224d27235dec988ead42f740f3c8067d08028a6940d609f8d318d6bb4"
   }
  }
 },
 "nbformat": 4,
 "nbformat_minor": 2
}
